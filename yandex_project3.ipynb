{
 "cells": [
  {
   "cell_type": "markdown",
   "metadata": {},
   "source": [
    "# Telecome Prepaid Plan Analysis"
   ]
  },
  {
   "cell_type": "markdown",
   "metadata": {},
   "source": [
    "I work as an analyst for the telecom operator Megaline. The company offers its clients two prepaid plans, **Surf** and **Ultimate**. The commercial department wants to know which of the plans brings in more revenue in order to adjust the advertising budget.\n",
    "I am are going to carry out a preliminary analysis of the plans based on a relatively small client selection. I'll have the data on 500 Megaline clients: who the clients are, where they're from, which plan they use, and the number of calls they made and text messages they sent in 2018. My job is to analyze clients' behavior and determine which prepaid plan brings in more revenue."
   ]
  },
  {
   "cell_type": "markdown",
   "metadata": {},
   "source": [
    "**Prepaid Plans**\n",
    "\n",
    "**Surf**\n",
    "- Monthly charge: \\$20\n",
    "- 500 monthly minutes, 50 texts, and 15 GB of data\n",
    "- After exceeding the package limits:\n",
    "    - 1 minute: 3 cents\n",
    "    - 1 text message: 3 cents\n",
    "    - 1 GB of data: \\$10\n",
    "    \n",
    "**Ultimate**\n",
    "- Monthly charge: \\$70\n",
    "- 3000 monthly minutes, 1000 text messages, and 30 GB of data\n",
    "- After exceeding the package limits:\n",
    "    - 1 minute: 1 cent\n",
    "    - 1 text message: 1 cent\n",
    "    - 1 GB of data: \\$7"
   ]
  },
  {
   "cell_type": "code",
   "execution_count": 1,
   "metadata": {},
   "outputs": [],
   "source": [
    "# import pandas\n",
    "import pandas as pd\n",
    "# import numpy\n",
    "import numpy as np\n",
    "# import matplot\n",
    "import matplotlib.pyplot as plt\n",
    "from datetime import datetime\n",
    "import re\n",
    "# hypothesis testing\n",
    "from scipy import stats as st"
   ]
  },
  {
   "cell_type": "markdown",
   "metadata": {},
   "source": [
    "## Open the data file and study the general information"
   ]
  },
  {
   "cell_type": "markdown",
   "metadata": {},
   "source": [
    "### Open Datasets"
   ]
  },
  {
   "cell_type": "code",
   "execution_count": 2,
   "metadata": {},
   "outputs": [
    {
     "name": "stdout",
     "output_type": "stream",
     "text": [
      "Read the data successfully. \n"
     ]
    }
   ],
   "source": [
    "try: \n",
    "    # import calls\n",
    "    calls = pd.read_csv('/datasets/megaline_calls.csv')\n",
    "    # import internet\n",
    "    internet = pd.read_csv('/datasets/megaline_internet.csv')\n",
    "    # import messages\n",
    "    msgs = pd.read_csv('/datasets/megaline_messages.csv')\n",
    "    # import plans\n",
    "    plans = pd.read_csv('/datasets/megaline_plans.csv')\n",
    "    # import users\n",
    "    users = pd.read_csv('/datasets/megaline_users.csv')\n",
    "except:\n",
    "    print('Somethong went wrong.')\n",
    "else:\n",
    "    print(\"Read the data successfully. \")"
   ]
  },
  {
   "cell_type": "markdown",
   "metadata": {},
   "source": [
    "### General Informations"
   ]
  },
  {
   "cell_type": "markdown",
   "metadata": {},
   "source": [
    "#### Calls"
   ]
  },
  {
   "cell_type": "code",
   "execution_count": 3,
   "metadata": {},
   "outputs": [
    {
     "data": {
      "text/html": [
       "<div>\n",
       "<style scoped>\n",
       "    .dataframe tbody tr th:only-of-type {\n",
       "        vertical-align: middle;\n",
       "    }\n",
       "\n",
       "    .dataframe tbody tr th {\n",
       "        vertical-align: top;\n",
       "    }\n",
       "\n",
       "    .dataframe thead th {\n",
       "        text-align: right;\n",
       "    }\n",
       "</style>\n",
       "<table border=\"1\" class=\"dataframe\">\n",
       "  <thead>\n",
       "    <tr style=\"text-align: right;\">\n",
       "      <th></th>\n",
       "      <th>id</th>\n",
       "      <th>user_id</th>\n",
       "      <th>call_date</th>\n",
       "      <th>duration</th>\n",
       "    </tr>\n",
       "  </thead>\n",
       "  <tbody>\n",
       "    <tr>\n",
       "      <td>0</td>\n",
       "      <td>1000_93</td>\n",
       "      <td>1000</td>\n",
       "      <td>2018-12-27</td>\n",
       "      <td>8.52</td>\n",
       "    </tr>\n",
       "    <tr>\n",
       "      <td>1</td>\n",
       "      <td>1000_145</td>\n",
       "      <td>1000</td>\n",
       "      <td>2018-12-27</td>\n",
       "      <td>13.66</td>\n",
       "    </tr>\n",
       "    <tr>\n",
       "      <td>2</td>\n",
       "      <td>1000_247</td>\n",
       "      <td>1000</td>\n",
       "      <td>2018-12-27</td>\n",
       "      <td>14.48</td>\n",
       "    </tr>\n",
       "    <tr>\n",
       "      <td>3</td>\n",
       "      <td>1000_309</td>\n",
       "      <td>1000</td>\n",
       "      <td>2018-12-28</td>\n",
       "      <td>5.76</td>\n",
       "    </tr>\n",
       "    <tr>\n",
       "      <td>4</td>\n",
       "      <td>1000_380</td>\n",
       "      <td>1000</td>\n",
       "      <td>2018-12-30</td>\n",
       "      <td>4.22</td>\n",
       "    </tr>\n",
       "  </tbody>\n",
       "</table>\n",
       "</div>"
      ],
      "text/plain": [
       "         id  user_id   call_date  duration\n",
       "0   1000_93     1000  2018-12-27      8.52\n",
       "1  1000_145     1000  2018-12-27     13.66\n",
       "2  1000_247     1000  2018-12-27     14.48\n",
       "3  1000_309     1000  2018-12-28      5.76\n",
       "4  1000_380     1000  2018-12-30      4.22"
      ]
     },
     "execution_count": 3,
     "metadata": {},
     "output_type": "execute_result"
    }
   ],
   "source": [
    "# check the first 5 rows of calls dataframe\n",
    "calls.head()"
   ]
  },
  {
   "cell_type": "code",
   "execution_count": 4,
   "metadata": {},
   "outputs": [
    {
     "data": {
      "text/html": [
       "<div>\n",
       "<style scoped>\n",
       "    .dataframe tbody tr th:only-of-type {\n",
       "        vertical-align: middle;\n",
       "    }\n",
       "\n",
       "    .dataframe tbody tr th {\n",
       "        vertical-align: top;\n",
       "    }\n",
       "\n",
       "    .dataframe thead th {\n",
       "        text-align: right;\n",
       "    }\n",
       "</style>\n",
       "<table border=\"1\" class=\"dataframe\">\n",
       "  <thead>\n",
       "    <tr style=\"text-align: right;\">\n",
       "      <th></th>\n",
       "      <th>id</th>\n",
       "      <th>user_id</th>\n",
       "      <th>call_date</th>\n",
       "      <th>duration</th>\n",
       "    </tr>\n",
       "  </thead>\n",
       "  <tbody>\n",
       "    <tr>\n",
       "      <td>137730</td>\n",
       "      <td>1499_199</td>\n",
       "      <td>1499</td>\n",
       "      <td>2018-11-21</td>\n",
       "      <td>8.72</td>\n",
       "    </tr>\n",
       "    <tr>\n",
       "      <td>137731</td>\n",
       "      <td>1499_200</td>\n",
       "      <td>1499</td>\n",
       "      <td>2018-10-20</td>\n",
       "      <td>10.89</td>\n",
       "    </tr>\n",
       "    <tr>\n",
       "      <td>137732</td>\n",
       "      <td>1499_201</td>\n",
       "      <td>1499</td>\n",
       "      <td>2018-09-21</td>\n",
       "      <td>8.12</td>\n",
       "    </tr>\n",
       "    <tr>\n",
       "      <td>137733</td>\n",
       "      <td>1499_202</td>\n",
       "      <td>1499</td>\n",
       "      <td>2018-10-10</td>\n",
       "      <td>0.37</td>\n",
       "    </tr>\n",
       "    <tr>\n",
       "      <td>137734</td>\n",
       "      <td>1499_203</td>\n",
       "      <td>1499</td>\n",
       "      <td>2018-12-29</td>\n",
       "      <td>13.86</td>\n",
       "    </tr>\n",
       "  </tbody>\n",
       "</table>\n",
       "</div>"
      ],
      "text/plain": [
       "              id  user_id   call_date  duration\n",
       "137730  1499_199     1499  2018-11-21      8.72\n",
       "137731  1499_200     1499  2018-10-20     10.89\n",
       "137732  1499_201     1499  2018-09-21      8.12\n",
       "137733  1499_202     1499  2018-10-10      0.37\n",
       "137734  1499_203     1499  2018-12-29     13.86"
      ]
     },
     "execution_count": 4,
     "metadata": {},
     "output_type": "execute_result"
    }
   ],
   "source": [
    "# check the last 5 rows of calss dataframe\n",
    "calls.tail()"
   ]
  },
  {
   "cell_type": "code",
   "execution_count": 5,
   "metadata": {
    "scrolled": true
   },
   "outputs": [
    {
     "name": "stdout",
     "output_type": "stream",
     "text": [
      "<class 'pandas.core.frame.DataFrame'>\n",
      "RangeIndex: 137735 entries, 0 to 137734\n",
      "Data columns (total 4 columns):\n",
      "id           137735 non-null object\n",
      "user_id      137735 non-null int64\n",
      "call_date    137735 non-null object\n",
      "duration     137735 non-null float64\n",
      "dtypes: float64(1), int64(1), object(2)\n",
      "memory usage: 4.2+ MB\n"
     ]
    }
   ],
   "source": [
    "# the information of calls dataframe\n",
    "calls.info()"
   ]
  },
  {
   "cell_type": "code",
   "execution_count": 6,
   "metadata": {
    "scrolled": true
   },
   "outputs": [
    {
     "data": {
      "text/plain": [
       "count    137735.000000\n",
       "mean          6.745927\n",
       "std           5.839241\n",
       "min           0.000000\n",
       "25%           1.290000\n",
       "50%           5.980000\n",
       "75%          10.690000\n",
       "max          37.600000\n",
       "Name: duration, dtype: float64"
      ]
     },
     "execution_count": 6,
     "metadata": {},
     "output_type": "execute_result"
    }
   ],
   "source": [
    "# check the statistics of calls dataframe\n",
    "calls['duration'].describe()"
   ]
  },
  {
   "cell_type": "markdown",
   "metadata": {},
   "source": [
    "The maximum duration is 37 minutes, and minimum is 0, we know 0 means the calls weren't connected. "
   ]
  },
  {
   "cell_type": "code",
   "execution_count": 7,
   "metadata": {},
   "outputs": [
    {
     "data": {
      "text/plain": [
       "(137735, 4)"
      ]
     },
     "execution_count": 7,
     "metadata": {},
     "output_type": "execute_result"
    }
   ],
   "source": [
    "# check the number of columns and rows of calls dataframe\n",
    "calls.shape"
   ]
  },
  {
   "cell_type": "markdown",
   "metadata": {},
   "source": [
    "There are 137735 rows and 4 columns"
   ]
  },
  {
   "cell_type": "code",
   "execution_count": 8,
   "metadata": {},
   "outputs": [
    {
     "data": {
      "text/plain": [
       "id           0\n",
       "user_id      0\n",
       "call_date    0\n",
       "duration     0\n",
       "dtype: int64"
      ]
     },
     "execution_count": 8,
     "metadata": {},
     "output_type": "execute_result"
    }
   ],
   "source": [
    "# check for the missing values\n",
    "calls.isnull().sum()"
   ]
  },
  {
   "cell_type": "markdown",
   "metadata": {},
   "source": [
    "There is no missing values in calls dataset."
   ]
  },
  {
   "cell_type": "code",
   "execution_count": 9,
   "metadata": {},
   "outputs": [
    {
     "data": {
      "text/plain": [
       "0"
      ]
     },
     "execution_count": 9,
     "metadata": {},
     "output_type": "execute_result"
    }
   ],
   "source": [
    "# check for duplicates\n",
    "calls.duplicated().sum()"
   ]
  },
  {
   "cell_type": "markdown",
   "metadata": {},
   "source": [
    "There is no duplicated data in calls."
   ]
  },
  {
   "cell_type": "markdown",
   "metadata": {},
   "source": [
    "#### Internet"
   ]
  },
  {
   "cell_type": "code",
   "execution_count": 10,
   "metadata": {},
   "outputs": [
    {
     "data": {
      "text/html": [
       "<div>\n",
       "<style scoped>\n",
       "    .dataframe tbody tr th:only-of-type {\n",
       "        vertical-align: middle;\n",
       "    }\n",
       "\n",
       "    .dataframe tbody tr th {\n",
       "        vertical-align: top;\n",
       "    }\n",
       "\n",
       "    .dataframe thead th {\n",
       "        text-align: right;\n",
       "    }\n",
       "</style>\n",
       "<table border=\"1\" class=\"dataframe\">\n",
       "  <thead>\n",
       "    <tr style=\"text-align: right;\">\n",
       "      <th></th>\n",
       "      <th>id</th>\n",
       "      <th>user_id</th>\n",
       "      <th>session_date</th>\n",
       "      <th>mb_used</th>\n",
       "    </tr>\n",
       "  </thead>\n",
       "  <tbody>\n",
       "    <tr>\n",
       "      <td>0</td>\n",
       "      <td>1000_13</td>\n",
       "      <td>1000</td>\n",
       "      <td>2018-12-29</td>\n",
       "      <td>89.86</td>\n",
       "    </tr>\n",
       "    <tr>\n",
       "      <td>1</td>\n",
       "      <td>1000_204</td>\n",
       "      <td>1000</td>\n",
       "      <td>2018-12-31</td>\n",
       "      <td>0.00</td>\n",
       "    </tr>\n",
       "    <tr>\n",
       "      <td>2</td>\n",
       "      <td>1000_379</td>\n",
       "      <td>1000</td>\n",
       "      <td>2018-12-28</td>\n",
       "      <td>660.40</td>\n",
       "    </tr>\n",
       "    <tr>\n",
       "      <td>3</td>\n",
       "      <td>1000_413</td>\n",
       "      <td>1000</td>\n",
       "      <td>2018-12-26</td>\n",
       "      <td>270.99</td>\n",
       "    </tr>\n",
       "    <tr>\n",
       "      <td>4</td>\n",
       "      <td>1000_442</td>\n",
       "      <td>1000</td>\n",
       "      <td>2018-12-27</td>\n",
       "      <td>880.22</td>\n",
       "    </tr>\n",
       "  </tbody>\n",
       "</table>\n",
       "</div>"
      ],
      "text/plain": [
       "         id  user_id session_date  mb_used\n",
       "0   1000_13     1000   2018-12-29    89.86\n",
       "1  1000_204     1000   2018-12-31     0.00\n",
       "2  1000_379     1000   2018-12-28   660.40\n",
       "3  1000_413     1000   2018-12-26   270.99\n",
       "4  1000_442     1000   2018-12-27   880.22"
      ]
     },
     "execution_count": 10,
     "metadata": {},
     "output_type": "execute_result"
    }
   ],
   "source": [
    "# check the first 5 rows of internet\n",
    "internet.head()"
   ]
  },
  {
   "cell_type": "code",
   "execution_count": 11,
   "metadata": {
    "scrolled": true
   },
   "outputs": [
    {
     "data": {
      "text/html": [
       "<div>\n",
       "<style scoped>\n",
       "    .dataframe tbody tr th:only-of-type {\n",
       "        vertical-align: middle;\n",
       "    }\n",
       "\n",
       "    .dataframe tbody tr th {\n",
       "        vertical-align: top;\n",
       "    }\n",
       "\n",
       "    .dataframe thead th {\n",
       "        text-align: right;\n",
       "    }\n",
       "</style>\n",
       "<table border=\"1\" class=\"dataframe\">\n",
       "  <thead>\n",
       "    <tr style=\"text-align: right;\">\n",
       "      <th></th>\n",
       "      <th>id</th>\n",
       "      <th>user_id</th>\n",
       "      <th>session_date</th>\n",
       "      <th>mb_used</th>\n",
       "    </tr>\n",
       "  </thead>\n",
       "  <tbody>\n",
       "    <tr>\n",
       "      <td>104820</td>\n",
       "      <td>1499_215</td>\n",
       "      <td>1499</td>\n",
       "      <td>2018-10-20</td>\n",
       "      <td>218.06</td>\n",
       "    </tr>\n",
       "    <tr>\n",
       "      <td>104821</td>\n",
       "      <td>1499_216</td>\n",
       "      <td>1499</td>\n",
       "      <td>2018-12-30</td>\n",
       "      <td>304.72</td>\n",
       "    </tr>\n",
       "    <tr>\n",
       "      <td>104822</td>\n",
       "      <td>1499_217</td>\n",
       "      <td>1499</td>\n",
       "      <td>2018-09-22</td>\n",
       "      <td>292.75</td>\n",
       "    </tr>\n",
       "    <tr>\n",
       "      <td>104823</td>\n",
       "      <td>1499_218</td>\n",
       "      <td>1499</td>\n",
       "      <td>2018-12-07</td>\n",
       "      <td>0.00</td>\n",
       "    </tr>\n",
       "    <tr>\n",
       "      <td>104824</td>\n",
       "      <td>1499_219</td>\n",
       "      <td>1499</td>\n",
       "      <td>2018-12-24</td>\n",
       "      <td>758.31</td>\n",
       "    </tr>\n",
       "  </tbody>\n",
       "</table>\n",
       "</div>"
      ],
      "text/plain": [
       "              id  user_id session_date  mb_used\n",
       "104820  1499_215     1499   2018-10-20   218.06\n",
       "104821  1499_216     1499   2018-12-30   304.72\n",
       "104822  1499_217     1499   2018-09-22   292.75\n",
       "104823  1499_218     1499   2018-12-07     0.00\n",
       "104824  1499_219     1499   2018-12-24   758.31"
      ]
     },
     "execution_count": 11,
     "metadata": {},
     "output_type": "execute_result"
    }
   ],
   "source": [
    "# check the last 5 rows of internet\n",
    "internet.tail()"
   ]
  },
  {
   "cell_type": "code",
   "execution_count": 12,
   "metadata": {},
   "outputs": [
    {
     "name": "stdout",
     "output_type": "stream",
     "text": [
      "<class 'pandas.core.frame.DataFrame'>\n",
      "RangeIndex: 104825 entries, 0 to 104824\n",
      "Data columns (total 4 columns):\n",
      "id              104825 non-null object\n",
      "user_id         104825 non-null int64\n",
      "session_date    104825 non-null object\n",
      "mb_used         104825 non-null float64\n",
      "dtypes: float64(1), int64(1), object(2)\n",
      "memory usage: 3.2+ MB\n"
     ]
    }
   ],
   "source": [
    "# check the information of internet\n",
    "internet.info()"
   ]
  },
  {
   "cell_type": "code",
   "execution_count": 13,
   "metadata": {},
   "outputs": [
    {
     "data": {
      "text/plain": [
       "count    104825.000000\n",
       "mean        366.713701\n",
       "std         277.170542\n",
       "min           0.000000\n",
       "25%         136.080000\n",
       "50%         343.980000\n",
       "75%         554.610000\n",
       "max        1693.470000\n",
       "Name: mb_used, dtype: float64"
      ]
     },
     "execution_count": 13,
     "metadata": {},
     "output_type": "execute_result"
    }
   ],
   "source": [
    "# check the statistics of internet\n",
    "internet['mb_used'].describe()"
   ]
  },
  {
   "cell_type": "markdown",
   "metadata": {},
   "source": [
    "The minimum internet usage is 0Mb and maximum is 1693 MB."
   ]
  },
  {
   "cell_type": "code",
   "execution_count": 14,
   "metadata": {},
   "outputs": [
    {
     "data": {
      "text/plain": [
       "(104825, 4)"
      ]
     },
     "execution_count": 14,
     "metadata": {},
     "output_type": "execute_result"
    }
   ],
   "source": [
    "# check the number of rows and columns of internet \n",
    "internet.shape"
   ]
  },
  {
   "cell_type": "markdown",
   "metadata": {},
   "source": [
    "There are 104825 rows and 4 columns"
   ]
  },
  {
   "cell_type": "code",
   "execution_count": 15,
   "metadata": {
    "scrolled": true
   },
   "outputs": [
    {
     "data": {
      "text/plain": [
       "id              0\n",
       "user_id         0\n",
       "session_date    0\n",
       "mb_used         0\n",
       "dtype: int64"
      ]
     },
     "execution_count": 15,
     "metadata": {},
     "output_type": "execute_result"
    }
   ],
   "source": [
    "# check if there exist missing values in internet\n",
    "internet.isnull().sum()"
   ]
  },
  {
   "cell_type": "markdown",
   "metadata": {},
   "source": [
    "There isn't exist any missing values."
   ]
  },
  {
   "cell_type": "code",
   "execution_count": 16,
   "metadata": {
    "scrolled": true
   },
   "outputs": [
    {
     "data": {
      "text/plain": [
       "0"
      ]
     },
     "execution_count": 16,
     "metadata": {},
     "output_type": "execute_result"
    }
   ],
   "source": [
    "# check if there exist duplicate values in internet\n",
    "internet.duplicated().sum()"
   ]
  },
  {
   "cell_type": "markdown",
   "metadata": {},
   "source": [
    "There is no duplicated data in internet."
   ]
  },
  {
   "cell_type": "markdown",
   "metadata": {},
   "source": [
    "#### Messages"
   ]
  },
  {
   "cell_type": "code",
   "execution_count": 17,
   "metadata": {},
   "outputs": [
    {
     "data": {
      "text/html": [
       "<div>\n",
       "<style scoped>\n",
       "    .dataframe tbody tr th:only-of-type {\n",
       "        vertical-align: middle;\n",
       "    }\n",
       "\n",
       "    .dataframe tbody tr th {\n",
       "        vertical-align: top;\n",
       "    }\n",
       "\n",
       "    .dataframe thead th {\n",
       "        text-align: right;\n",
       "    }\n",
       "</style>\n",
       "<table border=\"1\" class=\"dataframe\">\n",
       "  <thead>\n",
       "    <tr style=\"text-align: right;\">\n",
       "      <th></th>\n",
       "      <th>id</th>\n",
       "      <th>user_id</th>\n",
       "      <th>message_date</th>\n",
       "    </tr>\n",
       "  </thead>\n",
       "  <tbody>\n",
       "    <tr>\n",
       "      <td>0</td>\n",
       "      <td>1000_125</td>\n",
       "      <td>1000</td>\n",
       "      <td>2018-12-27</td>\n",
       "    </tr>\n",
       "    <tr>\n",
       "      <td>1</td>\n",
       "      <td>1000_160</td>\n",
       "      <td>1000</td>\n",
       "      <td>2018-12-31</td>\n",
       "    </tr>\n",
       "    <tr>\n",
       "      <td>2</td>\n",
       "      <td>1000_223</td>\n",
       "      <td>1000</td>\n",
       "      <td>2018-12-31</td>\n",
       "    </tr>\n",
       "    <tr>\n",
       "      <td>3</td>\n",
       "      <td>1000_251</td>\n",
       "      <td>1000</td>\n",
       "      <td>2018-12-27</td>\n",
       "    </tr>\n",
       "    <tr>\n",
       "      <td>4</td>\n",
       "      <td>1000_255</td>\n",
       "      <td>1000</td>\n",
       "      <td>2018-12-26</td>\n",
       "    </tr>\n",
       "  </tbody>\n",
       "</table>\n",
       "</div>"
      ],
      "text/plain": [
       "         id  user_id message_date\n",
       "0  1000_125     1000   2018-12-27\n",
       "1  1000_160     1000   2018-12-31\n",
       "2  1000_223     1000   2018-12-31\n",
       "3  1000_251     1000   2018-12-27\n",
       "4  1000_255     1000   2018-12-26"
      ]
     },
     "execution_count": 17,
     "metadata": {},
     "output_type": "execute_result"
    }
   ],
   "source": [
    "# check the first 5 rows of messages\n",
    "msgs.head()"
   ]
  },
  {
   "cell_type": "code",
   "execution_count": 18,
   "metadata": {},
   "outputs": [
    {
     "data": {
      "text/html": [
       "<div>\n",
       "<style scoped>\n",
       "    .dataframe tbody tr th:only-of-type {\n",
       "        vertical-align: middle;\n",
       "    }\n",
       "\n",
       "    .dataframe tbody tr th {\n",
       "        vertical-align: top;\n",
       "    }\n",
       "\n",
       "    .dataframe thead th {\n",
       "        text-align: right;\n",
       "    }\n",
       "</style>\n",
       "<table border=\"1\" class=\"dataframe\">\n",
       "  <thead>\n",
       "    <tr style=\"text-align: right;\">\n",
       "      <th></th>\n",
       "      <th>id</th>\n",
       "      <th>user_id</th>\n",
       "      <th>message_date</th>\n",
       "    </tr>\n",
       "  </thead>\n",
       "  <tbody>\n",
       "    <tr>\n",
       "      <td>76046</td>\n",
       "      <td>1497_526</td>\n",
       "      <td>1497</td>\n",
       "      <td>2018-12-24</td>\n",
       "    </tr>\n",
       "    <tr>\n",
       "      <td>76047</td>\n",
       "      <td>1497_536</td>\n",
       "      <td>1497</td>\n",
       "      <td>2018-12-24</td>\n",
       "    </tr>\n",
       "    <tr>\n",
       "      <td>76048</td>\n",
       "      <td>1497_547</td>\n",
       "      <td>1497</td>\n",
       "      <td>2018-12-31</td>\n",
       "    </tr>\n",
       "    <tr>\n",
       "      <td>76049</td>\n",
       "      <td>1497_558</td>\n",
       "      <td>1497</td>\n",
       "      <td>2018-12-24</td>\n",
       "    </tr>\n",
       "    <tr>\n",
       "      <td>76050</td>\n",
       "      <td>1497_613</td>\n",
       "      <td>1497</td>\n",
       "      <td>2018-12-23</td>\n",
       "    </tr>\n",
       "  </tbody>\n",
       "</table>\n",
       "</div>"
      ],
      "text/plain": [
       "             id  user_id message_date\n",
       "76046  1497_526     1497   2018-12-24\n",
       "76047  1497_536     1497   2018-12-24\n",
       "76048  1497_547     1497   2018-12-31\n",
       "76049  1497_558     1497   2018-12-24\n",
       "76050  1497_613     1497   2018-12-23"
      ]
     },
     "execution_count": 18,
     "metadata": {},
     "output_type": "execute_result"
    }
   ],
   "source": [
    "# check the last 5 rows of messages\n",
    "msgs.tail()"
   ]
  },
  {
   "cell_type": "code",
   "execution_count": 19,
   "metadata": {},
   "outputs": [
    {
     "name": "stdout",
     "output_type": "stream",
     "text": [
      "<class 'pandas.core.frame.DataFrame'>\n",
      "RangeIndex: 76051 entries, 0 to 76050\n",
      "Data columns (total 3 columns):\n",
      "id              76051 non-null object\n",
      "user_id         76051 non-null int64\n",
      "message_date    76051 non-null object\n",
      "dtypes: int64(1), object(2)\n",
      "memory usage: 1.7+ MB\n"
     ]
    }
   ],
   "source": [
    "# check the general information of messages\n",
    "msgs.info()"
   ]
  },
  {
   "cell_type": "code",
   "execution_count": 20,
   "metadata": {},
   "outputs": [
    {
     "data": {
      "text/plain": [
       "(76051, 3)"
      ]
     },
     "execution_count": 20,
     "metadata": {},
     "output_type": "execute_result"
    }
   ],
   "source": [
    "# check the number of rows and columns of messages\n",
    "msgs.shape"
   ]
  },
  {
   "cell_type": "markdown",
   "metadata": {},
   "source": [
    "There are 76051 rows and 3 columns in messages dataset. "
   ]
  },
  {
   "cell_type": "code",
   "execution_count": 21,
   "metadata": {},
   "outputs": [
    {
     "data": {
      "text/plain": [
       "id              0\n",
       "user_id         0\n",
       "message_date    0\n",
       "dtype: int64"
      ]
     },
     "execution_count": 21,
     "metadata": {},
     "output_type": "execute_result"
    }
   ],
   "source": [
    "# check missing values in messages\n",
    "msgs.isnull().sum()"
   ]
  },
  {
   "cell_type": "markdown",
   "metadata": {},
   "source": [
    "No missing values in messages dataset."
   ]
  },
  {
   "cell_type": "code",
   "execution_count": 22,
   "metadata": {},
   "outputs": [
    {
     "data": {
      "text/plain": [
       "0"
      ]
     },
     "execution_count": 22,
     "metadata": {},
     "output_type": "execute_result"
    }
   ],
   "source": [
    "# check for duplicate values in messages\n",
    "msgs.duplicated().sum()"
   ]
  },
  {
   "cell_type": "markdown",
   "metadata": {},
   "source": [
    "No duplicates in messages."
   ]
  },
  {
   "cell_type": "markdown",
   "metadata": {},
   "source": [
    "#### Users"
   ]
  },
  {
   "cell_type": "code",
   "execution_count": 23,
   "metadata": {},
   "outputs": [
    {
     "data": {
      "text/html": [
       "<div>\n",
       "<style scoped>\n",
       "    .dataframe tbody tr th:only-of-type {\n",
       "        vertical-align: middle;\n",
       "    }\n",
       "\n",
       "    .dataframe tbody tr th {\n",
       "        vertical-align: top;\n",
       "    }\n",
       "\n",
       "    .dataframe thead th {\n",
       "        text-align: right;\n",
       "    }\n",
       "</style>\n",
       "<table border=\"1\" class=\"dataframe\">\n",
       "  <thead>\n",
       "    <tr style=\"text-align: right;\">\n",
       "      <th></th>\n",
       "      <th>user_id</th>\n",
       "      <th>first_name</th>\n",
       "      <th>last_name</th>\n",
       "      <th>age</th>\n",
       "      <th>city</th>\n",
       "      <th>reg_date</th>\n",
       "      <th>plan</th>\n",
       "      <th>churn_date</th>\n",
       "    </tr>\n",
       "  </thead>\n",
       "  <tbody>\n",
       "    <tr>\n",
       "      <td>0</td>\n",
       "      <td>1000</td>\n",
       "      <td>Anamaria</td>\n",
       "      <td>Bauer</td>\n",
       "      <td>45</td>\n",
       "      <td>Atlanta-Sandy Springs-Roswell, GA MSA</td>\n",
       "      <td>2018-12-24</td>\n",
       "      <td>ultimate</td>\n",
       "      <td>NaN</td>\n",
       "    </tr>\n",
       "    <tr>\n",
       "      <td>1</td>\n",
       "      <td>1001</td>\n",
       "      <td>Mickey</td>\n",
       "      <td>Wilkerson</td>\n",
       "      <td>28</td>\n",
       "      <td>Seattle-Tacoma-Bellevue, WA MSA</td>\n",
       "      <td>2018-08-13</td>\n",
       "      <td>surf</td>\n",
       "      <td>NaN</td>\n",
       "    </tr>\n",
       "    <tr>\n",
       "      <td>2</td>\n",
       "      <td>1002</td>\n",
       "      <td>Carlee</td>\n",
       "      <td>Hoffman</td>\n",
       "      <td>36</td>\n",
       "      <td>Las Vegas-Henderson-Paradise, NV MSA</td>\n",
       "      <td>2018-10-21</td>\n",
       "      <td>surf</td>\n",
       "      <td>NaN</td>\n",
       "    </tr>\n",
       "    <tr>\n",
       "      <td>3</td>\n",
       "      <td>1003</td>\n",
       "      <td>Reynaldo</td>\n",
       "      <td>Jenkins</td>\n",
       "      <td>52</td>\n",
       "      <td>Tulsa, OK MSA</td>\n",
       "      <td>2018-01-28</td>\n",
       "      <td>surf</td>\n",
       "      <td>NaN</td>\n",
       "    </tr>\n",
       "    <tr>\n",
       "      <td>4</td>\n",
       "      <td>1004</td>\n",
       "      <td>Leonila</td>\n",
       "      <td>Thompson</td>\n",
       "      <td>40</td>\n",
       "      <td>Seattle-Tacoma-Bellevue, WA MSA</td>\n",
       "      <td>2018-05-23</td>\n",
       "      <td>surf</td>\n",
       "      <td>NaN</td>\n",
       "    </tr>\n",
       "  </tbody>\n",
       "</table>\n",
       "</div>"
      ],
      "text/plain": [
       "   user_id first_name  last_name  age                                   city  \\\n",
       "0     1000   Anamaria      Bauer   45  Atlanta-Sandy Springs-Roswell, GA MSA   \n",
       "1     1001     Mickey  Wilkerson   28        Seattle-Tacoma-Bellevue, WA MSA   \n",
       "2     1002     Carlee    Hoffman   36   Las Vegas-Henderson-Paradise, NV MSA   \n",
       "3     1003   Reynaldo    Jenkins   52                          Tulsa, OK MSA   \n",
       "4     1004    Leonila   Thompson   40        Seattle-Tacoma-Bellevue, WA MSA   \n",
       "\n",
       "     reg_date      plan churn_date  \n",
       "0  2018-12-24  ultimate        NaN  \n",
       "1  2018-08-13      surf        NaN  \n",
       "2  2018-10-21      surf        NaN  \n",
       "3  2018-01-28      surf        NaN  \n",
       "4  2018-05-23      surf        NaN  "
      ]
     },
     "execution_count": 23,
     "metadata": {},
     "output_type": "execute_result"
    }
   ],
   "source": [
    "# check the first 5 rows of users\n",
    "users.head()"
   ]
  },
  {
   "cell_type": "code",
   "execution_count": 24,
   "metadata": {
    "scrolled": true
   },
   "outputs": [
    {
     "data": {
      "text/html": [
       "<div>\n",
       "<style scoped>\n",
       "    .dataframe tbody tr th:only-of-type {\n",
       "        vertical-align: middle;\n",
       "    }\n",
       "\n",
       "    .dataframe tbody tr th {\n",
       "        vertical-align: top;\n",
       "    }\n",
       "\n",
       "    .dataframe thead th {\n",
       "        text-align: right;\n",
       "    }\n",
       "</style>\n",
       "<table border=\"1\" class=\"dataframe\">\n",
       "  <thead>\n",
       "    <tr style=\"text-align: right;\">\n",
       "      <th></th>\n",
       "      <th>user_id</th>\n",
       "      <th>first_name</th>\n",
       "      <th>last_name</th>\n",
       "      <th>age</th>\n",
       "      <th>city</th>\n",
       "      <th>reg_date</th>\n",
       "      <th>plan</th>\n",
       "      <th>churn_date</th>\n",
       "    </tr>\n",
       "  </thead>\n",
       "  <tbody>\n",
       "    <tr>\n",
       "      <td>495</td>\n",
       "      <td>1495</td>\n",
       "      <td>Fidel</td>\n",
       "      <td>Sharpe</td>\n",
       "      <td>67</td>\n",
       "      <td>New York-Newark-Jersey City, NY-NJ-PA MSA</td>\n",
       "      <td>2018-09-04</td>\n",
       "      <td>surf</td>\n",
       "      <td>NaN</td>\n",
       "    </tr>\n",
       "    <tr>\n",
       "      <td>496</td>\n",
       "      <td>1496</td>\n",
       "      <td>Ariel</td>\n",
       "      <td>Shepherd</td>\n",
       "      <td>49</td>\n",
       "      <td>New Orleans-Metairie, LA MSA</td>\n",
       "      <td>2018-02-20</td>\n",
       "      <td>surf</td>\n",
       "      <td>NaN</td>\n",
       "    </tr>\n",
       "    <tr>\n",
       "      <td>497</td>\n",
       "      <td>1497</td>\n",
       "      <td>Donte</td>\n",
       "      <td>Barrera</td>\n",
       "      <td>49</td>\n",
       "      <td>Los Angeles-Long Beach-Anaheim, CA MSA</td>\n",
       "      <td>2018-12-10</td>\n",
       "      <td>ultimate</td>\n",
       "      <td>NaN</td>\n",
       "    </tr>\n",
       "    <tr>\n",
       "      <td>498</td>\n",
       "      <td>1498</td>\n",
       "      <td>Scot</td>\n",
       "      <td>Williamson</td>\n",
       "      <td>51</td>\n",
       "      <td>New York-Newark-Jersey City, NY-NJ-PA MSA</td>\n",
       "      <td>2018-02-04</td>\n",
       "      <td>surf</td>\n",
       "      <td>NaN</td>\n",
       "    </tr>\n",
       "    <tr>\n",
       "      <td>499</td>\n",
       "      <td>1499</td>\n",
       "      <td>Shena</td>\n",
       "      <td>Dickson</td>\n",
       "      <td>37</td>\n",
       "      <td>Orlando-Kissimmee-Sanford, FL MSA</td>\n",
       "      <td>2018-05-06</td>\n",
       "      <td>surf</td>\n",
       "      <td>NaN</td>\n",
       "    </tr>\n",
       "  </tbody>\n",
       "</table>\n",
       "</div>"
      ],
      "text/plain": [
       "     user_id first_name   last_name  age  \\\n",
       "495     1495      Fidel      Sharpe   67   \n",
       "496     1496      Ariel    Shepherd   49   \n",
       "497     1497      Donte     Barrera   49   \n",
       "498     1498       Scot  Williamson   51   \n",
       "499     1499      Shena     Dickson   37   \n",
       "\n",
       "                                          city    reg_date      plan  \\\n",
       "495  New York-Newark-Jersey City, NY-NJ-PA MSA  2018-09-04      surf   \n",
       "496               New Orleans-Metairie, LA MSA  2018-02-20      surf   \n",
       "497     Los Angeles-Long Beach-Anaheim, CA MSA  2018-12-10  ultimate   \n",
       "498  New York-Newark-Jersey City, NY-NJ-PA MSA  2018-02-04      surf   \n",
       "499          Orlando-Kissimmee-Sanford, FL MSA  2018-05-06      surf   \n",
       "\n",
       "    churn_date  \n",
       "495        NaN  \n",
       "496        NaN  \n",
       "497        NaN  \n",
       "498        NaN  \n",
       "499        NaN  "
      ]
     },
     "execution_count": 24,
     "metadata": {},
     "output_type": "execute_result"
    }
   ],
   "source": [
    "# check the last 5 rows of users\n",
    "users.tail()"
   ]
  },
  {
   "cell_type": "code",
   "execution_count": 25,
   "metadata": {},
   "outputs": [
    {
     "name": "stdout",
     "output_type": "stream",
     "text": [
      "<class 'pandas.core.frame.DataFrame'>\n",
      "RangeIndex: 500 entries, 0 to 499\n",
      "Data columns (total 8 columns):\n",
      "user_id       500 non-null int64\n",
      "first_name    500 non-null object\n",
      "last_name     500 non-null object\n",
      "age           500 non-null int64\n",
      "city          500 non-null object\n",
      "reg_date      500 non-null object\n",
      "plan          500 non-null object\n",
      "churn_date    34 non-null object\n",
      "dtypes: int64(2), object(6)\n",
      "memory usage: 31.4+ KB\n"
     ]
    }
   ],
   "source": [
    "# check for general information\n",
    "users.info()"
   ]
  },
  {
   "cell_type": "code",
   "execution_count": 26,
   "metadata": {},
   "outputs": [
    {
     "data": {
      "text/plain": [
       "count    500.000000\n",
       "mean      45.486000\n",
       "std       16.972269\n",
       "min       18.000000\n",
       "25%       30.000000\n",
       "50%       46.000000\n",
       "75%       61.000000\n",
       "max       75.000000\n",
       "Name: age, dtype: float64"
      ]
     },
     "execution_count": 26,
     "metadata": {},
     "output_type": "execute_result"
    }
   ],
   "source": [
    "# check for general statistics \n",
    "users['age'].describe()"
   ]
  },
  {
   "cell_type": "markdown",
   "metadata": {},
   "source": [
    "As the 50% percentile of age is close to the mean value, and the maximum age matches the real-world situation, we know there isn't outliers in users dataset."
   ]
  },
  {
   "cell_type": "code",
   "execution_count": 27,
   "metadata": {
    "scrolled": true
   },
   "outputs": [
    {
     "data": {
      "text/plain": [
       "(500, 8)"
      ]
     },
     "execution_count": 27,
     "metadata": {},
     "output_type": "execute_result"
    }
   ],
   "source": [
    "# check for number of rows and columns in users dataset.\n",
    "users.shape"
   ]
  },
  {
   "cell_type": "markdown",
   "metadata": {},
   "source": [
    "There are 500 rows and 8 columns of users."
   ]
  },
  {
   "cell_type": "code",
   "execution_count": 28,
   "metadata": {},
   "outputs": [
    {
     "data": {
      "text/plain": [
       "user_id         0\n",
       "first_name      0\n",
       "last_name       0\n",
       "age             0\n",
       "city            0\n",
       "reg_date        0\n",
       "plan            0\n",
       "churn_date    466\n",
       "dtype: int64"
      ]
     },
     "execution_count": 28,
     "metadata": {},
     "output_type": "execute_result"
    }
   ],
   "source": [
    "# check for missing values\n",
    "users.isnull().sum()"
   ]
  },
  {
   "cell_type": "markdown",
   "metadata": {},
   "source": [
    "There exist missing values in users dataset, specifically, only exist in 'churn_date' column."
   ]
  },
  {
   "cell_type": "code",
   "execution_count": 29,
   "metadata": {},
   "outputs": [
    {
     "data": {
      "text/plain": [
       "0"
      ]
     },
     "execution_count": 29,
     "metadata": {},
     "output_type": "execute_result"
    }
   ],
   "source": [
    "# check for duplicate values\n",
    "users.duplicated().sum()"
   ]
  },
  {
   "cell_type": "markdown",
   "metadata": {},
   "source": [
    "There is no duplicate."
   ]
  },
  {
   "cell_type": "markdown",
   "metadata": {},
   "source": [
    "#### Plans"
   ]
  },
  {
   "cell_type": "code",
   "execution_count": 30,
   "metadata": {},
   "outputs": [
    {
     "data": {
      "text/html": [
       "<div>\n",
       "<style scoped>\n",
       "    .dataframe tbody tr th:only-of-type {\n",
       "        vertical-align: middle;\n",
       "    }\n",
       "\n",
       "    .dataframe tbody tr th {\n",
       "        vertical-align: top;\n",
       "    }\n",
       "\n",
       "    .dataframe thead th {\n",
       "        text-align: right;\n",
       "    }\n",
       "</style>\n",
       "<table border=\"1\" class=\"dataframe\">\n",
       "  <thead>\n",
       "    <tr style=\"text-align: right;\">\n",
       "      <th></th>\n",
       "      <th>messages_included</th>\n",
       "      <th>mb_per_month_included</th>\n",
       "      <th>minutes_included</th>\n",
       "      <th>usd_monthly_pay</th>\n",
       "      <th>usd_per_gb</th>\n",
       "      <th>usd_per_message</th>\n",
       "      <th>usd_per_minute</th>\n",
       "      <th>plan_name</th>\n",
       "    </tr>\n",
       "  </thead>\n",
       "  <tbody>\n",
       "    <tr>\n",
       "      <td>0</td>\n",
       "      <td>50</td>\n",
       "      <td>15360</td>\n",
       "      <td>500</td>\n",
       "      <td>20</td>\n",
       "      <td>10</td>\n",
       "      <td>0.03</td>\n",
       "      <td>0.03</td>\n",
       "      <td>surf</td>\n",
       "    </tr>\n",
       "    <tr>\n",
       "      <td>1</td>\n",
       "      <td>1000</td>\n",
       "      <td>30720</td>\n",
       "      <td>3000</td>\n",
       "      <td>70</td>\n",
       "      <td>7</td>\n",
       "      <td>0.01</td>\n",
       "      <td>0.01</td>\n",
       "      <td>ultimate</td>\n",
       "    </tr>\n",
       "  </tbody>\n",
       "</table>\n",
       "</div>"
      ],
      "text/plain": [
       "   messages_included  mb_per_month_included  minutes_included  \\\n",
       "0                 50                  15360               500   \n",
       "1               1000                  30720              3000   \n",
       "\n",
       "   usd_monthly_pay  usd_per_gb  usd_per_message  usd_per_minute plan_name  \n",
       "0               20          10             0.03            0.03      surf  \n",
       "1               70           7             0.01            0.01  ultimate  "
      ]
     },
     "execution_count": 30,
     "metadata": {},
     "output_type": "execute_result"
    }
   ],
   "source": [
    "# check the first 5 rows of plans\n",
    "plans.head()"
   ]
  },
  {
   "cell_type": "code",
   "execution_count": 31,
   "metadata": {
    "scrolled": true
   },
   "outputs": [
    {
     "data": {
      "text/html": [
       "<div>\n",
       "<style scoped>\n",
       "    .dataframe tbody tr th:only-of-type {\n",
       "        vertical-align: middle;\n",
       "    }\n",
       "\n",
       "    .dataframe tbody tr th {\n",
       "        vertical-align: top;\n",
       "    }\n",
       "\n",
       "    .dataframe thead th {\n",
       "        text-align: right;\n",
       "    }\n",
       "</style>\n",
       "<table border=\"1\" class=\"dataframe\">\n",
       "  <thead>\n",
       "    <tr style=\"text-align: right;\">\n",
       "      <th></th>\n",
       "      <th>messages_included</th>\n",
       "      <th>mb_per_month_included</th>\n",
       "      <th>minutes_included</th>\n",
       "      <th>usd_monthly_pay</th>\n",
       "      <th>usd_per_gb</th>\n",
       "      <th>usd_per_message</th>\n",
       "      <th>usd_per_minute</th>\n",
       "      <th>plan_name</th>\n",
       "    </tr>\n",
       "  </thead>\n",
       "  <tbody>\n",
       "    <tr>\n",
       "      <td>0</td>\n",
       "      <td>50</td>\n",
       "      <td>15360</td>\n",
       "      <td>500</td>\n",
       "      <td>20</td>\n",
       "      <td>10</td>\n",
       "      <td>0.03</td>\n",
       "      <td>0.03</td>\n",
       "      <td>surf</td>\n",
       "    </tr>\n",
       "    <tr>\n",
       "      <td>1</td>\n",
       "      <td>1000</td>\n",
       "      <td>30720</td>\n",
       "      <td>3000</td>\n",
       "      <td>70</td>\n",
       "      <td>7</td>\n",
       "      <td>0.01</td>\n",
       "      <td>0.01</td>\n",
       "      <td>ultimate</td>\n",
       "    </tr>\n",
       "  </tbody>\n",
       "</table>\n",
       "</div>"
      ],
      "text/plain": [
       "   messages_included  mb_per_month_included  minutes_included  \\\n",
       "0                 50                  15360               500   \n",
       "1               1000                  30720              3000   \n",
       "\n",
       "   usd_monthly_pay  usd_per_gb  usd_per_message  usd_per_minute plan_name  \n",
       "0               20          10             0.03            0.03      surf  \n",
       "1               70           7             0.01            0.01  ultimate  "
      ]
     },
     "execution_count": 31,
     "metadata": {},
     "output_type": "execute_result"
    }
   ],
   "source": [
    "# check the last 5 rows of plans\n",
    "plans.tail()"
   ]
  },
  {
   "cell_type": "markdown",
   "metadata": {},
   "source": [
    "We only have two rows in Plan dataset."
   ]
  },
  {
   "cell_type": "markdown",
   "metadata": {},
   "source": [
    "#### Conclusion"
   ]
  },
  {
   "cell_type": "markdown",
   "metadata": {},
   "source": [
    "We noticed all the date time column are in object datatype, we need to convert them to datetime format, and add year, month, day of week to the dataset. We also found that there are large portion of missing value in 'churn_date' column from users. We need to do more analysis about this. Moreover, all the float data need to convert to integers."
   ]
  },
  {
   "cell_type": "markdown",
   "metadata": {},
   "source": [
    "## Data Preparation and Calculation"
   ]
  },
  {
   "cell_type": "markdown",
   "metadata": {},
   "source": [
    "### Preparation"
   ]
  },
  {
   "cell_type": "code",
   "execution_count": 32,
   "metadata": {},
   "outputs": [],
   "source": [
    "# get our users' real id from 'id' column\n",
    "real_id = np.vectorize(lambda x: re.sub('.*_', '' ,  x))"
   ]
  },
  {
   "cell_type": "markdown",
   "metadata": {},
   "source": [
    "#### Calls Data"
   ]
  },
  {
   "cell_type": "code",
   "execution_count": 33,
   "metadata": {
    "scrolled": true
   },
   "outputs": [],
   "source": [
    "# We need to change 'call_date' column to datetime format, and add year, day of week, and month column to the data\n",
    "calls['call_date'] = pd.to_datetime(calls['call_date'], format='%Y-%m-%d', errors='raise')\n",
    "calls['dow'] = calls['call_date'].dt.day_name()\n",
    "calls['month'] = calls['call_date'].dt.month_name()\n",
    "calls['year'] = calls['call_date'].dt.year"
   ]
  },
  {
   "cell_type": "code",
   "execution_count": 34,
   "metadata": {},
   "outputs": [],
   "source": [
    "# We need to change datatype for 'duration' to integers.\n",
    "calls['duration'] = calls['duration'].astype('int64')"
   ]
  },
  {
   "cell_type": "code",
   "execution_count": 35,
   "metadata": {},
   "outputs": [
    {
     "data": {
      "text/plain": [
       "count    137735.000000\n",
       "mean          6.349991\n",
       "std           5.731871\n",
       "min           0.000000\n",
       "25%           1.000000\n",
       "50%           5.000000\n",
       "75%          10.000000\n",
       "max          37.000000\n",
       "Name: duration, dtype: float64"
      ]
     },
     "execution_count": 35,
     "metadata": {},
     "output_type": "execute_result"
    }
   ],
   "source": [
    "calls['duration'].describe()"
   ]
  },
  {
   "cell_type": "markdown",
   "metadata": {},
   "source": [
    "We noticed the minimume duration time is 0, means the phone calls were not connect. "
   ]
  },
  {
   "cell_type": "code",
   "execution_count": 36,
   "metadata": {},
   "outputs": [
    {
     "data": {
      "text/html": [
       "<div>\n",
       "<style scoped>\n",
       "    .dataframe tbody tr th:only-of-type {\n",
       "        vertical-align: middle;\n",
       "    }\n",
       "\n",
       "    .dataframe tbody tr th {\n",
       "        vertical-align: top;\n",
       "    }\n",
       "\n",
       "    .dataframe thead th {\n",
       "        text-align: right;\n",
       "    }\n",
       "</style>\n",
       "<table border=\"1\" class=\"dataframe\">\n",
       "  <thead>\n",
       "    <tr style=\"text-align: right;\">\n",
       "      <th></th>\n",
       "      <th>id</th>\n",
       "      <th>user_id</th>\n",
       "      <th>call_date</th>\n",
       "      <th>duration</th>\n",
       "      <th>dow</th>\n",
       "      <th>month</th>\n",
       "      <th>year</th>\n",
       "      <th>call_type</th>\n",
       "    </tr>\n",
       "  </thead>\n",
       "  <tbody>\n",
       "    <tr>\n",
       "      <td>0</td>\n",
       "      <td>1000_93</td>\n",
       "      <td>1000</td>\n",
       "      <td>2018-12-27</td>\n",
       "      <td>8</td>\n",
       "      <td>Thursday</td>\n",
       "      <td>December</td>\n",
       "      <td>2018</td>\n",
       "      <td>connected</td>\n",
       "    </tr>\n",
       "    <tr>\n",
       "      <td>1</td>\n",
       "      <td>1000_145</td>\n",
       "      <td>1000</td>\n",
       "      <td>2018-12-27</td>\n",
       "      <td>13</td>\n",
       "      <td>Thursday</td>\n",
       "      <td>December</td>\n",
       "      <td>2018</td>\n",
       "      <td>connected</td>\n",
       "    </tr>\n",
       "    <tr>\n",
       "      <td>2</td>\n",
       "      <td>1000_247</td>\n",
       "      <td>1000</td>\n",
       "      <td>2018-12-27</td>\n",
       "      <td>14</td>\n",
       "      <td>Thursday</td>\n",
       "      <td>December</td>\n",
       "      <td>2018</td>\n",
       "      <td>connected</td>\n",
       "    </tr>\n",
       "    <tr>\n",
       "      <td>3</td>\n",
       "      <td>1000_309</td>\n",
       "      <td>1000</td>\n",
       "      <td>2018-12-28</td>\n",
       "      <td>5</td>\n",
       "      <td>Friday</td>\n",
       "      <td>December</td>\n",
       "      <td>2018</td>\n",
       "      <td>connected</td>\n",
       "    </tr>\n",
       "    <tr>\n",
       "      <td>4</td>\n",
       "      <td>1000_380</td>\n",
       "      <td>1000</td>\n",
       "      <td>2018-12-30</td>\n",
       "      <td>4</td>\n",
       "      <td>Sunday</td>\n",
       "      <td>December</td>\n",
       "      <td>2018</td>\n",
       "      <td>connected</td>\n",
       "    </tr>\n",
       "  </tbody>\n",
       "</table>\n",
       "</div>"
      ],
      "text/plain": [
       "         id  user_id  call_date  duration       dow     month  year  call_type\n",
       "0   1000_93     1000 2018-12-27         8  Thursday  December  2018  connected\n",
       "1  1000_145     1000 2018-12-27        13  Thursday  December  2018  connected\n",
       "2  1000_247     1000 2018-12-27        14  Thursday  December  2018  connected\n",
       "3  1000_309     1000 2018-12-28         5    Friday  December  2018  connected\n",
       "4  1000_380     1000 2018-12-30         4    Sunday  December  2018  connected"
      ]
     },
     "execution_count": 36,
     "metadata": {},
     "output_type": "execute_result"
    }
   ],
   "source": [
    "# We can add a new column that if duration is greater than 0, then it's 'connected', otherwise is 'missed'\n",
    "calls['call_type'] = np.where(calls['duration'] == 0, 'missed', 'connected')\n",
    "calls.head()"
   ]
  },
  {
   "cell_type": "markdown",
   "metadata": {},
   "source": [
    "We noticed in the `id` column, the number before hyphen is `user_id`, so the real `id` is the number after hyphen."
   ]
  },
  {
   "cell_type": "code",
   "execution_count": 37,
   "metadata": {},
   "outputs": [
    {
     "data": {
      "text/html": [
       "<div>\n",
       "<style scoped>\n",
       "    .dataframe tbody tr th:only-of-type {\n",
       "        vertical-align: middle;\n",
       "    }\n",
       "\n",
       "    .dataframe tbody tr th {\n",
       "        vertical-align: top;\n",
       "    }\n",
       "\n",
       "    .dataframe thead th {\n",
       "        text-align: right;\n",
       "    }\n",
       "</style>\n",
       "<table border=\"1\" class=\"dataframe\">\n",
       "  <thead>\n",
       "    <tr style=\"text-align: right;\">\n",
       "      <th></th>\n",
       "      <th>id</th>\n",
       "      <th>user_id</th>\n",
       "      <th>call_date</th>\n",
       "      <th>duration</th>\n",
       "      <th>dow</th>\n",
       "      <th>month</th>\n",
       "      <th>year</th>\n",
       "      <th>call_type</th>\n",
       "    </tr>\n",
       "  </thead>\n",
       "  <tbody>\n",
       "    <tr>\n",
       "      <td>0</td>\n",
       "      <td>93</td>\n",
       "      <td>1000</td>\n",
       "      <td>2018-12-27</td>\n",
       "      <td>8</td>\n",
       "      <td>Thursday</td>\n",
       "      <td>December</td>\n",
       "      <td>2018</td>\n",
       "      <td>connected</td>\n",
       "    </tr>\n",
       "    <tr>\n",
       "      <td>1</td>\n",
       "      <td>145</td>\n",
       "      <td>1000</td>\n",
       "      <td>2018-12-27</td>\n",
       "      <td>13</td>\n",
       "      <td>Thursday</td>\n",
       "      <td>December</td>\n",
       "      <td>2018</td>\n",
       "      <td>connected</td>\n",
       "    </tr>\n",
       "    <tr>\n",
       "      <td>2</td>\n",
       "      <td>247</td>\n",
       "      <td>1000</td>\n",
       "      <td>2018-12-27</td>\n",
       "      <td>14</td>\n",
       "      <td>Thursday</td>\n",
       "      <td>December</td>\n",
       "      <td>2018</td>\n",
       "      <td>connected</td>\n",
       "    </tr>\n",
       "    <tr>\n",
       "      <td>3</td>\n",
       "      <td>309</td>\n",
       "      <td>1000</td>\n",
       "      <td>2018-12-28</td>\n",
       "      <td>5</td>\n",
       "      <td>Friday</td>\n",
       "      <td>December</td>\n",
       "      <td>2018</td>\n",
       "      <td>connected</td>\n",
       "    </tr>\n",
       "    <tr>\n",
       "      <td>4</td>\n",
       "      <td>380</td>\n",
       "      <td>1000</td>\n",
       "      <td>2018-12-30</td>\n",
       "      <td>4</td>\n",
       "      <td>Sunday</td>\n",
       "      <td>December</td>\n",
       "      <td>2018</td>\n",
       "      <td>connected</td>\n",
       "    </tr>\n",
       "  </tbody>\n",
       "</table>\n",
       "</div>"
      ],
      "text/plain": [
       "    id  user_id  call_date  duration       dow     month  year  call_type\n",
       "0   93     1000 2018-12-27         8  Thursday  December  2018  connected\n",
       "1  145     1000 2018-12-27        13  Thursday  December  2018  connected\n",
       "2  247     1000 2018-12-27        14  Thursday  December  2018  connected\n",
       "3  309     1000 2018-12-28         5    Friday  December  2018  connected\n",
       "4  380     1000 2018-12-30         4    Sunday  December  2018  connected"
      ]
     },
     "execution_count": 37,
     "metadata": {},
     "output_type": "execute_result"
    }
   ],
   "source": [
    "# update the 'id' column\n",
    "calls['id'] = real_id(calls['id'])\n",
    "calls.head()"
   ]
  },
  {
   "cell_type": "markdown",
   "metadata": {},
   "source": [
    "#### Internet Data"
   ]
  },
  {
   "cell_type": "code",
   "execution_count": 38,
   "metadata": {
    "scrolled": true
   },
   "outputs": [
    {
     "data": {
      "text/html": [
       "<div>\n",
       "<style scoped>\n",
       "    .dataframe tbody tr th:only-of-type {\n",
       "        vertical-align: middle;\n",
       "    }\n",
       "\n",
       "    .dataframe tbody tr th {\n",
       "        vertical-align: top;\n",
       "    }\n",
       "\n",
       "    .dataframe thead th {\n",
       "        text-align: right;\n",
       "    }\n",
       "</style>\n",
       "<table border=\"1\" class=\"dataframe\">\n",
       "  <thead>\n",
       "    <tr style=\"text-align: right;\">\n",
       "      <th></th>\n",
       "      <th>id</th>\n",
       "      <th>user_id</th>\n",
       "      <th>session_date</th>\n",
       "      <th>mb_used</th>\n",
       "      <th>dow</th>\n",
       "      <th>month</th>\n",
       "      <th>year</th>\n",
       "    </tr>\n",
       "  </thead>\n",
       "  <tbody>\n",
       "    <tr>\n",
       "      <td>0</td>\n",
       "      <td>1000_13</td>\n",
       "      <td>1000</td>\n",
       "      <td>2018-12-29</td>\n",
       "      <td>89.86</td>\n",
       "      <td>Saturday</td>\n",
       "      <td>December</td>\n",
       "      <td>2018</td>\n",
       "    </tr>\n",
       "    <tr>\n",
       "      <td>1</td>\n",
       "      <td>1000_204</td>\n",
       "      <td>1000</td>\n",
       "      <td>2018-12-31</td>\n",
       "      <td>0.00</td>\n",
       "      <td>Monday</td>\n",
       "      <td>December</td>\n",
       "      <td>2018</td>\n",
       "    </tr>\n",
       "    <tr>\n",
       "      <td>2</td>\n",
       "      <td>1000_379</td>\n",
       "      <td>1000</td>\n",
       "      <td>2018-12-28</td>\n",
       "      <td>660.40</td>\n",
       "      <td>Friday</td>\n",
       "      <td>December</td>\n",
       "      <td>2018</td>\n",
       "    </tr>\n",
       "    <tr>\n",
       "      <td>3</td>\n",
       "      <td>1000_413</td>\n",
       "      <td>1000</td>\n",
       "      <td>2018-12-26</td>\n",
       "      <td>270.99</td>\n",
       "      <td>Wednesday</td>\n",
       "      <td>December</td>\n",
       "      <td>2018</td>\n",
       "    </tr>\n",
       "    <tr>\n",
       "      <td>4</td>\n",
       "      <td>1000_442</td>\n",
       "      <td>1000</td>\n",
       "      <td>2018-12-27</td>\n",
       "      <td>880.22</td>\n",
       "      <td>Thursday</td>\n",
       "      <td>December</td>\n",
       "      <td>2018</td>\n",
       "    </tr>\n",
       "  </tbody>\n",
       "</table>\n",
       "</div>"
      ],
      "text/plain": [
       "         id  user_id session_date  mb_used        dow     month  year\n",
       "0   1000_13     1000   2018-12-29    89.86   Saturday  December  2018\n",
       "1  1000_204     1000   2018-12-31     0.00     Monday  December  2018\n",
       "2  1000_379     1000   2018-12-28   660.40     Friday  December  2018\n",
       "3  1000_413     1000   2018-12-26   270.99  Wednesday  December  2018\n",
       "4  1000_442     1000   2018-12-27   880.22   Thursday  December  2018"
      ]
     },
     "execution_count": 38,
     "metadata": {},
     "output_type": "execute_result"
    }
   ],
   "source": [
    "# We need to change 'session_date' column to datetime format, and add year, day of week, and month column to the data\n",
    "internet['session_date'] = pd.to_datetime(internet['session_date'], format = '%Y-%m-%d', errors = 'raise')\n",
    "internet['dow'] = internet['session_date'].dt.day_name()\n",
    "internet['month'] = internet['session_date'].dt.month_name()\n",
    "internet['year'] = internet['session_date'].dt.year\n",
    "internet.head()"
   ]
  },
  {
   "cell_type": "code",
   "execution_count": 39,
   "metadata": {},
   "outputs": [],
   "source": [
    "# We need to change datatype for 'mb_used' to integers.\n",
    "internet['mb_used'] = internet['mb_used'].astype('int64')"
   ]
  },
  {
   "cell_type": "code",
   "execution_count": 40,
   "metadata": {
    "scrolled": true
   },
   "outputs": [
    {
     "data": {
      "text/plain": [
       "0       13829\n",
       "303       169\n",
       "408       161\n",
       "319       161\n",
       "265       157\n",
       "        ...  \n",
       "1375        1\n",
       "1477        1\n",
       "1541        1\n",
       "1407        1\n",
       "1535        1\n",
       "Name: mb_used, Length: 1386, dtype: int64"
      ]
     },
     "execution_count": 40,
     "metadata": {},
     "output_type": "execute_result"
    }
   ],
   "source": [
    "internet['mb_used'].value_counts()"
   ]
  },
  {
   "cell_type": "markdown",
   "metadata": {},
   "source": [
    "We found there are 13829 users used 0 internet data, we cannot drop them because it's possible in real-life."
   ]
  },
  {
   "cell_type": "code",
   "execution_count": 41,
   "metadata": {},
   "outputs": [
    {
     "data": {
      "text/html": [
       "<div>\n",
       "<style scoped>\n",
       "    .dataframe tbody tr th:only-of-type {\n",
       "        vertical-align: middle;\n",
       "    }\n",
       "\n",
       "    .dataframe tbody tr th {\n",
       "        vertical-align: top;\n",
       "    }\n",
       "\n",
       "    .dataframe thead th {\n",
       "        text-align: right;\n",
       "    }\n",
       "</style>\n",
       "<table border=\"1\" class=\"dataframe\">\n",
       "  <thead>\n",
       "    <tr style=\"text-align: right;\">\n",
       "      <th></th>\n",
       "      <th>id</th>\n",
       "      <th>user_id</th>\n",
       "      <th>session_date</th>\n",
       "      <th>mb_used</th>\n",
       "      <th>dow</th>\n",
       "      <th>month</th>\n",
       "      <th>year</th>\n",
       "      <th>type</th>\n",
       "    </tr>\n",
       "  </thead>\n",
       "  <tbody>\n",
       "    <tr>\n",
       "      <td>0</td>\n",
       "      <td>1000_13</td>\n",
       "      <td>1000</td>\n",
       "      <td>2018-12-29</td>\n",
       "      <td>89</td>\n",
       "      <td>Saturday</td>\n",
       "      <td>December</td>\n",
       "      <td>2018</td>\n",
       "      <td>use_intnt</td>\n",
       "    </tr>\n",
       "    <tr>\n",
       "      <td>1</td>\n",
       "      <td>1000_204</td>\n",
       "      <td>1000</td>\n",
       "      <td>2018-12-31</td>\n",
       "      <td>0</td>\n",
       "      <td>Monday</td>\n",
       "      <td>December</td>\n",
       "      <td>2018</td>\n",
       "      <td>not_use_intnt</td>\n",
       "    </tr>\n",
       "    <tr>\n",
       "      <td>2</td>\n",
       "      <td>1000_379</td>\n",
       "      <td>1000</td>\n",
       "      <td>2018-12-28</td>\n",
       "      <td>660</td>\n",
       "      <td>Friday</td>\n",
       "      <td>December</td>\n",
       "      <td>2018</td>\n",
       "      <td>use_intnt</td>\n",
       "    </tr>\n",
       "    <tr>\n",
       "      <td>3</td>\n",
       "      <td>1000_413</td>\n",
       "      <td>1000</td>\n",
       "      <td>2018-12-26</td>\n",
       "      <td>270</td>\n",
       "      <td>Wednesday</td>\n",
       "      <td>December</td>\n",
       "      <td>2018</td>\n",
       "      <td>use_intnt</td>\n",
       "    </tr>\n",
       "    <tr>\n",
       "      <td>4</td>\n",
       "      <td>1000_442</td>\n",
       "      <td>1000</td>\n",
       "      <td>2018-12-27</td>\n",
       "      <td>880</td>\n",
       "      <td>Thursday</td>\n",
       "      <td>December</td>\n",
       "      <td>2018</td>\n",
       "      <td>use_intnt</td>\n",
       "    </tr>\n",
       "  </tbody>\n",
       "</table>\n",
       "</div>"
      ],
      "text/plain": [
       "         id  user_id session_date  mb_used        dow     month  year  \\\n",
       "0   1000_13     1000   2018-12-29       89   Saturday  December  2018   \n",
       "1  1000_204     1000   2018-12-31        0     Monday  December  2018   \n",
       "2  1000_379     1000   2018-12-28      660     Friday  December  2018   \n",
       "3  1000_413     1000   2018-12-26      270  Wednesday  December  2018   \n",
       "4  1000_442     1000   2018-12-27      880   Thursday  December  2018   \n",
       "\n",
       "            type  \n",
       "0      use_intnt  \n",
       "1  not_use_intnt  \n",
       "2      use_intnt  \n",
       "3      use_intnt  \n",
       "4      use_intnt  "
      ]
     },
     "execution_count": 41,
     "metadata": {},
     "output_type": "execute_result"
    }
   ],
   "source": [
    "# We can add a new column that if 'mb_used' is greater than 0, then it's 'use_intnt', otherwise is 'not_use_intnt'\n",
    "internet['type'] = np.where(internet['mb_used'] == 0, 'not_use_intnt', 'use_intnt')\n",
    "internet.head()"
   ]
  },
  {
   "cell_type": "code",
   "execution_count": 42,
   "metadata": {},
   "outputs": [
    {
     "data": {
      "text/html": [
       "<div>\n",
       "<style scoped>\n",
       "    .dataframe tbody tr th:only-of-type {\n",
       "        vertical-align: middle;\n",
       "    }\n",
       "\n",
       "    .dataframe tbody tr th {\n",
       "        vertical-align: top;\n",
       "    }\n",
       "\n",
       "    .dataframe thead th {\n",
       "        text-align: right;\n",
       "    }\n",
       "</style>\n",
       "<table border=\"1\" class=\"dataframe\">\n",
       "  <thead>\n",
       "    <tr style=\"text-align: right;\">\n",
       "      <th></th>\n",
       "      <th>id</th>\n",
       "      <th>user_id</th>\n",
       "      <th>session_date</th>\n",
       "      <th>mb_used</th>\n",
       "      <th>dow</th>\n",
       "      <th>month</th>\n",
       "      <th>year</th>\n",
       "      <th>type</th>\n",
       "    </tr>\n",
       "  </thead>\n",
       "  <tbody>\n",
       "    <tr>\n",
       "      <td>0</td>\n",
       "      <td>13</td>\n",
       "      <td>1000</td>\n",
       "      <td>2018-12-29</td>\n",
       "      <td>89</td>\n",
       "      <td>Saturday</td>\n",
       "      <td>December</td>\n",
       "      <td>2018</td>\n",
       "      <td>use_intnt</td>\n",
       "    </tr>\n",
       "    <tr>\n",
       "      <td>1</td>\n",
       "      <td>204</td>\n",
       "      <td>1000</td>\n",
       "      <td>2018-12-31</td>\n",
       "      <td>0</td>\n",
       "      <td>Monday</td>\n",
       "      <td>December</td>\n",
       "      <td>2018</td>\n",
       "      <td>not_use_intnt</td>\n",
       "    </tr>\n",
       "    <tr>\n",
       "      <td>2</td>\n",
       "      <td>379</td>\n",
       "      <td>1000</td>\n",
       "      <td>2018-12-28</td>\n",
       "      <td>660</td>\n",
       "      <td>Friday</td>\n",
       "      <td>December</td>\n",
       "      <td>2018</td>\n",
       "      <td>use_intnt</td>\n",
       "    </tr>\n",
       "    <tr>\n",
       "      <td>3</td>\n",
       "      <td>413</td>\n",
       "      <td>1000</td>\n",
       "      <td>2018-12-26</td>\n",
       "      <td>270</td>\n",
       "      <td>Wednesday</td>\n",
       "      <td>December</td>\n",
       "      <td>2018</td>\n",
       "      <td>use_intnt</td>\n",
       "    </tr>\n",
       "    <tr>\n",
       "      <td>4</td>\n",
       "      <td>442</td>\n",
       "      <td>1000</td>\n",
       "      <td>2018-12-27</td>\n",
       "      <td>880</td>\n",
       "      <td>Thursday</td>\n",
       "      <td>December</td>\n",
       "      <td>2018</td>\n",
       "      <td>use_intnt</td>\n",
       "    </tr>\n",
       "  </tbody>\n",
       "</table>\n",
       "</div>"
      ],
      "text/plain": [
       "    id  user_id session_date  mb_used        dow     month  year  \\\n",
       "0   13     1000   2018-12-29       89   Saturday  December  2018   \n",
       "1  204     1000   2018-12-31        0     Monday  December  2018   \n",
       "2  379     1000   2018-12-28      660     Friday  December  2018   \n",
       "3  413     1000   2018-12-26      270  Wednesday  December  2018   \n",
       "4  442     1000   2018-12-27      880   Thursday  December  2018   \n",
       "\n",
       "            type  \n",
       "0      use_intnt  \n",
       "1  not_use_intnt  \n",
       "2      use_intnt  \n",
       "3      use_intnt  \n",
       "4      use_intnt  "
      ]
     },
     "execution_count": 42,
     "metadata": {},
     "output_type": "execute_result"
    }
   ],
   "source": [
    "# update the 'id' column\n",
    "internet['id'] = real_id(internet['id'])\n",
    "internet.head()"
   ]
  },
  {
   "cell_type": "markdown",
   "metadata": {},
   "source": [
    "#### Message Data"
   ]
  },
  {
   "cell_type": "code",
   "execution_count": 43,
   "metadata": {},
   "outputs": [
    {
     "data": {
      "text/html": [
       "<div>\n",
       "<style scoped>\n",
       "    .dataframe tbody tr th:only-of-type {\n",
       "        vertical-align: middle;\n",
       "    }\n",
       "\n",
       "    .dataframe tbody tr th {\n",
       "        vertical-align: top;\n",
       "    }\n",
       "\n",
       "    .dataframe thead th {\n",
       "        text-align: right;\n",
       "    }\n",
       "</style>\n",
       "<table border=\"1\" class=\"dataframe\">\n",
       "  <thead>\n",
       "    <tr style=\"text-align: right;\">\n",
       "      <th></th>\n",
       "      <th>id</th>\n",
       "      <th>user_id</th>\n",
       "      <th>message_date</th>\n",
       "      <th>dow</th>\n",
       "      <th>month</th>\n",
       "      <th>year</th>\n",
       "    </tr>\n",
       "  </thead>\n",
       "  <tbody>\n",
       "    <tr>\n",
       "      <td>0</td>\n",
       "      <td>1000_125</td>\n",
       "      <td>1000</td>\n",
       "      <td>2018-12-27</td>\n",
       "      <td>Thursday</td>\n",
       "      <td>December</td>\n",
       "      <td>2018</td>\n",
       "    </tr>\n",
       "    <tr>\n",
       "      <td>1</td>\n",
       "      <td>1000_160</td>\n",
       "      <td>1000</td>\n",
       "      <td>2018-12-31</td>\n",
       "      <td>Monday</td>\n",
       "      <td>December</td>\n",
       "      <td>2018</td>\n",
       "    </tr>\n",
       "    <tr>\n",
       "      <td>2</td>\n",
       "      <td>1000_223</td>\n",
       "      <td>1000</td>\n",
       "      <td>2018-12-31</td>\n",
       "      <td>Monday</td>\n",
       "      <td>December</td>\n",
       "      <td>2018</td>\n",
       "    </tr>\n",
       "    <tr>\n",
       "      <td>3</td>\n",
       "      <td>1000_251</td>\n",
       "      <td>1000</td>\n",
       "      <td>2018-12-27</td>\n",
       "      <td>Thursday</td>\n",
       "      <td>December</td>\n",
       "      <td>2018</td>\n",
       "    </tr>\n",
       "    <tr>\n",
       "      <td>4</td>\n",
       "      <td>1000_255</td>\n",
       "      <td>1000</td>\n",
       "      <td>2018-12-26</td>\n",
       "      <td>Wednesday</td>\n",
       "      <td>December</td>\n",
       "      <td>2018</td>\n",
       "    </tr>\n",
       "  </tbody>\n",
       "</table>\n",
       "</div>"
      ],
      "text/plain": [
       "         id  user_id message_date        dow     month  year\n",
       "0  1000_125     1000   2018-12-27   Thursday  December  2018\n",
       "1  1000_160     1000   2018-12-31     Monday  December  2018\n",
       "2  1000_223     1000   2018-12-31     Monday  December  2018\n",
       "3  1000_251     1000   2018-12-27   Thursday  December  2018\n",
       "4  1000_255     1000   2018-12-26  Wednesday  December  2018"
      ]
     },
     "execution_count": 43,
     "metadata": {},
     "output_type": "execute_result"
    }
   ],
   "source": [
    "# We need to change 'message_date' column to datetime format, and add year, day of week, and month column to the data\n",
    "msgs['message_date'] = pd.to_datetime(msgs['message_date'], format='%Y-%m-%d', errors='raise')\n",
    "msgs['dow'] = msgs['message_date'].dt.day_name()\n",
    "msgs['month'] = msgs['message_date'].dt.month_name()\n",
    "msgs['year'] = msgs['message_date'].dt.year\n",
    "msgs.head()"
   ]
  },
  {
   "cell_type": "code",
   "execution_count": 44,
   "metadata": {},
   "outputs": [
    {
     "data": {
      "text/html": [
       "<div>\n",
       "<style scoped>\n",
       "    .dataframe tbody tr th:only-of-type {\n",
       "        vertical-align: middle;\n",
       "    }\n",
       "\n",
       "    .dataframe tbody tr th {\n",
       "        vertical-align: top;\n",
       "    }\n",
       "\n",
       "    .dataframe thead th {\n",
       "        text-align: right;\n",
       "    }\n",
       "</style>\n",
       "<table border=\"1\" class=\"dataframe\">\n",
       "  <thead>\n",
       "    <tr style=\"text-align: right;\">\n",
       "      <th></th>\n",
       "      <th>id</th>\n",
       "      <th>user_id</th>\n",
       "      <th>message_date</th>\n",
       "      <th>dow</th>\n",
       "      <th>month</th>\n",
       "      <th>year</th>\n",
       "    </tr>\n",
       "  </thead>\n",
       "  <tbody>\n",
       "    <tr>\n",
       "      <td>0</td>\n",
       "      <td>125</td>\n",
       "      <td>1000</td>\n",
       "      <td>2018-12-27</td>\n",
       "      <td>Thursday</td>\n",
       "      <td>December</td>\n",
       "      <td>2018</td>\n",
       "    </tr>\n",
       "    <tr>\n",
       "      <td>1</td>\n",
       "      <td>160</td>\n",
       "      <td>1000</td>\n",
       "      <td>2018-12-31</td>\n",
       "      <td>Monday</td>\n",
       "      <td>December</td>\n",
       "      <td>2018</td>\n",
       "    </tr>\n",
       "    <tr>\n",
       "      <td>2</td>\n",
       "      <td>223</td>\n",
       "      <td>1000</td>\n",
       "      <td>2018-12-31</td>\n",
       "      <td>Monday</td>\n",
       "      <td>December</td>\n",
       "      <td>2018</td>\n",
       "    </tr>\n",
       "    <tr>\n",
       "      <td>3</td>\n",
       "      <td>251</td>\n",
       "      <td>1000</td>\n",
       "      <td>2018-12-27</td>\n",
       "      <td>Thursday</td>\n",
       "      <td>December</td>\n",
       "      <td>2018</td>\n",
       "    </tr>\n",
       "    <tr>\n",
       "      <td>4</td>\n",
       "      <td>255</td>\n",
       "      <td>1000</td>\n",
       "      <td>2018-12-26</td>\n",
       "      <td>Wednesday</td>\n",
       "      <td>December</td>\n",
       "      <td>2018</td>\n",
       "    </tr>\n",
       "  </tbody>\n",
       "</table>\n",
       "</div>"
      ],
      "text/plain": [
       "    id  user_id message_date        dow     month  year\n",
       "0  125     1000   2018-12-27   Thursday  December  2018\n",
       "1  160     1000   2018-12-31     Monday  December  2018\n",
       "2  223     1000   2018-12-31     Monday  December  2018\n",
       "3  251     1000   2018-12-27   Thursday  December  2018\n",
       "4  255     1000   2018-12-26  Wednesday  December  2018"
      ]
     },
     "execution_count": 44,
     "metadata": {},
     "output_type": "execute_result"
    }
   ],
   "source": [
    "# update the 'id' column\n",
    "msgs['id'] = real_id(msgs['id'])\n",
    "msgs.head()"
   ]
  },
  {
   "cell_type": "markdown",
   "metadata": {},
   "source": [
    "#### Users Data"
   ]
  },
  {
   "cell_type": "code",
   "execution_count": 45,
   "metadata": {},
   "outputs": [
    {
     "data": {
      "text/html": [
       "<div>\n",
       "<style scoped>\n",
       "    .dataframe tbody tr th:only-of-type {\n",
       "        vertical-align: middle;\n",
       "    }\n",
       "\n",
       "    .dataframe tbody tr th {\n",
       "        vertical-align: top;\n",
       "    }\n",
       "\n",
       "    .dataframe thead th {\n",
       "        text-align: right;\n",
       "    }\n",
       "</style>\n",
       "<table border=\"1\" class=\"dataframe\">\n",
       "  <thead>\n",
       "    <tr style=\"text-align: right;\">\n",
       "      <th></th>\n",
       "      <th>user_id</th>\n",
       "      <th>first_name</th>\n",
       "      <th>last_name</th>\n",
       "      <th>age</th>\n",
       "      <th>city</th>\n",
       "      <th>reg_date</th>\n",
       "      <th>plan</th>\n",
       "      <th>churn_date</th>\n",
       "    </tr>\n",
       "  </thead>\n",
       "  <tbody>\n",
       "    <tr>\n",
       "      <td>0</td>\n",
       "      <td>1000</td>\n",
       "      <td>Anamaria</td>\n",
       "      <td>Bauer</td>\n",
       "      <td>45</td>\n",
       "      <td>Atlanta-Sandy Springs-Roswell, GA MSA</td>\n",
       "      <td>2018-12-24</td>\n",
       "      <td>ultimate</td>\n",
       "      <td>NaN</td>\n",
       "    </tr>\n",
       "    <tr>\n",
       "      <td>1</td>\n",
       "      <td>1001</td>\n",
       "      <td>Mickey</td>\n",
       "      <td>Wilkerson</td>\n",
       "      <td>28</td>\n",
       "      <td>Seattle-Tacoma-Bellevue, WA MSA</td>\n",
       "      <td>2018-08-13</td>\n",
       "      <td>surf</td>\n",
       "      <td>NaN</td>\n",
       "    </tr>\n",
       "    <tr>\n",
       "      <td>2</td>\n",
       "      <td>1002</td>\n",
       "      <td>Carlee</td>\n",
       "      <td>Hoffman</td>\n",
       "      <td>36</td>\n",
       "      <td>Las Vegas-Henderson-Paradise, NV MSA</td>\n",
       "      <td>2018-10-21</td>\n",
       "      <td>surf</td>\n",
       "      <td>NaN</td>\n",
       "    </tr>\n",
       "    <tr>\n",
       "      <td>3</td>\n",
       "      <td>1003</td>\n",
       "      <td>Reynaldo</td>\n",
       "      <td>Jenkins</td>\n",
       "      <td>52</td>\n",
       "      <td>Tulsa, OK MSA</td>\n",
       "      <td>2018-01-28</td>\n",
       "      <td>surf</td>\n",
       "      <td>NaN</td>\n",
       "    </tr>\n",
       "    <tr>\n",
       "      <td>4</td>\n",
       "      <td>1004</td>\n",
       "      <td>Leonila</td>\n",
       "      <td>Thompson</td>\n",
       "      <td>40</td>\n",
       "      <td>Seattle-Tacoma-Bellevue, WA MSA</td>\n",
       "      <td>2018-05-23</td>\n",
       "      <td>surf</td>\n",
       "      <td>NaN</td>\n",
       "    </tr>\n",
       "  </tbody>\n",
       "</table>\n",
       "</div>"
      ],
      "text/plain": [
       "   user_id first_name  last_name  age                                   city  \\\n",
       "0     1000   Anamaria      Bauer   45  Atlanta-Sandy Springs-Roswell, GA MSA   \n",
       "1     1001     Mickey  Wilkerson   28        Seattle-Tacoma-Bellevue, WA MSA   \n",
       "2     1002     Carlee    Hoffman   36   Las Vegas-Henderson-Paradise, NV MSA   \n",
       "3     1003   Reynaldo    Jenkins   52                          Tulsa, OK MSA   \n",
       "4     1004    Leonila   Thompson   40        Seattle-Tacoma-Bellevue, WA MSA   \n",
       "\n",
       "    reg_date      plan churn_date  \n",
       "0 2018-12-24  ultimate        NaN  \n",
       "1 2018-08-13      surf        NaN  \n",
       "2 2018-10-21      surf        NaN  \n",
       "3 2018-01-28      surf        NaN  \n",
       "4 2018-05-23      surf        NaN  "
      ]
     },
     "execution_count": 45,
     "metadata": {},
     "output_type": "execute_result"
    }
   ],
   "source": [
    "# We need to change 'reg_date' column to datetime format\n",
    "users['reg_date'] = pd.to_datetime(users['reg_date'], format='%Y-%m-%d', errors='raise')\n",
    "users.head()"
   ]
  },
  {
   "cell_type": "code",
   "execution_count": 46,
   "metadata": {},
   "outputs": [
    {
     "data": {
      "text/plain": [
       "user_id         0\n",
       "first_name      0\n",
       "last_name       0\n",
       "age             0\n",
       "city            0\n",
       "reg_date        0\n",
       "plan            0\n",
       "churn_date    466\n",
       "dtype: int64"
      ]
     },
     "execution_count": 46,
     "metadata": {},
     "output_type": "execute_result"
    }
   ],
   "source": [
    "# missing values \n",
    "users.isnull().sum()"
   ]
  },
  {
   "cell_type": "markdown",
   "metadata": {},
   "source": [
    "There are 466 out of 500 values are missing in `churn_date` column. We can add a new column indicate if `churn_date` is missing, than the user is stop using the service, otherwise the user is still using the service."
   ]
  },
  {
   "cell_type": "code",
   "execution_count": 47,
   "metadata": {
    "scrolled": true
   },
   "outputs": [
    {
     "data": {
      "text/html": [
       "<div>\n",
       "<style scoped>\n",
       "    .dataframe tbody tr th:only-of-type {\n",
       "        vertical-align: middle;\n",
       "    }\n",
       "\n",
       "    .dataframe tbody tr th {\n",
       "        vertical-align: top;\n",
       "    }\n",
       "\n",
       "    .dataframe thead th {\n",
       "        text-align: right;\n",
       "    }\n",
       "</style>\n",
       "<table border=\"1\" class=\"dataframe\">\n",
       "  <thead>\n",
       "    <tr style=\"text-align: right;\">\n",
       "      <th></th>\n",
       "      <th>user_id</th>\n",
       "      <th>first_name</th>\n",
       "      <th>last_name</th>\n",
       "      <th>age</th>\n",
       "      <th>city</th>\n",
       "      <th>reg_date</th>\n",
       "      <th>plan</th>\n",
       "      <th>churn_date</th>\n",
       "      <th>churn</th>\n",
       "    </tr>\n",
       "  </thead>\n",
       "  <tbody>\n",
       "    <tr>\n",
       "      <td>0</td>\n",
       "      <td>1000</td>\n",
       "      <td>Anamaria</td>\n",
       "      <td>Bauer</td>\n",
       "      <td>45</td>\n",
       "      <td>Atlanta-Sandy Springs-Roswell, GA MSA</td>\n",
       "      <td>2018-12-24</td>\n",
       "      <td>ultimate</td>\n",
       "      <td>NaN</td>\n",
       "      <td>No</td>\n",
       "    </tr>\n",
       "    <tr>\n",
       "      <td>1</td>\n",
       "      <td>1001</td>\n",
       "      <td>Mickey</td>\n",
       "      <td>Wilkerson</td>\n",
       "      <td>28</td>\n",
       "      <td>Seattle-Tacoma-Bellevue, WA MSA</td>\n",
       "      <td>2018-08-13</td>\n",
       "      <td>surf</td>\n",
       "      <td>NaN</td>\n",
       "      <td>No</td>\n",
       "    </tr>\n",
       "    <tr>\n",
       "      <td>2</td>\n",
       "      <td>1002</td>\n",
       "      <td>Carlee</td>\n",
       "      <td>Hoffman</td>\n",
       "      <td>36</td>\n",
       "      <td>Las Vegas-Henderson-Paradise, NV MSA</td>\n",
       "      <td>2018-10-21</td>\n",
       "      <td>surf</td>\n",
       "      <td>NaN</td>\n",
       "      <td>No</td>\n",
       "    </tr>\n",
       "    <tr>\n",
       "      <td>3</td>\n",
       "      <td>1003</td>\n",
       "      <td>Reynaldo</td>\n",
       "      <td>Jenkins</td>\n",
       "      <td>52</td>\n",
       "      <td>Tulsa, OK MSA</td>\n",
       "      <td>2018-01-28</td>\n",
       "      <td>surf</td>\n",
       "      <td>NaN</td>\n",
       "      <td>No</td>\n",
       "    </tr>\n",
       "    <tr>\n",
       "      <td>4</td>\n",
       "      <td>1004</td>\n",
       "      <td>Leonila</td>\n",
       "      <td>Thompson</td>\n",
       "      <td>40</td>\n",
       "      <td>Seattle-Tacoma-Bellevue, WA MSA</td>\n",
       "      <td>2018-05-23</td>\n",
       "      <td>surf</td>\n",
       "      <td>NaN</td>\n",
       "      <td>No</td>\n",
       "    </tr>\n",
       "  </tbody>\n",
       "</table>\n",
       "</div>"
      ],
      "text/plain": [
       "   user_id first_name  last_name  age                                   city  \\\n",
       "0     1000   Anamaria      Bauer   45  Atlanta-Sandy Springs-Roswell, GA MSA   \n",
       "1     1001     Mickey  Wilkerson   28        Seattle-Tacoma-Bellevue, WA MSA   \n",
       "2     1002     Carlee    Hoffman   36   Las Vegas-Henderson-Paradise, NV MSA   \n",
       "3     1003   Reynaldo    Jenkins   52                          Tulsa, OK MSA   \n",
       "4     1004    Leonila   Thompson   40        Seattle-Tacoma-Bellevue, WA MSA   \n",
       "\n",
       "    reg_date      plan churn_date churn  \n",
       "0 2018-12-24  ultimate        NaN    No  \n",
       "1 2018-08-13      surf        NaN    No  \n",
       "2 2018-10-21      surf        NaN    No  \n",
       "3 2018-01-28      surf        NaN    No  \n",
       "4 2018-05-23      surf        NaN    No  "
      ]
     },
     "execution_count": 47,
     "metadata": {},
     "output_type": "execute_result"
    }
   ],
   "source": [
    "users['churn'] = np.where(users['churn_date'].isnull(), 'No', 'Yes')\n",
    "users.head()"
   ]
  },
  {
   "cell_type": "markdown",
   "metadata": {},
   "source": [
    "#### Plans Data"
   ]
  },
  {
   "cell_type": "markdown",
   "metadata": {},
   "source": [
    "We are going to rename the columns for plans data, make them easier to understand."
   ]
  },
  {
   "cell_type": "code",
   "execution_count": 48,
   "metadata": {},
   "outputs": [
    {
     "data": {
      "text/html": [
       "<div>\n",
       "<style scoped>\n",
       "    .dataframe tbody tr th:only-of-type {\n",
       "        vertical-align: middle;\n",
       "    }\n",
       "\n",
       "    .dataframe tbody tr th {\n",
       "        vertical-align: top;\n",
       "    }\n",
       "\n",
       "    .dataframe thead th {\n",
       "        text-align: right;\n",
       "    }\n",
       "</style>\n",
       "<table border=\"1\" class=\"dataframe\">\n",
       "  <thead>\n",
       "    <tr style=\"text-align: right;\">\n",
       "      <th></th>\n",
       "      <th>messages_included</th>\n",
       "      <th>mb_per_month_included</th>\n",
       "      <th>minutes_included</th>\n",
       "      <th>usd_monthly_pay</th>\n",
       "      <th>usd_per_gb</th>\n",
       "      <th>usd_per_message</th>\n",
       "      <th>usd_per_minute</th>\n",
       "      <th>plan_name</th>\n",
       "    </tr>\n",
       "  </thead>\n",
       "  <tbody>\n",
       "    <tr>\n",
       "      <td>0</td>\n",
       "      <td>50</td>\n",
       "      <td>15360</td>\n",
       "      <td>500</td>\n",
       "      <td>20</td>\n",
       "      <td>10</td>\n",
       "      <td>0.03</td>\n",
       "      <td>0.03</td>\n",
       "      <td>surf</td>\n",
       "    </tr>\n",
       "    <tr>\n",
       "      <td>1</td>\n",
       "      <td>1000</td>\n",
       "      <td>30720</td>\n",
       "      <td>3000</td>\n",
       "      <td>70</td>\n",
       "      <td>7</td>\n",
       "      <td>0.01</td>\n",
       "      <td>0.01</td>\n",
       "      <td>ultimate</td>\n",
       "    </tr>\n",
       "  </tbody>\n",
       "</table>\n",
       "</div>"
      ],
      "text/plain": [
       "   messages_included  mb_per_month_included  minutes_included  \\\n",
       "0                 50                  15360               500   \n",
       "1               1000                  30720              3000   \n",
       "\n",
       "   usd_monthly_pay  usd_per_gb  usd_per_message  usd_per_minute plan_name  \n",
       "0               20          10             0.03            0.03      surf  \n",
       "1               70           7             0.01            0.01  ultimate  "
      ]
     },
     "execution_count": 48,
     "metadata": {},
     "output_type": "execute_result"
    }
   ],
   "source": [
    "plans.head()"
   ]
  },
  {
   "cell_type": "code",
   "execution_count": 49,
   "metadata": {},
   "outputs": [
    {
     "data": {
      "text/html": [
       "<div>\n",
       "<style scoped>\n",
       "    .dataframe tbody tr th:only-of-type {\n",
       "        vertical-align: middle;\n",
       "    }\n",
       "\n",
       "    .dataframe tbody tr th {\n",
       "        vertical-align: top;\n",
       "    }\n",
       "\n",
       "    .dataframe thead th {\n",
       "        text-align: right;\n",
       "    }\n",
       "</style>\n",
       "<table border=\"1\" class=\"dataframe\">\n",
       "  <thead>\n",
       "    <tr style=\"text-align: right;\">\n",
       "      <th></th>\n",
       "      <th>messages_included</th>\n",
       "      <th>data_volume_per_month</th>\n",
       "      <th>minutes_included</th>\n",
       "      <th>monthly_pay</th>\n",
       "      <th>price_per_gb</th>\n",
       "      <th>price_per_msg</th>\n",
       "      <th>price_per_minute</th>\n",
       "      <th>plan</th>\n",
       "    </tr>\n",
       "  </thead>\n",
       "  <tbody>\n",
       "    <tr>\n",
       "      <td>0</td>\n",
       "      <td>50</td>\n",
       "      <td>15360</td>\n",
       "      <td>500</td>\n",
       "      <td>20</td>\n",
       "      <td>10</td>\n",
       "      <td>0.03</td>\n",
       "      <td>0.03</td>\n",
       "      <td>surf</td>\n",
       "    </tr>\n",
       "    <tr>\n",
       "      <td>1</td>\n",
       "      <td>1000</td>\n",
       "      <td>30720</td>\n",
       "      <td>3000</td>\n",
       "      <td>70</td>\n",
       "      <td>7</td>\n",
       "      <td>0.01</td>\n",
       "      <td>0.01</td>\n",
       "      <td>ultimate</td>\n",
       "    </tr>\n",
       "  </tbody>\n",
       "</table>\n",
       "</div>"
      ],
      "text/plain": [
       "   messages_included  data_volume_per_month  minutes_included  monthly_pay  \\\n",
       "0                 50                  15360               500           20   \n",
       "1               1000                  30720              3000           70   \n",
       "\n",
       "   price_per_gb  price_per_msg  price_per_minute      plan  \n",
       "0            10           0.03              0.03      surf  \n",
       "1             7           0.01              0.01  ultimate  "
      ]
     },
     "execution_count": 49,
     "metadata": {},
     "output_type": "execute_result"
    }
   ],
   "source": [
    "plans.columns = ['messages_included', 'data_volume_per_month', 'minutes_included', 'monthly_pay', 'price_per_gb', 'price_per_msg', 'price_per_minute', 'plan']\n",
    "plans.head()"
   ]
  },
  {
   "cell_type": "markdown",
   "metadata": {},
   "source": [
    "### Calculation"
   ]
  },
  {
   "cell_type": "markdown",
   "metadata": {},
   "source": [
    "#### The number of calls made and minutes used / month"
   ]
  },
  {
   "cell_type": "code",
   "execution_count": 50,
   "metadata": {},
   "outputs": [
    {
     "data": {
      "text/html": [
       "<div>\n",
       "<style scoped>\n",
       "    .dataframe tbody tr th:only-of-type {\n",
       "        vertical-align: middle;\n",
       "    }\n",
       "\n",
       "    .dataframe tbody tr th {\n",
       "        vertical-align: top;\n",
       "    }\n",
       "\n",
       "    .dataframe thead th {\n",
       "        text-align: right;\n",
       "    }\n",
       "</style>\n",
       "<table border=\"1\" class=\"dataframe\">\n",
       "  <thead>\n",
       "    <tr style=\"text-align: right;\">\n",
       "      <th></th>\n",
       "      <th></th>\n",
       "      <th>id</th>\n",
       "    </tr>\n",
       "    <tr>\n",
       "      <th>user_id</th>\n",
       "      <th>month</th>\n",
       "      <th></th>\n",
       "    </tr>\n",
       "  </thead>\n",
       "  <tbody>\n",
       "    <tr>\n",
       "      <td>1000</td>\n",
       "      <td>December</td>\n",
       "      <td>16</td>\n",
       "    </tr>\n",
       "    <tr>\n",
       "      <td rowspan=\"4\" valign=\"top\">1001</td>\n",
       "      <td>August</td>\n",
       "      <td>27</td>\n",
       "    </tr>\n",
       "    <tr>\n",
       "      <td>December</td>\n",
       "      <td>56</td>\n",
       "    </tr>\n",
       "    <tr>\n",
       "      <td>November</td>\n",
       "      <td>64</td>\n",
       "    </tr>\n",
       "    <tr>\n",
       "      <td>October</td>\n",
       "      <td>65</td>\n",
       "    </tr>\n",
       "  </tbody>\n",
       "</table>\n",
       "</div>"
      ],
      "text/plain": [
       "                  id\n",
       "user_id month       \n",
       "1000    December  16\n",
       "1001    August    27\n",
       "        December  56\n",
       "        November  64\n",
       "        October   65"
      ]
     },
     "execution_count": 50,
     "metadata": {},
     "output_type": "execute_result"
    }
   ],
   "source": [
    "# the number of calls made per user per month\n",
    "calls_per_month = calls.groupby(['user_id', 'month']).agg({'id': 'count'})\n",
    "calls_per_month.head()"
   ]
  },
  {
   "cell_type": "code",
   "execution_count": 51,
   "metadata": {
    "scrolled": true
   },
   "outputs": [
    {
     "data": {
      "text/html": [
       "<div>\n",
       "<style scoped>\n",
       "    .dataframe tbody tr th:only-of-type {\n",
       "        vertical-align: middle;\n",
       "    }\n",
       "\n",
       "    .dataframe tbody tr th {\n",
       "        vertical-align: top;\n",
       "    }\n",
       "\n",
       "    .dataframe thead th {\n",
       "        text-align: right;\n",
       "    }\n",
       "</style>\n",
       "<table border=\"1\" class=\"dataframe\">\n",
       "  <thead>\n",
       "    <tr style=\"text-align: right;\">\n",
       "      <th></th>\n",
       "      <th>id</th>\n",
       "    </tr>\n",
       "  </thead>\n",
       "  <tbody>\n",
       "    <tr>\n",
       "      <td>count</td>\n",
       "      <td>2258.000000</td>\n",
       "    </tr>\n",
       "    <tr>\n",
       "      <td>mean</td>\n",
       "      <td>60.998671</td>\n",
       "    </tr>\n",
       "    <tr>\n",
       "      <td>std</td>\n",
       "      <td>31.770869</td>\n",
       "    </tr>\n",
       "    <tr>\n",
       "      <td>min</td>\n",
       "      <td>1.000000</td>\n",
       "    </tr>\n",
       "    <tr>\n",
       "      <td>25%</td>\n",
       "      <td>39.000000</td>\n",
       "    </tr>\n",
       "    <tr>\n",
       "      <td>50%</td>\n",
       "      <td>60.000000</td>\n",
       "    </tr>\n",
       "    <tr>\n",
       "      <td>75%</td>\n",
       "      <td>80.000000</td>\n",
       "    </tr>\n",
       "    <tr>\n",
       "      <td>max</td>\n",
       "      <td>205.000000</td>\n",
       "    </tr>\n",
       "  </tbody>\n",
       "</table>\n",
       "</div>"
      ],
      "text/plain": [
       "                id\n",
       "count  2258.000000\n",
       "mean     60.998671\n",
       "std      31.770869\n",
       "min       1.000000\n",
       "25%      39.000000\n",
       "50%      60.000000\n",
       "75%      80.000000\n",
       "max     205.000000"
      ]
     },
     "execution_count": 51,
     "metadata": {},
     "output_type": "execute_result"
    }
   ],
   "source": [
    "calls_per_month.describe()"
   ]
  },
  {
   "cell_type": "markdown",
   "metadata": {},
   "source": [
    "We can see the minimum monthly call is once, and the maximum monthly call is 205 times. The mean value is 60 calls per month. "
   ]
  },
  {
   "cell_type": "code",
   "execution_count": 52,
   "metadata": {
    "scrolled": true
   },
   "outputs": [
    {
     "data": {
      "text/html": [
       "<div>\n",
       "<style scoped>\n",
       "    .dataframe tbody tr th:only-of-type {\n",
       "        vertical-align: middle;\n",
       "    }\n",
       "\n",
       "    .dataframe tbody tr th {\n",
       "        vertical-align: top;\n",
       "    }\n",
       "\n",
       "    .dataframe thead th {\n",
       "        text-align: right;\n",
       "    }\n",
       "</style>\n",
       "<table border=\"1\" class=\"dataframe\">\n",
       "  <thead>\n",
       "    <tr style=\"text-align: right;\">\n",
       "      <th></th>\n",
       "      <th></th>\n",
       "      <th>duration</th>\n",
       "    </tr>\n",
       "    <tr>\n",
       "      <th>user_id</th>\n",
       "      <th>month</th>\n",
       "      <th></th>\n",
       "    </tr>\n",
       "  </thead>\n",
       "  <tbody>\n",
       "    <tr>\n",
       "      <td>1000</td>\n",
       "      <td>December</td>\n",
       "      <td>108</td>\n",
       "    </tr>\n",
       "    <tr>\n",
       "      <td rowspan=\"5\" valign=\"top\">1001</td>\n",
       "      <td>August</td>\n",
       "      <td>160</td>\n",
       "    </tr>\n",
       "    <tr>\n",
       "      <td>December</td>\n",
       "      <td>368</td>\n",
       "    </tr>\n",
       "    <tr>\n",
       "      <td>November</td>\n",
       "      <td>379</td>\n",
       "    </tr>\n",
       "    <tr>\n",
       "      <td>October</td>\n",
       "      <td>348</td>\n",
       "    </tr>\n",
       "    <tr>\n",
       "      <td>September</td>\n",
       "      <td>278</td>\n",
       "    </tr>\n",
       "    <tr>\n",
       "      <td rowspan=\"3\" valign=\"top\">1002</td>\n",
       "      <td>December</td>\n",
       "      <td>346</td>\n",
       "    </tr>\n",
       "    <tr>\n",
       "      <td>November</td>\n",
       "      <td>338</td>\n",
       "    </tr>\n",
       "    <tr>\n",
       "      <td>October</td>\n",
       "      <td>51</td>\n",
       "    </tr>\n",
       "    <tr>\n",
       "      <td>1003</td>\n",
       "      <td>December</td>\n",
       "      <td>987</td>\n",
       "    </tr>\n",
       "  </tbody>\n",
       "</table>\n",
       "</div>"
      ],
      "text/plain": [
       "                   duration\n",
       "user_id month              \n",
       "1000    December        108\n",
       "1001    August          160\n",
       "        December        368\n",
       "        November        379\n",
       "        October         348\n",
       "        September       278\n",
       "1002    December        346\n",
       "        November        338\n",
       "        October          51\n",
       "1003    December        987"
      ]
     },
     "execution_count": 52,
     "metadata": {},
     "output_type": "execute_result"
    }
   ],
   "source": [
    "# the number of minutes made per user per month\n",
    "minute_per_month = calls.groupby(['user_id', 'month']).agg({'duration': 'sum'})\n",
    "minute_per_month.head(10)"
   ]
  },
  {
   "cell_type": "code",
   "execution_count": 53,
   "metadata": {
    "scrolled": true
   },
   "outputs": [
    {
     "data": {
      "text/html": [
       "<div>\n",
       "<style scoped>\n",
       "    .dataframe tbody tr th:only-of-type {\n",
       "        vertical-align: middle;\n",
       "    }\n",
       "\n",
       "    .dataframe tbody tr th {\n",
       "        vertical-align: top;\n",
       "    }\n",
       "\n",
       "    .dataframe thead th {\n",
       "        text-align: right;\n",
       "    }\n",
       "</style>\n",
       "<table border=\"1\" class=\"dataframe\">\n",
       "  <thead>\n",
       "    <tr style=\"text-align: right;\">\n",
       "      <th></th>\n",
       "      <th>duration</th>\n",
       "    </tr>\n",
       "  </thead>\n",
       "  <tbody>\n",
       "    <tr>\n",
       "      <td>count</td>\n",
       "      <td>2258.000000</td>\n",
       "    </tr>\n",
       "    <tr>\n",
       "      <td>mean</td>\n",
       "      <td>387.341010</td>\n",
       "    </tr>\n",
       "    <tr>\n",
       "      <td>std</td>\n",
       "      <td>206.881674</td>\n",
       "    </tr>\n",
       "    <tr>\n",
       "      <td>min</td>\n",
       "      <td>0.000000</td>\n",
       "    </tr>\n",
       "    <tr>\n",
       "      <td>25%</td>\n",
       "      <td>243.250000</td>\n",
       "    </tr>\n",
       "    <tr>\n",
       "      <td>50%</td>\n",
       "      <td>379.000000</td>\n",
       "    </tr>\n",
       "    <tr>\n",
       "      <td>75%</td>\n",
       "      <td>510.000000</td>\n",
       "    </tr>\n",
       "    <tr>\n",
       "      <td>max</td>\n",
       "      <td>1344.000000</td>\n",
       "    </tr>\n",
       "  </tbody>\n",
       "</table>\n",
       "</div>"
      ],
      "text/plain": [
       "          duration\n",
       "count  2258.000000\n",
       "mean    387.341010\n",
       "std     206.881674\n",
       "min       0.000000\n",
       "25%     243.250000\n",
       "50%     379.000000\n",
       "75%     510.000000\n",
       "max    1344.000000"
      ]
     },
     "execution_count": 53,
     "metadata": {},
     "output_type": "execute_result"
    }
   ],
   "source": [
    "minute_per_month.describe()"
   ]
  },
  {
   "cell_type": "markdown",
   "metadata": {},
   "source": [
    "We can see the minimum time spend is 0 minutes, and the maximum time spend is 1355 minutes in total. The mean value is 387 minutes total per month. "
   ]
  },
  {
   "cell_type": "markdown",
   "metadata": {},
   "source": [
    "#### The number of text messages / month"
   ]
  },
  {
   "cell_type": "code",
   "execution_count": 54,
   "metadata": {},
   "outputs": [
    {
     "data": {
      "text/html": [
       "<div>\n",
       "<style scoped>\n",
       "    .dataframe tbody tr th:only-of-type {\n",
       "        vertical-align: middle;\n",
       "    }\n",
       "\n",
       "    .dataframe tbody tr th {\n",
       "        vertical-align: top;\n",
       "    }\n",
       "\n",
       "    .dataframe thead th {\n",
       "        text-align: right;\n",
       "    }\n",
       "</style>\n",
       "<table border=\"1\" class=\"dataframe\">\n",
       "  <thead>\n",
       "    <tr style=\"text-align: right;\">\n",
       "      <th></th>\n",
       "      <th></th>\n",
       "      <th>id</th>\n",
       "    </tr>\n",
       "    <tr>\n",
       "      <th>user_id</th>\n",
       "      <th>month</th>\n",
       "      <th></th>\n",
       "    </tr>\n",
       "  </thead>\n",
       "  <tbody>\n",
       "    <tr>\n",
       "      <td>1000</td>\n",
       "      <td>December</td>\n",
       "      <td>11</td>\n",
       "    </tr>\n",
       "    <tr>\n",
       "      <td rowspan=\"4\" valign=\"top\">1001</td>\n",
       "      <td>August</td>\n",
       "      <td>30</td>\n",
       "    </tr>\n",
       "    <tr>\n",
       "      <td>December</td>\n",
       "      <td>44</td>\n",
       "    </tr>\n",
       "    <tr>\n",
       "      <td>November</td>\n",
       "      <td>36</td>\n",
       "    </tr>\n",
       "    <tr>\n",
       "      <td>October</td>\n",
       "      <td>53</td>\n",
       "    </tr>\n",
       "  </tbody>\n",
       "</table>\n",
       "</div>"
      ],
      "text/plain": [
       "                  id\n",
       "user_id month       \n",
       "1000    December  11\n",
       "1001    August    30\n",
       "        December  44\n",
       "        November  36\n",
       "        October   53"
      ]
     },
     "execution_count": 54,
     "metadata": {},
     "output_type": "execute_result"
    }
   ],
   "source": [
    "# the number of text message made per user per month\n",
    "msgs_per_month = msgs.groupby(['user_id', 'month']).agg({'id': 'count'})\n",
    "msgs_per_month.head()"
   ]
  },
  {
   "cell_type": "code",
   "execution_count": 55,
   "metadata": {},
   "outputs": [
    {
     "data": {
      "text/html": [
       "<div>\n",
       "<style scoped>\n",
       "    .dataframe tbody tr th:only-of-type {\n",
       "        vertical-align: middle;\n",
       "    }\n",
       "\n",
       "    .dataframe tbody tr th {\n",
       "        vertical-align: top;\n",
       "    }\n",
       "\n",
       "    .dataframe thead th {\n",
       "        text-align: right;\n",
       "    }\n",
       "</style>\n",
       "<table border=\"1\" class=\"dataframe\">\n",
       "  <thead>\n",
       "    <tr style=\"text-align: right;\">\n",
       "      <th></th>\n",
       "      <th>id</th>\n",
       "    </tr>\n",
       "  </thead>\n",
       "  <tbody>\n",
       "    <tr>\n",
       "      <td>count</td>\n",
       "      <td>1806.000000</td>\n",
       "    </tr>\n",
       "    <tr>\n",
       "      <td>mean</td>\n",
       "      <td>42.110188</td>\n",
       "    </tr>\n",
       "    <tr>\n",
       "      <td>std</td>\n",
       "      <td>33.122931</td>\n",
       "    </tr>\n",
       "    <tr>\n",
       "      <td>min</td>\n",
       "      <td>1.000000</td>\n",
       "    </tr>\n",
       "    <tr>\n",
       "      <td>25%</td>\n",
       "      <td>17.000000</td>\n",
       "    </tr>\n",
       "    <tr>\n",
       "      <td>50%</td>\n",
       "      <td>34.000000</td>\n",
       "    </tr>\n",
       "    <tr>\n",
       "      <td>75%</td>\n",
       "      <td>59.000000</td>\n",
       "    </tr>\n",
       "    <tr>\n",
       "      <td>max</td>\n",
       "      <td>266.000000</td>\n",
       "    </tr>\n",
       "  </tbody>\n",
       "</table>\n",
       "</div>"
      ],
      "text/plain": [
       "                id\n",
       "count  1806.000000\n",
       "mean     42.110188\n",
       "std      33.122931\n",
       "min       1.000000\n",
       "25%      17.000000\n",
       "50%      34.000000\n",
       "75%      59.000000\n",
       "max     266.000000"
      ]
     },
     "execution_count": 55,
     "metadata": {},
     "output_type": "execute_result"
    }
   ],
   "source": [
    "msgs_per_month.describe()"
   ]
  },
  {
   "cell_type": "markdown",
   "metadata": {},
   "source": [
    "The total number of text message is 1806. The minimum number is 1 and the maximum number is 266. The mean value is 42 text messages. "
   ]
  },
  {
   "cell_type": "markdown",
   "metadata": {},
   "source": [
    "#### The volume of data / month"
   ]
  },
  {
   "cell_type": "code",
   "execution_count": 56,
   "metadata": {},
   "outputs": [
    {
     "data": {
      "text/html": [
       "<div>\n",
       "<style scoped>\n",
       "    .dataframe tbody tr th:only-of-type {\n",
       "        vertical-align: middle;\n",
       "    }\n",
       "\n",
       "    .dataframe tbody tr th {\n",
       "        vertical-align: top;\n",
       "    }\n",
       "\n",
       "    .dataframe thead th {\n",
       "        text-align: right;\n",
       "    }\n",
       "</style>\n",
       "<table border=\"1\" class=\"dataframe\">\n",
       "  <thead>\n",
       "    <tr style=\"text-align: right;\">\n",
       "      <th></th>\n",
       "      <th></th>\n",
       "      <th>mb_used</th>\n",
       "    </tr>\n",
       "    <tr>\n",
       "      <th>user_id</th>\n",
       "      <th>month</th>\n",
       "      <th></th>\n",
       "    </tr>\n",
       "  </thead>\n",
       "  <tbody>\n",
       "    <tr>\n",
       "      <td>1000</td>\n",
       "      <td>December</td>\n",
       "      <td>1899</td>\n",
       "    </tr>\n",
       "    <tr>\n",
       "      <td rowspan=\"4\" valign=\"top\">1001</td>\n",
       "      <td>August</td>\n",
       "      <td>6908</td>\n",
       "    </tr>\n",
       "    <tr>\n",
       "      <td>December</td>\n",
       "      <td>19345</td>\n",
       "    </tr>\n",
       "    <tr>\n",
       "      <td>November</td>\n",
       "      <td>18477</td>\n",
       "    </tr>\n",
       "    <tr>\n",
       "      <td>October</td>\n",
       "      <td>22308</td>\n",
       "    </tr>\n",
       "  </tbody>\n",
       "</table>\n",
       "</div>"
      ],
      "text/plain": [
       "                  mb_used\n",
       "user_id month            \n",
       "1000    December     1899\n",
       "1001    August       6908\n",
       "        December    19345\n",
       "        November    18477\n",
       "        October     22308"
      ]
     },
     "execution_count": 56,
     "metadata": {},
     "output_type": "execute_result"
    }
   ],
   "source": [
    "# the internet usage per user per month\n",
    "internet_per_month = internet.groupby(['user_id', 'month']).agg({'mb_used': 'sum'})\n",
    "internet_per_month.head()"
   ]
  },
  {
   "cell_type": "code",
   "execution_count": 57,
   "metadata": {
    "scrolled": true
   },
   "outputs": [
    {
     "data": {
      "text/html": [
       "<div>\n",
       "<style scoped>\n",
       "    .dataframe tbody tr th:only-of-type {\n",
       "        vertical-align: middle;\n",
       "    }\n",
       "\n",
       "    .dataframe tbody tr th {\n",
       "        vertical-align: top;\n",
       "    }\n",
       "\n",
       "    .dataframe thead th {\n",
       "        text-align: right;\n",
       "    }\n",
       "</style>\n",
       "<table border=\"1\" class=\"dataframe\">\n",
       "  <thead>\n",
       "    <tr style=\"text-align: right;\">\n",
       "      <th></th>\n",
       "      <th>mb_used</th>\n",
       "    </tr>\n",
       "  </thead>\n",
       "  <tbody>\n",
       "    <tr>\n",
       "      <td>count</td>\n",
       "      <td>2277.000000</td>\n",
       "    </tr>\n",
       "    <tr>\n",
       "      <td>mean</td>\n",
       "      <td>16862.373737</td>\n",
       "    </tr>\n",
       "    <tr>\n",
       "      <td>std</td>\n",
       "      <td>7862.208770</td>\n",
       "    </tr>\n",
       "    <tr>\n",
       "      <td>min</td>\n",
       "      <td>92.000000</td>\n",
       "    </tr>\n",
       "    <tr>\n",
       "      <td>25%</td>\n",
       "      <td>12333.000000</td>\n",
       "    </tr>\n",
       "    <tr>\n",
       "      <td>50%</td>\n",
       "      <td>16849.000000</td>\n",
       "    </tr>\n",
       "    <tr>\n",
       "      <td>75%</td>\n",
       "      <td>21016.000000</td>\n",
       "    </tr>\n",
       "    <tr>\n",
       "      <td>max</td>\n",
       "      <td>70866.000000</td>\n",
       "    </tr>\n",
       "  </tbody>\n",
       "</table>\n",
       "</div>"
      ],
      "text/plain": [
       "            mb_used\n",
       "count   2277.000000\n",
       "mean   16862.373737\n",
       "std     7862.208770\n",
       "min       92.000000\n",
       "25%    12333.000000\n",
       "50%    16849.000000\n",
       "75%    21016.000000\n",
       "max    70866.000000"
      ]
     },
     "execution_count": 57,
     "metadata": {},
     "output_type": "execute_result"
    }
   ],
   "source": [
    "internet_per_month.describe()"
   ]
  },
  {
   "cell_type": "markdown",
   "metadata": {},
   "source": [
    "We can see the minimum internet usage is 92MB per month and the maximum internet usage is 70866MB per month. The mean value is 16862MB per month. "
   ]
  },
  {
   "cell_type": "markdown",
   "metadata": {},
   "source": [
    "#### Monthly revenue / user"
   ]
  },
  {
   "cell_type": "code",
   "execution_count": 58,
   "metadata": {},
   "outputs": [
    {
     "data": {
      "text/html": [
       "<div>\n",
       "<style scoped>\n",
       "    .dataframe tbody tr th:only-of-type {\n",
       "        vertical-align: middle;\n",
       "    }\n",
       "\n",
       "    .dataframe tbody tr th {\n",
       "        vertical-align: top;\n",
       "    }\n",
       "\n",
       "    .dataframe thead th {\n",
       "        text-align: right;\n",
       "    }\n",
       "</style>\n",
       "<table border=\"1\" class=\"dataframe\">\n",
       "  <thead>\n",
       "    <tr style=\"text-align: right;\">\n",
       "      <th></th>\n",
       "      <th>user_id</th>\n",
       "      <th>month</th>\n",
       "      <th>id</th>\n",
       "      <th>duration</th>\n",
       "      <th>id</th>\n",
       "      <th>mb_used</th>\n",
       "    </tr>\n",
       "  </thead>\n",
       "  <tbody>\n",
       "    <tr>\n",
       "      <td>0</td>\n",
       "      <td>1000</td>\n",
       "      <td>December</td>\n",
       "      <td>16.0</td>\n",
       "      <td>108.0</td>\n",
       "      <td>11.0</td>\n",
       "      <td>1899.0</td>\n",
       "    </tr>\n",
       "    <tr>\n",
       "      <td>1</td>\n",
       "      <td>1001</td>\n",
       "      <td>August</td>\n",
       "      <td>27.0</td>\n",
       "      <td>160.0</td>\n",
       "      <td>30.0</td>\n",
       "      <td>6908.0</td>\n",
       "    </tr>\n",
       "    <tr>\n",
       "      <td>2</td>\n",
       "      <td>1001</td>\n",
       "      <td>December</td>\n",
       "      <td>56.0</td>\n",
       "      <td>368.0</td>\n",
       "      <td>44.0</td>\n",
       "      <td>19345.0</td>\n",
       "    </tr>\n",
       "    <tr>\n",
       "      <td>3</td>\n",
       "      <td>1001</td>\n",
       "      <td>November</td>\n",
       "      <td>64.0</td>\n",
       "      <td>379.0</td>\n",
       "      <td>36.0</td>\n",
       "      <td>18477.0</td>\n",
       "    </tr>\n",
       "    <tr>\n",
       "      <td>4</td>\n",
       "      <td>1001</td>\n",
       "      <td>October</td>\n",
       "      <td>65.0</td>\n",
       "      <td>348.0</td>\n",
       "      <td>53.0</td>\n",
       "      <td>22308.0</td>\n",
       "    </tr>\n",
       "  </tbody>\n",
       "</table>\n",
       "</div>"
      ],
      "text/plain": [
       "   user_id     month    id  duration    id  mb_used\n",
       "0     1000  December  16.0     108.0  11.0   1899.0\n",
       "1     1001    August  27.0     160.0  30.0   6908.0\n",
       "2     1001  December  56.0     368.0  44.0  19345.0\n",
       "3     1001  November  64.0     379.0  36.0  18477.0\n",
       "4     1001   October  65.0     348.0  53.0  22308.0"
      ]
     },
     "execution_count": 58,
     "metadata": {},
     "output_type": "execute_result"
    }
   ],
   "source": [
    "# combine above dataframes into one dataframe\n",
    "agg = pd.concat([calls_per_month, minute_per_month, msgs_per_month, internet_per_month], axis = 1).reset_index().fillna(0)\n",
    "agg.head()"
   ]
  },
  {
   "cell_type": "code",
   "execution_count": 59,
   "metadata": {},
   "outputs": [
    {
     "data": {
      "text/html": [
       "<div>\n",
       "<style scoped>\n",
       "    .dataframe tbody tr th:only-of-type {\n",
       "        vertical-align: middle;\n",
       "    }\n",
       "\n",
       "    .dataframe tbody tr th {\n",
       "        vertical-align: top;\n",
       "    }\n",
       "\n",
       "    .dataframe thead th {\n",
       "        text-align: right;\n",
       "    }\n",
       "</style>\n",
       "<table border=\"1\" class=\"dataframe\">\n",
       "  <thead>\n",
       "    <tr style=\"text-align: right;\">\n",
       "      <th></th>\n",
       "      <th>user_id</th>\n",
       "      <th>month</th>\n",
       "      <th>calls_number</th>\n",
       "      <th>calls_duration</th>\n",
       "      <th>message_number</th>\n",
       "      <th>mb_used</th>\n",
       "    </tr>\n",
       "  </thead>\n",
       "  <tbody>\n",
       "    <tr>\n",
       "      <td>0</td>\n",
       "      <td>1000</td>\n",
       "      <td>December</td>\n",
       "      <td>16.0</td>\n",
       "      <td>108.0</td>\n",
       "      <td>11.0</td>\n",
       "      <td>1899.0</td>\n",
       "    </tr>\n",
       "    <tr>\n",
       "      <td>1</td>\n",
       "      <td>1001</td>\n",
       "      <td>August</td>\n",
       "      <td>27.0</td>\n",
       "      <td>160.0</td>\n",
       "      <td>30.0</td>\n",
       "      <td>6908.0</td>\n",
       "    </tr>\n",
       "    <tr>\n",
       "      <td>2</td>\n",
       "      <td>1001</td>\n",
       "      <td>December</td>\n",
       "      <td>56.0</td>\n",
       "      <td>368.0</td>\n",
       "      <td>44.0</td>\n",
       "      <td>19345.0</td>\n",
       "    </tr>\n",
       "    <tr>\n",
       "      <td>3</td>\n",
       "      <td>1001</td>\n",
       "      <td>November</td>\n",
       "      <td>64.0</td>\n",
       "      <td>379.0</td>\n",
       "      <td>36.0</td>\n",
       "      <td>18477.0</td>\n",
       "    </tr>\n",
       "    <tr>\n",
       "      <td>4</td>\n",
       "      <td>1001</td>\n",
       "      <td>October</td>\n",
       "      <td>65.0</td>\n",
       "      <td>348.0</td>\n",
       "      <td>53.0</td>\n",
       "      <td>22308.0</td>\n",
       "    </tr>\n",
       "  </tbody>\n",
       "</table>\n",
       "</div>"
      ],
      "text/plain": [
       "   user_id     month  calls_number  calls_duration  message_number  mb_used\n",
       "0     1000  December          16.0           108.0            11.0   1899.0\n",
       "1     1001    August          27.0           160.0            30.0   6908.0\n",
       "2     1001  December          56.0           368.0            44.0  19345.0\n",
       "3     1001  November          64.0           379.0            36.0  18477.0\n",
       "4     1001   October          65.0           348.0            53.0  22308.0"
      ]
     },
     "execution_count": 59,
     "metadata": {},
     "output_type": "execute_result"
    }
   ],
   "source": [
    "# reset column names\n",
    "agg.columns = ['user_id','month', 'calls_number', 'calls_duration', 'message_number', 'mb_used']\n",
    "agg.head()"
   ]
  },
  {
   "cell_type": "code",
   "execution_count": 60,
   "metadata": {},
   "outputs": [
    {
     "data": {
      "text/html": [
       "<div>\n",
       "<style scoped>\n",
       "    .dataframe tbody tr th:only-of-type {\n",
       "        vertical-align: middle;\n",
       "    }\n",
       "\n",
       "    .dataframe tbody tr th {\n",
       "        vertical-align: top;\n",
       "    }\n",
       "\n",
       "    .dataframe thead th {\n",
       "        text-align: right;\n",
       "    }\n",
       "</style>\n",
       "<table border=\"1\" class=\"dataframe\">\n",
       "  <thead>\n",
       "    <tr style=\"text-align: right;\">\n",
       "      <th></th>\n",
       "      <th>user_id</th>\n",
       "      <th>month</th>\n",
       "      <th>calls_number</th>\n",
       "      <th>calls_duration</th>\n",
       "      <th>message_number</th>\n",
       "      <th>mb_used</th>\n",
       "      <th>first_name</th>\n",
       "      <th>last_name</th>\n",
       "      <th>age</th>\n",
       "      <th>city</th>\n",
       "      <th>reg_date</th>\n",
       "      <th>plan</th>\n",
       "      <th>churn_date</th>\n",
       "      <th>churn</th>\n",
       "    </tr>\n",
       "  </thead>\n",
       "  <tbody>\n",
       "    <tr>\n",
       "      <td>0</td>\n",
       "      <td>1000</td>\n",
       "      <td>December</td>\n",
       "      <td>16.0</td>\n",
       "      <td>108.0</td>\n",
       "      <td>11.0</td>\n",
       "      <td>1899.0</td>\n",
       "      <td>Anamaria</td>\n",
       "      <td>Bauer</td>\n",
       "      <td>45</td>\n",
       "      <td>Atlanta-Sandy Springs-Roswell, GA MSA</td>\n",
       "      <td>2018-12-24</td>\n",
       "      <td>ultimate</td>\n",
       "      <td>NaN</td>\n",
       "      <td>No</td>\n",
       "    </tr>\n",
       "    <tr>\n",
       "      <td>1</td>\n",
       "      <td>1001</td>\n",
       "      <td>August</td>\n",
       "      <td>27.0</td>\n",
       "      <td>160.0</td>\n",
       "      <td>30.0</td>\n",
       "      <td>6908.0</td>\n",
       "      <td>Mickey</td>\n",
       "      <td>Wilkerson</td>\n",
       "      <td>28</td>\n",
       "      <td>Seattle-Tacoma-Bellevue, WA MSA</td>\n",
       "      <td>2018-08-13</td>\n",
       "      <td>surf</td>\n",
       "      <td>NaN</td>\n",
       "      <td>No</td>\n",
       "    </tr>\n",
       "    <tr>\n",
       "      <td>2</td>\n",
       "      <td>1001</td>\n",
       "      <td>December</td>\n",
       "      <td>56.0</td>\n",
       "      <td>368.0</td>\n",
       "      <td>44.0</td>\n",
       "      <td>19345.0</td>\n",
       "      <td>Mickey</td>\n",
       "      <td>Wilkerson</td>\n",
       "      <td>28</td>\n",
       "      <td>Seattle-Tacoma-Bellevue, WA MSA</td>\n",
       "      <td>2018-08-13</td>\n",
       "      <td>surf</td>\n",
       "      <td>NaN</td>\n",
       "      <td>No</td>\n",
       "    </tr>\n",
       "    <tr>\n",
       "      <td>3</td>\n",
       "      <td>1001</td>\n",
       "      <td>November</td>\n",
       "      <td>64.0</td>\n",
       "      <td>379.0</td>\n",
       "      <td>36.0</td>\n",
       "      <td>18477.0</td>\n",
       "      <td>Mickey</td>\n",
       "      <td>Wilkerson</td>\n",
       "      <td>28</td>\n",
       "      <td>Seattle-Tacoma-Bellevue, WA MSA</td>\n",
       "      <td>2018-08-13</td>\n",
       "      <td>surf</td>\n",
       "      <td>NaN</td>\n",
       "      <td>No</td>\n",
       "    </tr>\n",
       "    <tr>\n",
       "      <td>4</td>\n",
       "      <td>1001</td>\n",
       "      <td>October</td>\n",
       "      <td>65.0</td>\n",
       "      <td>348.0</td>\n",
       "      <td>53.0</td>\n",
       "      <td>22308.0</td>\n",
       "      <td>Mickey</td>\n",
       "      <td>Wilkerson</td>\n",
       "      <td>28</td>\n",
       "      <td>Seattle-Tacoma-Bellevue, WA MSA</td>\n",
       "      <td>2018-08-13</td>\n",
       "      <td>surf</td>\n",
       "      <td>NaN</td>\n",
       "      <td>No</td>\n",
       "    </tr>\n",
       "  </tbody>\n",
       "</table>\n",
       "</div>"
      ],
      "text/plain": [
       "   user_id     month  calls_number  calls_duration  message_number  mb_used  \\\n",
       "0     1000  December          16.0           108.0            11.0   1899.0   \n",
       "1     1001    August          27.0           160.0            30.0   6908.0   \n",
       "2     1001  December          56.0           368.0            44.0  19345.0   \n",
       "3     1001  November          64.0           379.0            36.0  18477.0   \n",
       "4     1001   October          65.0           348.0            53.0  22308.0   \n",
       "\n",
       "  first_name  last_name  age                                   city  \\\n",
       "0   Anamaria      Bauer   45  Atlanta-Sandy Springs-Roswell, GA MSA   \n",
       "1     Mickey  Wilkerson   28        Seattle-Tacoma-Bellevue, WA MSA   \n",
       "2     Mickey  Wilkerson   28        Seattle-Tacoma-Bellevue, WA MSA   \n",
       "3     Mickey  Wilkerson   28        Seattle-Tacoma-Bellevue, WA MSA   \n",
       "4     Mickey  Wilkerson   28        Seattle-Tacoma-Bellevue, WA MSA   \n",
       "\n",
       "    reg_date      plan churn_date churn  \n",
       "0 2018-12-24  ultimate        NaN    No  \n",
       "1 2018-08-13      surf        NaN    No  \n",
       "2 2018-08-13      surf        NaN    No  \n",
       "3 2018-08-13      surf        NaN    No  \n",
       "4 2018-08-13      surf        NaN    No  "
      ]
     },
     "execution_count": 60,
     "metadata": {},
     "output_type": "execute_result"
    }
   ],
   "source": [
    "# combine the data with user dataframe\n",
    "pd.set_option('display.max_columns', None)\n",
    "agg = agg.join(users.set_index('user_id'), on = 'user_id')\n",
    "agg.head()"
   ]
  },
  {
   "cell_type": "code",
   "execution_count": 61,
   "metadata": {},
   "outputs": [
    {
     "data": {
      "text/html": [
       "<div>\n",
       "<style scoped>\n",
       "    .dataframe tbody tr th:only-of-type {\n",
       "        vertical-align: middle;\n",
       "    }\n",
       "\n",
       "    .dataframe tbody tr th {\n",
       "        vertical-align: top;\n",
       "    }\n",
       "\n",
       "    .dataframe thead th {\n",
       "        text-align: right;\n",
       "    }\n",
       "</style>\n",
       "<table border=\"1\" class=\"dataframe\">\n",
       "  <thead>\n",
       "    <tr style=\"text-align: right;\">\n",
       "      <th></th>\n",
       "      <th>user_id</th>\n",
       "      <th>month</th>\n",
       "      <th>calls_number</th>\n",
       "      <th>calls_duration</th>\n",
       "      <th>message_number</th>\n",
       "      <th>mb_used</th>\n",
       "      <th>first_name</th>\n",
       "      <th>last_name</th>\n",
       "      <th>age</th>\n",
       "      <th>city</th>\n",
       "      <th>reg_date</th>\n",
       "      <th>plan</th>\n",
       "      <th>churn_date</th>\n",
       "      <th>churn</th>\n",
       "      <th>messages_included</th>\n",
       "      <th>data_volume_per_month</th>\n",
       "      <th>minutes_included</th>\n",
       "      <th>monthly_pay</th>\n",
       "      <th>price_per_gb</th>\n",
       "      <th>price_per_msg</th>\n",
       "      <th>price_per_minute</th>\n",
       "    </tr>\n",
       "  </thead>\n",
       "  <tbody>\n",
       "    <tr>\n",
       "      <td>0</td>\n",
       "      <td>1000</td>\n",
       "      <td>December</td>\n",
       "      <td>16.0</td>\n",
       "      <td>108.0</td>\n",
       "      <td>11.0</td>\n",
       "      <td>1899.0</td>\n",
       "      <td>Anamaria</td>\n",
       "      <td>Bauer</td>\n",
       "      <td>45</td>\n",
       "      <td>Atlanta-Sandy Springs-Roswell, GA MSA</td>\n",
       "      <td>2018-12-24</td>\n",
       "      <td>ultimate</td>\n",
       "      <td>NaN</td>\n",
       "      <td>No</td>\n",
       "      <td>1000</td>\n",
       "      <td>30720</td>\n",
       "      <td>3000</td>\n",
       "      <td>70</td>\n",
       "      <td>7</td>\n",
       "      <td>0.01</td>\n",
       "      <td>0.01</td>\n",
       "    </tr>\n",
       "    <tr>\n",
       "      <td>1</td>\n",
       "      <td>1001</td>\n",
       "      <td>August</td>\n",
       "      <td>27.0</td>\n",
       "      <td>160.0</td>\n",
       "      <td>30.0</td>\n",
       "      <td>6908.0</td>\n",
       "      <td>Mickey</td>\n",
       "      <td>Wilkerson</td>\n",
       "      <td>28</td>\n",
       "      <td>Seattle-Tacoma-Bellevue, WA MSA</td>\n",
       "      <td>2018-08-13</td>\n",
       "      <td>surf</td>\n",
       "      <td>NaN</td>\n",
       "      <td>No</td>\n",
       "      <td>50</td>\n",
       "      <td>15360</td>\n",
       "      <td>500</td>\n",
       "      <td>20</td>\n",
       "      <td>10</td>\n",
       "      <td>0.03</td>\n",
       "      <td>0.03</td>\n",
       "    </tr>\n",
       "    <tr>\n",
       "      <td>2</td>\n",
       "      <td>1001</td>\n",
       "      <td>December</td>\n",
       "      <td>56.0</td>\n",
       "      <td>368.0</td>\n",
       "      <td>44.0</td>\n",
       "      <td>19345.0</td>\n",
       "      <td>Mickey</td>\n",
       "      <td>Wilkerson</td>\n",
       "      <td>28</td>\n",
       "      <td>Seattle-Tacoma-Bellevue, WA MSA</td>\n",
       "      <td>2018-08-13</td>\n",
       "      <td>surf</td>\n",
       "      <td>NaN</td>\n",
       "      <td>No</td>\n",
       "      <td>50</td>\n",
       "      <td>15360</td>\n",
       "      <td>500</td>\n",
       "      <td>20</td>\n",
       "      <td>10</td>\n",
       "      <td>0.03</td>\n",
       "      <td>0.03</td>\n",
       "    </tr>\n",
       "    <tr>\n",
       "      <td>3</td>\n",
       "      <td>1001</td>\n",
       "      <td>November</td>\n",
       "      <td>64.0</td>\n",
       "      <td>379.0</td>\n",
       "      <td>36.0</td>\n",
       "      <td>18477.0</td>\n",
       "      <td>Mickey</td>\n",
       "      <td>Wilkerson</td>\n",
       "      <td>28</td>\n",
       "      <td>Seattle-Tacoma-Bellevue, WA MSA</td>\n",
       "      <td>2018-08-13</td>\n",
       "      <td>surf</td>\n",
       "      <td>NaN</td>\n",
       "      <td>No</td>\n",
       "      <td>50</td>\n",
       "      <td>15360</td>\n",
       "      <td>500</td>\n",
       "      <td>20</td>\n",
       "      <td>10</td>\n",
       "      <td>0.03</td>\n",
       "      <td>0.03</td>\n",
       "    </tr>\n",
       "    <tr>\n",
       "      <td>4</td>\n",
       "      <td>1001</td>\n",
       "      <td>October</td>\n",
       "      <td>65.0</td>\n",
       "      <td>348.0</td>\n",
       "      <td>53.0</td>\n",
       "      <td>22308.0</td>\n",
       "      <td>Mickey</td>\n",
       "      <td>Wilkerson</td>\n",
       "      <td>28</td>\n",
       "      <td>Seattle-Tacoma-Bellevue, WA MSA</td>\n",
       "      <td>2018-08-13</td>\n",
       "      <td>surf</td>\n",
       "      <td>NaN</td>\n",
       "      <td>No</td>\n",
       "      <td>50</td>\n",
       "      <td>15360</td>\n",
       "      <td>500</td>\n",
       "      <td>20</td>\n",
       "      <td>10</td>\n",
       "      <td>0.03</td>\n",
       "      <td>0.03</td>\n",
       "    </tr>\n",
       "  </tbody>\n",
       "</table>\n",
       "</div>"
      ],
      "text/plain": [
       "   user_id     month  calls_number  calls_duration  message_number  mb_used  \\\n",
       "0     1000  December          16.0           108.0            11.0   1899.0   \n",
       "1     1001    August          27.0           160.0            30.0   6908.0   \n",
       "2     1001  December          56.0           368.0            44.0  19345.0   \n",
       "3     1001  November          64.0           379.0            36.0  18477.0   \n",
       "4     1001   October          65.0           348.0            53.0  22308.0   \n",
       "\n",
       "  first_name  last_name  age                                   city  \\\n",
       "0   Anamaria      Bauer   45  Atlanta-Sandy Springs-Roswell, GA MSA   \n",
       "1     Mickey  Wilkerson   28        Seattle-Tacoma-Bellevue, WA MSA   \n",
       "2     Mickey  Wilkerson   28        Seattle-Tacoma-Bellevue, WA MSA   \n",
       "3     Mickey  Wilkerson   28        Seattle-Tacoma-Bellevue, WA MSA   \n",
       "4     Mickey  Wilkerson   28        Seattle-Tacoma-Bellevue, WA MSA   \n",
       "\n",
       "    reg_date      plan churn_date churn  messages_included  \\\n",
       "0 2018-12-24  ultimate        NaN    No               1000   \n",
       "1 2018-08-13      surf        NaN    No                 50   \n",
       "2 2018-08-13      surf        NaN    No                 50   \n",
       "3 2018-08-13      surf        NaN    No                 50   \n",
       "4 2018-08-13      surf        NaN    No                 50   \n",
       "\n",
       "   data_volume_per_month  minutes_included  monthly_pay  price_per_gb  \\\n",
       "0                  30720              3000           70             7   \n",
       "1                  15360               500           20            10   \n",
       "2                  15360               500           20            10   \n",
       "3                  15360               500           20            10   \n",
       "4                  15360               500           20            10   \n",
       "\n",
       "   price_per_msg  price_per_minute  \n",
       "0           0.01              0.01  \n",
       "1           0.03              0.03  \n",
       "2           0.03              0.03  \n",
       "3           0.03              0.03  \n",
       "4           0.03              0.03  "
      ]
     },
     "execution_count": 61,
     "metadata": {},
     "output_type": "execute_result"
    }
   ],
   "source": [
    "# combine the data with plans dataframe\n",
    "agg = agg.join(plans.set_index('plan'), on = 'plan')\n",
    "agg.head()"
   ]
  },
  {
   "cell_type": "code",
   "execution_count": 62,
   "metadata": {},
   "outputs": [],
   "source": [
    "# calculate message cost per month \n",
    "agg['message_cost'] = (agg['message_number'] - agg['messages_included']) * agg['price_per_msg'] \n",
    "# if the message cost is negative, replace them with 0\n",
    "agg['message_cost'] = agg['message_cost'].clip(0, None)"
   ]
  },
  {
   "cell_type": "code",
   "execution_count": 63,
   "metadata": {},
   "outputs": [],
   "source": [
    "# calcualte call cost per month\n",
    "agg['call_cost'] = (agg['calls_duration'] - agg['minutes_included']) * agg['price_per_minute']\n",
    "# if the call cost is negative, replace them with 0\n",
    "agg['call_cost'] = agg['call_cost'].clip(0, None)"
   ]
  },
  {
   "cell_type": "code",
   "execution_count": 64,
   "metadata": {},
   "outputs": [],
   "source": [
    "# calculate internet cost per month\n",
    "agg['internet_cost'] = ((agg['mb_used'] - agg['data_volume_per_month']) / 1024) * agg['price_per_gb']\n",
    "# if the internet cost is negative, replace them with 0\n",
    "agg['internet_cost'] = agg['internet_cost'].clip(0, None)"
   ]
  },
  {
   "cell_type": "code",
   "execution_count": 65,
   "metadata": {},
   "outputs": [],
   "source": [
    "# calculate the revenue\n",
    "agg['revenue'] = agg['message_cost'] + agg['call_cost'] + agg['internet_cost'] + agg['monthly_pay']\n",
    "# round revenue to two decimal places\n",
    "agg['revenue'] = agg['revenue'].round(2)"
   ]
  },
  {
   "cell_type": "code",
   "execution_count": 66,
   "metadata": {
    "scrolled": true
   },
   "outputs": [
    {
     "data": {
      "text/html": [
       "<div>\n",
       "<style scoped>\n",
       "    .dataframe tbody tr th:only-of-type {\n",
       "        vertical-align: middle;\n",
       "    }\n",
       "\n",
       "    .dataframe tbody tr th {\n",
       "        vertical-align: top;\n",
       "    }\n",
       "\n",
       "    .dataframe thead th {\n",
       "        text-align: right;\n",
       "    }\n",
       "</style>\n",
       "<table border=\"1\" class=\"dataframe\">\n",
       "  <thead>\n",
       "    <tr style=\"text-align: right;\">\n",
       "      <th></th>\n",
       "      <th>user_id</th>\n",
       "      <th>month</th>\n",
       "      <th>calls_number</th>\n",
       "      <th>calls_duration</th>\n",
       "      <th>message_number</th>\n",
       "      <th>mb_used</th>\n",
       "      <th>first_name</th>\n",
       "      <th>last_name</th>\n",
       "      <th>age</th>\n",
       "      <th>city</th>\n",
       "      <th>reg_date</th>\n",
       "      <th>plan</th>\n",
       "      <th>churn_date</th>\n",
       "      <th>churn</th>\n",
       "      <th>messages_included</th>\n",
       "      <th>data_volume_per_month</th>\n",
       "      <th>minutes_included</th>\n",
       "      <th>monthly_pay</th>\n",
       "      <th>price_per_gb</th>\n",
       "      <th>price_per_msg</th>\n",
       "      <th>price_per_minute</th>\n",
       "      <th>message_cost</th>\n",
       "      <th>call_cost</th>\n",
       "      <th>internet_cost</th>\n",
       "      <th>revenue</th>\n",
       "    </tr>\n",
       "  </thead>\n",
       "  <tbody>\n",
       "    <tr>\n",
       "      <td>0</td>\n",
       "      <td>1000</td>\n",
       "      <td>December</td>\n",
       "      <td>16.0</td>\n",
       "      <td>108.0</td>\n",
       "      <td>11.0</td>\n",
       "      <td>1899.0</td>\n",
       "      <td>Anamaria</td>\n",
       "      <td>Bauer</td>\n",
       "      <td>45</td>\n",
       "      <td>Atlanta-Sandy Springs-Roswell, GA MSA</td>\n",
       "      <td>2018-12-24</td>\n",
       "      <td>ultimate</td>\n",
       "      <td>NaN</td>\n",
       "      <td>No</td>\n",
       "      <td>1000</td>\n",
       "      <td>30720</td>\n",
       "      <td>3000</td>\n",
       "      <td>70</td>\n",
       "      <td>7</td>\n",
       "      <td>0.01</td>\n",
       "      <td>0.01</td>\n",
       "      <td>0.00</td>\n",
       "      <td>0.0</td>\n",
       "      <td>0.000000</td>\n",
       "      <td>70.00</td>\n",
       "    </tr>\n",
       "    <tr>\n",
       "      <td>1</td>\n",
       "      <td>1001</td>\n",
       "      <td>August</td>\n",
       "      <td>27.0</td>\n",
       "      <td>160.0</td>\n",
       "      <td>30.0</td>\n",
       "      <td>6908.0</td>\n",
       "      <td>Mickey</td>\n",
       "      <td>Wilkerson</td>\n",
       "      <td>28</td>\n",
       "      <td>Seattle-Tacoma-Bellevue, WA MSA</td>\n",
       "      <td>2018-08-13</td>\n",
       "      <td>surf</td>\n",
       "      <td>NaN</td>\n",
       "      <td>No</td>\n",
       "      <td>50</td>\n",
       "      <td>15360</td>\n",
       "      <td>500</td>\n",
       "      <td>20</td>\n",
       "      <td>10</td>\n",
       "      <td>0.03</td>\n",
       "      <td>0.03</td>\n",
       "      <td>0.00</td>\n",
       "      <td>0.0</td>\n",
       "      <td>0.000000</td>\n",
       "      <td>20.00</td>\n",
       "    </tr>\n",
       "    <tr>\n",
       "      <td>2</td>\n",
       "      <td>1001</td>\n",
       "      <td>December</td>\n",
       "      <td>56.0</td>\n",
       "      <td>368.0</td>\n",
       "      <td>44.0</td>\n",
       "      <td>19345.0</td>\n",
       "      <td>Mickey</td>\n",
       "      <td>Wilkerson</td>\n",
       "      <td>28</td>\n",
       "      <td>Seattle-Tacoma-Bellevue, WA MSA</td>\n",
       "      <td>2018-08-13</td>\n",
       "      <td>surf</td>\n",
       "      <td>NaN</td>\n",
       "      <td>No</td>\n",
       "      <td>50</td>\n",
       "      <td>15360</td>\n",
       "      <td>500</td>\n",
       "      <td>20</td>\n",
       "      <td>10</td>\n",
       "      <td>0.03</td>\n",
       "      <td>0.03</td>\n",
       "      <td>0.00</td>\n",
       "      <td>0.0</td>\n",
       "      <td>38.916016</td>\n",
       "      <td>58.92</td>\n",
       "    </tr>\n",
       "    <tr>\n",
       "      <td>3</td>\n",
       "      <td>1001</td>\n",
       "      <td>November</td>\n",
       "      <td>64.0</td>\n",
       "      <td>379.0</td>\n",
       "      <td>36.0</td>\n",
       "      <td>18477.0</td>\n",
       "      <td>Mickey</td>\n",
       "      <td>Wilkerson</td>\n",
       "      <td>28</td>\n",
       "      <td>Seattle-Tacoma-Bellevue, WA MSA</td>\n",
       "      <td>2018-08-13</td>\n",
       "      <td>surf</td>\n",
       "      <td>NaN</td>\n",
       "      <td>No</td>\n",
       "      <td>50</td>\n",
       "      <td>15360</td>\n",
       "      <td>500</td>\n",
       "      <td>20</td>\n",
       "      <td>10</td>\n",
       "      <td>0.03</td>\n",
       "      <td>0.03</td>\n",
       "      <td>0.00</td>\n",
       "      <td>0.0</td>\n",
       "      <td>30.439453</td>\n",
       "      <td>50.44</td>\n",
       "    </tr>\n",
       "    <tr>\n",
       "      <td>4</td>\n",
       "      <td>1001</td>\n",
       "      <td>October</td>\n",
       "      <td>65.0</td>\n",
       "      <td>348.0</td>\n",
       "      <td>53.0</td>\n",
       "      <td>22308.0</td>\n",
       "      <td>Mickey</td>\n",
       "      <td>Wilkerson</td>\n",
       "      <td>28</td>\n",
       "      <td>Seattle-Tacoma-Bellevue, WA MSA</td>\n",
       "      <td>2018-08-13</td>\n",
       "      <td>surf</td>\n",
       "      <td>NaN</td>\n",
       "      <td>No</td>\n",
       "      <td>50</td>\n",
       "      <td>15360</td>\n",
       "      <td>500</td>\n",
       "      <td>20</td>\n",
       "      <td>10</td>\n",
       "      <td>0.03</td>\n",
       "      <td>0.03</td>\n",
       "      <td>0.09</td>\n",
       "      <td>0.0</td>\n",
       "      <td>67.851562</td>\n",
       "      <td>87.94</td>\n",
       "    </tr>\n",
       "  </tbody>\n",
       "</table>\n",
       "</div>"
      ],
      "text/plain": [
       "   user_id     month  calls_number  calls_duration  message_number  mb_used  \\\n",
       "0     1000  December          16.0           108.0            11.0   1899.0   \n",
       "1     1001    August          27.0           160.0            30.0   6908.0   \n",
       "2     1001  December          56.0           368.0            44.0  19345.0   \n",
       "3     1001  November          64.0           379.0            36.0  18477.0   \n",
       "4     1001   October          65.0           348.0            53.0  22308.0   \n",
       "\n",
       "  first_name  last_name  age                                   city  \\\n",
       "0   Anamaria      Bauer   45  Atlanta-Sandy Springs-Roswell, GA MSA   \n",
       "1     Mickey  Wilkerson   28        Seattle-Tacoma-Bellevue, WA MSA   \n",
       "2     Mickey  Wilkerson   28        Seattle-Tacoma-Bellevue, WA MSA   \n",
       "3     Mickey  Wilkerson   28        Seattle-Tacoma-Bellevue, WA MSA   \n",
       "4     Mickey  Wilkerson   28        Seattle-Tacoma-Bellevue, WA MSA   \n",
       "\n",
       "    reg_date      plan churn_date churn  messages_included  \\\n",
       "0 2018-12-24  ultimate        NaN    No               1000   \n",
       "1 2018-08-13      surf        NaN    No                 50   \n",
       "2 2018-08-13      surf        NaN    No                 50   \n",
       "3 2018-08-13      surf        NaN    No                 50   \n",
       "4 2018-08-13      surf        NaN    No                 50   \n",
       "\n",
       "   data_volume_per_month  minutes_included  monthly_pay  price_per_gb  \\\n",
       "0                  30720              3000           70             7   \n",
       "1                  15360               500           20            10   \n",
       "2                  15360               500           20            10   \n",
       "3                  15360               500           20            10   \n",
       "4                  15360               500           20            10   \n",
       "\n",
       "   price_per_msg  price_per_minute  message_cost  call_cost  internet_cost  \\\n",
       "0           0.01              0.01          0.00        0.0       0.000000   \n",
       "1           0.03              0.03          0.00        0.0       0.000000   \n",
       "2           0.03              0.03          0.00        0.0      38.916016   \n",
       "3           0.03              0.03          0.00        0.0      30.439453   \n",
       "4           0.03              0.03          0.09        0.0      67.851562   \n",
       "\n",
       "   revenue  \n",
       "0    70.00  \n",
       "1    20.00  \n",
       "2    58.92  \n",
       "3    50.44  \n",
       "4    87.94  "
      ]
     },
     "execution_count": 66,
     "metadata": {},
     "output_type": "execute_result"
    }
   ],
   "source": [
    "agg.head()"
   ]
  },
  {
   "cell_type": "markdown",
   "metadata": {},
   "source": [
    "Now our data is ready for analyzing."
   ]
  },
  {
   "cell_type": "markdown",
   "metadata": {},
   "source": [
    "## Analyze the data"
   ]
  },
  {
   "cell_type": "markdown",
   "metadata": {},
   "source": [
    "### Histograms"
   ]
  },
  {
   "cell_type": "markdown",
   "metadata": {},
   "source": [
    "Plots of `calls_number`, `calls_duration`, `message_number`, `mb_used`, `plan`, `message_cost`, `call_cost`, `internet_cost`, and `revenue`."
   ]
  },
  {
   "cell_type": "markdown",
   "metadata": {},
   "source": [
    "#### Number of calls"
   ]
  },
  {
   "cell_type": "code",
   "execution_count": 67,
   "metadata": {},
   "outputs": [
    {
     "data": {
      "image/png": "[encoded data removed]",
      "text/plain": [
       "<Figure size 432x288 with 1 Axes>"
      ]
     },
     "metadata": {
      "needs_background": "light"
     },
     "output_type": "display_data"
    }
   ],
   "source": [
    "# plot a histogram of calls number. \n",
    "agg['calls_number'].hist(bins=50, range = [0, 400], alpha = 0.6)\n",
    "# add title and axis names\n",
    "plt.xlabel('Calls made')\n",
    "plt.ylabel('Frequency')\n",
    "plt.title(\"Histogram of number of calls\");"
   ]
  },
  {
   "cell_type": "code",
   "execution_count": 68,
   "metadata": {},
   "outputs": [
    {
     "data": {
      "text/plain": [
       "count    2293.000000\n",
       "mean       60.067597\n",
       "std        32.402563\n",
       "min         0.000000\n",
       "25%        38.000000\n",
       "50%        60.000000\n",
       "75%        79.000000\n",
       "max       205.000000\n",
       "Name: calls_number, dtype: float64"
      ]
     },
     "execution_count": 68,
     "metadata": {},
     "output_type": "execute_result"
    }
   ],
   "source": [
    "# statistics of 'calls_number'\n",
    "agg['calls_number'].describe()"
   ]
  },
  {
   "cell_type": "markdown",
   "metadata": {},
   "source": [
    "The mean value is 60, the minimum and maximum values are 0 and 205 respectively. The histogram is skewed right, there are some outliers exists. "
   ]
  },
  {
   "cell_type": "markdown",
   "metadata": {},
   "source": [
    "#### Calls duration"
   ]
  },
  {
   "cell_type": "code",
   "execution_count": 69,
   "metadata": {},
   "outputs": [
    {
     "data": {
      "image/png": "[encoded data removed]",
      "text/plain": [
       "<Figure size 432x288 with 1 Axes>"
      ]
     },
     "metadata": {
      "needs_background": "light"
     },
     "output_type": "display_data"
    }
   ],
   "source": [
    "# plot a histogram of calls duration. \n",
    "agg['calls_duration'].hist(bins=50, range = [0, 2000], alpha = 0.6)\n",
    "# add title and axis names\n",
    "plt.xlabel('Calls duration')\n",
    "plt.ylabel('Frequency')\n",
    "plt.title(\"Histogram of calls duration\");"
   ]
  },
  {
   "cell_type": "code",
   "execution_count": 70,
   "metadata": {},
   "outputs": [
    {
     "data": {
      "text/plain": [
       "count    2293.000000\n",
       "mean      381.428696\n",
       "std       210.719148\n",
       "min         0.000000\n",
       "25%       234.000000\n",
       "50%       376.000000\n",
       "75%       508.000000\n",
       "max      1344.000000\n",
       "Name: calls_duration, dtype: float64"
      ]
     },
     "execution_count": 70,
     "metadata": {},
     "output_type": "execute_result"
    }
   ],
   "source": [
    "agg['calls_duration'].describe()"
   ]
  },
  {
   "cell_type": "markdown",
   "metadata": {},
   "source": [
    "The mean value is 381 minutes. The minimum and maximum value is 0 and 1344 minutes respectively. The histogram is skewed right, there are some outliers exist. "
   ]
  },
  {
   "cell_type": "markdown",
   "metadata": {},
   "source": [
    "#### Number of text messages"
   ]
  },
  {
   "cell_type": "code",
   "execution_count": 71,
   "metadata": {},
   "outputs": [
    {
     "data": {
      "image/png": "[encoded data removed]",
      "text/plain": [
       "<Figure size 432x288 with 1 Axes>"
      ]
     },
     "metadata": {
      "needs_background": "light"
     },
     "output_type": "display_data"
    }
   ],
   "source": [
    "# plot a histogram of text message number. \n",
    "agg['message_number'].hist(bins=50, range = [0, 400], alpha = 0.6)\n",
    "# add title and axis names\n",
    "plt.xlabel('Text Message Number')\n",
    "plt.ylabel('Frequency')\n",
    "plt.title(\"Histogram of text message\");"
   ]
  },
  {
   "cell_type": "code",
   "execution_count": 72,
   "metadata": {},
   "outputs": [
    {
     "data": {
      "text/plain": [
       "count    2293.000000\n",
       "mean       33.166594\n",
       "std        34.070085\n",
       "min         0.000000\n",
       "25%         3.000000\n",
       "50%        26.000000\n",
       "75%        51.000000\n",
       "max       266.000000\n",
       "Name: message_number, dtype: float64"
      ]
     },
     "execution_count": 72,
     "metadata": {},
     "output_type": "execute_result"
    }
   ],
   "source": [
    "agg['message_number'].describe()"
   ]
  },
  {
   "cell_type": "markdown",
   "metadata": {},
   "source": [
    "The mean value is 33 messages. The minimum and maximum values are 0 and 266 messages. The histogram is skewed right, meaning there are some outliers exist."
   ]
  },
  {
   "cell_type": "markdown",
   "metadata": {},
   "source": [
    "#### Internet Usage"
   ]
  },
  {
   "cell_type": "code",
   "execution_count": 73,
   "metadata": {},
   "outputs": [
    {
     "data": {
      "image/png": "[encoded data removed]",
      "text/plain": [
       "<Figure size 432x288 with 1 Axes>"
      ]
     },
     "metadata": {
      "needs_background": "light"
     },
     "output_type": "display_data"
    }
   ],
   "source": [
    "# plot a histogram of internet usage. \n",
    "agg['mb_used'].hist(bins = 50, range = [0, 100000], alpha = 0.6)\n",
    "# add title and axis names\n",
    "plt.xlabel('MB Used')\n",
    "plt.ylabel('Frequency')\n",
    "plt.title(\"Histogram of internet usage\");"
   ]
  },
  {
   "cell_type": "code",
   "execution_count": 74,
   "metadata": {},
   "outputs": [
    {
     "data": {
      "text/plain": [
       "count     2293.000000\n",
       "mean     16744.712167\n",
       "std       7959.515177\n",
       "min          0.000000\n",
       "25%      12217.000000\n",
       "50%      16808.000000\n",
       "75%      20977.000000\n",
       "max      70866.000000\n",
       "Name: mb_used, dtype: float64"
      ]
     },
     "execution_count": 74,
     "metadata": {},
     "output_type": "execute_result"
    }
   ],
   "source": [
    "agg['mb_used'].describe()"
   ]
  },
  {
   "cell_type": "markdown",
   "metadata": {},
   "source": [
    "The mean value is 16744 MB. The minimum and maximum values are 0 and 70866 MB respectively. The histogram is skewed right, meaning there are some outliers exist."
   ]
  },
  {
   "cell_type": "markdown",
   "metadata": {},
   "source": [
    "#### Plans"
   ]
  },
  {
   "cell_type": "code",
   "execution_count": 75,
   "metadata": {
    "scrolled": true
   },
   "outputs": [
    {
     "data": {
      "image/png": "[encoded data removed]",
      "text/plain": [
       "<Figure size 432x288 with 1 Axes>"
      ]
     },
     "metadata": {
      "needs_background": "light"
     },
     "output_type": "display_data"
    }
   ],
   "source": [
    "# Histogram for plans\n",
    "agg['plan'].value_counts().plot(kind = 'bar', alpha = 0.6)\n",
    "# add title and axis names\n",
    "plt.xlabel('Plan')\n",
    "plt.ylabel('Frequency')\n",
    "plt.title(\"Histogram of plan\");"
   ]
  },
  {
   "cell_type": "markdown",
   "metadata": {},
   "source": [
    "We observed that surf plan as more users than ultimate plan. "
   ]
  },
  {
   "cell_type": "markdown",
   "metadata": {},
   "source": [
    "#### Message Cost"
   ]
  },
  {
   "cell_type": "code",
   "execution_count": 76,
   "metadata": {},
   "outputs": [
    {
     "data": {
      "image/png": "[encoded data removed]",
      "text/plain": [
       "<Figure size 432x288 with 1 Axes>"
      ]
     },
     "metadata": {
      "needs_background": "light"
     },
     "output_type": "display_data"
    }
   ],
   "source": [
    "# plot a histogram of message cost. \n",
    "agg['message_cost'].hist(bins = 20, range = [0, 15], alpha = 0.6)\n",
    "# add title and axis names\n",
    "plt.xlabel('Message cost')\n",
    "plt.ylabel('Frequency')\n",
    "plt.title(\"Histogram of internet usage\");"
   ]
  },
  {
   "cell_type": "markdown",
   "metadata": {},
   "source": [
    "We observed that most message cost is between around 0 to 1. "
   ]
  },
  {
   "cell_type": "markdown",
   "metadata": {},
   "source": [
    "#### Call Cost"
   ]
  },
  {
   "cell_type": "code",
   "execution_count": 77,
   "metadata": {},
   "outputs": [
    {
     "data": {
      "image/png": "[encoded data removed]",
      "text/plain": [
       "<Figure size 432x288 with 1 Axes>"
      ]
     },
     "metadata": {
      "needs_background": "light"
     },
     "output_type": "display_data"
    }
   ],
   "source": [
    "# plot a histogram of call cost. \n",
    "agg['call_cost'].hist(bins = 20, range = [0, 40], alpha = 0.6)\n",
    "# add title and axis names\n",
    "plt.xlabel('Calls cost')\n",
    "plt.ylabel('Frequency')\n",
    "plt.title(\"Histogram of calls cost\");"
   ]
  },
  {
   "cell_type": "markdown",
   "metadata": {},
   "source": [
    "We observed that most call cost is between 0 to 5. "
   ]
  },
  {
   "cell_type": "markdown",
   "metadata": {},
   "source": [
    "#### Internet cost"
   ]
  },
  {
   "cell_type": "code",
   "execution_count": 78,
   "metadata": {},
   "outputs": [
    {
     "data": {
      "image/png": "[encoded data removed]",
      "text/plain": [
       "<Figure size 432x288 with 1 Axes>"
      ]
     },
     "metadata": {
      "needs_background": "light"
     },
     "output_type": "display_data"
    }
   ],
   "source": [
    "# plot a histogram of internet cost. \n",
    "agg['internet_cost'].hist(bins = 20, range = [0, 600], alpha = 0.6)\n",
    "# add title and axis names\n",
    "plt.xlabel('internet cost')\n",
    "plt.ylabel('Frequency')\n",
    "plt.title(\"Histogram of internet cost\");"
   ]
  },
  {
   "cell_type": "markdown",
   "metadata": {},
   "source": [
    "We observed that most internet usage is between 0 to 120 MB. "
   ]
  },
  {
   "cell_type": "markdown",
   "metadata": {},
   "source": [
    "#### Revenue"
   ]
  },
  {
   "cell_type": "code",
   "execution_count": 79,
   "metadata": {},
   "outputs": [
    {
     "data": {
      "image/png": "[encoded data removed]",
      "text/plain": [
       "<Figure size 432x288 with 1 Axes>"
      ]
     },
     "metadata": {
      "needs_background": "light"
     },
     "output_type": "display_data"
    }
   ],
   "source": [
    "# plot a histogram of revenue. \n",
    "agg['revenue'].hist(bins = 20, range = [0, 600], alpha = 0.6)\n",
    "# add title and axis names\n",
    "plt.xlabel('revenue')\n",
    "plt.ylabel('Frequency')\n",
    "plt.title(\"Histogram of revenue\");"
   ]
  },
  {
   "cell_type": "code",
   "execution_count": 80,
   "metadata": {},
   "outputs": [
    {
     "data": {
      "text/plain": [
       "count    2293.000000\n",
       "mean       61.618055\n",
       "std        45.291737\n",
       "min        20.000000\n",
       "25%        21.350000\n",
       "50%        70.000000\n",
       "75%        70.000000\n",
       "max       579.030000\n",
       "Name: revenue, dtype: float64"
      ]
     },
     "execution_count": 80,
     "metadata": {},
     "output_type": "execute_result"
    }
   ],
   "source": [
    "agg['revenue'].describe()"
   ]
  },
  {
   "cell_type": "markdown",
   "metadata": {},
   "source": [
    "The mean value is 61. The minimum and maximum values are 20 and 579 respectively. The histogram is skewed right, meaning there are outliers exist."
   ]
  },
  {
   "cell_type": "markdown",
   "metadata": {},
   "source": [
    "### Detecting outliers and filtering data"
   ]
  },
  {
   "cell_type": "code",
   "execution_count": 81,
   "metadata": {},
   "outputs": [
    {
     "data": {
      "text/html": [
       "<div>\n",
       "<style scoped>\n",
       "    .dataframe tbody tr th:only-of-type {\n",
       "        vertical-align: middle;\n",
       "    }\n",
       "\n",
       "    .dataframe tbody tr th {\n",
       "        vertical-align: top;\n",
       "    }\n",
       "\n",
       "    .dataframe thead th {\n",
       "        text-align: right;\n",
       "    }\n",
       "</style>\n",
       "<table border=\"1\" class=\"dataframe\">\n",
       "  <thead>\n",
       "    <tr style=\"text-align: right;\">\n",
       "      <th></th>\n",
       "      <th>calls_number</th>\n",
       "      <th>calls_duration</th>\n",
       "      <th>message_number</th>\n",
       "      <th>mb_used</th>\n",
       "      <th>message_cost</th>\n",
       "      <th>call_cost</th>\n",
       "      <th>internet_cost</th>\n",
       "      <th>revenue</th>\n",
       "    </tr>\n",
       "  </thead>\n",
       "  <tbody>\n",
       "    <tr>\n",
       "      <td>count</td>\n",
       "      <td>2293.000000</td>\n",
       "      <td>2293.000000</td>\n",
       "      <td>2293.000000</td>\n",
       "      <td>2293.000000</td>\n",
       "      <td>2293.000000</td>\n",
       "      <td>2293.000000</td>\n",
       "      <td>2293.000000</td>\n",
       "      <td>2293.000000</td>\n",
       "    </tr>\n",
       "    <tr>\n",
       "      <td>mean</td>\n",
       "      <td>60.067597</td>\n",
       "      <td>381.428696</td>\n",
       "      <td>33.166594</td>\n",
       "      <td>16744.712167</td>\n",
       "      <td>0.144322</td>\n",
       "      <td>0.776180</td>\n",
       "      <td>24.997609</td>\n",
       "      <td>61.618055</td>\n",
       "    </tr>\n",
       "    <tr>\n",
       "      <td>std</td>\n",
       "      <td>32.402563</td>\n",
       "      <td>210.719148</td>\n",
       "      <td>34.070085</td>\n",
       "      <td>7959.515177</td>\n",
       "      <td>0.493515</td>\n",
       "      <td>2.421682</td>\n",
       "      <td>46.802355</td>\n",
       "      <td>45.291737</td>\n",
       "    </tr>\n",
       "    <tr>\n",
       "      <td>min</td>\n",
       "      <td>0.000000</td>\n",
       "      <td>0.000000</td>\n",
       "      <td>0.000000</td>\n",
       "      <td>0.000000</td>\n",
       "      <td>0.000000</td>\n",
       "      <td>0.000000</td>\n",
       "      <td>0.000000</td>\n",
       "      <td>20.000000</td>\n",
       "    </tr>\n",
       "    <tr>\n",
       "      <td>25%</td>\n",
       "      <td>38.000000</td>\n",
       "      <td>234.000000</td>\n",
       "      <td>3.000000</td>\n",
       "      <td>12217.000000</td>\n",
       "      <td>0.000000</td>\n",
       "      <td>0.000000</td>\n",
       "      <td>0.000000</td>\n",
       "      <td>21.350000</td>\n",
       "    </tr>\n",
       "    <tr>\n",
       "      <td>50%</td>\n",
       "      <td>60.000000</td>\n",
       "      <td>376.000000</td>\n",
       "      <td>26.000000</td>\n",
       "      <td>16808.000000</td>\n",
       "      <td>0.000000</td>\n",
       "      <td>0.000000</td>\n",
       "      <td>0.000000</td>\n",
       "      <td>70.000000</td>\n",
       "    </tr>\n",
       "    <tr>\n",
       "      <td>75%</td>\n",
       "      <td>79.000000</td>\n",
       "      <td>508.000000</td>\n",
       "      <td>51.000000</td>\n",
       "      <td>20977.000000</td>\n",
       "      <td>0.000000</td>\n",
       "      <td>0.000000</td>\n",
       "      <td>35.546875</td>\n",
       "      <td>70.000000</td>\n",
       "    </tr>\n",
       "    <tr>\n",
       "      <td>max</td>\n",
       "      <td>205.000000</td>\n",
       "      <td>1344.000000</td>\n",
       "      <td>266.000000</td>\n",
       "      <td>70866.000000</td>\n",
       "      <td>6.480000</td>\n",
       "      <td>25.320000</td>\n",
       "      <td>542.050781</td>\n",
       "      <td>579.030000</td>\n",
       "    </tr>\n",
       "  </tbody>\n",
       "</table>\n",
       "</div>"
      ],
      "text/plain": [
       "       calls_number  calls_duration  message_number       mb_used  \\\n",
       "count   2293.000000     2293.000000     2293.000000   2293.000000   \n",
       "mean      60.067597      381.428696       33.166594  16744.712167   \n",
       "std       32.402563      210.719148       34.070085   7959.515177   \n",
       "min        0.000000        0.000000        0.000000      0.000000   \n",
       "25%       38.000000      234.000000        3.000000  12217.000000   \n",
       "50%       60.000000      376.000000       26.000000  16808.000000   \n",
       "75%       79.000000      508.000000       51.000000  20977.000000   \n",
       "max      205.000000     1344.000000      266.000000  70866.000000   \n",
       "\n",
       "       message_cost    call_cost  internet_cost      revenue  \n",
       "count   2293.000000  2293.000000    2293.000000  2293.000000  \n",
       "mean       0.144322     0.776180      24.997609    61.618055  \n",
       "std        0.493515     2.421682      46.802355    45.291737  \n",
       "min        0.000000     0.000000       0.000000    20.000000  \n",
       "25%        0.000000     0.000000       0.000000    21.350000  \n",
       "50%        0.000000     0.000000       0.000000    70.000000  \n",
       "75%        0.000000     0.000000      35.546875    70.000000  \n",
       "max        6.480000    25.320000     542.050781   579.030000  "
      ]
     },
     "execution_count": 81,
     "metadata": {},
     "output_type": "execute_result"
    }
   ],
   "source": [
    "# statistics of unfiltered data\n",
    "agg[['calls_number', 'calls_duration', 'message_number', 'mb_used','message_cost', 'call_cost', 'internet_cost', 'revenue']].describe()\n",
    "\n"
   ]
  },
  {
   "cell_type": "markdown",
   "metadata": {},
   "source": [
    "After analyzing the histograms and reviewing the statistics of each column, we found that `calls_number`, `calls_duration`, `message_number`, `mb_used`, `revenue` contains outliers. \n",
    "\n",
    "We will use IQR rule to detect outliers. First, we will calculate the Interquartile Range of the data (IQR = Q3 — Q1). Later, we will determine our outlier boundaries with IQR."
   ]
  },
  {
   "cell_type": "code",
   "execution_count": 82,
   "metadata": {},
   "outputs": [
    {
     "data": {
      "text/plain": [
       "calls_number        41.00\n",
       "calls_duration     274.00\n",
       "message_number      48.00\n",
       "mb_used           8760.00\n",
       "revenue             48.65\n",
       "dtype: float64"
      ]
     },
     "execution_count": 82,
     "metadata": {},
     "output_type": "execute_result"
    }
   ],
   "source": [
    "cols = ['calls_number', 'calls_duration', 'message_number', 'mb_used', 'revenue']\n",
    "Q1 = agg[cols].quantile(0.25)\n",
    "Q3 = agg[cols].quantile(0.75)\n",
    "IQR = Q3 - Q1\n",
    "IQR"
   ]
  },
  {
   "cell_type": "markdown",
   "metadata": {},
   "source": [
    "The interquartile range of calls number is 41, calls duration is 274, message number is 48, internet usage is 8760MB, revenue is 48.65. "
   ]
  },
  {
   "cell_type": "code",
   "execution_count": 83,
   "metadata": {},
   "outputs": [
    {
     "name": "stdout",
     "output_type": "stream",
     "text": [
      "Lower limits are\n",
      " calls_number      -23.500\n",
      "calls_duration   -177.000\n",
      "message_number    -69.000\n",
      "mb_used          -923.000\n",
      "revenue           -51.625\n",
      "dtype: float64\n",
      "Upper limits are\n",
      " calls_number        140.500\n",
      "calls_duration      919.000\n",
      "message_number      123.000\n",
      "mb_used           34117.000\n",
      "revenue             142.975\n",
      "dtype: float64\n"
     ]
    }
   ],
   "source": [
    "# Outliers lower limit\n",
    "lower_lim = Q1 - 1.5 * IQR\n",
    "# Outliers upper limit\n",
    "upper_lim = Q3 + 1.5 * IQR\n",
    "print(\"Lower limits are\\n\", lower_lim)\n",
    "print(\"Upper limits are\\n\", upper_lim)"
   ]
  },
  {
   "cell_type": "markdown",
   "metadata": {},
   "source": [
    "We can see our lower limits of calls number is -23.5, calls duration is -177, message number is 69, internet usage is -923, and revenue is 51.625. Upper limits of calls number is 140.5 , calls duration is 919, message number is 123, internet usage is 34117MB, and revenue is 142.975. "
   ]
  },
  {
   "cell_type": "code",
   "execution_count": 84,
   "metadata": {},
   "outputs": [
    {
     "name": "stdout",
     "output_type": "stream",
     "text": [
      "Old Shape:  (2293, 25)\n"
     ]
    }
   ],
   "source": [
    "# Check our dataset before dropping outliers\n",
    "print(\"Old Shape: \", agg.shape)"
   ]
  },
  {
   "cell_type": "markdown",
   "metadata": {},
   "source": [
    "Outliers are those data less than lower boundary and greater than upper boundary. "
   ]
  },
  {
   "cell_type": "code",
   "execution_count": 85,
   "metadata": {
    "scrolled": true
   },
   "outputs": [
    {
     "data": {
      "text/html": [
       "<div>\n",
       "<style scoped>\n",
       "    .dataframe tbody tr th:only-of-type {\n",
       "        vertical-align: middle;\n",
       "    }\n",
       "\n",
       "    .dataframe tbody tr th {\n",
       "        vertical-align: top;\n",
       "    }\n",
       "\n",
       "    .dataframe thead th {\n",
       "        text-align: right;\n",
       "    }\n",
       "</style>\n",
       "<table border=\"1\" class=\"dataframe\">\n",
       "  <thead>\n",
       "    <tr style=\"text-align: right;\">\n",
       "      <th></th>\n",
       "      <th>user_id</th>\n",
       "      <th>month</th>\n",
       "      <th>calls_number</th>\n",
       "      <th>calls_duration</th>\n",
       "      <th>message_number</th>\n",
       "      <th>mb_used</th>\n",
       "      <th>first_name</th>\n",
       "      <th>last_name</th>\n",
       "      <th>age</th>\n",
       "      <th>city</th>\n",
       "      <th>reg_date</th>\n",
       "      <th>plan</th>\n",
       "      <th>churn_date</th>\n",
       "      <th>churn</th>\n",
       "      <th>messages_included</th>\n",
       "      <th>data_volume_per_month</th>\n",
       "      <th>minutes_included</th>\n",
       "      <th>monthly_pay</th>\n",
       "      <th>price_per_gb</th>\n",
       "      <th>price_per_msg</th>\n",
       "      <th>price_per_minute</th>\n",
       "      <th>message_cost</th>\n",
       "      <th>call_cost</th>\n",
       "      <th>internet_cost</th>\n",
       "      <th>revenue</th>\n",
       "    </tr>\n",
       "  </thead>\n",
       "  <tbody>\n",
       "    <tr>\n",
       "      <td>9</td>\n",
       "      <td>1003</td>\n",
       "      <td>December</td>\n",
       "      <td>149.0</td>\n",
       "      <td>987.0</td>\n",
       "      <td>50.0</td>\n",
       "      <td>27019.0</td>\n",
       "      <td>Reynaldo</td>\n",
       "      <td>Jenkins</td>\n",
       "      <td>52</td>\n",
       "      <td>Tulsa, OK MSA</td>\n",
       "      <td>2018-01-28</td>\n",
       "      <td>surf</td>\n",
       "      <td>NaN</td>\n",
       "      <td>No</td>\n",
       "      <td>50</td>\n",
       "      <td>15360</td>\n",
       "      <td>500</td>\n",
       "      <td>20</td>\n",
       "      <td>10</td>\n",
       "      <td>0.03</td>\n",
       "      <td>0.03</td>\n",
       "      <td>0.00</td>\n",
       "      <td>14.61</td>\n",
       "      <td>113.857422</td>\n",
       "      <td>148.47</td>\n",
       "    </tr>\n",
       "    <tr>\n",
       "      <td>19</td>\n",
       "      <td>1006</td>\n",
       "      <td>December</td>\n",
       "      <td>9.0</td>\n",
       "      <td>52.0</td>\n",
       "      <td>139.0</td>\n",
       "      <td>32085.0</td>\n",
       "      <td>Jesusa</td>\n",
       "      <td>Bradford</td>\n",
       "      <td>73</td>\n",
       "      <td>San Francisco-Oakland-Berkeley, CA MSA</td>\n",
       "      <td>2018-11-27</td>\n",
       "      <td>ultimate</td>\n",
       "      <td>2018-12-18</td>\n",
       "      <td>Yes</td>\n",
       "      <td>1000</td>\n",
       "      <td>30720</td>\n",
       "      <td>3000</td>\n",
       "      <td>70</td>\n",
       "      <td>7</td>\n",
       "      <td>0.01</td>\n",
       "      <td>0.01</td>\n",
       "      <td>0.00</td>\n",
       "      <td>0.00</td>\n",
       "      <td>9.331055</td>\n",
       "      <td>79.33</td>\n",
       "    </tr>\n",
       "    <tr>\n",
       "      <td>22</td>\n",
       "      <td>1007</td>\n",
       "      <td>December</td>\n",
       "      <td>87.0</td>\n",
       "      <td>547.0</td>\n",
       "      <td>50.0</td>\n",
       "      <td>29039.0</td>\n",
       "      <td>Eusebio</td>\n",
       "      <td>Welch</td>\n",
       "      <td>42</td>\n",
       "      <td>Grand Rapids-Kentwood, MI MSA</td>\n",
       "      <td>2018-07-11</td>\n",
       "      <td>surf</td>\n",
       "      <td>NaN</td>\n",
       "      <td>No</td>\n",
       "      <td>50</td>\n",
       "      <td>15360</td>\n",
       "      <td>500</td>\n",
       "      <td>20</td>\n",
       "      <td>10</td>\n",
       "      <td>0.03</td>\n",
       "      <td>0.03</td>\n",
       "      <td>0.00</td>\n",
       "      <td>1.41</td>\n",
       "      <td>133.583984</td>\n",
       "      <td>154.99</td>\n",
       "    </tr>\n",
       "    <tr>\n",
       "      <td>24</td>\n",
       "      <td>1007</td>\n",
       "      <td>October</td>\n",
       "      <td>80.0</td>\n",
       "      <td>575.0</td>\n",
       "      <td>59.0</td>\n",
       "      <td>37858.0</td>\n",
       "      <td>Eusebio</td>\n",
       "      <td>Welch</td>\n",
       "      <td>42</td>\n",
       "      <td>Grand Rapids-Kentwood, MI MSA</td>\n",
       "      <td>2018-07-11</td>\n",
       "      <td>surf</td>\n",
       "      <td>NaN</td>\n",
       "      <td>No</td>\n",
       "      <td>50</td>\n",
       "      <td>15360</td>\n",
       "      <td>500</td>\n",
       "      <td>20</td>\n",
       "      <td>10</td>\n",
       "      <td>0.03</td>\n",
       "      <td>0.03</td>\n",
       "      <td>0.27</td>\n",
       "      <td>2.25</td>\n",
       "      <td>219.707031</td>\n",
       "      <td>242.23</td>\n",
       "    </tr>\n",
       "    <tr>\n",
       "      <td>25</td>\n",
       "      <td>1007</td>\n",
       "      <td>September</td>\n",
       "      <td>63.0</td>\n",
       "      <td>350.0</td>\n",
       "      <td>47.0</td>\n",
       "      <td>28099.0</td>\n",
       "      <td>Eusebio</td>\n",
       "      <td>Welch</td>\n",
       "      <td>42</td>\n",
       "      <td>Grand Rapids-Kentwood, MI MSA</td>\n",
       "      <td>2018-07-11</td>\n",
       "      <td>surf</td>\n",
       "      <td>NaN</td>\n",
       "      <td>No</td>\n",
       "      <td>50</td>\n",
       "      <td>15360</td>\n",
       "      <td>500</td>\n",
       "      <td>20</td>\n",
       "      <td>10</td>\n",
       "      <td>0.03</td>\n",
       "      <td>0.03</td>\n",
       "      <td>0.00</td>\n",
       "      <td>0.00</td>\n",
       "      <td>124.404297</td>\n",
       "      <td>144.40</td>\n",
       "    </tr>\n",
       "    <tr>\n",
       "      <td>...</td>\n",
       "      <td>...</td>\n",
       "      <td>...</td>\n",
       "      <td>...</td>\n",
       "      <td>...</td>\n",
       "      <td>...</td>\n",
       "      <td>...</td>\n",
       "      <td>...</td>\n",
       "      <td>...</td>\n",
       "      <td>...</td>\n",
       "      <td>...</td>\n",
       "      <td>...</td>\n",
       "      <td>...</td>\n",
       "      <td>...</td>\n",
       "      <td>...</td>\n",
       "      <td>...</td>\n",
       "      <td>...</td>\n",
       "      <td>...</td>\n",
       "      <td>...</td>\n",
       "      <td>...</td>\n",
       "      <td>...</td>\n",
       "      <td>...</td>\n",
       "      <td>...</td>\n",
       "      <td>...</td>\n",
       "      <td>...</td>\n",
       "      <td>...</td>\n",
       "    </tr>\n",
       "    <tr>\n",
       "      <td>2206</td>\n",
       "      <td>1479</td>\n",
       "      <td>December</td>\n",
       "      <td>146.0</td>\n",
       "      <td>981.0</td>\n",
       "      <td>0.0</td>\n",
       "      <td>9772.0</td>\n",
       "      <td>Keesha</td>\n",
       "      <td>Burnett</td>\n",
       "      <td>44</td>\n",
       "      <td>Riverside-San Bernardino-Ontario, CA MSA</td>\n",
       "      <td>2018-11-12</td>\n",
       "      <td>surf</td>\n",
       "      <td>NaN</td>\n",
       "      <td>No</td>\n",
       "      <td>50</td>\n",
       "      <td>15360</td>\n",
       "      <td>500</td>\n",
       "      <td>20</td>\n",
       "      <td>10</td>\n",
       "      <td>0.03</td>\n",
       "      <td>0.03</td>\n",
       "      <td>0.00</td>\n",
       "      <td>14.43</td>\n",
       "      <td>0.000000</td>\n",
       "      <td>34.43</td>\n",
       "    </tr>\n",
       "    <tr>\n",
       "      <td>2238</td>\n",
       "      <td>1490</td>\n",
       "      <td>August</td>\n",
       "      <td>80.0</td>\n",
       "      <td>460.0</td>\n",
       "      <td>0.0</td>\n",
       "      <td>39280.0</td>\n",
       "      <td>Shane</td>\n",
       "      <td>Cortez</td>\n",
       "      <td>42</td>\n",
       "      <td>Sacramento–Roseville–Folsom, CA MSA</td>\n",
       "      <td>2018-01-20</td>\n",
       "      <td>ultimate</td>\n",
       "      <td>NaN</td>\n",
       "      <td>No</td>\n",
       "      <td>1000</td>\n",
       "      <td>30720</td>\n",
       "      <td>3000</td>\n",
       "      <td>70</td>\n",
       "      <td>7</td>\n",
       "      <td>0.01</td>\n",
       "      <td>0.01</td>\n",
       "      <td>0.00</td>\n",
       "      <td>0.00</td>\n",
       "      <td>58.515625</td>\n",
       "      <td>128.52</td>\n",
       "    </tr>\n",
       "    <tr>\n",
       "      <td>2239</td>\n",
       "      <td>1490</td>\n",
       "      <td>December</td>\n",
       "      <td>50.0</td>\n",
       "      <td>328.0</td>\n",
       "      <td>0.0</td>\n",
       "      <td>46169.0</td>\n",
       "      <td>Shane</td>\n",
       "      <td>Cortez</td>\n",
       "      <td>42</td>\n",
       "      <td>Sacramento–Roseville–Folsom, CA MSA</td>\n",
       "      <td>2018-01-20</td>\n",
       "      <td>ultimate</td>\n",
       "      <td>NaN</td>\n",
       "      <td>No</td>\n",
       "      <td>1000</td>\n",
       "      <td>30720</td>\n",
       "      <td>3000</td>\n",
       "      <td>70</td>\n",
       "      <td>7</td>\n",
       "      <td>0.01</td>\n",
       "      <td>0.01</td>\n",
       "      <td>0.00</td>\n",
       "      <td>0.00</td>\n",
       "      <td>105.608398</td>\n",
       "      <td>175.61</td>\n",
       "    </tr>\n",
       "    <tr>\n",
       "      <td>2242</td>\n",
       "      <td>1490</td>\n",
       "      <td>October</td>\n",
       "      <td>43.0</td>\n",
       "      <td>220.0</td>\n",
       "      <td>0.0</td>\n",
       "      <td>36959.0</td>\n",
       "      <td>Shane</td>\n",
       "      <td>Cortez</td>\n",
       "      <td>42</td>\n",
       "      <td>Sacramento–Roseville–Folsom, CA MSA</td>\n",
       "      <td>2018-01-20</td>\n",
       "      <td>ultimate</td>\n",
       "      <td>NaN</td>\n",
       "      <td>No</td>\n",
       "      <td>1000</td>\n",
       "      <td>30720</td>\n",
       "      <td>3000</td>\n",
       "      <td>70</td>\n",
       "      <td>7</td>\n",
       "      <td>0.01</td>\n",
       "      <td>0.01</td>\n",
       "      <td>0.00</td>\n",
       "      <td>0.00</td>\n",
       "      <td>42.649414</td>\n",
       "      <td>112.65</td>\n",
       "    </tr>\n",
       "    <tr>\n",
       "      <td>2243</td>\n",
       "      <td>1490</td>\n",
       "      <td>September</td>\n",
       "      <td>68.0</td>\n",
       "      <td>469.0</td>\n",
       "      <td>0.0</td>\n",
       "      <td>36116.0</td>\n",
       "      <td>Shane</td>\n",
       "      <td>Cortez</td>\n",
       "      <td>42</td>\n",
       "      <td>Sacramento–Roseville–Folsom, CA MSA</td>\n",
       "      <td>2018-01-20</td>\n",
       "      <td>ultimate</td>\n",
       "      <td>NaN</td>\n",
       "      <td>No</td>\n",
       "      <td>1000</td>\n",
       "      <td>30720</td>\n",
       "      <td>3000</td>\n",
       "      <td>70</td>\n",
       "      <td>7</td>\n",
       "      <td>0.01</td>\n",
       "      <td>0.01</td>\n",
       "      <td>0.00</td>\n",
       "      <td>0.00</td>\n",
       "      <td>36.886719</td>\n",
       "      <td>106.89</td>\n",
       "    </tr>\n",
       "  </tbody>\n",
       "</table>\n",
       "<p>217 rows × 25 columns</p>\n",
       "</div>"
      ],
      "text/plain": [
       "      user_id      month  calls_number  calls_duration  message_number  \\\n",
       "9        1003   December         149.0           987.0            50.0   \n",
       "19       1006   December           9.0            52.0           139.0   \n",
       "22       1007   December          87.0           547.0            50.0   \n",
       "24       1007    October          80.0           575.0            59.0   \n",
       "25       1007  September          63.0           350.0            47.0   \n",
       "...       ...        ...           ...             ...             ...   \n",
       "2206     1479   December         146.0           981.0             0.0   \n",
       "2238     1490     August          80.0           460.0             0.0   \n",
       "2239     1490   December          50.0           328.0             0.0   \n",
       "2242     1490    October          43.0           220.0             0.0   \n",
       "2243     1490  September          68.0           469.0             0.0   \n",
       "\n",
       "      mb_used first_name last_name  age  \\\n",
       "9     27019.0   Reynaldo   Jenkins   52   \n",
       "19    32085.0     Jesusa  Bradford   73   \n",
       "22    29039.0    Eusebio     Welch   42   \n",
       "24    37858.0    Eusebio     Welch   42   \n",
       "25    28099.0    Eusebio     Welch   42   \n",
       "...       ...        ...       ...  ...   \n",
       "2206   9772.0     Keesha   Burnett   44   \n",
       "2238  39280.0      Shane    Cortez   42   \n",
       "2239  46169.0      Shane    Cortez   42   \n",
       "2242  36959.0      Shane    Cortez   42   \n",
       "2243  36116.0      Shane    Cortez   42   \n",
       "\n",
       "                                          city   reg_date      plan  \\\n",
       "9                                Tulsa, OK MSA 2018-01-28      surf   \n",
       "19      San Francisco-Oakland-Berkeley, CA MSA 2018-11-27  ultimate   \n",
       "22               Grand Rapids-Kentwood, MI MSA 2018-07-11      surf   \n",
       "24               Grand Rapids-Kentwood, MI MSA 2018-07-11      surf   \n",
       "25               Grand Rapids-Kentwood, MI MSA 2018-07-11      surf   \n",
       "...                                        ...        ...       ...   \n",
       "2206  Riverside-San Bernardino-Ontario, CA MSA 2018-11-12      surf   \n",
       "2238       Sacramento–Roseville–Folsom, CA MSA 2018-01-20  ultimate   \n",
       "2239       Sacramento–Roseville–Folsom, CA MSA 2018-01-20  ultimate   \n",
       "2242       Sacramento–Roseville–Folsom, CA MSA 2018-01-20  ultimate   \n",
       "2243       Sacramento–Roseville–Folsom, CA MSA 2018-01-20  ultimate   \n",
       "\n",
       "      churn_date churn  messages_included  data_volume_per_month  \\\n",
       "9            NaN    No                 50                  15360   \n",
       "19    2018-12-18   Yes               1000                  30720   \n",
       "22           NaN    No                 50                  15360   \n",
       "24           NaN    No                 50                  15360   \n",
       "25           NaN    No                 50                  15360   \n",
       "...          ...   ...                ...                    ...   \n",
       "2206         NaN    No                 50                  15360   \n",
       "2238         NaN    No               1000                  30720   \n",
       "2239         NaN    No               1000                  30720   \n",
       "2242         NaN    No               1000                  30720   \n",
       "2243         NaN    No               1000                  30720   \n",
       "\n",
       "      minutes_included  monthly_pay  price_per_gb  price_per_msg  \\\n",
       "9                  500           20            10           0.03   \n",
       "19                3000           70             7           0.01   \n",
       "22                 500           20            10           0.03   \n",
       "24                 500           20            10           0.03   \n",
       "25                 500           20            10           0.03   \n",
       "...                ...          ...           ...            ...   \n",
       "2206               500           20            10           0.03   \n",
       "2238              3000           70             7           0.01   \n",
       "2239              3000           70             7           0.01   \n",
       "2242              3000           70             7           0.01   \n",
       "2243              3000           70             7           0.01   \n",
       "\n",
       "      price_per_minute  message_cost  call_cost  internet_cost  revenue  \n",
       "9                 0.03          0.00      14.61     113.857422   148.47  \n",
       "19                0.01          0.00       0.00       9.331055    79.33  \n",
       "22                0.03          0.00       1.41     133.583984   154.99  \n",
       "24                0.03          0.27       2.25     219.707031   242.23  \n",
       "25                0.03          0.00       0.00     124.404297   144.40  \n",
       "...                ...           ...        ...            ...      ...  \n",
       "2206              0.03          0.00      14.43       0.000000    34.43  \n",
       "2238              0.01          0.00       0.00      58.515625   128.52  \n",
       "2239              0.01          0.00       0.00     105.608398   175.61  \n",
       "2242              0.01          0.00       0.00      42.649414   112.65  \n",
       "2243              0.01          0.00       0.00      36.886719   106.89  \n",
       "\n",
       "[217 rows x 25 columns]"
      ]
     },
     "execution_count": 85,
     "metadata": {},
     "output_type": "execute_result"
    }
   ],
   "source": [
    "# Check number of outliers\n",
    "agg[((agg[cols] < lower_lim) |(agg[cols] > upper_lim)).any(axis=1)]"
   ]
  },
  {
   "cell_type": "markdown",
   "metadata": {},
   "source": [
    "We know we have 217 rows contains outliers. Let's drop them. "
   ]
  },
  {
   "cell_type": "code",
   "execution_count": 86,
   "metadata": {},
   "outputs": [
    {
     "name": "stdout",
     "output_type": "stream",
     "text": [
      "New Shape:  (2076, 25)\n"
     ]
    }
   ],
   "source": [
    "# Dropping out the outliers\n",
    "df_new = agg[~((agg[cols] < lower_lim) |(agg[cols] > upper_lim)).any(axis=1)]\n",
    "# New dataset's shape\n",
    "print(\"New Shape: \", df_new.shape) "
   ]
  },
  {
   "cell_type": "markdown",
   "metadata": {},
   "source": [
    "Our new data has 2076 rows."
   ]
  },
  {
   "cell_type": "code",
   "execution_count": 87,
   "metadata": {},
   "outputs": [
    {
     "data": {
      "image/png": "[encoded data removed]",
      "text/plain": [
       "<Figure size 1080x720 with 6 Axes>"
      ]
     },
     "metadata": {
      "needs_background": "light"
     },
     "output_type": "display_data"
    }
   ],
   "source": [
    "# New histograms after dropping outliers\n",
    "df_new[cols].hist(bins = 30, figsize=(15, 10), alpha = 0.6);"
   ]
  },
  {
   "cell_type": "code",
   "execution_count": 88,
   "metadata": {},
   "outputs": [
    {
     "data": {
      "text/html": [
       "<div>\n",
       "<style scoped>\n",
       "    .dataframe tbody tr th:only-of-type {\n",
       "        vertical-align: middle;\n",
       "    }\n",
       "\n",
       "    .dataframe tbody tr th {\n",
       "        vertical-align: top;\n",
       "    }\n",
       "\n",
       "    .dataframe thead th {\n",
       "        text-align: right;\n",
       "    }\n",
       "</style>\n",
       "<table border=\"1\" class=\"dataframe\">\n",
       "  <thead>\n",
       "    <tr style=\"text-align: right;\">\n",
       "      <th></th>\n",
       "      <th>calls_number</th>\n",
       "      <th>calls_duration</th>\n",
       "      <th>message_number</th>\n",
       "      <th>mb_used</th>\n",
       "      <th>revenue</th>\n",
       "    </tr>\n",
       "  </thead>\n",
       "  <tbody>\n",
       "    <tr>\n",
       "      <td>count</td>\n",
       "      <td>2076.000000</td>\n",
       "      <td>2076.000000</td>\n",
       "      <td>2076.000000</td>\n",
       "      <td>2076.000000</td>\n",
       "      <td>2076.000000</td>\n",
       "    </tr>\n",
       "    <tr>\n",
       "      <td>mean</td>\n",
       "      <td>57.154143</td>\n",
       "      <td>362.895954</td>\n",
       "      <td>28.796243</td>\n",
       "      <td>15564.906551</td>\n",
       "      <td>53.435154</td>\n",
       "    </tr>\n",
       "    <tr>\n",
       "      <td>std</td>\n",
       "      <td>28.727961</td>\n",
       "      <td>187.088649</td>\n",
       "      <td>27.886265</td>\n",
       "      <td>6472.718144</td>\n",
       "      <td>28.605280</td>\n",
       "    </tr>\n",
       "    <tr>\n",
       "      <td>min</td>\n",
       "      <td>0.000000</td>\n",
       "      <td>0.000000</td>\n",
       "      <td>0.000000</td>\n",
       "      <td>0.000000</td>\n",
       "      <td>20.000000</td>\n",
       "    </tr>\n",
       "    <tr>\n",
       "      <td>25%</td>\n",
       "      <td>37.000000</td>\n",
       "      <td>229.000000</td>\n",
       "      <td>3.000000</td>\n",
       "      <td>11824.000000</td>\n",
       "      <td>20.540000</td>\n",
       "    </tr>\n",
       "    <tr>\n",
       "      <td>50%</td>\n",
       "      <td>58.000000</td>\n",
       "      <td>367.000000</td>\n",
       "      <td>24.000000</td>\n",
       "      <td>16252.000000</td>\n",
       "      <td>63.430000</td>\n",
       "    </tr>\n",
       "    <tr>\n",
       "      <td>75%</td>\n",
       "      <td>77.000000</td>\n",
       "      <td>491.000000</td>\n",
       "      <td>46.000000</td>\n",
       "      <td>20015.000000</td>\n",
       "      <td>70.000000</td>\n",
       "    </tr>\n",
       "    <tr>\n",
       "      <td>max</td>\n",
       "      <td>140.000000</td>\n",
       "      <td>916.000000</td>\n",
       "      <td>123.000000</td>\n",
       "      <td>33656.000000</td>\n",
       "      <td>142.910000</td>\n",
       "    </tr>\n",
       "  </tbody>\n",
       "</table>\n",
       "</div>"
      ],
      "text/plain": [
       "       calls_number  calls_duration  message_number       mb_used      revenue\n",
       "count   2076.000000     2076.000000     2076.000000   2076.000000  2076.000000\n",
       "mean      57.154143      362.895954       28.796243  15564.906551    53.435154\n",
       "std       28.727961      187.088649       27.886265   6472.718144    28.605280\n",
       "min        0.000000        0.000000        0.000000      0.000000    20.000000\n",
       "25%       37.000000      229.000000        3.000000  11824.000000    20.540000\n",
       "50%       58.000000      367.000000       24.000000  16252.000000    63.430000\n",
       "75%       77.000000      491.000000       46.000000  20015.000000    70.000000\n",
       "max      140.000000      916.000000      123.000000  33656.000000   142.910000"
      ]
     },
     "execution_count": 88,
     "metadata": {},
     "output_type": "execute_result"
    }
   ],
   "source": [
    "# check out our statistics of columns after filtering outliers\n",
    "df_new[cols].describe()"
   ]
  },
  {
   "cell_type": "markdown",
   "metadata": {},
   "source": [
    "### Conclusion"
   ]
  },
  {
   "cell_type": "markdown",
   "metadata": {},
   "source": [
    "Our outliers (217 rows) have been removed, our new dataset has 2076 rows. Comparing the histograms, we observed that long 'tails' are not exist anymore, the distributions are almost normal distributions. Also, 50% percentiles are close to the mean value. We successfully removed our outliers from the dataset. We are ready to analyze which plan brings more revenue."
   ]
  },
  {
   "cell_type": "markdown",
   "metadata": {},
   "source": [
    "### Describe the customers' behavior"
   ]
  },
  {
   "cell_type": "code",
   "execution_count": 89,
   "metadata": {},
   "outputs": [],
   "source": [
    "# select data with surf plan\n",
    "df_surf = df_new[df_new['plan'] == 'surf']\n",
    "# select data with ultimate plan\n",
    "df_ult = df_new[df_new['plan'] == 'ultimate']"
   ]
  },
  {
   "cell_type": "code",
   "execution_count": 90,
   "metadata": {
    "scrolled": true
   },
   "outputs": [
    {
     "name": "stdout",
     "output_type": "stream",
     "text": [
      "Surf plan user number is 1417\n",
      "Ultimate plan user number is 659\n"
     ]
    }
   ],
   "source": [
    "print('Surf plan user number is', df_surf.shape[0])\n",
    "print('Ultimate plan user number is', df_ult.shape[0])"
   ]
  },
  {
   "cell_type": "markdown",
   "metadata": {},
   "source": [
    "Generally, `surf` plan has more users than `ultimate` plan."
   ]
  },
  {
   "cell_type": "markdown",
   "metadata": {},
   "source": [
    "#### Find the minutes the users of each plan require / month\n"
   ]
  },
  {
   "cell_type": "code",
   "execution_count": 91,
   "metadata": {},
   "outputs": [
    {
     "data": {
      "text/plain": [
       "plan\n",
       "surf        361.813691\n",
       "ultimate    365.223065\n",
       "Name: calls_duration, dtype: float64"
      ]
     },
     "execution_count": 91,
     "metadata": {},
     "output_type": "execute_result"
    }
   ],
   "source": [
    "# groupby plan by calls duration\n",
    "df_new.groupby('plan')['calls_duration'].mean()"
   ]
  },
  {
   "cell_type": "markdown",
   "metadata": {},
   "source": [
    "We observed `ultimate` plan users have more minutes per month than `surf` plan users. "
   ]
  },
  {
   "cell_type": "code",
   "execution_count": 92,
   "metadata": {},
   "outputs": [
    {
     "data": {
      "text/plain": [
       "count    1417.000000\n",
       "mean      361.813691\n",
       "std       188.562996\n",
       "min         0.000000\n",
       "25%       229.000000\n",
       "50%       364.000000\n",
       "75%       498.000000\n",
       "max       916.000000\n",
       "Name: calls_duration, dtype: float64"
      ]
     },
     "execution_count": 92,
     "metadata": {},
     "output_type": "execute_result"
    }
   ],
   "source": [
    "# check statistics of minutes of surf plan\n",
    "df_surf['calls_duration'].describe()"
   ]
  },
  {
   "cell_type": "code",
   "execution_count": 93,
   "metadata": {},
   "outputs": [
    {
     "data": {
      "text/plain": [
       "35556.003399997615"
      ]
     },
     "execution_count": 93,
     "metadata": {},
     "output_type": "execute_result"
    }
   ],
   "source": [
    "# minutes variance of surf plan\n",
    "df_surf['calls_duration'].var()"
   ]
  },
  {
   "cell_type": "markdown",
   "metadata": {},
   "source": [
    "For `surf` plan users, the mean value is 361 minutes, minimum and maximum are 0 and 916 minutes. The variance is 35556. The standard deviation is 188.6. "
   ]
  },
  {
   "cell_type": "code",
   "execution_count": 94,
   "metadata": {},
   "outputs": [
    {
     "data": {
      "text/plain": [
       "count    659.000000\n",
       "mean     365.223065\n",
       "std      183.998803\n",
       "min        0.000000\n",
       "25%      230.000000\n",
       "50%      372.000000\n",
       "75%      480.500000\n",
       "max      872.000000\n",
       "Name: calls_duration, dtype: float64"
      ]
     },
     "execution_count": 94,
     "metadata": {},
     "output_type": "execute_result"
    }
   ],
   "source": [
    "# check statistics of minutes of ultimate plan\n",
    "df_ult['calls_duration'].describe()"
   ]
  },
  {
   "cell_type": "code",
   "execution_count": 95,
   "metadata": {},
   "outputs": [
    {
     "data": {
      "text/plain": [
       "33855.55958876625"
      ]
     },
     "execution_count": 95,
     "metadata": {},
     "output_type": "execute_result"
    }
   ],
   "source": [
    "# minutes variance of ultimate plan\n",
    "df_ult['calls_duration'].var()"
   ]
  },
  {
   "cell_type": "markdown",
   "metadata": {},
   "source": [
    "For `ultimate` plan, the mean value is 365 minutes, minimum and maximum are 0 and 872 minutes. The variance is 33855. The standard deviation is 184.0. "
   ]
  },
  {
   "cell_type": "code",
   "execution_count": 96,
   "metadata": {},
   "outputs": [
    {
     "data": {
      "image/png": "[encoded data removed]",
      "text/plain": [
       "<Figure size 432x288 with 1 Axes>"
      ]
     },
     "metadata": {
      "needs_background": "light"
     },
     "output_type": "display_data"
    }
   ],
   "source": [
    "# plot a histogram for minutes of surf plan and ultimate plan\n",
    "plt.hist(df_surf['calls_duration'], bins = 20, label = 'surf', alpha = 0.5)\n",
    "plt.hist(df_ult['calls_duration'], bins = 20, label = 'ultimate', alpha = 0.6)\n",
    "# add title and axis names\n",
    "plt.xlabel('minutes')\n",
    "plt.ylabel('count')\n",
    "plt.legend(loc = 'upper right');\n",
    "plt.title(\"Histogram for calls duration\");"
   ]
  },
  {
   "cell_type": "markdown",
   "metadata": {},
   "source": [
    "We observed from the histogram that `surf` plan users had users than `ultimate` plan users. The trend for both plan is similar, most users have around 400 minutes per month."
   ]
  },
  {
   "cell_type": "markdown",
   "metadata": {},
   "source": [
    "**Conclusion**"
   ]
  },
  {
   "cell_type": "markdown",
   "metadata": {},
   "source": [
    "We observed that `ultimate` plan users have longer average minutes than `surf` plan users, but `surf` plan has more users than `ultimate` plan."
   ]
  },
  {
   "cell_type": "markdown",
   "metadata": {},
   "source": [
    "#### Find the texts the users of each plan require / month"
   ]
  },
  {
   "cell_type": "code",
   "execution_count": 97,
   "metadata": {},
   "outputs": [
    {
     "data": {
      "text/plain": [
       "plan\n",
       "surf        26.976711\n",
       "ultimate    32.708649\n",
       "Name: message_number, dtype: float64"
      ]
     },
     "execution_count": 97,
     "metadata": {},
     "output_type": "execute_result"
    }
   ],
   "source": [
    "# groupby plan by number of messages\n",
    "df_new.groupby('plan')['message_number'].mean()"
   ]
  },
  {
   "cell_type": "markdown",
   "metadata": {},
   "source": [
    "We observed `ultimate` plan users have more text messages per month than `surf` plan users. "
   ]
  },
  {
   "cell_type": "code",
   "execution_count": 98,
   "metadata": {
    "scrolled": true
   },
   "outputs": [
    {
     "data": {
      "text/plain": [
       "count    1417.000000\n",
       "mean       26.976711\n",
       "std        26.946801\n",
       "min         0.000000\n",
       "25%         2.000000\n",
       "50%        21.000000\n",
       "75%        42.000000\n",
       "max       123.000000\n",
       "Name: message_number, dtype: float64"
      ]
     },
     "execution_count": 98,
     "metadata": {},
     "output_type": "execute_result"
    }
   ],
   "source": [
    "# check statistics of text messages of surf plan\n",
    "df_surf['message_number'].describe()"
   ]
  },
  {
   "cell_type": "code",
   "execution_count": 99,
   "metadata": {},
   "outputs": [
    {
     "data": {
      "text/plain": [
       "726.1301069738328"
      ]
     },
     "execution_count": 99,
     "metadata": {},
     "output_type": "execute_result"
    }
   ],
   "source": [
    "# text message variance of surf plan\n",
    "df_surf['message_number'].var()"
   ]
  },
  {
   "cell_type": "markdown",
   "metadata": {},
   "source": [
    "For `surf` plan users, the mean value is 26 text messages, minimum and maximum are 0 and 123 text messages. The variance is 726. The standard deviation is 26.9."
   ]
  },
  {
   "cell_type": "code",
   "execution_count": 100,
   "metadata": {},
   "outputs": [
    {
     "data": {
      "text/plain": [
       "count    659.000000\n",
       "mean      32.708649\n",
       "std       29.448633\n",
       "min        0.000000\n",
       "25%        5.000000\n",
       "50%       28.000000\n",
       "75%       54.000000\n",
       "max      123.000000\n",
       "Name: message_number, dtype: float64"
      ]
     },
     "execution_count": 100,
     "metadata": {},
     "output_type": "execute_result"
    }
   ],
   "source": [
    "# check statistics of text messages of ultimate plan\n",
    "df_ult['message_number'].describe()"
   ]
  },
  {
   "cell_type": "code",
   "execution_count": 101,
   "metadata": {},
   "outputs": [
    {
     "data": {
      "text/plain": [
       "867.2219767447225"
      ]
     },
     "execution_count": 101,
     "metadata": {},
     "output_type": "execute_result"
    }
   ],
   "source": [
    "# text message variance of ultimate plan\n",
    "df_ult['message_number'].var()"
   ]
  },
  {
   "cell_type": "markdown",
   "metadata": {},
   "source": [
    "For `ultimate` plan users, the mean value is 32 text messages, minimum and maximum are 0 and 123 text messages. The variance is 867. The standard deviation is 29.4."
   ]
  },
  {
   "cell_type": "code",
   "execution_count": 102,
   "metadata": {},
   "outputs": [
    {
     "data": {
      "image/png": "[encoded data removed]",
      "text/plain": [
       "<Figure size 432x288 with 1 Axes>"
      ]
     },
     "metadata": {
      "needs_background": "light"
     },
     "output_type": "display_data"
    }
   ],
   "source": [
    "# plot a histogram for text message numbers of surf plan and ultimate plan\n",
    "plt.hist(df_surf['message_number'], bins = 20, label = 'surf', alpha = 0.5)\n",
    "plt.hist(df_ult['message_number'], bins = 20, label = 'ultimate', alpha = 0.6)\n",
    "# add title and axis names\n",
    "plt.xlabel('Number of text messages')\n",
    "plt.ylabel('count')\n",
    "plt.legend(loc = 'upper right');\n",
    "plt.title(\"Histogram for number of text message\");"
   ]
  },
  {
   "cell_type": "markdown",
   "metadata": {},
   "source": [
    "We observed from the histogram that `surf` plan had more users than `ultimate` plan users. The trend for both plan is similar, most users have less than 40 text messages per month."
   ]
  },
  {
   "cell_type": "markdown",
   "metadata": {},
   "source": [
    "**Conclusion**"
   ]
  },
  {
   "cell_type": "markdown",
   "metadata": {},
   "source": [
    "We observed that `ultimate` plan users have more average text messages than `surf` plan users, but `surf` plan has more users than `ultimate` plan."
   ]
  },
  {
   "cell_type": "markdown",
   "metadata": {},
   "source": [
    "#### Find the volumn of data the users of each plan require / month"
   ]
  },
  {
   "cell_type": "code",
   "execution_count": 103,
   "metadata": {},
   "outputs": [
    {
     "data": {
      "text/plain": [
       "plan\n",
       "surf        15315.652082\n",
       "ultimate    16100.860395\n",
       "Name: mb_used, dtype: float64"
      ]
     },
     "execution_count": 103,
     "metadata": {},
     "output_type": "execute_result"
    }
   ],
   "source": [
    "# groupby plan by internet usage\n",
    "df_new.groupby('plan')['mb_used'].mean()"
   ]
  },
  {
   "cell_type": "markdown",
   "metadata": {},
   "source": [
    "We observed `ultimate` plan users have more internet usage per month than `surf` plan users."
   ]
  },
  {
   "cell_type": "code",
   "execution_count": 104,
   "metadata": {},
   "outputs": [
    {
     "data": {
      "text/plain": [
       "count     1417.000000\n",
       "mean     15315.652082\n",
       "std       6361.400732\n",
       "min          0.000000\n",
       "25%      11749.000000\n",
       "50%      16242.000000\n",
       "75%      19918.000000\n",
       "max      27946.000000\n",
       "Name: mb_used, dtype: float64"
      ]
     },
     "execution_count": 104,
     "metadata": {},
     "output_type": "execute_result"
    }
   ],
   "source": [
    "# check statistics of internet usage of surf plan\n",
    "df_surf['mb_used'].describe()"
   ]
  },
  {
   "cell_type": "code",
   "execution_count": 105,
   "metadata": {},
   "outputs": [
    {
     "data": {
      "text/plain": [
       "40467419.275053926"
      ]
     },
     "execution_count": 105,
     "metadata": {},
     "output_type": "execute_result"
    }
   ],
   "source": [
    "# internet usage variance of surf plan\n",
    "df_surf['mb_used'].var()"
   ]
  },
  {
   "cell_type": "markdown",
   "metadata": {},
   "source": [
    "For `surf` plan users, the mean value is 15315 MB, minimum and maximum are 0 and 27946 MB. The variance is 40467419. The standard deviation is 6361."
   ]
  },
  {
   "cell_type": "code",
   "execution_count": 106,
   "metadata": {},
   "outputs": [
    {
     "data": {
      "text/plain": [
       "count      659.000000\n",
       "mean     16100.860395\n",
       "std       6679.275450\n",
       "min          0.000000\n",
       "25%      12329.500000\n",
       "50%      16285.000000\n",
       "75%      20091.500000\n",
       "max      33656.000000\n",
       "Name: mb_used, dtype: float64"
      ]
     },
     "execution_count": 106,
     "metadata": {},
     "output_type": "execute_result"
    }
   ],
   "source": [
    "# check statistics of internet usage of ultimate plan\n",
    "df_ult['mb_used'].describe()"
   ]
  },
  {
   "cell_type": "code",
   "execution_count": 107,
   "metadata": {},
   "outputs": [
    {
     "data": {
      "text/plain": [
       "44612720.53671169"
      ]
     },
     "execution_count": 107,
     "metadata": {},
     "output_type": "execute_result"
    }
   ],
   "source": [
    "# internet usage variance of surf plan\n",
    "df_ult['mb_used'].var()"
   ]
  },
  {
   "cell_type": "markdown",
   "metadata": {},
   "source": [
    "For `ultimate` plan users, the mean value is 16100 MB, minimum and maximum are 0 and 33656 MB. The variance is 44612721. The standard deviation is 6679."
   ]
  },
  {
   "cell_type": "code",
   "execution_count": 108,
   "metadata": {},
   "outputs": [
    {
     "data": {
      "image/png": "[encoded data removed]",
      "text/plain": [
       "<Figure size 432x288 with 1 Axes>"
      ]
     },
     "metadata": {
      "needs_background": "light"
     },
     "output_type": "display_data"
    }
   ],
   "source": [
    "# plot a histogram for internet usage of surf plan and ultimate plan\n",
    "plt.hist(df_surf['mb_used'], bins = 20, label = 'surf', alpha = 0.5)\n",
    "plt.hist(df_ult['mb_used'], bins = 20, label = 'ultimate', alpha = 0.6)\n",
    "# add title and axis names\n",
    "plt.xlabel('Internet Usage in MB')\n",
    "plt.ylabel('count')\n",
    "plt.legend(loc = 'upper right');\n",
    "plt.title(\"Histogram for internet usage\");"
   ]
  },
  {
   "cell_type": "markdown",
   "metadata": {},
   "source": [
    "We observed from the histogram that `surf` plan users had more users than `ultimate` plan. The trend for both plan is similar, most users have less than 27000 MB per month. `Ultimate` plans have more users with large internet usage. "
   ]
  },
  {
   "cell_type": "markdown",
   "metadata": {},
   "source": [
    "**Conclusion**"
   ]
  },
  {
   "cell_type": "markdown",
   "metadata": {},
   "source": [
    "We observed that `ultimate` plan users have more average internet usage than `surf` plan users, but `surf` plan has more users than `ultimate` plan. `Ultimate` plans have more users with large internet usage."
   ]
  },
  {
   "cell_type": "markdown",
   "metadata": {},
   "source": [
    "### Conclusion"
   ]
  },
  {
   "cell_type": "markdown",
   "metadata": {},
   "source": [
    "We detected and removed outliers from our dataset, and we found `surf` plan has more users than ultimate plan. We determined that `ultimate` plan users on the average use 365 minutes per month, sent about 34 messages, and use 16100 MB of data per month. We also determined that `surf` plan users on the average  use 362 minutes per month, sent about 26 messages, and use 15316 MB of data per month. On average `ultimate` plan users spend more time on calling, text more messages, and require more internet data than surf plan users."
   ]
  },
  {
   "cell_type": "markdown",
   "metadata": {},
   "source": [
    "## Test the hypotheses"
   ]
  },
  {
   "cell_type": "markdown",
   "metadata": {},
   "source": [
    "### The average revenue from users of Ultimate and Surf calling plans differs."
   ]
  },
  {
   "cell_type": "code",
   "execution_count": 109,
   "metadata": {
    "scrolled": true
   },
   "outputs": [
    {
     "name": "stdout",
     "output_type": "stream",
     "text": [
      "The average revenue for surf plan users is $ 45.64\n",
      "The average revenue for surf plan users is $ 70.2\n"
     ]
    }
   ],
   "source": [
    "# calculate average revenue of ultimate and surf plan\n",
    "print('The average revenue for surf plan users is $',(df_surf['revenue'].sum()/len(df_surf)).round(2))\n",
    "print('The average revenue for surf plan users is $',(df_ult['revenue'].sum()/len(df_ult)).round(2))"
   ]
  },
  {
   "cell_type": "markdown",
   "metadata": {},
   "source": [
    "We know the average revenue for `Surf` plan users is \\$45.64, and for `Ultimate` plan users is \\$70.2. We want to test whether the difference is significant. The null hypothesis is there is no average revenue difference between `Ultimate` and `Surf` calling plans, the alternative hypothesis is the average revenue from users of `Ultimate` and `Surf` calling plans differs. We use significant level 0.05."
   ]
  },
  {
   "cell_type": "markdown",
   "metadata": {},
   "source": [
    "* $H_0$: There is no average revenue difference between `Ultimate` and `Surf` calling plans.\n",
    "* $H_0$: The average revenue from users of `Ultimate` and `Surf` calling plans differs\n",
    "* $\\alpha$ = 0.05\n",
    "* If the p-value < $\\alpha$, we reject the null hypothesis, otherwise, we fail to reject the null hypothesis. "
   ]
  },
  {
   "cell_type": "code",
   "execution_count": 110,
   "metadata": {},
   "outputs": [
    {
     "name": "stdout",
     "output_type": "stream",
     "text": [
      "p-value:  1.5368083854994892e-80\n",
      "We reject the null hypothesis.\n"
     ]
    }
   ],
   "source": [
    "# Testing a hypothesis about the means of two statistical populations based on samples taken from them\n",
    "surf = df_surf['revenue']\n",
    "ult = df_ult['revenue']\n",
    "\n",
    "alpha = 0.05\n",
    "\n",
    "results = st.ttest_ind(surf, ult, equal_var = True)\n",
    "print('p-value: ', results.pvalue)\n",
    "\n",
    "if results.pvalue < alpha:\n",
    "    print('We reject the null hypothesis.')\n",
    "else:\n",
    "    print('We fail to reject the null hypothesis')"
   ]
  },
  {
   "cell_type": "markdown",
   "metadata": {},
   "source": [
    "**Conclusion**: Based on our testing, we reject the null hypothesis. That is, the average revenue from users of `Ultimate` and `Surf` calling plans differs"
   ]
  },
  {
   "cell_type": "markdown",
   "metadata": {},
   "source": [
    "### The average revenue from users in NY-NJ area is different from that of the users from other regions."
   ]
  },
  {
   "cell_type": "code",
   "execution_count": 111,
   "metadata": {},
   "outputs": [
    {
     "name": "stdout",
     "output_type": "stream",
     "text": [
      "The average revenue for users from NY-NJ area is $ 49.44\n",
      "The average revenue for users no from other regions is $ 54.25\n"
     ]
    }
   ],
   "source": [
    "# calculate average revenue of ultimate and surf plan users from NY-Nj area and not from Ny-Nj area.\n",
    "ny_nj = df_new.query('city == \"New York-Newark-Jersey City, NY-NJ-PA MSA\"')['revenue']\n",
    "not_ny_nj = df_new.query('city != \"New York-Newark-Jersey City, NY-NJ-PA MSA\"')['revenue']\n",
    "\n",
    "print('The average revenue for users from NY-NJ area is $', ny_nj.mean().round(2))\n",
    "print('The average revenue for users no from other regions is $', not_ny_nj.mean().round(2))"
   ]
  },
  {
   "cell_type": "markdown",
   "metadata": {},
   "source": [
    "We know the average revenue for users from NY-NJ area is $\\$$49.44, and for users from other regions is \\$54.25. We want to test whether the difference is significant. The null hypothesis is there is no average revenue difference from users in NY-NJ area and users from other regions. The alternative hypothesis is the average revenue from users in NY-NJ area is different from that of the users from other regions. We use significant level 0.05. \n",
    "* $H_0$: There is no average revenue difference from users in NY-NJ area and users from other regions.\n",
    "* $H_1$: The average revenue from users in NY-NJ area is different from that of the users from other regions.\n",
    "* $\\alpha$ = 0.05\n",
    "* If the p-value < $\\alpha$, we reject the null hypothesis, otherwise, we fail to reject the null hypothesis. "
   ]
  },
  {
   "cell_type": "code",
   "execution_count": 112,
   "metadata": {},
   "outputs": [
    {
     "name": "stdout",
     "output_type": "stream",
     "text": [
      "p-value:  0.004047086637237114\n",
      "We reject the null hypothesis.\n"
     ]
    }
   ],
   "source": [
    "ny_nj = df_new.query('city == \"New York-Newark-Jersey City, NY-NJ-PA MSA\"')['revenue']\n",
    "not_ny_nj = df_new.query('city != \"New York-Newark-Jersey City, NY-NJ-PA MSA\"')['revenue']\n",
    "\n",
    "alpha = 0.05\n",
    "\n",
    "results = st.ttest_ind(ny_nj, not_ny_nj, equal_var = True)\n",
    "print('p-value: ', results.pvalue)\n",
    "\n",
    "if results.pvalue < alpha:\n",
    "    print('We reject the null hypothesis.')\n",
    "else:\n",
    "    print('We fail to reject the null hypothesis')"
   ]
  },
  {
   "cell_type": "markdown",
   "metadata": {},
   "source": [
    "**Conclusion**: Based on our testing, we reject the null hypothesis. That is, the average revenue from users in NY-NJ area is different from that of the users from other regions."
   ]
  },
  {
   "cell_type": "markdown",
   "metadata": {},
   "source": [
    "## Overall Conclusion"
   ]
  },
  {
   "cell_type": "markdown",
   "metadata": {},
   "source": [
    "By looking at the general information of the data, we identified some problems with datatypes and coverted them to the right datatypes. We identified some missing values in `churn_date` column from `user` dataset, and we added a new column `churn` indicating if `churn_date` is missing, than the user stpped using the service, otherwise the user is still using the service. \n",
    "\n",
    "We calculated the number of calls made and minutes used per month, the minimum time spend is 0 minutes, and the maximum time spend is 1355 minutes in total. The mean value is 387 minutes total per month. We also calculated the number of text messages per month, the minimum number is 1 and the maximum number is 266. The mean value is 42 text messages. Then we calculated the volume of data per month,the minimum internet usage is 92MB per month and the maximum internet usage is 70866MB per month. The mean value is 16862MB per month. Lastly, we calculated the monthly revenue per user. \n",
    "\n",
    "By plotting histograms, we identified there were outliers existing in `calls_number`, `calls_duration`, `message_number`, `mb_used`, and `revenue`. We used IQR rule to detect outliers, and we dropped outliers  which were those less than lower boundary and greater than upper boundary.\n",
    "\n",
    "We determined that on average `Ultimate` plan users spend more time on calling, text more messages, and require more internet data than `Surf` plan users, while `Surf` plan has more users than `Ultimate` plan. That is, `Surf` plan users made more calls, text message more, and use internet more than `Ultimate` plan users.\n",
    "\n",
    "From the hypothesis test, we concluded that the average revenue from users of `Ultimate` and `Surf` calling plans differs, and the average revenue from users in NY-NJ area is different from that of the users from other regions.\n",
    "\n",
    "We can conclude that `Ultimate` plan is more profitable than `Surf` plan. To make our analysis more accurate, we can study more by grouping clients' `age` or where they live (`city`). "
   ]
  },
  {
   "cell_type": "code",
   "execution_count": null,
   "metadata": {},
   "outputs": [],
   "source": []
  }
 ],
 "metadata": {
  "ExecuteTimeLog": [
   {
    "duration": 767,
    "start_time": "2021-07-26T19:28:35.766Z"
   },
   {
    "duration": 122,
    "start_time": "2021-07-26T19:30:11.475Z"
   },
   {
    "duration": 4,
    "start_time": "2021-07-26T19:31:36.489Z"
   },
   {
    "duration": 387,
    "start_time": "2021-07-26T19:36:12.662Z"
   },
   {
    "duration": 431,
    "start_time": "2021-07-26T19:40:59.666Z"
   },
   {
    "duration": 25,
    "start_time": "2021-07-26T19:41:04.923Z"
   },
   {
    "duration": 23,
    "start_time": "2021-07-26T19:41:57.239Z"
   },
   {
    "duration": 299,
    "start_time": "2021-07-26T19:42:18.426Z"
   },
   {
    "duration": 17,
    "start_time": "2021-07-26T19:42:22.699Z"
   },
   {
    "duration": 18,
    "start_time": "2021-07-26T19:42:29.437Z"
   },
   {
    "duration": 15,
    "start_time": "2021-07-26T19:42:55.287Z"
   },
   {
    "duration": 14,
    "start_time": "2021-07-26T19:43:05.246Z"
   },
   {
    "duration": 14,
    "start_time": "2021-07-26T19:43:17.593Z"
   },
   {
    "duration": 8,
    "start_time": "2021-07-26T19:44:10.964Z"
   },
   {
    "duration": 7,
    "start_time": "2021-07-26T19:44:15.079Z"
   },
   {
    "duration": 8,
    "start_time": "2021-07-26T19:44:25.435Z"
   },
   {
    "duration": 8,
    "start_time": "2021-07-26T19:44:49.831Z"
   },
   {
    "duration": 19,
    "start_time": "2021-07-26T19:45:20.430Z"
   },
   {
    "duration": 24,
    "start_time": "2021-07-26T19:45:32.485Z"
   },
   {
    "duration": 7,
    "start_time": "2021-07-26T19:49:00.048Z"
   },
   {
    "duration": 16,
    "start_time": "2021-07-26T19:51:42.036Z"
   },
   {
    "duration": 12,
    "start_time": "2021-07-26T19:52:01.783Z"
   },
   {
    "duration": 12,
    "start_time": "2021-07-26T19:52:18.593Z"
   },
   {
    "duration": 22,
    "start_time": "2021-07-26T19:52:26.131Z"
   },
   {
    "duration": 38,
    "start_time": "2021-07-26T19:52:59.985Z"
   },
   {
    "duration": 29,
    "start_time": "2021-07-26T19:53:11.145Z"
   },
   {
    "duration": 5,
    "start_time": "2021-07-26T20:02:49.232Z"
   },
   {
    "duration": 89,
    "start_time": "2021-07-26T20:02:51.968Z"
   },
   {
    "duration": 4,
    "start_time": "2021-07-26T20:02:54.428Z"
   },
   {
    "duration": 5,
    "start_time": "2021-07-26T20:03:11.712Z"
   },
   {
    "duration": 22,
    "start_time": "2021-07-26T20:03:42.783Z"
   },
   {
    "duration": 63,
    "start_time": "2021-07-26T20:04:25.761Z"
   },
   {
    "duration": 65,
    "start_time": "2021-07-26T20:04:29.471Z"
   },
   {
    "duration": 882,
    "start_time": "2021-07-26T20:55:12.622Z"
   },
   {
    "duration": 383,
    "start_time": "2021-07-26T20:55:13.507Z"
   },
   {
    "duration": 15,
    "start_time": "2021-07-26T20:55:13.893Z"
   },
   {
    "duration": 14,
    "start_time": "2021-07-26T20:55:13.910Z"
   },
   {
    "duration": 22,
    "start_time": "2021-07-26T20:55:13.927Z"
   },
   {
    "duration": 40,
    "start_time": "2021-07-26T20:55:13.952Z"
   },
   {
    "duration": 5,
    "start_time": "2021-07-26T20:55:13.995Z"
   },
   {
    "duration": 21,
    "start_time": "2021-07-26T20:55:14.004Z"
   },
   {
    "duration": 97,
    "start_time": "2021-07-26T20:55:14.028Z"
   },
   {
    "duration": 11,
    "start_time": "2021-07-26T20:55:14.128Z"
   },
   {
    "duration": 45,
    "start_time": "2021-07-26T20:55:14.141Z"
   },
   {
    "duration": 19,
    "start_time": "2021-07-26T20:55:14.189Z"
   },
   {
    "duration": 16,
    "start_time": "2021-07-26T20:55:14.211Z"
   },
   {
    "duration": 9,
    "start_time": "2021-07-26T20:55:14.268Z"
   },
   {
    "duration": 11,
    "start_time": "2021-07-26T20:55:14.280Z"
   },
   {
    "duration": 8,
    "start_time": "2021-07-26T20:55:14.293Z"
   },
   {
    "duration": 11,
    "start_time": "2021-07-26T20:55:42.937Z"
   },
   {
    "duration": 19,
    "start_time": "2021-07-26T20:57:32.823Z"
   },
   {
    "duration": 28,
    "start_time": "2021-07-26T20:57:55.003Z"
   },
   {
    "duration": 5,
    "start_time": "2021-07-26T20:58:51.787Z"
   },
   {
    "duration": 20,
    "start_time": "2021-07-26T20:59:48.461Z"
   },
   {
    "duration": 70,
    "start_time": "2021-07-26T21:00:42.144Z"
   },
   {
    "duration": 892,
    "start_time": "2021-07-26T22:26:16.061Z"
   },
   {
    "duration": 373,
    "start_time": "2021-07-26T22:26:16.956Z"
   },
   {
    "duration": 18,
    "start_time": "2021-07-26T22:26:17.333Z"
   },
   {
    "duration": 13,
    "start_time": "2021-07-26T22:26:17.354Z"
   },
   {
    "duration": 26,
    "start_time": "2021-07-26T22:26:17.370Z"
   },
   {
    "duration": 34,
    "start_time": "2021-07-26T22:26:17.398Z"
   },
   {
    "duration": 32,
    "start_time": "2021-07-26T22:26:17.434Z"
   },
   {
    "duration": 21,
    "start_time": "2021-07-26T22:26:17.471Z"
   },
   {
    "duration": 85,
    "start_time": "2021-07-26T22:26:17.495Z"
   },
   {
    "duration": 12,
    "start_time": "2021-07-26T22:26:17.582Z"
   },
   {
    "duration": 12,
    "start_time": "2021-07-26T22:26:17.597Z"
   },
   {
    "duration": 23,
    "start_time": "2021-07-26T22:26:17.612Z"
   },
   {
    "duration": 52,
    "start_time": "2021-07-26T22:26:17.638Z"
   },
   {
    "duration": 4,
    "start_time": "2021-07-26T22:26:17.693Z"
   },
   {
    "duration": 17,
    "start_time": "2021-07-26T22:26:17.700Z"
   },
   {
    "duration": 107,
    "start_time": "2021-07-26T22:26:17.720Z"
   },
   {
    "duration": 19,
    "start_time": "2021-07-26T22:26:17.830Z"
   },
   {
    "duration": 29,
    "start_time": "2021-07-26T22:26:17.851Z"
   },
   {
    "duration": 15,
    "start_time": "2021-07-26T22:26:17.883Z"
   },
   {
    "duration": 12,
    "start_time": "2021-07-26T22:26:17.901Z"
   },
   {
    "duration": 15,
    "start_time": "2021-07-26T22:26:17.916Z"
   },
   {
    "duration": 41,
    "start_time": "2021-07-26T22:26:17.933Z"
   },
   {
    "duration": 10,
    "start_time": "2021-07-26T22:27:10.062Z"
   },
   {
    "duration": 11,
    "start_time": "2021-07-26T22:27:22.915Z"
   },
   {
    "duration": 18,
    "start_time": "2021-07-26T22:29:12.286Z"
   },
   {
    "duration": 19,
    "start_time": "2021-07-26T22:30:04.488Z"
   },
   {
    "duration": 848,
    "start_time": "2021-07-26T23:29:48.005Z"
   },
   {
    "duration": 376,
    "start_time": "2021-07-26T23:29:48.855Z"
   },
   {
    "duration": 17,
    "start_time": "2021-07-26T23:29:49.234Z"
   },
   {
    "duration": 11,
    "start_time": "2021-07-26T23:29:49.253Z"
   },
   {
    "duration": 23,
    "start_time": "2021-07-26T23:29:49.266Z"
   },
   {
    "duration": 32,
    "start_time": "2021-07-26T23:29:49.291Z"
   },
   {
    "duration": 4,
    "start_time": "2021-07-26T23:29:49.325Z"
   },
   {
    "duration": 49,
    "start_time": "2021-07-26T23:29:49.333Z"
   },
   {
    "duration": 82,
    "start_time": "2021-07-26T23:29:49.385Z"
   },
   {
    "duration": 11,
    "start_time": "2021-07-26T23:29:49.469Z"
   },
   {
    "duration": 14,
    "start_time": "2021-07-26T23:29:49.482Z"
   },
   {
    "duration": 21,
    "start_time": "2021-07-26T23:29:49.498Z"
   },
   {
    "duration": 56,
    "start_time": "2021-07-26T23:29:49.521Z"
   },
   {
    "duration": 5,
    "start_time": "2021-07-26T23:29:49.579Z"
   },
   {
    "duration": 19,
    "start_time": "2021-07-26T23:29:49.586Z"
   },
   {
    "duration": 103,
    "start_time": "2021-07-26T23:29:49.607Z"
   },
   {
    "duration": 10,
    "start_time": "2021-07-26T23:29:49.712Z"
   },
   {
    "duration": 12,
    "start_time": "2021-07-26T23:29:49.724Z"
   },
   {
    "duration": 36,
    "start_time": "2021-07-26T23:29:49.738Z"
   },
   {
    "duration": 17,
    "start_time": "2021-07-26T23:29:49.776Z"
   },
   {
    "duration": 19,
    "start_time": "2021-07-26T23:29:49.795Z"
   },
   {
    "duration": 53,
    "start_time": "2021-07-26T23:29:49.816Z"
   },
   {
    "duration": 14,
    "start_time": "2021-07-26T23:29:49.873Z"
   },
   {
    "duration": 8,
    "start_time": "2021-07-26T23:29:49.890Z"
   },
   {
    "duration": 18,
    "start_time": "2021-07-26T23:29:49.900Z"
   },
   {
    "duration": 19,
    "start_time": "2021-07-26T23:29:49.920Z"
   },
   {
    "duration": 5,
    "start_time": "2021-07-26T23:31:42.988Z"
   },
   {
    "duration": 111,
    "start_time": "2021-07-26T23:31:47.546Z"
   },
   {
    "duration": 5,
    "start_time": "2021-07-26T23:31:50.776Z"
   },
   {
    "duration": 15,
    "start_time": "2021-07-26T23:32:53.001Z"
   },
   {
    "duration": 29,
    "start_time": "2021-07-26T23:33:36.086Z"
   },
   {
    "duration": 13,
    "start_time": "2021-07-26T23:35:16.200Z"
   },
   {
    "duration": 14,
    "start_time": "2021-07-26T23:35:31.391Z"
   },
   {
    "duration": 9,
    "start_time": "2021-07-26T23:36:20.385Z"
   },
   {
    "duration": 22,
    "start_time": "2021-07-26T23:36:42.480Z"
   },
   {
    "duration": 6,
    "start_time": "2021-07-26T23:37:35.332Z"
   },
   {
    "duration": 9,
    "start_time": "2021-07-26T23:38:12.484Z"
   },
   {
    "duration": 10,
    "start_time": "2021-07-26T23:39:17.570Z"
   },
   {
    "duration": 4,
    "start_time": "2021-07-26T23:39:50.171Z"
   },
   {
    "duration": 13,
    "start_time": "2021-07-26T23:40:34.330Z"
   },
   {
    "duration": 13,
    "start_time": "2021-07-26T23:41:10.943Z"
   },
   {
    "duration": 449,
    "start_time": "2021-07-27T00:01:35.887Z"
   },
   {
    "duration": 30,
    "start_time": "2021-07-27T00:01:40.265Z"
   },
   {
    "duration": 13,
    "start_time": "2021-07-27T00:02:51.140Z"
   },
   {
    "duration": 7,
    "start_time": "2021-07-27T00:03:03.948Z"
   },
   {
    "duration": 17,
    "start_time": "2021-07-27T00:03:12.068Z"
   },
   {
    "duration": 33,
    "start_time": "2021-07-27T00:06:34.081Z"
   },
   {
    "duration": 9,
    "start_time": "2021-07-27T00:10:12.419Z"
   },
   {
    "duration": 5,
    "start_time": "2021-07-27T00:11:06.258Z"
   },
   {
    "duration": 19,
    "start_time": "2021-07-27T00:11:10.711Z"
   },
   {
    "duration": 19,
    "start_time": "2021-07-27T00:12:17.948Z"
   },
   {
    "duration": 5,
    "start_time": "2021-07-27T00:12:24.237Z"
   },
   {
    "duration": 33,
    "start_time": "2021-07-27T00:12:26.261Z"
   },
   {
    "duration": 32,
    "start_time": "2021-07-27T00:16:58.006Z"
   },
   {
    "duration": 15,
    "start_time": "2021-07-27T00:17:08.399Z"
   },
   {
    "duration": 22,
    "start_time": "2021-07-27T00:17:39.847Z"
   },
   {
    "duration": 51,
    "start_time": "2021-07-27T00:17:46.584Z"
   },
   {
    "duration": 27,
    "start_time": "2021-07-27T00:17:55.567Z"
   },
   {
    "duration": 42,
    "start_time": "2021-07-27T00:18:06.342Z"
   },
   {
    "duration": 33,
    "start_time": "2021-07-27T00:21:03.274Z"
   },
   {
    "duration": 295,
    "start_time": "2021-07-27T00:33:57.431Z"
   },
   {
    "duration": 31,
    "start_time": "2021-07-27T00:34:03.547Z"
   },
   {
    "duration": 15,
    "start_time": "2021-07-27T00:34:25.861Z"
   },
   {
    "duration": 6,
    "start_time": "2021-07-27T00:34:31.784Z"
   },
   {
    "duration": 297,
    "start_time": "2021-07-27T00:35:13.891Z"
   },
   {
    "duration": 895,
    "start_time": "2021-07-27T00:35:49.354Z"
   },
   {
    "duration": 377,
    "start_time": "2021-07-27T00:35:50.251Z"
   },
   {
    "duration": 15,
    "start_time": "2021-07-27T00:35:50.631Z"
   },
   {
    "duration": 12,
    "start_time": "2021-07-27T00:35:50.649Z"
   },
   {
    "duration": 21,
    "start_time": "2021-07-27T00:35:50.663Z"
   },
   {
    "duration": 33,
    "start_time": "2021-07-27T00:35:50.687Z"
   },
   {
    "duration": 5,
    "start_time": "2021-07-27T00:35:50.722Z"
   },
   {
    "duration": 47,
    "start_time": "2021-07-27T00:35:50.731Z"
   },
   {
    "duration": 64,
    "start_time": "2021-07-27T00:35:50.781Z"
   },
   {
    "duration": 29,
    "start_time": "2021-07-27T00:35:50.848Z"
   },
   {
    "duration": 13,
    "start_time": "2021-07-27T00:35:50.879Z"
   },
   {
    "duration": 19,
    "start_time": "2021-07-27T00:35:50.895Z"
   },
   {
    "duration": 62,
    "start_time": "2021-07-27T00:35:50.916Z"
   },
   {
    "duration": 5,
    "start_time": "2021-07-27T00:35:50.981Z"
   },
   {
    "duration": 19,
    "start_time": "2021-07-27T00:35:50.989Z"
   },
   {
    "duration": 105,
    "start_time": "2021-07-27T00:35:51.010Z"
   },
   {
    "duration": 10,
    "start_time": "2021-07-27T00:35:51.118Z"
   },
   {
    "duration": 14,
    "start_time": "2021-07-27T00:35:51.130Z"
   },
   {
    "duration": 33,
    "start_time": "2021-07-27T00:35:51.146Z"
   },
   {
    "duration": 7,
    "start_time": "2021-07-27T00:35:51.182Z"
   },
   {
    "duration": 17,
    "start_time": "2021-07-27T00:35:51.191Z"
   },
   {
    "duration": 60,
    "start_time": "2021-07-27T00:35:51.210Z"
   },
   {
    "duration": 15,
    "start_time": "2021-07-27T00:35:51.275Z"
   },
   {
    "duration": 19,
    "start_time": "2021-07-27T00:35:51.293Z"
   },
   {
    "duration": 12,
    "start_time": "2021-07-27T00:35:51.314Z"
   },
   {
    "duration": 51,
    "start_time": "2021-07-27T00:35:51.329Z"
   },
   {
    "duration": 10,
    "start_time": "2021-07-27T00:35:51.383Z"
   },
   {
    "duration": 9,
    "start_time": "2021-07-27T00:35:51.395Z"
   },
   {
    "duration": 11,
    "start_time": "2021-07-27T00:35:51.407Z"
   },
   {
    "duration": 49,
    "start_time": "2021-07-27T00:35:51.420Z"
   },
   {
    "duration": 12,
    "start_time": "2021-07-27T00:35:51.472Z"
   },
   {
    "duration": 31,
    "start_time": "2021-07-27T00:35:51.487Z"
   },
   {
    "duration": 7,
    "start_time": "2021-07-27T00:35:51.520Z"
   },
   {
    "duration": 50,
    "start_time": "2021-07-27T00:35:51.529Z"
   },
   {
    "duration": 40,
    "start_time": "2021-07-27T00:35:51.582Z"
   },
   {
    "duration": 3,
    "start_time": "2021-07-27T00:35:51.624Z"
   },
   {
    "duration": 7,
    "start_time": "2021-07-27T00:35:51.629Z"
   },
   {
    "duration": 29,
    "start_time": "2021-07-27T00:36:34.209Z"
   },
   {
    "duration": 44,
    "start_time": "2021-07-27T00:36:41.317Z"
   },
   {
    "duration": 28,
    "start_time": "2021-07-27T00:36:46.862Z"
   },
   {
    "duration": 16,
    "start_time": "2021-07-27T00:36:48.600Z"
   },
   {
    "duration": 32,
    "start_time": "2021-07-27T00:36:51.160Z"
   },
   {
    "duration": 306,
    "start_time": "2021-07-27T00:36:58.016Z"
   },
   {
    "duration": 487,
    "start_time": "2021-07-27T00:37:01.328Z"
   },
   {
    "duration": 327,
    "start_time": "2021-07-27T00:37:18.400Z"
   },
   {
    "duration": 8,
    "start_time": "2021-07-27T00:37:21.949Z"
   },
   {
    "duration": 60,
    "start_time": "2021-07-27T00:37:52.456Z"
   },
   {
    "duration": 16,
    "start_time": "2021-07-27T00:37:59.191Z"
   },
   {
    "duration": 34,
    "start_time": "2021-07-27T00:38:00.674Z"
   },
   {
    "duration": 7,
    "start_time": "2021-07-27T00:38:03.565Z"
   },
   {
    "duration": 331,
    "start_time": "2021-07-27T00:38:59.066Z"
   },
   {
    "duration": 893,
    "start_time": "2021-07-27T00:39:13.636Z"
   },
   {
    "duration": 391,
    "start_time": "2021-07-27T00:39:14.532Z"
   },
   {
    "duration": 15,
    "start_time": "2021-07-27T00:39:14.926Z"
   },
   {
    "duration": 16,
    "start_time": "2021-07-27T00:39:14.944Z"
   },
   {
    "duration": 22,
    "start_time": "2021-07-27T00:39:14.962Z"
   },
   {
    "duration": 32,
    "start_time": "2021-07-27T00:39:14.987Z"
   },
   {
    "duration": 4,
    "start_time": "2021-07-27T00:39:15.022Z"
   },
   {
    "duration": 53,
    "start_time": "2021-07-27T00:39:15.030Z"
   },
   {
    "duration": 82,
    "start_time": "2021-07-27T00:39:15.086Z"
   },
   {
    "duration": 10,
    "start_time": "2021-07-27T00:39:15.171Z"
   },
   {
    "duration": 15,
    "start_time": "2021-07-27T00:39:15.184Z"
   },
   {
    "duration": 20,
    "start_time": "2021-07-27T00:39:15.202Z"
   },
   {
    "duration": 59,
    "start_time": "2021-07-27T00:39:15.225Z"
   },
   {
    "duration": 5,
    "start_time": "2021-07-27T00:39:15.287Z"
   },
   {
    "duration": 19,
    "start_time": "2021-07-27T00:39:15.294Z"
   },
   {
    "duration": 104,
    "start_time": "2021-07-27T00:39:15.315Z"
   },
   {
    "duration": 10,
    "start_time": "2021-07-27T00:39:15.422Z"
   },
   {
    "duration": 35,
    "start_time": "2021-07-27T00:39:15.434Z"
   },
   {
    "duration": 20,
    "start_time": "2021-07-27T00:39:15.472Z"
   },
   {
    "duration": 6,
    "start_time": "2021-07-27T00:39:15.494Z"
   },
   {
    "duration": 17,
    "start_time": "2021-07-27T00:39:15.502Z"
   },
   {
    "duration": 63,
    "start_time": "2021-07-27T00:39:15.522Z"
   },
   {
    "duration": 14,
    "start_time": "2021-07-27T00:39:15.590Z"
   },
   {
    "duration": 18,
    "start_time": "2021-07-27T00:39:15.607Z"
   },
   {
    "duration": 14,
    "start_time": "2021-07-27T00:39:15.627Z"
   },
   {
    "duration": 22,
    "start_time": "2021-07-27T00:39:15.668Z"
   },
   {
    "duration": 5,
    "start_time": "2021-07-27T00:39:15.693Z"
   },
   {
    "duration": 8,
    "start_time": "2021-07-27T00:39:15.701Z"
   },
   {
    "duration": 9,
    "start_time": "2021-07-27T00:39:15.711Z"
   },
   {
    "duration": 53,
    "start_time": "2021-07-27T00:39:15.723Z"
   },
   {
    "duration": 28,
    "start_time": "2021-07-27T00:39:15.778Z"
   },
   {
    "duration": 31,
    "start_time": "2021-07-27T00:39:15.808Z"
   },
   {
    "duration": 28,
    "start_time": "2021-07-27T00:39:15.842Z"
   },
   {
    "duration": 16,
    "start_time": "2021-07-27T00:39:15.873Z"
   },
   {
    "duration": 39,
    "start_time": "2021-07-27T00:39:15.891Z"
   },
   {
    "duration": 37,
    "start_time": "2021-07-27T00:39:15.932Z"
   },
   {
    "duration": 5,
    "start_time": "2021-07-27T00:39:15.971Z"
   },
   {
    "duration": 857,
    "start_time": "2021-07-27T00:39:26.194Z"
   },
   {
    "duration": 4,
    "start_time": "2021-07-27T00:43:15.060Z"
   },
   {
    "duration": 4,
    "start_time": "2021-07-27T00:43:31.602Z"
   },
   {
    "duration": 867,
    "start_time": "2021-07-27T00:43:55.465Z"
   },
   {
    "duration": 388,
    "start_time": "2021-07-27T00:43:56.334Z"
   },
   {
    "duration": 15,
    "start_time": "2021-07-27T00:43:56.725Z"
   },
   {
    "duration": 16,
    "start_time": "2021-07-27T00:43:56.743Z"
   },
   {
    "duration": 22,
    "start_time": "2021-07-27T00:43:56.761Z"
   },
   {
    "duration": 33,
    "start_time": "2021-07-27T00:43:56.786Z"
   },
   {
    "duration": 5,
    "start_time": "2021-07-27T00:43:56.821Z"
   },
   {
    "duration": 42,
    "start_time": "2021-07-27T00:43:56.828Z"
   },
   {
    "duration": 64,
    "start_time": "2021-07-27T00:43:56.874Z"
   },
   {
    "duration": 32,
    "start_time": "2021-07-27T00:43:56.941Z"
   },
   {
    "duration": 14,
    "start_time": "2021-07-27T00:43:56.976Z"
   },
   {
    "duration": 21,
    "start_time": "2021-07-27T00:43:56.992Z"
   },
   {
    "duration": 56,
    "start_time": "2021-07-27T00:43:57.015Z"
   },
   {
    "duration": 5,
    "start_time": "2021-07-27T00:43:57.073Z"
   },
   {
    "duration": 24,
    "start_time": "2021-07-27T00:43:57.080Z"
   },
   {
    "duration": 94,
    "start_time": "2021-07-27T00:43:57.107Z"
   },
   {
    "duration": 9,
    "start_time": "2021-07-27T00:43:57.203Z"
   },
   {
    "duration": 12,
    "start_time": "2021-07-27T00:43:57.214Z"
   },
   {
    "duration": 44,
    "start_time": "2021-07-27T00:43:57.229Z"
   },
   {
    "duration": 5,
    "start_time": "2021-07-27T00:43:57.275Z"
   },
   {
    "duration": 15,
    "start_time": "2021-07-27T00:43:57.282Z"
   },
   {
    "duration": 28,
    "start_time": "2021-07-27T00:43:57.300Z"
   },
   {
    "duration": 47,
    "start_time": "2021-07-27T00:43:57.331Z"
   },
   {
    "duration": 16,
    "start_time": "2021-07-27T00:43:57.380Z"
   },
   {
    "duration": 9,
    "start_time": "2021-07-27T00:43:57.399Z"
   },
   {
    "duration": 21,
    "start_time": "2021-07-27T00:43:57.411Z"
   },
   {
    "duration": 4,
    "start_time": "2021-07-27T00:43:57.469Z"
   },
   {
    "duration": 8,
    "start_time": "2021-07-27T00:43:57.476Z"
   },
   {
    "duration": 15,
    "start_time": "2021-07-27T00:43:57.487Z"
   },
   {
    "duration": 11,
    "start_time": "2021-07-27T00:43:57.505Z"
   },
   {
    "duration": 48,
    "start_time": "2021-07-27T00:43:57.519Z"
   },
   {
    "duration": 3,
    "start_time": "2021-07-27T00:43:57.570Z"
   },
   {
    "duration": 34,
    "start_time": "2021-07-27T00:43:57.576Z"
   },
   {
    "duration": 5,
    "start_time": "2021-07-27T00:43:57.612Z"
   },
   {
    "duration": 19,
    "start_time": "2021-07-27T00:43:57.619Z"
   },
   {
    "duration": 38,
    "start_time": "2021-07-27T00:43:57.667Z"
   },
   {
    "duration": 6,
    "start_time": "2021-07-27T00:43:57.708Z"
   },
   {
    "duration": 9,
    "start_time": "2021-07-27T00:43:57.716Z"
   },
   {
    "duration": 3,
    "start_time": "2021-07-27T00:44:38.324Z"
   },
   {
    "duration": 742,
    "start_time": "2021-07-27T00:45:36.495Z"
   },
   {
    "duration": 4,
    "start_time": "2021-07-27T00:45:48.652Z"
   },
   {
    "duration": 313,
    "start_time": "2021-07-27T00:45:52.626Z"
   },
   {
    "duration": 263,
    "start_time": "2021-07-27T00:45:59.716Z"
   },
   {
    "duration": 260,
    "start_time": "2021-07-27T00:46:14.255Z"
   },
   {
    "duration": 882,
    "start_time": "2021-07-27T01:45:44.052Z"
   },
   {
    "duration": 379,
    "start_time": "2021-07-27T01:45:44.936Z"
   },
   {
    "duration": 16,
    "start_time": "2021-07-27T01:45:45.318Z"
   },
   {
    "duration": 15,
    "start_time": "2021-07-27T01:45:45.337Z"
   },
   {
    "duration": 25,
    "start_time": "2021-07-27T01:45:45.354Z"
   },
   {
    "duration": 34,
    "start_time": "2021-07-27T01:45:45.381Z"
   },
   {
    "duration": 5,
    "start_time": "2021-07-27T01:45:45.417Z"
   },
   {
    "duration": 45,
    "start_time": "2021-07-27T01:45:45.425Z"
   },
   {
    "duration": 67,
    "start_time": "2021-07-27T01:45:45.473Z"
   },
   {
    "duration": 30,
    "start_time": "2021-07-27T01:45:45.542Z"
   },
   {
    "duration": 13,
    "start_time": "2021-07-27T01:45:45.575Z"
   },
   {
    "duration": 20,
    "start_time": "2021-07-27T01:45:45.590Z"
   },
   {
    "duration": 63,
    "start_time": "2021-07-27T01:45:45.613Z"
   },
   {
    "duration": 5,
    "start_time": "2021-07-27T01:45:45.678Z"
   },
   {
    "duration": 21,
    "start_time": "2021-07-27T01:45:45.685Z"
   },
   {
    "duration": 98,
    "start_time": "2021-07-27T01:45:45.708Z"
   },
   {
    "duration": 10,
    "start_time": "2021-07-27T01:45:45.809Z"
   },
   {
    "duration": 18,
    "start_time": "2021-07-27T01:45:45.821Z"
   },
   {
    "duration": 34,
    "start_time": "2021-07-27T01:45:45.841Z"
   },
   {
    "duration": 7,
    "start_time": "2021-07-27T01:45:45.877Z"
   },
   {
    "duration": 16,
    "start_time": "2021-07-27T01:45:45.887Z"
   },
   {
    "duration": 28,
    "start_time": "2021-07-27T01:45:45.906Z"
   },
   {
    "duration": 41,
    "start_time": "2021-07-27T01:45:45.939Z"
   },
   {
    "duration": 14,
    "start_time": "2021-07-27T01:45:45.983Z"
   },
   {
    "duration": 10,
    "start_time": "2021-07-27T01:45:46.000Z"
   },
   {
    "duration": 60,
    "start_time": "2021-07-27T01:45:46.012Z"
   },
   {
    "duration": 5,
    "start_time": "2021-07-27T01:45:46.074Z"
   },
   {
    "duration": 10,
    "start_time": "2021-07-27T01:45:46.082Z"
   },
   {
    "duration": 16,
    "start_time": "2021-07-27T01:45:46.095Z"
   },
   {
    "duration": 16,
    "start_time": "2021-07-27T01:45:46.114Z"
   },
   {
    "duration": 47,
    "start_time": "2021-07-27T01:45:46.132Z"
   },
   {
    "duration": 5,
    "start_time": "2021-07-27T01:45:46.181Z"
   },
   {
    "duration": 36,
    "start_time": "2021-07-27T01:45:46.189Z"
   },
   {
    "duration": 5,
    "start_time": "2021-07-27T01:45:46.228Z"
   },
   {
    "duration": 44,
    "start_time": "2021-07-27T01:45:46.236Z"
   },
   {
    "duration": 40,
    "start_time": "2021-07-27T01:45:46.283Z"
   },
   {
    "duration": 380,
    "start_time": "2021-07-27T01:45:46.326Z"
   },
   {
    "duration": 42,
    "start_time": "2021-07-27T01:49:37.980Z"
   },
   {
    "duration": 22,
    "start_time": "2021-07-27T01:49:46.321Z"
   },
   {
    "duration": 12,
    "start_time": "2021-07-27T01:50:04.352Z"
   },
   {
    "duration": 253,
    "start_time": "2021-07-27T01:53:08.250Z"
   },
   {
    "duration": 261,
    "start_time": "2021-07-27T01:53:21.979Z"
   },
   {
    "duration": 436,
    "start_time": "2021-07-27T01:55:19.390Z"
   },
   {
    "duration": 103,
    "start_time": "2021-07-27T01:55:42.379Z"
   },
   {
    "duration": 92,
    "start_time": "2021-07-27T01:55:57.810Z"
   },
   {
    "duration": 105,
    "start_time": "2021-07-27T01:59:30.942Z"
   },
   {
    "duration": 4,
    "start_time": "2021-07-27T01:59:59.286Z"
   },
   {
    "duration": 113,
    "start_time": "2021-07-27T02:00:03.425Z"
   },
   {
    "duration": 105,
    "start_time": "2021-07-27T02:02:19.355Z"
   },
   {
    "duration": 9,
    "start_time": "2021-07-27T02:02:34.668Z"
   },
   {
    "duration": 91,
    "start_time": "2021-07-27T02:02:43.378Z"
   },
   {
    "duration": 111,
    "start_time": "2021-07-27T02:02:59.760Z"
   },
   {
    "duration": 103,
    "start_time": "2021-07-27T02:03:08.173Z"
   },
   {
    "duration": 2181,
    "start_time": "2021-07-27T02:03:18.184Z"
   },
   {
    "duration": 146,
    "start_time": "2021-07-27T02:03:29.984Z"
   },
   {
    "duration": 262,
    "start_time": "2021-07-27T02:03:34.047Z"
   },
   {
    "duration": 905,
    "start_time": "2021-07-27T02:04:35.567Z"
   },
   {
    "duration": 394,
    "start_time": "2021-07-27T02:04:36.475Z"
   },
   {
    "duration": 16,
    "start_time": "2021-07-27T02:04:36.872Z"
   },
   {
    "duration": 18,
    "start_time": "2021-07-27T02:04:36.891Z"
   },
   {
    "duration": 31,
    "start_time": "2021-07-27T02:04:36.912Z"
   },
   {
    "duration": 50,
    "start_time": "2021-07-27T02:04:36.945Z"
   },
   {
    "duration": 6,
    "start_time": "2021-07-27T02:04:36.997Z"
   },
   {
    "duration": 23,
    "start_time": "2021-07-27T02:04:37.009Z"
   },
   {
    "duration": 69,
    "start_time": "2021-07-27T02:04:37.069Z"
   },
   {
    "duration": 35,
    "start_time": "2021-07-27T02:04:37.141Z"
   },
   {
    "duration": 13,
    "start_time": "2021-07-27T02:04:37.179Z"
   },
   {
    "duration": 22,
    "start_time": "2021-07-27T02:04:37.196Z"
   },
   {
    "duration": 67,
    "start_time": "2021-07-27T02:04:37.221Z"
   },
   {
    "duration": 5,
    "start_time": "2021-07-27T02:04:37.290Z"
   },
   {
    "duration": 28,
    "start_time": "2021-07-27T02:04:37.298Z"
   },
   {
    "duration": 102,
    "start_time": "2021-07-27T02:04:37.329Z"
   },
   {
    "duration": 11,
    "start_time": "2021-07-27T02:04:37.434Z"
   },
   {
    "duration": 10,
    "start_time": "2021-07-27T02:04:37.467Z"
   },
   {
    "duration": 18,
    "start_time": "2021-07-27T02:04:37.480Z"
   },
   {
    "duration": 7,
    "start_time": "2021-07-27T02:04:37.501Z"
   },
   {
    "duration": 62,
    "start_time": "2021-07-27T02:04:37.510Z"
   },
   {
    "duration": 31,
    "start_time": "2021-07-27T02:04:37.575Z"
   },
   {
    "duration": 15,
    "start_time": "2021-07-27T02:04:37.613Z"
   },
   {
    "duration": 49,
    "start_time": "2021-07-27T02:04:37.632Z"
   },
   {
    "duration": 10,
    "start_time": "2021-07-27T02:04:37.685Z"
   },
   {
    "duration": 24,
    "start_time": "2021-07-27T02:04:37.699Z"
   },
   {
    "duration": 43,
    "start_time": "2021-07-27T02:04:37.726Z"
   },
   {
    "duration": 10,
    "start_time": "2021-07-27T02:04:37.773Z"
   },
   {
    "duration": 11,
    "start_time": "2021-07-27T02:04:37.786Z"
   },
   {
    "duration": 14,
    "start_time": "2021-07-27T02:04:37.800Z"
   },
   {
    "duration": 60,
    "start_time": "2021-07-27T02:04:37.817Z"
   },
   {
    "duration": 6,
    "start_time": "2021-07-27T02:04:37.880Z"
   },
   {
    "duration": 202,
    "start_time": "2021-07-27T02:04:37.888Z"
   },
   {
    "duration": 8,
    "start_time": "2021-07-27T02:04:38.092Z"
   },
   {
    "duration": 17,
    "start_time": "2021-07-27T02:04:38.103Z"
   },
   {
    "duration": 73,
    "start_time": "2021-07-27T02:04:38.122Z"
   },
   {
    "duration": 332,
    "start_time": "2021-07-27T02:04:38.197Z"
   },
   {
    "duration": 152,
    "start_time": "2021-07-27T02:05:05.440Z"
   },
   {
    "duration": 990,
    "start_time": "2021-07-27T02:05:11.023Z"
   },
   {
    "duration": 389,
    "start_time": "2021-07-27T02:05:12.016Z"
   },
   {
    "duration": 18,
    "start_time": "2021-07-27T02:05:12.409Z"
   },
   {
    "duration": 16,
    "start_time": "2021-07-27T02:05:12.429Z"
   },
   {
    "duration": 25,
    "start_time": "2021-07-27T02:05:12.448Z"
   },
   {
    "duration": 35,
    "start_time": "2021-07-27T02:05:12.476Z"
   },
   {
    "duration": 5,
    "start_time": "2021-07-27T02:05:12.514Z"
   },
   {
    "duration": 52,
    "start_time": "2021-07-27T02:05:12.521Z"
   },
   {
    "duration": 61,
    "start_time": "2021-07-27T02:05:12.576Z"
   },
   {
    "duration": 29,
    "start_time": "2021-07-27T02:05:12.640Z"
   },
   {
    "duration": 15,
    "start_time": "2021-07-27T02:05:12.671Z"
   },
   {
    "duration": 26,
    "start_time": "2021-07-27T02:05:12.688Z"
   },
   {
    "duration": 53,
    "start_time": "2021-07-27T02:05:12.716Z"
   },
   {
    "duration": 5,
    "start_time": "2021-07-27T02:05:12.771Z"
   },
   {
    "duration": 22,
    "start_time": "2021-07-27T02:05:12.778Z"
   },
   {
    "duration": 96,
    "start_time": "2021-07-27T02:05:12.803Z"
   },
   {
    "duration": 10,
    "start_time": "2021-07-27T02:05:12.901Z"
   },
   {
    "duration": 11,
    "start_time": "2021-07-27T02:05:12.914Z"
   },
   {
    "duration": 46,
    "start_time": "2021-07-27T02:05:12.927Z"
   },
   {
    "duration": 5,
    "start_time": "2021-07-27T02:05:12.976Z"
   },
   {
    "duration": 19,
    "start_time": "2021-07-27T02:05:12.984Z"
   },
   {
    "duration": 30,
    "start_time": "2021-07-27T02:05:13.006Z"
   },
   {
    "duration": 15,
    "start_time": "2021-07-27T02:05:13.067Z"
   },
   {
    "duration": 20,
    "start_time": "2021-07-27T02:05:13.085Z"
   },
   {
    "duration": 10,
    "start_time": "2021-07-27T02:05:13.108Z"
   },
   {
    "duration": 52,
    "start_time": "2021-07-27T02:05:13.120Z"
   },
   {
    "duration": 6,
    "start_time": "2021-07-27T02:05:13.177Z"
   },
   {
    "duration": 8,
    "start_time": "2021-07-27T02:05:13.185Z"
   },
   {
    "duration": 11,
    "start_time": "2021-07-27T02:05:13.196Z"
   },
   {
    "duration": 13,
    "start_time": "2021-07-27T02:05:13.210Z"
   },
   {
    "duration": 52,
    "start_time": "2021-07-27T02:05:13.226Z"
   },
   {
    "duration": 11,
    "start_time": "2021-07-27T02:05:13.281Z"
   },
   {
    "duration": 192,
    "start_time": "2021-07-27T02:05:13.295Z"
   },
   {
    "duration": 6,
    "start_time": "2021-07-27T02:05:13.489Z"
   },
   {
    "duration": 30,
    "start_time": "2021-07-27T02:05:13.498Z"
   },
   {
    "duration": 54,
    "start_time": "2021-07-27T02:05:13.531Z"
   },
   {
    "duration": 337,
    "start_time": "2021-07-27T02:05:13.587Z"
   },
   {
    "duration": 12,
    "start_time": "2021-07-27T02:06:18.340Z"
   },
   {
    "duration": 7451,
    "start_time": "2021-07-27T02:06:36.222Z"
   },
   {
    "duration": 128,
    "start_time": "2021-07-27T02:06:58.343Z"
   },
   {
    "duration": 152,
    "start_time": "2021-07-27T02:07:15.124Z"
   },
   {
    "duration": 135,
    "start_time": "2021-07-27T02:08:34.829Z"
   },
   {
    "duration": 5,
    "start_time": "2021-07-27T02:09:40.818Z"
   },
   {
    "duration": 298,
    "start_time": "2021-07-27T02:10:00.935Z"
   },
   {
    "duration": 13,
    "start_time": "2021-07-27T02:10:05.003Z"
   },
   {
    "duration": 6,
    "start_time": "2021-07-27T02:10:22.880Z"
   },
   {
    "duration": 295,
    "start_time": "2021-07-27T02:10:29.007Z"
   },
   {
    "duration": 10,
    "start_time": "2021-07-27T02:10:38.768Z"
   },
   {
    "duration": 887,
    "start_time": "2021-07-27T02:13:58.732Z"
   },
   {
    "duration": 374,
    "start_time": "2021-07-27T02:13:59.622Z"
   },
   {
    "duration": 14,
    "start_time": "2021-07-27T02:13:59.999Z"
   },
   {
    "duration": 10,
    "start_time": "2021-07-27T02:14:00.017Z"
   },
   {
    "duration": 25,
    "start_time": "2021-07-27T02:14:00.030Z"
   },
   {
    "duration": 33,
    "start_time": "2021-07-27T02:14:00.058Z"
   },
   {
    "duration": 4,
    "start_time": "2021-07-27T02:14:00.094Z"
   },
   {
    "duration": 28,
    "start_time": "2021-07-27T02:14:00.101Z"
   },
   {
    "duration": 96,
    "start_time": "2021-07-27T02:14:00.133Z"
   },
   {
    "duration": 11,
    "start_time": "2021-07-27T02:14:00.232Z"
   },
   {
    "duration": 30,
    "start_time": "2021-07-27T02:14:00.246Z"
   },
   {
    "duration": 37,
    "start_time": "2021-07-27T02:14:00.278Z"
   },
   {
    "duration": 28,
    "start_time": "2021-07-27T02:14:00.317Z"
   },
   {
    "duration": 22,
    "start_time": "2021-07-27T02:14:00.347Z"
   },
   {
    "duration": 21,
    "start_time": "2021-07-27T02:14:00.371Z"
   },
   {
    "duration": 94,
    "start_time": "2021-07-27T02:14:00.395Z"
   },
   {
    "duration": 9,
    "start_time": "2021-07-27T02:14:00.492Z"
   },
   {
    "duration": 15,
    "start_time": "2021-07-27T02:14:00.503Z"
   },
   {
    "duration": 30,
    "start_time": "2021-07-27T02:14:00.520Z"
   },
   {
    "duration": 18,
    "start_time": "2021-07-27T02:14:00.552Z"
   },
   {
    "duration": 21,
    "start_time": "2021-07-27T02:14:00.572Z"
   },
   {
    "duration": 38,
    "start_time": "2021-07-27T02:14:00.595Z"
   },
   {
    "duration": 32,
    "start_time": "2021-07-27T02:14:00.635Z"
   },
   {
    "duration": 20,
    "start_time": "2021-07-27T02:14:00.670Z"
   },
   {
    "duration": 25,
    "start_time": "2021-07-27T02:14:00.693Z"
   },
   {
    "duration": 45,
    "start_time": "2021-07-27T02:14:00.721Z"
   },
   {
    "duration": 6,
    "start_time": "2021-07-27T02:14:00.771Z"
   },
   {
    "duration": 20,
    "start_time": "2021-07-27T02:14:00.779Z"
   },
   {
    "duration": 35,
    "start_time": "2021-07-27T02:14:00.801Z"
   },
   {
    "duration": 43,
    "start_time": "2021-07-27T02:14:00.840Z"
   },
   {
    "duration": 19,
    "start_time": "2021-07-27T02:14:00.886Z"
   },
   {
    "duration": 27,
    "start_time": "2021-07-27T02:14:00.908Z"
   },
   {
    "duration": 183,
    "start_time": "2021-07-27T02:14:00.937Z"
   },
   {
    "duration": 5,
    "start_time": "2021-07-27T02:14:01.123Z"
   },
   {
    "duration": 26,
    "start_time": "2021-07-27T02:14:01.131Z"
   },
   {
    "duration": 48,
    "start_time": "2021-07-27T02:14:01.159Z"
   },
   {
    "duration": 341,
    "start_time": "2021-07-27T02:14:01.209Z"
   },
   {
    "duration": 162,
    "start_time": "2021-07-27T02:14:01.552Z"
   },
   {
    "duration": 3,
    "start_time": "2021-07-27T02:14:01.717Z"
   },
   {
    "duration": 26,
    "start_time": "2021-07-27T02:14:01.723Z"
   },
   {
    "duration": 5,
    "start_time": "2021-07-27T02:14:15.562Z"
   },
   {
    "duration": 11,
    "start_time": "2021-07-27T02:14:18.843Z"
   },
   {
    "duration": 8024,
    "start_time": "2021-07-27T02:16:27.775Z"
   },
   {
    "duration": 38,
    "start_time": "2021-07-27T02:16:37.344Z"
   },
   {
    "duration": 239,
    "start_time": "2021-07-27T02:17:18.287Z"
   },
   {
    "duration": 106,
    "start_time": "2021-07-27T02:19:02.518Z"
   },
   {
    "duration": 186,
    "start_time": "2021-07-27T02:19:22.954Z"
   },
   {
    "duration": 7,
    "start_time": "2021-07-27T02:22:19.372Z"
   },
   {
    "duration": 18,
    "start_time": "2021-07-27T02:22:23.685Z"
   },
   {
    "duration": 17,
    "start_time": "2021-07-27T02:23:13.647Z"
   },
   {
    "duration": 8,
    "start_time": "2021-07-27T02:24:04.761Z"
   },
   {
    "duration": 10,
    "start_time": "2021-07-27T02:25:13.258Z"
   },
   {
    "duration": 7,
    "start_time": "2021-07-27T02:29:32.005Z"
   },
   {
    "duration": 17,
    "start_time": "2021-07-27T02:29:38.672Z"
   },
   {
    "duration": 888,
    "start_time": "2021-07-27T03:00:45.288Z"
   },
   {
    "duration": 397,
    "start_time": "2021-07-27T03:00:46.179Z"
   },
   {
    "duration": 16,
    "start_time": "2021-07-27T03:00:46.578Z"
   },
   {
    "duration": 13,
    "start_time": "2021-07-27T03:00:46.597Z"
   },
   {
    "duration": 55,
    "start_time": "2021-07-27T03:00:46.613Z"
   },
   {
    "duration": 36,
    "start_time": "2021-07-27T03:00:46.671Z"
   },
   {
    "duration": 5,
    "start_time": "2021-07-27T03:00:46.710Z"
   },
   {
    "duration": 53,
    "start_time": "2021-07-27T03:00:46.719Z"
   },
   {
    "duration": 66,
    "start_time": "2021-07-27T03:00:46.775Z"
   },
   {
    "duration": 28,
    "start_time": "2021-07-27T03:00:46.844Z"
   },
   {
    "duration": 13,
    "start_time": "2021-07-27T03:00:46.874Z"
   },
   {
    "duration": 20,
    "start_time": "2021-07-27T03:00:46.890Z"
   },
   {
    "duration": 55,
    "start_time": "2021-07-27T03:00:46.913Z"
   },
   {
    "duration": 4,
    "start_time": "2021-07-27T03:00:46.971Z"
   },
   {
    "duration": 19,
    "start_time": "2021-07-27T03:00:46.978Z"
   },
   {
    "duration": 100,
    "start_time": "2021-07-27T03:00:46.999Z"
   },
   {
    "duration": 10,
    "start_time": "2021-07-27T03:00:47.101Z"
   },
   {
    "duration": 22,
    "start_time": "2021-07-27T03:00:47.113Z"
   },
   {
    "duration": 35,
    "start_time": "2021-07-27T03:00:47.137Z"
   },
   {
    "duration": 16,
    "start_time": "2021-07-27T03:00:47.174Z"
   },
   {
    "duration": 19,
    "start_time": "2021-07-27T03:00:47.193Z"
   },
   {
    "duration": 37,
    "start_time": "2021-07-27T03:00:47.214Z"
   },
   {
    "duration": 14,
    "start_time": "2021-07-27T03:00:47.269Z"
   },
   {
    "duration": 33,
    "start_time": "2021-07-27T03:00:47.285Z"
   },
   {
    "duration": 13,
    "start_time": "2021-07-27T03:00:47.320Z"
   },
   {
    "duration": 37,
    "start_time": "2021-07-27T03:00:47.335Z"
   },
   {
    "duration": 6,
    "start_time": "2021-07-27T03:00:47.375Z"
   },
   {
    "duration": 24,
    "start_time": "2021-07-27T03:00:47.383Z"
   },
   {
    "duration": 16,
    "start_time": "2021-07-27T03:00:47.409Z"
   },
   {
    "duration": 18,
    "start_time": "2021-07-27T03:00:47.428Z"
   },
   {
    "duration": 29,
    "start_time": "2021-07-27T03:00:47.450Z"
   },
   {
    "duration": 15,
    "start_time": "2021-07-27T03:00:47.481Z"
   },
   {
    "duration": 183,
    "start_time": "2021-07-27T03:00:47.498Z"
   },
   {
    "duration": 6,
    "start_time": "2021-07-27T03:00:47.683Z"
   },
   {
    "duration": 30,
    "start_time": "2021-07-27T03:00:47.691Z"
   },
   {
    "duration": 52,
    "start_time": "2021-07-27T03:00:47.724Z"
   },
   {
    "duration": 363,
    "start_time": "2021-07-27T03:00:47.778Z"
   },
   {
    "duration": 154,
    "start_time": "2021-07-27T03:00:48.144Z"
   },
   {
    "duration": 5,
    "start_time": "2021-07-27T03:00:48.301Z"
   },
   {
    "duration": 21,
    "start_time": "2021-07-27T03:00:48.308Z"
   },
   {
    "duration": 62,
    "start_time": "2021-07-27T03:00:48.332Z"
   },
   {
    "duration": 287,
    "start_time": "2021-07-27T03:00:48.396Z"
   },
   {
    "duration": 119,
    "start_time": "2021-07-27T03:00:48.685Z"
   },
   {
    "duration": 202,
    "start_time": "2021-07-27T03:00:48.806Z"
   },
   {
    "duration": 17,
    "start_time": "2021-07-27T03:00:49.010Z"
   },
   {
    "duration": 10,
    "start_time": "2021-07-27T03:00:49.030Z"
   },
   {
    "duration": 35,
    "start_time": "2021-07-27T03:00:49.042Z"
   },
   {
    "duration": 14,
    "start_time": "2021-07-27T03:00:49.080Z"
   },
   {
    "duration": 4,
    "start_time": "2021-07-27T03:04:18.071Z"
   },
   {
    "duration": 14,
    "start_time": "2021-07-27T03:04:29.365Z"
   },
   {
    "duration": 434,
    "start_time": "2021-07-27T03:16:10.052Z"
   },
   {
    "duration": 29,
    "start_time": "2021-07-27T03:16:46.299Z"
   },
   {
    "duration": 41,
    "start_time": "2021-07-27T03:16:50.915Z"
   },
   {
    "duration": 42,
    "start_time": "2021-07-27T03:17:48.653Z"
   },
   {
    "duration": 325,
    "start_time": "2021-07-27T03:18:51.140Z"
   },
   {
    "duration": 34,
    "start_time": "2021-07-27T03:18:59.245Z"
   },
   {
    "duration": 34,
    "start_time": "2021-07-27T03:19:38.110Z"
   },
   {
    "duration": 35,
    "start_time": "2021-07-27T03:19:43.550Z"
   },
   {
    "duration": 34,
    "start_time": "2021-07-27T03:19:47.667Z"
   },
   {
    "duration": 28,
    "start_time": "2021-07-27T03:19:54.596Z"
   },
   {
    "duration": 28,
    "start_time": "2021-07-27T03:20:07.703Z"
   },
   {
    "duration": 24,
    "start_time": "2021-07-27T03:21:34.845Z"
   },
   {
    "duration": 32,
    "start_time": "2021-07-27T03:21:45.206Z"
   },
   {
    "duration": 31,
    "start_time": "2021-07-27T03:22:17.552Z"
   },
   {
    "duration": 8,
    "start_time": "2021-07-27T03:23:59.512Z"
   },
   {
    "duration": 16,
    "start_time": "2021-07-27T03:24:05.746Z"
   },
   {
    "duration": 16,
    "start_time": "2021-07-27T03:24:35.976Z"
   },
   {
    "duration": 31,
    "start_time": "2021-07-27T03:28:46.966Z"
   },
   {
    "duration": 35,
    "start_time": "2021-07-27T03:28:51.482Z"
   },
   {
    "duration": 7,
    "start_time": "2021-07-27T03:31:09.802Z"
   },
   {
    "duration": 29,
    "start_time": "2021-07-27T03:34:50.599Z"
   },
   {
    "duration": 26,
    "start_time": "2021-07-27T03:34:56.133Z"
   },
   {
    "duration": 25,
    "start_time": "2021-07-27T03:35:32.918Z"
   },
   {
    "duration": 17,
    "start_time": "2021-07-27T03:35:46.018Z"
   },
   {
    "duration": 14568,
    "start_time": "2021-07-27T03:40:37.125Z"
   },
   {
    "duration": 33,
    "start_time": "2021-07-27T03:41:04.264Z"
   },
   {
    "duration": 28,
    "start_time": "2021-07-27T03:43:12.634Z"
   },
   {
    "duration": 17,
    "start_time": "2021-07-27T03:43:22.013Z"
   },
   {
    "duration": 859,
    "start_time": "2021-07-28T02:12:33.958Z"
   },
   {
    "duration": 377,
    "start_time": "2021-07-28T02:12:34.820Z"
   },
   {
    "duration": 15,
    "start_time": "2021-07-28T02:12:35.200Z"
   },
   {
    "duration": 12,
    "start_time": "2021-07-28T02:12:35.218Z"
   },
   {
    "duration": 31,
    "start_time": "2021-07-28T02:12:35.233Z"
   },
   {
    "duration": 33,
    "start_time": "2021-07-28T02:12:35.267Z"
   },
   {
    "duration": 5,
    "start_time": "2021-07-28T02:12:35.302Z"
   },
   {
    "duration": 45,
    "start_time": "2021-07-28T02:12:35.311Z"
   },
   {
    "duration": 57,
    "start_time": "2021-07-28T02:12:35.359Z"
   },
   {
    "duration": 10,
    "start_time": "2021-07-28T02:12:35.419Z"
   },
   {
    "duration": 33,
    "start_time": "2021-07-28T02:12:35.431Z"
   },
   {
    "duration": 21,
    "start_time": "2021-07-28T02:12:35.467Z"
   },
   {
    "duration": 27,
    "start_time": "2021-07-28T02:12:35.490Z"
   },
   {
    "duration": 36,
    "start_time": "2021-07-28T02:12:35.519Z"
   },
   {
    "duration": 16,
    "start_time": "2021-07-28T02:12:35.558Z"
   },
   {
    "duration": 82,
    "start_time": "2021-07-28T02:12:35.576Z"
   },
   {
    "duration": 10,
    "start_time": "2021-07-28T02:12:35.661Z"
   },
   {
    "duration": 13,
    "start_time": "2021-07-28T02:12:35.673Z"
   },
   {
    "duration": 16,
    "start_time": "2021-07-28T02:12:35.688Z"
   },
   {
    "duration": 5,
    "start_time": "2021-07-28T02:12:35.706Z"
   },
   {
    "duration": 51,
    "start_time": "2021-07-28T02:12:35.714Z"
   },
   {
    "duration": 30,
    "start_time": "2021-07-28T02:12:35.768Z"
   },
   {
    "duration": 14,
    "start_time": "2021-07-28T02:12:35.803Z"
   },
   {
    "duration": 45,
    "start_time": "2021-07-28T02:12:35.820Z"
   },
   {
    "duration": 10,
    "start_time": "2021-07-28T02:12:35.867Z"
   },
   {
    "duration": 24,
    "start_time": "2021-07-28T02:12:35.879Z"
   },
   {
    "duration": 6,
    "start_time": "2021-07-28T02:12:35.905Z"
   },
   {
    "duration": 16,
    "start_time": "2021-07-28T02:12:35.913Z"
   },
   {
    "duration": 9,
    "start_time": "2021-07-28T02:12:35.956Z"
   },
   {
    "duration": 12,
    "start_time": "2021-07-28T02:12:35.967Z"
   },
   {
    "duration": 13,
    "start_time": "2021-07-28T02:12:35.981Z"
   },
   {
    "duration": 7,
    "start_time": "2021-07-28T02:12:35.996Z"
   },
   {
    "duration": 202,
    "start_time": "2021-07-28T02:12:36.005Z"
   },
   {
    "duration": 5,
    "start_time": "2021-07-28T02:12:36.209Z"
   },
   {
    "duration": 14,
    "start_time": "2021-07-28T02:12:36.217Z"
   },
   {
    "duration": 53,
    "start_time": "2021-07-28T02:12:36.234Z"
   },
   {
    "duration": 305,
    "start_time": "2021-07-28T02:12:36.290Z"
   },
   {
    "duration": 139,
    "start_time": "2021-07-28T02:12:36.597Z"
   },
   {
    "duration": 4,
    "start_time": "2021-07-28T02:12:36.739Z"
   },
   {
    "duration": 13,
    "start_time": "2021-07-28T02:12:36.755Z"
   },
   {
    "duration": 43,
    "start_time": "2021-07-28T02:12:36.770Z"
   },
   {
    "duration": 241,
    "start_time": "2021-07-28T02:12:36.815Z"
   },
   {
    "duration": 109,
    "start_time": "2021-07-28T02:12:37.058Z"
   },
   {
    "duration": 195,
    "start_time": "2021-07-28T02:12:37.170Z"
   },
   {
    "duration": 18,
    "start_time": "2021-07-28T02:12:37.367Z"
   },
   {
    "duration": 9,
    "start_time": "2021-07-28T02:12:37.387Z"
   },
   {
    "duration": 19,
    "start_time": "2021-07-28T02:12:37.398Z"
   },
   {
    "duration": 44,
    "start_time": "2021-07-28T02:12:37.420Z"
   },
   {
    "duration": 14,
    "start_time": "2021-07-28T02:12:37.467Z"
   },
   {
    "duration": 94,
    "start_time": "2021-07-28T02:12:37.484Z"
   },
   {
    "duration": 18,
    "start_time": "2021-07-28T02:12:37.580Z"
   },
   {
    "duration": 31,
    "start_time": "2021-07-28T02:12:37.600Z"
   },
   {
    "duration": 37,
    "start_time": "2021-07-28T02:12:37.633Z"
   },
   {
    "duration": 36,
    "start_time": "2021-07-28T02:12:37.673Z"
   },
   {
    "duration": 58,
    "start_time": "2021-07-28T02:12:37.712Z"
   },
   {
    "duration": 44,
    "start_time": "2021-07-28T02:12:37.773Z"
   },
   {
    "duration": 48,
    "start_time": "2021-07-28T02:12:37.820Z"
   },
   {
    "duration": 431,
    "start_time": "2021-07-28T02:23:19.776Z"
   },
   {
    "duration": 1828,
    "start_time": "2021-07-28T02:23:30.075Z"
   },
   {
    "duration": 32,
    "start_time": "2021-07-28T02:25:43.683Z"
   },
   {
    "duration": 79,
    "start_time": "2021-07-28T02:25:46.861Z"
   },
   {
    "duration": 38,
    "start_time": "2021-07-28T02:25:58.421Z"
   },
   {
    "duration": 340,
    "start_time": "2021-07-28T02:28:34.324Z"
   },
   {
    "duration": 4,
    "start_time": "2021-07-28T02:28:45.349Z"
   },
   {
    "duration": 15,
    "start_time": "2021-07-28T02:28:51.102Z"
   },
   {
    "duration": 13,
    "start_time": "2021-07-28T02:29:05.210Z"
   },
   {
    "duration": 13,
    "start_time": "2021-07-28T02:30:44.579Z"
   },
   {
    "duration": 42,
    "start_time": "2021-07-28T02:30:49.251Z"
   },
   {
    "duration": 45,
    "start_time": "2021-07-28T02:32:41.408Z"
   },
   {
    "duration": 72,
    "start_time": "2021-07-28T02:32:52.321Z"
   },
   {
    "duration": 86,
    "start_time": "2021-07-28T02:36:07.031Z"
   },
   {
    "duration": 97,
    "start_time": "2021-07-28T02:37:29.402Z"
   },
   {
    "duration": 368,
    "start_time": "2021-07-28T02:38:55.261Z"
   },
   {
    "duration": 338,
    "start_time": "2021-07-28T02:39:49.470Z"
   },
   {
    "duration": 872,
    "start_time": "2021-07-28T02:39:56.991Z"
   },
   {
    "duration": 388,
    "start_time": "2021-07-28T02:39:57.866Z"
   },
   {
    "duration": 17,
    "start_time": "2021-07-28T02:39:58.258Z"
   },
   {
    "duration": 11,
    "start_time": "2021-07-28T02:39:58.278Z"
   },
   {
    "duration": 22,
    "start_time": "2021-07-28T02:39:58.291Z"
   },
   {
    "duration": 67,
    "start_time": "2021-07-28T02:39:58.316Z"
   },
   {
    "duration": 5,
    "start_time": "2021-07-28T02:39:58.386Z"
   },
   {
    "duration": 21,
    "start_time": "2021-07-28T02:39:58.397Z"
   },
   {
    "duration": 97,
    "start_time": "2021-07-28T02:39:58.421Z"
   },
   {
    "duration": 36,
    "start_time": "2021-07-28T02:39:58.520Z"
   },
   {
    "duration": 12,
    "start_time": "2021-07-28T02:39:58.559Z"
   },
   {
    "duration": 18,
    "start_time": "2021-07-28T02:39:58.573Z"
   },
   {
    "duration": 26,
    "start_time": "2021-07-28T02:39:58.594Z"
   },
   {
    "duration": 37,
    "start_time": "2021-07-28T02:39:58.622Z"
   },
   {
    "duration": 18,
    "start_time": "2021-07-28T02:39:58.661Z"
   },
   {
    "duration": 89,
    "start_time": "2021-07-28T02:39:58.681Z"
   },
   {
    "duration": 9,
    "start_time": "2021-07-28T02:39:58.772Z"
   },
   {
    "duration": 13,
    "start_time": "2021-07-28T02:39:58.783Z"
   },
   {
    "duration": 15,
    "start_time": "2021-07-28T02:39:58.799Z"
   },
   {
    "duration": 5,
    "start_time": "2021-07-28T02:39:58.817Z"
   },
   {
    "duration": 13,
    "start_time": "2021-07-28T02:39:58.856Z"
   },
   {
    "duration": 27,
    "start_time": "2021-07-28T02:39:58.872Z"
   },
   {
    "duration": 14,
    "start_time": "2021-07-28T02:39:58.904Z"
   },
   {
    "duration": 15,
    "start_time": "2021-07-28T02:39:58.957Z"
   },
   {
    "duration": 10,
    "start_time": "2021-07-28T02:39:58.974Z"
   },
   {
    "duration": 21,
    "start_time": "2021-07-28T02:39:58.987Z"
   },
   {
    "duration": 9,
    "start_time": "2021-07-28T02:39:59.010Z"
   },
   {
    "duration": 41,
    "start_time": "2021-07-28T02:39:59.021Z"
   },
   {
    "duration": 10,
    "start_time": "2021-07-28T02:39:59.064Z"
   },
   {
    "duration": 12,
    "start_time": "2021-07-28T02:39:59.076Z"
   },
   {
    "duration": 14,
    "start_time": "2021-07-28T02:39:59.090Z"
   },
   {
    "duration": 49,
    "start_time": "2021-07-28T02:39:59.106Z"
   },
   {
    "duration": 171,
    "start_time": "2021-07-28T02:39:59.158Z"
   },
   {
    "duration": 5,
    "start_time": "2021-07-28T02:39:59.332Z"
   },
   {
    "duration": 30,
    "start_time": "2021-07-28T02:39:59.339Z"
   },
   {
    "duration": 40,
    "start_time": "2021-07-28T02:39:59.371Z"
   },
   {
    "duration": 335,
    "start_time": "2021-07-28T02:39:59.414Z"
   },
   {
    "duration": 145,
    "start_time": "2021-07-28T02:39:59.752Z"
   },
   {
    "duration": 5,
    "start_time": "2021-07-28T02:39:59.899Z"
   },
   {
    "duration": 17,
    "start_time": "2021-07-28T02:39:59.906Z"
   },
   {
    "duration": 58,
    "start_time": "2021-07-28T02:39:59.926Z"
   },
   {
    "duration": 254,
    "start_time": "2021-07-28T02:39:59.987Z"
   },
   {
    "duration": 124,
    "start_time": "2021-07-28T02:40:00.245Z"
   },
   {
    "duration": 192,
    "start_time": "2021-07-28T02:40:00.372Z"
   },
   {
    "duration": 18,
    "start_time": "2021-07-28T02:40:00.567Z"
   },
   {
    "duration": 10,
    "start_time": "2021-07-28T02:40:00.588Z"
   },
   {
    "duration": 55,
    "start_time": "2021-07-28T02:40:00.601Z"
   },
   {
    "duration": 14,
    "start_time": "2021-07-28T02:40:00.658Z"
   },
   {
    "duration": 26,
    "start_time": "2021-07-28T02:40:00.674Z"
   },
   {
    "duration": 95,
    "start_time": "2021-07-28T02:40:00.703Z"
   },
   {
    "duration": 16,
    "start_time": "2021-07-28T02:40:00.800Z"
   },
   {
    "duration": 55,
    "start_time": "2021-07-28T02:40:00.818Z"
   },
   {
    "duration": 17,
    "start_time": "2021-07-28T02:40:00.876Z"
   },
   {
    "duration": 43,
    "start_time": "2021-07-28T02:40:00.895Z"
   },
   {
    "duration": 16,
    "start_time": "2021-07-28T02:40:00.955Z"
   },
   {
    "duration": 63,
    "start_time": "2021-07-28T02:40:00.974Z"
   },
   {
    "duration": 26,
    "start_time": "2021-07-28T02:40:01.039Z"
   },
   {
    "duration": 60,
    "start_time": "2021-07-28T02:40:01.067Z"
   },
   {
    "duration": 14,
    "start_time": "2021-07-28T02:40:01.129Z"
   },
   {
    "duration": 43,
    "start_time": "2021-07-28T02:40:01.145Z"
   },
   {
    "duration": 467,
    "start_time": "2021-07-28T02:42:28.915Z"
   },
   {
    "duration": 30,
    "start_time": "2021-07-28T02:42:40.293Z"
   },
   {
    "duration": 11,
    "start_time": "2021-07-28T03:21:53.984Z"
   },
   {
    "duration": 29,
    "start_time": "2021-07-28T03:22:31.102Z"
   },
   {
    "duration": 7,
    "start_time": "2021-07-28T03:26:48.457Z"
   },
   {
    "duration": 32,
    "start_time": "2021-07-28T03:26:54.971Z"
   },
   {
    "duration": 6,
    "start_time": "2021-07-28T03:28:54.282Z"
   },
   {
    "duration": 34,
    "start_time": "2021-07-28T03:29:00.079Z"
   },
   {
    "duration": 7,
    "start_time": "2021-07-28T03:29:24.481Z"
   },
   {
    "duration": 7,
    "start_time": "2021-07-28T03:29:36.023Z"
   },
   {
    "duration": 843,
    "start_time": "2021-07-28T03:48:02.399Z"
   },
   {
    "duration": 384,
    "start_time": "2021-07-28T03:48:03.245Z"
   },
   {
    "duration": 14,
    "start_time": "2021-07-28T03:48:03.632Z"
   },
   {
    "duration": 19,
    "start_time": "2021-07-28T03:48:03.649Z"
   },
   {
    "duration": 36,
    "start_time": "2021-07-28T03:48:03.670Z"
   },
   {
    "duration": 32,
    "start_time": "2021-07-28T03:48:03.708Z"
   },
   {
    "duration": 15,
    "start_time": "2021-07-28T03:48:03.742Z"
   },
   {
    "duration": 24,
    "start_time": "2021-07-28T03:48:03.761Z"
   },
   {
    "duration": 80,
    "start_time": "2021-07-28T03:48:03.788Z"
   },
   {
    "duration": 10,
    "start_time": "2021-07-28T03:48:03.871Z"
   },
   {
    "duration": 25,
    "start_time": "2021-07-28T03:48:03.884Z"
   },
   {
    "duration": 34,
    "start_time": "2021-07-28T03:48:03.911Z"
   },
   {
    "duration": 32,
    "start_time": "2021-07-28T03:48:03.947Z"
   },
   {
    "duration": 5,
    "start_time": "2021-07-28T03:48:03.981Z"
   },
   {
    "duration": 20,
    "start_time": "2021-07-28T03:48:03.989Z"
   },
   {
    "duration": 100,
    "start_time": "2021-07-28T03:48:04.012Z"
   },
   {
    "duration": 10,
    "start_time": "2021-07-28T03:48:04.114Z"
   },
   {
    "duration": 30,
    "start_time": "2021-07-28T03:48:04.127Z"
   },
   {
    "duration": 15,
    "start_time": "2021-07-28T03:48:04.160Z"
   },
   {
    "duration": 7,
    "start_time": "2021-07-28T03:48:04.178Z"
   },
   {
    "duration": 24,
    "start_time": "2021-07-28T03:48:04.187Z"
   },
   {
    "duration": 58,
    "start_time": "2021-07-28T03:48:04.214Z"
   },
   {
    "duration": 15,
    "start_time": "2021-07-28T03:48:04.278Z"
   },
   {
    "duration": 19,
    "start_time": "2021-07-28T03:48:04.296Z"
   },
   {
    "duration": 39,
    "start_time": "2021-07-28T03:48:04.318Z"
   },
   {
    "duration": 29,
    "start_time": "2021-07-28T03:48:04.360Z"
   },
   {
    "duration": 5,
    "start_time": "2021-07-28T03:48:04.391Z"
   },
   {
    "duration": 15,
    "start_time": "2021-07-28T03:48:04.399Z"
   },
   {
    "duration": 16,
    "start_time": "2021-07-28T03:48:04.417Z"
   },
   {
    "duration": 26,
    "start_time": "2021-07-28T03:48:04.435Z"
   },
   {
    "duration": 20,
    "start_time": "2021-07-28T03:48:04.463Z"
   },
   {
    "duration": 11,
    "start_time": "2021-07-28T03:48:04.485Z"
   },
   {
    "duration": 185,
    "start_time": "2021-07-28T03:48:04.498Z"
   },
   {
    "duration": 5,
    "start_time": "2021-07-28T03:48:04.685Z"
   },
   {
    "duration": 22,
    "start_time": "2021-07-28T03:48:04.693Z"
   },
   {
    "duration": 59,
    "start_time": "2021-07-28T03:48:04.718Z"
   },
   {
    "duration": 322,
    "start_time": "2021-07-28T03:48:04.779Z"
   },
   {
    "duration": 140,
    "start_time": "2021-07-28T03:48:05.103Z"
   },
   {
    "duration": 13,
    "start_time": "2021-07-28T03:48:05.245Z"
   },
   {
    "duration": 27,
    "start_time": "2021-07-28T03:48:05.261Z"
   },
   {
    "duration": 36,
    "start_time": "2021-07-28T03:48:05.290Z"
   },
   {
    "duration": 270,
    "start_time": "2021-07-28T03:48:05.328Z"
   },
   {
    "duration": 111,
    "start_time": "2021-07-28T03:48:05.600Z"
   },
   {
    "duration": 181,
    "start_time": "2021-07-28T03:48:05.714Z"
   },
   {
    "duration": 17,
    "start_time": "2021-07-28T03:48:05.898Z"
   },
   {
    "duration": 15,
    "start_time": "2021-07-28T03:48:05.917Z"
   },
   {
    "duration": 33,
    "start_time": "2021-07-28T03:48:05.934Z"
   },
   {
    "duration": 17,
    "start_time": "2021-07-28T03:48:05.969Z"
   },
   {
    "duration": 20,
    "start_time": "2021-07-28T03:48:05.989Z"
   },
   {
    "duration": 97,
    "start_time": "2021-07-28T03:48:06.011Z"
   },
   {
    "duration": 16,
    "start_time": "2021-07-28T03:48:06.110Z"
   },
   {
    "duration": 50,
    "start_time": "2021-07-28T03:48:06.128Z"
   },
   {
    "duration": 16,
    "start_time": "2021-07-28T03:48:06.180Z"
   },
   {
    "duration": 52,
    "start_time": "2021-07-28T03:48:06.198Z"
   },
   {
    "duration": 17,
    "start_time": "2021-07-28T03:48:06.256Z"
   },
   {
    "duration": 57,
    "start_time": "2021-07-28T03:48:06.275Z"
   },
   {
    "duration": 31,
    "start_time": "2021-07-28T03:48:06.334Z"
   },
   {
    "duration": 42,
    "start_time": "2021-07-28T03:48:06.368Z"
   },
   {
    "duration": 13,
    "start_time": "2021-07-28T03:48:06.412Z"
   },
   {
    "duration": 52,
    "start_time": "2021-07-28T03:48:06.427Z"
   },
   {
    "duration": 32,
    "start_time": "2021-07-28T03:48:06.481Z"
   },
   {
    "duration": 42,
    "start_time": "2021-07-28T03:48:06.515Z"
   },
   {
    "duration": 6,
    "start_time": "2021-07-28T03:48:06.559Z"
   },
   {
    "duration": 41,
    "start_time": "2021-07-28T03:48:06.567Z"
   },
   {
    "duration": 9,
    "start_time": "2021-07-28T03:48:18.030Z"
   },
   {
    "duration": 31,
    "start_time": "2021-07-28T03:48:24.884Z"
   },
   {
    "duration": 11,
    "start_time": "2021-07-28T03:50:03.084Z"
   },
   {
    "duration": 8,
    "start_time": "2021-07-28T03:50:15.922Z"
   },
   {
    "duration": 6,
    "start_time": "2021-07-28T03:52:38.186Z"
   },
   {
    "duration": 33,
    "start_time": "2021-07-28T03:53:06.007Z"
   },
   {
    "duration": 10,
    "start_time": "2021-07-28T03:54:49.711Z"
   },
   {
    "duration": 6,
    "start_time": "2021-07-28T03:55:02.140Z"
   },
   {
    "duration": 31,
    "start_time": "2021-07-28T03:55:06.899Z"
   },
   {
    "duration": 6,
    "start_time": "2021-07-28T03:55:26.569Z"
   },
   {
    "duration": 29,
    "start_time": "2021-07-28T03:55:29.170Z"
   },
   {
    "duration": 845,
    "start_time": "2021-07-28T03:56:53.668Z"
   },
   {
    "duration": 366,
    "start_time": "2021-07-28T03:56:54.516Z"
   },
   {
    "duration": 15,
    "start_time": "2021-07-28T03:56:54.886Z"
   },
   {
    "duration": 13,
    "start_time": "2021-07-28T03:56:54.904Z"
   },
   {
    "duration": 21,
    "start_time": "2021-07-28T03:56:54.920Z"
   },
   {
    "duration": 37,
    "start_time": "2021-07-28T03:56:54.944Z"
   },
   {
    "duration": 5,
    "start_time": "2021-07-28T03:56:54.983Z"
   },
   {
    "duration": 21,
    "start_time": "2021-07-28T03:56:54.991Z"
   },
   {
    "duration": 94,
    "start_time": "2021-07-28T03:56:55.016Z"
   },
   {
    "duration": 11,
    "start_time": "2021-07-28T03:56:55.113Z"
   },
   {
    "duration": 35,
    "start_time": "2021-07-28T03:56:55.126Z"
   },
   {
    "duration": 23,
    "start_time": "2021-07-28T03:56:55.163Z"
   },
   {
    "duration": 31,
    "start_time": "2021-07-28T03:56:55.188Z"
   },
   {
    "duration": 5,
    "start_time": "2021-07-28T03:56:55.222Z"
   },
   {
    "duration": 18,
    "start_time": "2021-07-28T03:56:55.256Z"
   },
   {
    "duration": 93,
    "start_time": "2021-07-28T03:56:55.277Z"
   },
   {
    "duration": 11,
    "start_time": "2021-07-28T03:56:55.373Z"
   },
   {
    "duration": 17,
    "start_time": "2021-07-28T03:56:55.387Z"
   },
   {
    "duration": 54,
    "start_time": "2021-07-28T03:56:55.407Z"
   },
   {
    "duration": 6,
    "start_time": "2021-07-28T03:56:55.465Z"
   },
   {
    "duration": 28,
    "start_time": "2021-07-28T03:56:55.474Z"
   },
   {
    "duration": 55,
    "start_time": "2021-07-28T03:56:55.505Z"
   },
   {
    "duration": 21,
    "start_time": "2021-07-28T03:56:55.563Z"
   },
   {
    "duration": 23,
    "start_time": "2021-07-28T03:56:55.586Z"
   },
   {
    "duration": 15,
    "start_time": "2021-07-28T03:56:55.611Z"
   },
   {
    "duration": 43,
    "start_time": "2021-07-28T03:56:55.629Z"
   },
   {
    "duration": 11,
    "start_time": "2021-07-28T03:56:55.678Z"
   },
   {
    "duration": 10,
    "start_time": "2021-07-28T03:56:55.693Z"
   },
   {
    "duration": 12,
    "start_time": "2021-07-28T03:56:55.707Z"
   },
   {
    "duration": 15,
    "start_time": "2021-07-28T03:56:55.755Z"
   },
   {
    "duration": 25,
    "start_time": "2021-07-28T03:56:55.773Z"
   },
   {
    "duration": 9,
    "start_time": "2021-07-28T03:56:55.801Z"
   },
   {
    "duration": 269,
    "start_time": "2021-07-28T03:56:55.816Z"
   },
   {
    "duration": 7,
    "start_time": "2021-07-28T03:56:56.089Z"
   },
   {
    "duration": 16,
    "start_time": "2021-07-28T03:56:56.099Z"
   },
   {
    "duration": 71,
    "start_time": "2021-07-28T03:56:56.117Z"
   },
   {
    "duration": 309,
    "start_time": "2021-07-28T03:56:56.190Z"
   },
   {
    "duration": 144,
    "start_time": "2021-07-28T03:56:56.501Z"
   },
   {
    "duration": 9,
    "start_time": "2021-07-28T03:56:56.648Z"
   },
   {
    "duration": 17,
    "start_time": "2021-07-28T03:56:56.660Z"
   },
   {
    "duration": 36,
    "start_time": "2021-07-28T03:56:56.679Z"
   },
   {
    "duration": 253,
    "start_time": "2021-07-28T03:56:56.718Z"
   },
   {
    "duration": 116,
    "start_time": "2021-07-28T03:56:56.974Z"
   },
   {
    "duration": 311,
    "start_time": "2021-07-28T03:56:57.093Z"
   },
   {
    "duration": 24,
    "start_time": "2021-07-28T03:56:57.407Z"
   },
   {
    "duration": 29,
    "start_time": "2021-07-28T03:56:57.434Z"
   },
   {
    "duration": 26,
    "start_time": "2021-07-28T03:56:57.466Z"
   },
   {
    "duration": 12,
    "start_time": "2021-07-28T03:56:57.495Z"
   },
   {
    "duration": 48,
    "start_time": "2021-07-28T03:56:57.509Z"
   },
   {
    "duration": 77,
    "start_time": "2021-07-28T03:56:57.559Z"
   },
   {
    "duration": 34,
    "start_time": "2021-07-28T03:56:57.639Z"
   },
   {
    "duration": 47,
    "start_time": "2021-07-28T03:56:57.676Z"
   },
   {
    "duration": 41,
    "start_time": "2021-07-28T03:56:57.726Z"
   },
   {
    "duration": 45,
    "start_time": "2021-07-28T03:56:57.770Z"
   },
   {
    "duration": 47,
    "start_time": "2021-07-28T03:56:57.818Z"
   },
   {
    "duration": 59,
    "start_time": "2021-07-28T03:56:57.869Z"
   },
   {
    "duration": 40,
    "start_time": "2021-07-28T03:56:57.931Z"
   },
   {
    "duration": 84,
    "start_time": "2021-07-28T03:56:57.974Z"
   },
   {
    "duration": 19,
    "start_time": "2021-07-28T03:56:58.061Z"
   },
   {
    "duration": 64,
    "start_time": "2021-07-28T03:56:58.083Z"
   },
   {
    "duration": 46,
    "start_time": "2021-07-28T03:56:58.155Z"
   },
   {
    "duration": 9577,
    "start_time": "2021-07-28T03:56:58.204Z"
   },
   {
    "duration": -1663,
    "start_time": "2021-07-28T03:57:09.447Z"
   },
   {
    "duration": -1666,
    "start_time": "2021-07-28T03:57:09.451Z"
   },
   {
    "duration": -1669,
    "start_time": "2021-07-28T03:57:09.456Z"
   },
   {
    "duration": 7,
    "start_time": "2021-07-28T03:57:12.291Z"
   },
   {
    "duration": 866,
    "start_time": "2021-07-28T03:57:22.444Z"
   },
   {
    "duration": 366,
    "start_time": "2021-07-28T03:57:23.313Z"
   },
   {
    "duration": 17,
    "start_time": "2021-07-28T03:57:23.684Z"
   },
   {
    "duration": 12,
    "start_time": "2021-07-28T03:57:23.704Z"
   },
   {
    "duration": 39,
    "start_time": "2021-07-28T03:57:23.719Z"
   },
   {
    "duration": 34,
    "start_time": "2021-07-28T03:57:23.761Z"
   },
   {
    "duration": 5,
    "start_time": "2021-07-28T03:57:23.798Z"
   },
   {
    "duration": 57,
    "start_time": "2021-07-28T03:57:23.809Z"
   },
   {
    "duration": 59,
    "start_time": "2021-07-28T03:57:23.870Z"
   },
   {
    "duration": 34,
    "start_time": "2021-07-28T03:57:23.931Z"
   },
   {
    "duration": 15,
    "start_time": "2021-07-28T03:57:23.968Z"
   },
   {
    "duration": 20,
    "start_time": "2021-07-28T03:57:23.985Z"
   },
   {
    "duration": 69,
    "start_time": "2021-07-28T03:57:24.007Z"
   },
   {
    "duration": 6,
    "start_time": "2021-07-28T03:57:24.079Z"
   },
   {
    "duration": 22,
    "start_time": "2021-07-28T03:57:24.088Z"
   },
   {
    "duration": 100,
    "start_time": "2021-07-28T03:57:24.113Z"
   },
   {
    "duration": 10,
    "start_time": "2021-07-28T03:57:24.216Z"
   },
   {
    "duration": 33,
    "start_time": "2021-07-28T03:57:24.229Z"
   },
   {
    "duration": 30,
    "start_time": "2021-07-28T03:57:24.264Z"
   },
   {
    "duration": 6,
    "start_time": "2021-07-28T03:57:24.297Z"
   },
   {
    "duration": 19,
    "start_time": "2021-07-28T03:57:24.306Z"
   },
   {
    "duration": 60,
    "start_time": "2021-07-28T03:57:24.328Z"
   },
   {
    "duration": 14,
    "start_time": "2021-07-28T03:57:24.394Z"
   },
   {
    "duration": 14,
    "start_time": "2021-07-28T03:57:24.411Z"
   },
   {
    "duration": 9,
    "start_time": "2021-07-28T03:57:24.456Z"
   },
   {
    "duration": 26,
    "start_time": "2021-07-28T03:57:24.467Z"
   },
   {
    "duration": 5,
    "start_time": "2021-07-28T03:57:24.495Z"
   },
   {
    "duration": 9,
    "start_time": "2021-07-28T03:57:24.502Z"
   },
   {
    "duration": 43,
    "start_time": "2021-07-28T03:57:24.514Z"
   },
   {
    "duration": 12,
    "start_time": "2021-07-28T03:57:24.560Z"
   },
   {
    "duration": 13,
    "start_time": "2021-07-28T03:57:24.575Z"
   },
   {
    "duration": 5,
    "start_time": "2021-07-28T03:57:24.590Z"
   },
   {
    "duration": 196,
    "start_time": "2021-07-28T03:57:24.597Z"
   },
   {
    "duration": 6,
    "start_time": "2021-07-28T03:57:24.795Z"
   },
   {
    "duration": 16,
    "start_time": "2021-07-28T03:57:24.803Z"
   },
   {
    "duration": 67,
    "start_time": "2021-07-28T03:57:24.821Z"
   },
   {
    "duration": 319,
    "start_time": "2021-07-28T03:57:24.891Z"
   },
   {
    "duration": 145,
    "start_time": "2021-07-28T03:57:25.212Z"
   },
   {
    "duration": 4,
    "start_time": "2021-07-28T03:57:25.359Z"
   },
   {
    "duration": 16,
    "start_time": "2021-07-28T03:57:25.366Z"
   },
   {
    "duration": 36,
    "start_time": "2021-07-28T03:57:25.385Z"
   },
   {
    "duration": 275,
    "start_time": "2021-07-28T03:57:25.423Z"
   },
   {
    "duration": 126,
    "start_time": "2021-07-28T03:57:25.700Z"
   },
   {
    "duration": 182,
    "start_time": "2021-07-28T03:57:25.829Z"
   },
   {
    "duration": 17,
    "start_time": "2021-07-28T03:57:26.013Z"
   },
   {
    "duration": 25,
    "start_time": "2021-07-28T03:57:26.032Z"
   },
   {
    "duration": 19,
    "start_time": "2021-07-28T03:57:26.059Z"
   },
   {
    "duration": 14,
    "start_time": "2021-07-28T03:57:26.081Z"
   },
   {
    "duration": 13,
    "start_time": "2021-07-28T03:57:26.098Z"
   },
   {
    "duration": 120,
    "start_time": "2021-07-28T03:57:26.113Z"
   },
   {
    "duration": 31,
    "start_time": "2021-07-28T03:57:26.235Z"
   },
   {
    "duration": 31,
    "start_time": "2021-07-28T03:57:26.268Z"
   },
   {
    "duration": 15,
    "start_time": "2021-07-28T03:57:26.301Z"
   },
   {
    "duration": 68,
    "start_time": "2021-07-28T03:57:26.318Z"
   },
   {
    "duration": 16,
    "start_time": "2021-07-28T03:57:26.388Z"
   },
   {
    "duration": 80,
    "start_time": "2021-07-28T03:57:26.407Z"
   },
   {
    "duration": 15,
    "start_time": "2021-07-28T03:57:26.489Z"
   },
   {
    "duration": 66,
    "start_time": "2021-07-28T03:57:26.506Z"
   },
   {
    "duration": 13,
    "start_time": "2021-07-28T03:57:26.575Z"
   },
   {
    "duration": 29,
    "start_time": "2021-07-28T03:57:26.591Z"
   },
   {
    "duration": 63,
    "start_time": "2021-07-28T03:57:26.622Z"
   },
   {
    "duration": 11,
    "start_time": "2021-07-28T03:57:26.688Z"
   },
   {
    "duration": 7,
    "start_time": "2021-07-28T03:57:26.702Z"
   },
   {
    "duration": 10,
    "start_time": "2021-07-28T03:57:26.712Z"
   },
   {
    "duration": 33,
    "start_time": "2021-07-28T03:57:26.725Z"
   },
   {
    "duration": 30,
    "start_time": "2021-07-28T03:59:16.526Z"
   },
   {
    "duration": 294,
    "start_time": "2021-07-29T03:28:41.281Z"
   },
   {
    "duration": 844,
    "start_time": "2021-07-29T03:28:47.911Z"
   },
   {
    "duration": 391,
    "start_time": "2021-07-29T03:28:48.758Z"
   },
   {
    "duration": 16,
    "start_time": "2021-07-29T03:28:49.152Z"
   },
   {
    "duration": 11,
    "start_time": "2021-07-29T03:28:49.172Z"
   },
   {
    "duration": 23,
    "start_time": "2021-07-29T03:28:49.186Z"
   },
   {
    "duration": 67,
    "start_time": "2021-07-29T03:28:49.212Z"
   },
   {
    "duration": 5,
    "start_time": "2021-07-29T03:28:49.282Z"
   },
   {
    "duration": 36,
    "start_time": "2021-07-29T03:28:49.293Z"
   },
   {
    "duration": 111,
    "start_time": "2021-07-29T03:28:49.333Z"
   },
   {
    "duration": 27,
    "start_time": "2021-07-29T03:28:49.447Z"
   },
   {
    "duration": 27,
    "start_time": "2021-07-29T03:28:49.477Z"
   },
   {
    "duration": 35,
    "start_time": "2021-07-29T03:28:49.507Z"
   },
   {
    "duration": 51,
    "start_time": "2021-07-29T03:28:49.545Z"
   },
   {
    "duration": 6,
    "start_time": "2021-07-29T03:28:49.599Z"
   },
   {
    "duration": 19,
    "start_time": "2021-07-29T03:28:49.607Z"
   },
   {
    "duration": 100,
    "start_time": "2021-07-29T03:28:49.628Z"
   },
   {
    "duration": 10,
    "start_time": "2021-07-29T03:28:49.730Z"
   },
   {
    "duration": 11,
    "start_time": "2021-07-29T03:28:49.762Z"
   },
   {
    "duration": 17,
    "start_time": "2021-07-29T03:28:49.776Z"
   },
   {
    "duration": 6,
    "start_time": "2021-07-29T03:28:49.797Z"
   },
   {
    "duration": 15,
    "start_time": "2021-07-29T03:28:49.805Z"
   },
   {
    "duration": 29,
    "start_time": "2021-07-29T03:28:49.863Z"
   },
   {
    "duration": 15,
    "start_time": "2021-07-29T03:28:49.895Z"
   },
   {
    "duration": 15,
    "start_time": "2021-07-29T03:28:49.912Z"
   },
   {
    "duration": 10,
    "start_time": "2021-07-29T03:28:49.963Z"
   },
   {
    "duration": 23,
    "start_time": "2021-07-29T03:28:49.983Z"
   },
   {
    "duration": 10,
    "start_time": "2021-07-29T03:28:50.010Z"
   },
   {
    "duration": 46,
    "start_time": "2021-07-29T03:28:50.023Z"
   },
   {
    "duration": 16,
    "start_time": "2021-07-29T03:28:50.072Z"
   },
   {
    "duration": 15,
    "start_time": "2021-07-29T03:28:50.091Z"
   },
   {
    "duration": 55,
    "start_time": "2021-07-29T03:28:50.109Z"
   },
   {
    "duration": 5,
    "start_time": "2021-07-29T03:28:50.167Z"
   },
   {
    "duration": 193,
    "start_time": "2021-07-29T03:28:50.175Z"
   },
   {
    "duration": 7,
    "start_time": "2021-07-29T03:28:50.370Z"
   },
   {
    "duration": 18,
    "start_time": "2021-07-29T03:28:50.380Z"
   },
   {
    "duration": 75,
    "start_time": "2021-07-29T03:28:50.401Z"
   },
   {
    "duration": 359,
    "start_time": "2021-07-29T03:28:50.479Z"
   },
   {
    "duration": 153,
    "start_time": "2021-07-29T03:28:50.840Z"
   },
   {
    "duration": 5,
    "start_time": "2021-07-29T03:28:50.996Z"
   },
   {
    "duration": 13,
    "start_time": "2021-07-29T03:28:51.004Z"
   },
   {
    "duration": 76,
    "start_time": "2021-07-29T03:28:51.019Z"
   },
   {
    "duration": 276,
    "start_time": "2021-07-29T03:28:51.099Z"
   },
   {
    "duration": 124,
    "start_time": "2021-07-29T03:28:51.378Z"
   },
   {
    "duration": 211,
    "start_time": "2021-07-29T03:28:51.504Z"
   },
   {
    "duration": 19,
    "start_time": "2021-07-29T03:28:51.717Z"
   },
   {
    "duration": 26,
    "start_time": "2021-07-29T03:28:51.738Z"
   },
   {
    "duration": 21,
    "start_time": "2021-07-29T03:28:51.767Z"
   },
   {
    "duration": 16,
    "start_time": "2021-07-29T03:28:51.790Z"
   },
   {
    "duration": 26,
    "start_time": "2021-07-29T03:28:51.809Z"
   },
   {
    "duration": 76,
    "start_time": "2021-07-29T03:28:51.863Z"
   },
   {
    "duration": 36,
    "start_time": "2021-07-29T03:28:51.941Z"
   },
   {
    "duration": 32,
    "start_time": "2021-07-29T03:28:51.979Z"
   },
   {
    "duration": 49,
    "start_time": "2021-07-29T03:28:52.014Z"
   },
   {
    "duration": 36,
    "start_time": "2021-07-29T03:28:52.066Z"
   },
   {
    "duration": 17,
    "start_time": "2021-07-29T03:28:52.104Z"
   },
   {
    "duration": 83,
    "start_time": "2021-07-29T03:28:52.124Z"
   },
   {
    "duration": 19,
    "start_time": "2021-07-29T03:28:52.210Z"
   },
   {
    "duration": 72,
    "start_time": "2021-07-29T03:28:52.232Z"
   },
   {
    "duration": 15,
    "start_time": "2021-07-29T03:28:52.308Z"
   },
   {
    "duration": 60,
    "start_time": "2021-07-29T03:28:52.326Z"
   },
   {
    "duration": 33,
    "start_time": "2021-07-29T03:28:52.389Z"
   },
   {
    "duration": 37,
    "start_time": "2021-07-29T03:28:52.425Z"
   },
   {
    "duration": 7,
    "start_time": "2021-07-29T03:28:52.465Z"
   },
   {
    "duration": 23,
    "start_time": "2021-07-29T03:28:52.475Z"
   },
   {
    "duration": 16,
    "start_time": "2021-07-29T03:28:52.500Z"
   },
   {
    "duration": 42,
    "start_time": "2021-07-29T03:28:52.519Z"
   },
   {
    "duration": 4,
    "start_time": "2021-07-29T03:33:24.525Z"
   },
   {
    "duration": 392,
    "start_time": "2021-07-29T03:34:01.499Z"
   },
   {
    "duration": 3838,
    "start_time": "2021-07-29T03:34:12.516Z"
   },
   {
    "duration": 4052,
    "start_time": "2021-07-29T03:34:59.980Z"
   },
   {
    "duration": 3036,
    "start_time": "2021-07-29T03:37:25.309Z"
   },
   {
    "duration": 1149,
    "start_time": "2021-07-29T03:40:06.587Z"
   },
   {
    "duration": 392,
    "start_time": "2021-07-29T03:40:07.739Z"
   },
   {
    "duration": 17,
    "start_time": "2021-07-29T03:40:08.134Z"
   },
   {
    "duration": 11,
    "start_time": "2021-07-29T03:40:08.154Z"
   },
   {
    "duration": 28,
    "start_time": "2021-07-29T03:40:08.168Z"
   },
   {
    "duration": 34,
    "start_time": "2021-07-29T03:40:08.198Z"
   },
   {
    "duration": 5,
    "start_time": "2021-07-29T03:40:08.234Z"
   },
   {
    "duration": 20,
    "start_time": "2021-07-29T03:40:08.263Z"
   },
   {
    "duration": 87,
    "start_time": "2021-07-29T03:40:08.286Z"
   },
   {
    "duration": 11,
    "start_time": "2021-07-29T03:40:08.376Z"
   },
   {
    "duration": 23,
    "start_time": "2021-07-29T03:40:08.389Z"
   },
   {
    "duration": 26,
    "start_time": "2021-07-29T03:40:08.414Z"
   },
   {
    "duration": 28,
    "start_time": "2021-07-29T03:40:08.463Z"
   },
   {
    "duration": 5,
    "start_time": "2021-07-29T03:40:08.494Z"
   },
   {
    "duration": 23,
    "start_time": "2021-07-29T03:40:08.502Z"
   },
   {
    "duration": 96,
    "start_time": "2021-07-29T03:40:08.527Z"
   },
   {
    "duration": 11,
    "start_time": "2021-07-29T03:40:08.625Z"
   },
   {
    "duration": 33,
    "start_time": "2021-07-29T03:40:08.638Z"
   },
   {
    "duration": 24,
    "start_time": "2021-07-29T03:40:08.674Z"
   },
   {
    "duration": 6,
    "start_time": "2021-07-29T03:40:08.700Z"
   },
   {
    "duration": 20,
    "start_time": "2021-07-29T03:40:08.708Z"
   },
   {
    "duration": 60,
    "start_time": "2021-07-29T03:40:08.731Z"
   },
   {
    "duration": 15,
    "start_time": "2021-07-29T03:40:08.797Z"
   },
   {
    "duration": 16,
    "start_time": "2021-07-29T03:40:08.816Z"
   },
   {
    "duration": 24,
    "start_time": "2021-07-29T03:40:08.863Z"
   },
   {
    "duration": 37,
    "start_time": "2021-07-29T03:40:08.889Z"
   },
   {
    "duration": 10,
    "start_time": "2021-07-29T03:40:08.929Z"
   },
   {
    "duration": 10,
    "start_time": "2021-07-29T03:40:08.941Z"
   },
   {
    "duration": 15,
    "start_time": "2021-07-29T03:40:08.953Z"
   },
   {
    "duration": 17,
    "start_time": "2021-07-29T03:40:08.970Z"
   },
   {
    "duration": 18,
    "start_time": "2021-07-29T03:40:08.990Z"
   },
   {
    "duration": 11,
    "start_time": "2021-07-29T03:40:09.010Z"
   },
   {
    "duration": 204,
    "start_time": "2021-07-29T03:40:09.023Z"
   },
   {
    "duration": 6,
    "start_time": "2021-07-29T03:40:09.229Z"
   },
   {
    "duration": 40,
    "start_time": "2021-07-29T03:40:09.237Z"
   },
   {
    "duration": 42,
    "start_time": "2021-07-29T03:40:09.279Z"
   },
   {
    "duration": 341,
    "start_time": "2021-07-29T03:40:09.323Z"
   },
   {
    "duration": 156,
    "start_time": "2021-07-29T03:40:09.667Z"
   },
   {
    "duration": 4,
    "start_time": "2021-07-29T03:40:09.826Z"
   },
   {
    "duration": 35,
    "start_time": "2021-07-29T03:40:09.833Z"
   },
   {
    "duration": 39,
    "start_time": "2021-07-29T03:40:09.871Z"
   },
   {
    "duration": 268,
    "start_time": "2021-07-29T03:40:09.912Z"
   },
   {
    "duration": 125,
    "start_time": "2021-07-29T03:40:10.182Z"
   },
   {
    "duration": 194,
    "start_time": "2021-07-29T03:40:10.309Z"
   },
   {
    "duration": 16,
    "start_time": "2021-07-29T03:40:10.505Z"
   },
   {
    "duration": 10,
    "start_time": "2021-07-29T03:40:10.524Z"
   },
   {
    "duration": 46,
    "start_time": "2021-07-29T03:40:10.536Z"
   },
   {
    "duration": 14,
    "start_time": "2021-07-29T03:40:10.585Z"
   },
   {
    "duration": 19,
    "start_time": "2021-07-29T03:40:10.603Z"
   },
   {
    "duration": 113,
    "start_time": "2021-07-29T03:40:10.664Z"
   },
   {
    "duration": 22,
    "start_time": "2021-07-29T03:40:10.781Z"
   },
   {
    "duration": 57,
    "start_time": "2021-07-29T03:40:10.806Z"
   },
   {
    "duration": 17,
    "start_time": "2021-07-29T03:40:10.866Z"
   },
   {
    "duration": 50,
    "start_time": "2021-07-29T03:40:10.885Z"
   },
   {
    "duration": 38,
    "start_time": "2021-07-29T03:40:10.938Z"
   },
   {
    "duration": 55,
    "start_time": "2021-07-29T03:40:10.978Z"
   },
   {
    "duration": 36,
    "start_time": "2021-07-29T03:40:11.035Z"
   },
   {
    "duration": 49,
    "start_time": "2021-07-29T03:40:11.074Z"
   },
   {
    "duration": 14,
    "start_time": "2021-07-29T03:40:11.125Z"
   },
   {
    "duration": 31,
    "start_time": "2021-07-29T03:40:11.162Z"
   },
   {
    "duration": 70,
    "start_time": "2021-07-29T03:40:11.196Z"
   },
   {
    "duration": 12,
    "start_time": "2021-07-29T03:40:11.268Z"
   },
   {
    "duration": 8,
    "start_time": "2021-07-29T03:40:11.283Z"
   },
   {
    "duration": 12,
    "start_time": "2021-07-29T03:40:11.293Z"
   },
   {
    "duration": 9,
    "start_time": "2021-07-29T03:40:11.307Z"
   },
   {
    "duration": 68,
    "start_time": "2021-07-29T03:40:11.319Z"
   },
   {
    "duration": 2077,
    "start_time": "2021-07-29T03:40:11.390Z"
   },
   {
    "duration": 6564,
    "start_time": "2021-07-29T03:40:13.473Z"
   },
   {
    "duration": 235,
    "start_time": "2021-07-29T03:42:18.629Z"
   },
   {
    "duration": 326,
    "start_time": "2021-07-29T03:43:27.249Z"
   },
   {
    "duration": 1971,
    "start_time": "2021-07-29T03:44:09.066Z"
   },
   {
    "duration": 2239,
    "start_time": "2021-07-29T03:45:10.684Z"
   },
   {
    "duration": 327,
    "start_time": "2021-07-29T03:45:23.747Z"
   },
   {
    "duration": 225,
    "start_time": "2021-07-29T03:45:41.096Z"
   },
   {
    "duration": 239,
    "start_time": "2021-07-29T03:45:46.770Z"
   },
   {
    "duration": 291,
    "start_time": "2021-07-29T03:48:10.511Z"
   },
   {
    "duration": 281,
    "start_time": "2021-07-29T03:48:14.369Z"
   },
   {
    "duration": 575,
    "start_time": "2021-07-29T03:48:26.346Z"
   },
   {
    "duration": 274,
    "start_time": "2021-07-29T03:48:37.390Z"
   },
   {
    "duration": 556,
    "start_time": "2021-07-29T03:49:32.577Z"
   },
   {
    "duration": 493,
    "start_time": "2021-07-29T03:49:38.074Z"
   },
   {
    "duration": 460,
    "start_time": "2021-07-29T03:49:46.056Z"
   },
   {
    "duration": 426,
    "start_time": "2021-07-29T03:50:09.928Z"
   },
   {
    "duration": 13,
    "start_time": "2021-07-29T03:52:16.826Z"
   },
   {
    "duration": 13,
    "start_time": "2021-07-29T03:55:05.993Z"
   },
   {
    "duration": 12,
    "start_time": "2021-07-29T03:55:12.808Z"
   },
   {
    "duration": 421,
    "start_time": "2021-07-29T03:57:07.320Z"
   },
   {
    "duration": 400,
    "start_time": "2021-07-29T03:57:13.434Z"
   },
   {
    "duration": 407,
    "start_time": "2021-07-29T03:57:18.736Z"
   },
   {
    "duration": 414,
    "start_time": "2021-07-29T03:57:25.625Z"
   },
   {
    "duration": 12,
    "start_time": "2021-07-29T03:57:38.796Z"
   },
   {
    "duration": 426,
    "start_time": "2021-07-29T03:57:47.669Z"
   },
   {
    "duration": 432,
    "start_time": "2021-07-29T03:59:56.961Z"
   },
   {
    "duration": 8,
    "start_time": "2021-07-29T04:00:18.520Z"
   },
   {
    "duration": 11,
    "start_time": "2021-07-29T04:00:26.106Z"
   },
   {
    "duration": 439,
    "start_time": "2021-07-29T04:00:33.156Z"
   },
   {
    "duration": 675,
    "start_time": "2021-07-29T04:02:46.345Z"
   },
   {
    "duration": 820,
    "start_time": "2021-07-29T04:03:00.900Z"
   },
   {
    "duration": 15,
    "start_time": "2021-07-29T04:03:17.749Z"
   },
   {
    "duration": 633,
    "start_time": "2021-07-29T04:03:30.701Z"
   },
   {
    "duration": 361,
    "start_time": "2021-07-29T04:05:18.134Z"
   },
   {
    "duration": 342,
    "start_time": "2021-07-29T04:05:46.993Z"
   },
   {
    "duration": 15,
    "start_time": "2021-07-29T04:07:18.576Z"
   },
   {
    "duration": 418,
    "start_time": "2021-07-29T04:07:28.503Z"
   },
   {
    "duration": 648,
    "start_time": "2021-07-29T04:07:36.793Z"
   },
   {
    "duration": 410,
    "start_time": "2021-07-29T04:07:40.988Z"
   },
   {
    "duration": 423,
    "start_time": "2021-07-29T04:07:46.755Z"
   },
   {
    "duration": 14,
    "start_time": "2021-07-29T04:07:49.624Z"
   },
   {
    "duration": 16,
    "start_time": "2021-07-29T04:10:59.971Z"
   },
   {
    "duration": 335,
    "start_time": "2021-07-29T04:11:20.264Z"
   },
   {
    "duration": 7,
    "start_time": "2021-07-29T04:14:00.188Z"
   },
   {
    "duration": 339,
    "start_time": "2021-07-29T04:15:08.223Z"
   },
   {
    "duration": 333,
    "start_time": "2021-07-29T04:15:16.374Z"
   },
   {
    "duration": 446,
    "start_time": "2021-07-29T04:15:48.338Z"
   },
   {
    "duration": 383,
    "start_time": "2021-07-29T04:16:12.217Z"
   },
   {
    "duration": 358,
    "start_time": "2021-07-29T04:17:48.914Z"
   },
   {
    "duration": 327,
    "start_time": "2021-07-29T04:18:00.683Z"
   },
   {
    "duration": 330,
    "start_time": "2021-07-29T04:18:22.640Z"
   },
   {
    "duration": 308,
    "start_time": "2021-07-29T04:18:36.808Z"
   },
   {
    "duration": 14,
    "start_time": "2021-07-29T04:18:55.032Z"
   },
   {
    "duration": 338,
    "start_time": "2021-07-29T04:19:12.269Z"
   },
   {
    "duration": 11,
    "start_time": "2021-07-29T04:20:58.821Z"
   },
   {
    "duration": 298,
    "start_time": "2021-07-29T04:21:05.378Z"
   },
   {
    "duration": 318,
    "start_time": "2021-07-29T04:21:10.600Z"
   },
   {
    "duration": 348,
    "start_time": "2021-07-29T04:21:19.417Z"
   },
   {
    "duration": 354,
    "start_time": "2021-07-29T04:21:28.781Z"
   },
   {
    "duration": 38,
    "start_time": "2021-07-29T04:25:23.215Z"
   },
   {
    "duration": 281,
    "start_time": "2021-07-29T04:26:52.099Z"
   },
   {
    "duration": 50,
    "start_time": "2021-07-29T04:27:17.320Z"
   },
   {
    "duration": 14,
    "start_time": "2021-07-29T04:29:41.872Z"
   },
   {
    "duration": 8,
    "start_time": "2021-07-29T04:30:45.559Z"
   },
   {
    "duration": 5,
    "start_time": "2021-07-29T04:32:53.272Z"
   },
   {
    "duration": 153,
    "start_time": "2021-07-29T04:33:27.643Z"
   },
   {
    "duration": 20,
    "start_time": "2021-07-29T04:34:23.582Z"
   },
   {
    "duration": 1718,
    "start_time": "2021-07-29T04:37:31.296Z"
   },
   {
    "duration": 39,
    "start_time": "2021-07-29T04:38:03.480Z"
   },
   {
    "duration": 628,
    "start_time": "2021-07-29T15:51:35.427Z"
   },
   {
    "duration": 295,
    "start_time": "2021-07-29T15:51:36.057Z"
   },
   {
    "duration": 10,
    "start_time": "2021-07-29T15:51:36.354Z"
   },
   {
    "duration": 26,
    "start_time": "2021-07-29T15:51:36.366Z"
   },
   {
    "duration": 22,
    "start_time": "2021-07-29T15:51:36.394Z"
   },
   {
    "duration": 33,
    "start_time": "2021-07-29T15:51:36.417Z"
   },
   {
    "duration": 4,
    "start_time": "2021-07-29T15:51:36.451Z"
   },
   {
    "duration": 27,
    "start_time": "2021-07-29T15:51:36.457Z"
   },
   {
    "duration": 46,
    "start_time": "2021-07-29T15:51:36.486Z"
   },
   {
    "duration": 7,
    "start_time": "2021-07-29T15:51:36.534Z"
   },
   {
    "duration": 22,
    "start_time": "2021-07-29T15:51:36.542Z"
   },
   {
    "duration": 30,
    "start_time": "2021-07-29T15:51:36.565Z"
   },
   {
    "duration": 24,
    "start_time": "2021-07-29T15:51:36.596Z"
   },
   {
    "duration": 9,
    "start_time": "2021-07-29T15:51:36.621Z"
   },
   {
    "duration": 26,
    "start_time": "2021-07-29T15:51:36.632Z"
   },
   {
    "duration": 52,
    "start_time": "2021-07-29T15:51:36.660Z"
   },
   {
    "duration": 6,
    "start_time": "2021-07-29T15:51:36.713Z"
   },
   {
    "duration": 17,
    "start_time": "2021-07-29T15:51:36.721Z"
   },
   {
    "duration": 28,
    "start_time": "2021-07-29T15:51:36.739Z"
   },
   {
    "duration": 23,
    "start_time": "2021-07-29T15:51:36.769Z"
   },
   {
    "duration": 27,
    "start_time": "2021-07-29T15:51:36.793Z"
   },
   {
    "duration": 23,
    "start_time": "2021-07-29T15:51:36.822Z"
   },
   {
    "duration": 18,
    "start_time": "2021-07-29T15:51:36.848Z"
   },
   {
    "duration": 27,
    "start_time": "2021-07-29T15:51:36.868Z"
   },
   {
    "duration": 15,
    "start_time": "2021-07-29T15:51:36.896Z"
   },
   {
    "duration": 28,
    "start_time": "2021-07-29T15:51:36.912Z"
   },
   {
    "duration": 9,
    "start_time": "2021-07-29T15:51:36.941Z"
   },
   {
    "duration": 36,
    "start_time": "2021-07-29T15:51:36.952Z"
   },
   {
    "duration": 32,
    "start_time": "2021-07-29T15:51:36.989Z"
   },
   {
    "duration": 24,
    "start_time": "2021-07-29T15:51:37.022Z"
   },
   {
    "duration": 27,
    "start_time": "2021-07-29T15:51:37.047Z"
   },
   {
    "duration": 24,
    "start_time": "2021-07-29T15:51:37.076Z"
   },
   {
    "duration": 123,
    "start_time": "2021-07-29T15:51:37.102Z"
   },
   {
    "duration": 4,
    "start_time": "2021-07-29T15:51:37.227Z"
   },
   {
    "duration": 23,
    "start_time": "2021-07-29T15:51:37.232Z"
   },
   {
    "duration": 37,
    "start_time": "2021-07-29T15:51:37.257Z"
   },
   {
    "duration": 196,
    "start_time": "2021-07-29T15:51:37.296Z"
   },
   {
    "duration": 93,
    "start_time": "2021-07-29T15:51:37.494Z"
   },
   {
    "duration": 3,
    "start_time": "2021-07-29T15:51:37.589Z"
   },
   {
    "duration": 7,
    "start_time": "2021-07-29T15:51:37.594Z"
   },
   {
    "duration": 24,
    "start_time": "2021-07-29T15:51:37.603Z"
   },
   {
    "duration": 172,
    "start_time": "2021-07-29T15:51:37.629Z"
   },
   {
    "duration": 65,
    "start_time": "2021-07-29T15:51:37.802Z"
   },
   {
    "duration": 121,
    "start_time": "2021-07-29T15:51:37.868Z"
   },
   {
    "duration": 10,
    "start_time": "2021-07-29T15:51:37.991Z"
   },
   {
    "duration": 10,
    "start_time": "2021-07-29T15:51:38.003Z"
   },
   {
    "duration": 13,
    "start_time": "2021-07-29T15:51:38.014Z"
   },
   {
    "duration": 10,
    "start_time": "2021-07-29T15:51:38.028Z"
   },
   {
    "duration": 10,
    "start_time": "2021-07-29T15:51:38.039Z"
   },
   {
    "duration": 77,
    "start_time": "2021-07-29T15:51:38.050Z"
   },
   {
    "duration": 10,
    "start_time": "2021-07-29T15:51:38.128Z"
   },
   {
    "duration": 20,
    "start_time": "2021-07-29T15:51:38.140Z"
   },
   {
    "duration": 27,
    "start_time": "2021-07-29T15:51:38.164Z"
   },
   {
    "duration": 25,
    "start_time": "2021-07-29T15:51:38.192Z"
   },
   {
    "duration": 11,
    "start_time": "2021-07-29T15:51:38.218Z"
   },
   {
    "duration": 60,
    "start_time": "2021-07-29T15:51:38.231Z"
   },
   {
    "duration": 13,
    "start_time": "2021-07-29T15:51:38.293Z"
   },
   {
    "duration": 30,
    "start_time": "2021-07-29T15:51:38.308Z"
   },
   {
    "duration": 8,
    "start_time": "2021-07-29T15:51:38.339Z"
   },
   {
    "duration": 50,
    "start_time": "2021-07-29T15:51:38.349Z"
   },
   {
    "duration": 18,
    "start_time": "2021-07-29T15:51:38.401Z"
   },
   {
    "duration": 5,
    "start_time": "2021-07-29T15:51:38.421Z"
   },
   {
    "duration": 5,
    "start_time": "2021-07-29T15:51:38.427Z"
   },
   {
    "duration": 6,
    "start_time": "2021-07-29T15:51:38.433Z"
   },
   {
    "duration": 6,
    "start_time": "2021-07-29T15:51:38.440Z"
   },
   {
    "duration": 47,
    "start_time": "2021-07-29T15:51:38.447Z"
   },
   {
    "duration": 296,
    "start_time": "2021-07-29T15:51:38.495Z"
   },
   {
    "duration": 8,
    "start_time": "2021-07-29T15:51:38.795Z"
   },
   {
    "duration": 269,
    "start_time": "2021-07-29T15:51:38.804Z"
   },
   {
    "duration": 10,
    "start_time": "2021-07-29T15:51:39.075Z"
   },
   {
    "duration": 276,
    "start_time": "2021-07-29T15:51:39.087Z"
   },
   {
    "duration": 8,
    "start_time": "2021-07-29T15:51:39.364Z"
   },
   {
    "duration": 318,
    "start_time": "2021-07-29T15:51:39.385Z"
   },
   {
    "duration": 7,
    "start_time": "2021-07-29T15:51:39.705Z"
   },
   {
    "duration": 303,
    "start_time": "2021-07-29T15:51:39.713Z"
   },
   {
    "duration": 253,
    "start_time": "2021-07-29T15:51:40.018Z"
   },
   {
    "duration": 226,
    "start_time": "2021-07-29T15:51:40.272Z"
   },
   {
    "duration": 215,
    "start_time": "2021-07-29T15:51:40.500Z"
   },
   {
    "duration": 203,
    "start_time": "2021-07-29T15:51:40.717Z"
   },
   {
    "duration": 7,
    "start_time": "2021-07-29T15:51:40.922Z"
   },
   {
    "duration": 30,
    "start_time": "2021-07-29T15:51:40.931Z"
   },
   {
    "duration": 27,
    "start_time": "2021-07-29T15:51:40.963Z"
   },
   {
    "duration": 7,
    "start_time": "2021-07-29T15:51:40.992Z"
   },
   {
    "duration": 7,
    "start_time": "2021-07-29T15:51:41.001Z"
   },
   {
    "duration": 36,
    "start_time": "2021-07-29T15:51:41.010Z"
   },
   {
    "duration": 41,
    "start_time": "2021-07-29T15:51:41.048Z"
   },
   {
    "duration": 1110,
    "start_time": "2021-07-29T15:51:41.091Z"
   },
   {
    "duration": 25,
    "start_time": "2021-07-29T15:51:42.203Z"
   },
   {
    "duration": 11,
    "start_time": "2021-07-29T15:51:55.337Z"
   },
   {
    "duration": 11,
    "start_time": "2021-07-29T15:52:09.869Z"
   },
   {
    "duration": 7,
    "start_time": "2021-07-29T15:52:27.644Z"
   },
   {
    "duration": 27,
    "start_time": "2021-07-29T15:53:31.355Z"
   },
   {
    "duration": 292,
    "start_time": "2021-07-29T15:53:54.931Z"
   },
   {
    "duration": 8,
    "start_time": "2021-07-29T15:53:55.531Z"
   },
   {
    "duration": 7,
    "start_time": "2021-07-29T15:53:55.736Z"
   },
   {
    "duration": 15,
    "start_time": "2021-07-29T15:53:55.947Z"
   },
   {
    "duration": 13,
    "start_time": "2021-07-29T15:53:56.130Z"
   },
   {
    "duration": 3,
    "start_time": "2021-07-29T15:53:56.577Z"
   },
   {
    "duration": 16,
    "start_time": "2021-07-29T15:53:57.241Z"
   },
   {
    "duration": 31,
    "start_time": "2021-07-29T15:53:57.913Z"
   },
   {
    "duration": 7,
    "start_time": "2021-07-29T15:53:59.218Z"
   },
   {
    "duration": 8,
    "start_time": "2021-07-29T15:53:59.426Z"
   },
   {
    "duration": 13,
    "start_time": "2021-07-29T15:53:59.649Z"
   },
   {
    "duration": 11,
    "start_time": "2021-07-29T15:53:59.853Z"
   },
   {
    "duration": 4,
    "start_time": "2021-07-29T15:54:00.261Z"
   },
   {
    "duration": 13,
    "start_time": "2021-07-29T15:54:00.658Z"
   },
   {
    "duration": 39,
    "start_time": "2021-07-29T15:54:01.064Z"
   },
   {
    "duration": 7,
    "start_time": "2021-07-29T15:54:01.638Z"
   },
   {
    "duration": 7,
    "start_time": "2021-07-29T15:54:01.824Z"
   },
   {
    "duration": 11,
    "start_time": "2021-07-29T15:54:02.009Z"
   },
   {
    "duration": 4,
    "start_time": "2021-07-29T15:54:02.215Z"
   },
   {
    "duration": 11,
    "start_time": "2021-07-29T15:54:02.601Z"
   },
   {
    "duration": 19,
    "start_time": "2021-07-29T15:54:03.006Z"
   },
   {
    "duration": 9,
    "start_time": "2021-07-29T15:54:03.580Z"
   },
   {
    "duration": 9,
    "start_time": "2021-07-29T15:54:03.776Z"
   },
   {
    "duration": 6,
    "start_time": "2021-07-29T15:54:03.985Z"
   },
   {
    "duration": 7,
    "start_time": "2021-07-29T15:54:04.205Z"
   },
   {
    "duration": 4,
    "start_time": "2021-07-29T15:54:04.666Z"
   },
   {
    "duration": 5,
    "start_time": "2021-07-29T15:54:05.240Z"
   },
   {
    "duration": 7,
    "start_time": "2021-07-29T15:54:05.703Z"
   },
   {
    "duration": 8,
    "start_time": "2021-07-29T15:54:06.479Z"
   },
   {
    "duration": 9,
    "start_time": "2021-07-29T15:54:06.749Z"
   },
   {
    "duration": 3,
    "start_time": "2021-07-29T15:54:09.241Z"
   },
   {
    "duration": 104,
    "start_time": "2021-07-29T15:54:10.457Z"
   },
   {
    "duration": 4,
    "start_time": "2021-07-29T15:54:10.870Z"
   },
   {
    "duration": 12,
    "start_time": "2021-07-29T15:54:11.268Z"
   },
   {
    "duration": 26,
    "start_time": "2021-07-29T15:54:14.689Z"
   },
   {
    "duration": 196,
    "start_time": "2021-07-29T15:54:20.507Z"
   },
   {
    "duration": 650,
    "start_time": "2021-07-29T15:54:27.886Z"
   },
   {
    "duration": 294,
    "start_time": "2021-07-29T15:54:28.538Z"
   },
   {
    "duration": 10,
    "start_time": "2021-07-29T15:54:28.834Z"
   },
   {
    "duration": 11,
    "start_time": "2021-07-29T15:54:28.846Z"
   },
   {
    "duration": 17,
    "start_time": "2021-07-29T15:54:28.859Z"
   },
   {
    "duration": 12,
    "start_time": "2021-07-29T15:54:28.878Z"
   },
   {
    "duration": 3,
    "start_time": "2021-07-29T15:54:28.892Z"
   },
   {
    "duration": 13,
    "start_time": "2021-07-29T15:54:28.897Z"
   },
   {
    "duration": 40,
    "start_time": "2021-07-29T15:54:28.912Z"
   },
   {
    "duration": 31,
    "start_time": "2021-07-29T15:54:28.954Z"
   },
   {
    "duration": 7,
    "start_time": "2021-07-29T15:54:28.987Z"
   },
   {
    "duration": 13,
    "start_time": "2021-07-29T15:54:28.995Z"
   },
   {
    "duration": 10,
    "start_time": "2021-07-29T15:54:29.010Z"
   },
   {
    "duration": 3,
    "start_time": "2021-07-29T15:54:29.022Z"
   },
   {
    "duration": 13,
    "start_time": "2021-07-29T15:54:29.027Z"
   },
   {
    "duration": 82,
    "start_time": "2021-07-29T15:54:29.041Z"
   },
   {
    "duration": 6,
    "start_time": "2021-07-29T15:54:29.125Z"
   },
   {
    "duration": 9,
    "start_time": "2021-07-29T15:54:29.133Z"
   },
   {
    "duration": 11,
    "start_time": "2021-07-29T15:54:29.143Z"
   },
   {
    "duration": 4,
    "start_time": "2021-07-29T15:54:29.156Z"
   },
   {
    "duration": 29,
    "start_time": "2021-07-29T15:54:29.161Z"
   },
   {
    "duration": 19,
    "start_time": "2021-07-29T15:54:29.191Z"
   },
   {
    "duration": 9,
    "start_time": "2021-07-29T15:54:29.213Z"
   },
   {
    "duration": 16,
    "start_time": "2021-07-29T15:54:29.224Z"
   },
   {
    "duration": 8,
    "start_time": "2021-07-29T15:54:29.241Z"
   },
   {
    "duration": 36,
    "start_time": "2021-07-29T15:54:29.250Z"
   },
   {
    "duration": 5,
    "start_time": "2021-07-29T15:54:29.287Z"
   },
   {
    "duration": 7,
    "start_time": "2021-07-29T15:54:29.293Z"
   },
   {
    "duration": 7,
    "start_time": "2021-07-29T15:54:29.301Z"
   },
   {
    "duration": 10,
    "start_time": "2021-07-29T15:54:29.309Z"
   },
   {
    "duration": 11,
    "start_time": "2021-07-29T15:54:29.321Z"
   },
   {
    "duration": 5,
    "start_time": "2021-07-29T15:54:29.333Z"
   },
   {
    "duration": 137,
    "start_time": "2021-07-29T15:54:29.339Z"
   },
   {
    "duration": 7,
    "start_time": "2021-07-29T15:54:29.478Z"
   },
   {
    "duration": 13,
    "start_time": "2021-07-29T15:54:29.487Z"
   },
   {
    "duration": 27,
    "start_time": "2021-07-29T15:54:29.501Z"
   },
   {
    "duration": 208,
    "start_time": "2021-07-29T15:54:29.530Z"
   },
   {
    "duration": 99,
    "start_time": "2021-07-29T15:54:29.740Z"
   },
   {
    "duration": 4,
    "start_time": "2021-07-29T15:54:29.840Z"
   },
   {
    "duration": 13,
    "start_time": "2021-07-29T15:54:29.845Z"
   },
   {
    "duration": 34,
    "start_time": "2021-07-29T15:54:29.859Z"
   },
   {
    "duration": 154,
    "start_time": "2021-07-29T15:54:29.895Z"
   },
   {
    "duration": 77,
    "start_time": "2021-07-29T15:54:30.051Z"
   },
   {
    "duration": 114,
    "start_time": "2021-07-29T15:54:30.129Z"
   },
   {
    "duration": 11,
    "start_time": "2021-07-29T15:54:30.245Z"
   },
   {
    "duration": 20,
    "start_time": "2021-07-29T15:54:30.258Z"
   },
   {
    "duration": 22,
    "start_time": "2021-07-29T15:54:30.279Z"
   },
   {
    "duration": 22,
    "start_time": "2021-07-29T15:54:30.302Z"
   },
   {
    "duration": 27,
    "start_time": "2021-07-29T15:54:30.325Z"
   },
   {
    "duration": 74,
    "start_time": "2021-07-29T15:54:30.354Z"
   },
   {
    "duration": 10,
    "start_time": "2021-07-29T15:54:30.430Z"
   },
   {
    "duration": 38,
    "start_time": "2021-07-29T15:54:30.442Z"
   },
   {
    "duration": 11,
    "start_time": "2021-07-29T15:54:30.481Z"
   },
   {
    "duration": 32,
    "start_time": "2021-07-29T15:54:30.493Z"
   },
   {
    "duration": 10,
    "start_time": "2021-07-29T15:54:30.527Z"
   },
   {
    "duration": 48,
    "start_time": "2021-07-29T15:54:30.538Z"
   },
   {
    "duration": 10,
    "start_time": "2021-07-29T15:54:30.587Z"
   },
   {
    "duration": 47,
    "start_time": "2021-07-29T15:54:30.599Z"
   },
   {
    "duration": 8,
    "start_time": "2021-07-29T15:54:30.647Z"
   },
   {
    "duration": 27,
    "start_time": "2021-07-29T15:54:30.657Z"
   },
   {
    "duration": 17,
    "start_time": "2021-07-29T15:54:30.686Z"
   },
   {
    "duration": 6,
    "start_time": "2021-07-29T15:54:30.704Z"
   },
   {
    "duration": 13,
    "start_time": "2021-07-29T15:54:30.711Z"
   },
   {
    "duration": 8,
    "start_time": "2021-07-29T15:54:30.725Z"
   },
   {
    "duration": 20,
    "start_time": "2021-07-29T15:54:30.734Z"
   },
   {
    "duration": 31,
    "start_time": "2021-07-29T15:54:30.756Z"
   },
   {
    "duration": 498,
    "start_time": "2021-07-29T15:54:30.789Z"
   },
   {
    "duration": 7,
    "start_time": "2021-07-29T15:54:31.292Z"
   },
   {
    "duration": 286,
    "start_time": "2021-07-29T15:54:31.301Z"
   },
   {
    "duration": 7,
    "start_time": "2021-07-29T15:54:31.589Z"
   },
   {
    "duration": 280,
    "start_time": "2021-07-29T15:54:31.598Z"
   },
   {
    "duration": 12,
    "start_time": "2021-07-29T15:54:31.880Z"
   },
   {
    "duration": 260,
    "start_time": "2021-07-29T15:54:31.893Z"
   },
   {
    "duration": 7,
    "start_time": "2021-07-29T15:54:32.155Z"
   },
   {
    "duration": 149,
    "start_time": "2021-07-29T15:54:32.164Z"
   },
   {
    "duration": 218,
    "start_time": "2021-07-29T15:54:32.315Z"
   },
   {
    "duration": 219,
    "start_time": "2021-07-29T15:54:32.535Z"
   },
   {
    "duration": 220,
    "start_time": "2021-07-29T15:54:32.756Z"
   },
   {
    "duration": 199,
    "start_time": "2021-07-29T15:54:32.977Z"
   },
   {
    "duration": 11,
    "start_time": "2021-07-29T15:54:33.178Z"
   },
   {
    "duration": 29,
    "start_time": "2021-07-29T15:54:33.190Z"
   },
   {
    "duration": 8,
    "start_time": "2021-07-29T15:54:33.221Z"
   },
   {
    "duration": 5,
    "start_time": "2021-07-29T15:54:33.230Z"
   },
   {
    "duration": 5,
    "start_time": "2021-07-29T15:54:33.236Z"
   },
   {
    "duration": 62,
    "start_time": "2021-07-29T15:54:33.243Z"
   },
   {
    "duration": 11,
    "start_time": "2021-07-29T15:54:33.307Z"
   },
   {
    "duration": 1071,
    "start_time": "2021-07-29T15:54:33.319Z"
   },
   {
    "duration": 21,
    "start_time": "2021-07-29T15:54:34.392Z"
   },
   {
    "duration": 919,
    "start_time": "2021-07-29T21:33:24.189Z"
   },
   {
    "duration": 844,
    "start_time": "2021-07-29T21:33:25.111Z"
   },
   {
    "duration": 16,
    "start_time": "2021-07-29T21:33:25.958Z"
   },
   {
    "duration": 24,
    "start_time": "2021-07-29T21:33:25.976Z"
   },
   {
    "duration": 25,
    "start_time": "2021-07-29T21:33:26.003Z"
   },
   {
    "duration": 17,
    "start_time": "2021-07-29T21:33:26.031Z"
   },
   {
    "duration": 5,
    "start_time": "2021-07-29T21:33:26.050Z"
   },
   {
    "duration": 52,
    "start_time": "2021-07-29T21:33:26.058Z"
   },
   {
    "duration": 58,
    "start_time": "2021-07-29T21:33:26.113Z"
   },
   {
    "duration": 29,
    "start_time": "2021-07-29T21:33:26.173Z"
   },
   {
    "duration": 19,
    "start_time": "2021-07-29T21:33:26.205Z"
   },
   {
    "duration": 30,
    "start_time": "2021-07-29T21:33:26.227Z"
   },
   {
    "duration": 31,
    "start_time": "2021-07-29T21:33:26.260Z"
   },
   {
    "duration": 9,
    "start_time": "2021-07-29T21:33:26.295Z"
   },
   {
    "duration": 21,
    "start_time": "2021-07-29T21:33:26.306Z"
   },
   {
    "duration": 97,
    "start_time": "2021-07-29T21:33:26.330Z"
   },
   {
    "duration": 9,
    "start_time": "2021-07-29T21:33:26.430Z"
   },
   {
    "duration": 12,
    "start_time": "2021-07-29T21:33:26.442Z"
   },
   {
    "duration": 16,
    "start_time": "2021-07-29T21:33:26.457Z"
   },
   {
    "duration": 7,
    "start_time": "2021-07-29T21:33:26.501Z"
   },
   {
    "duration": 21,
    "start_time": "2021-07-29T21:33:26.511Z"
   },
   {
    "duration": 30,
    "start_time": "2021-07-29T21:33:26.535Z"
   },
   {
    "duration": 42,
    "start_time": "2021-07-29T21:33:26.571Z"
   },
   {
    "duration": 17,
    "start_time": "2021-07-29T21:33:26.617Z"
   },
   {
    "duration": 18,
    "start_time": "2021-07-29T21:33:26.637Z"
   },
   {
    "duration": 16,
    "start_time": "2021-07-29T21:33:26.657Z"
   },
   {
    "duration": 6,
    "start_time": "2021-07-29T21:33:26.701Z"
   },
   {
    "duration": 13,
    "start_time": "2021-07-29T21:33:26.709Z"
   },
   {
    "duration": 13,
    "start_time": "2021-07-29T21:33:26.724Z"
   },
   {
    "duration": 16,
    "start_time": "2021-07-29T21:33:26.740Z"
   },
   {
    "duration": 46,
    "start_time": "2021-07-29T21:33:26.759Z"
   },
   {
    "duration": 5,
    "start_time": "2021-07-29T21:33:26.808Z"
   },
   {
    "duration": 189,
    "start_time": "2021-07-29T21:33:26.815Z"
   },
   {
    "duration": 6,
    "start_time": "2021-07-29T21:33:27.006Z"
   },
   {
    "duration": 18,
    "start_time": "2021-07-29T21:33:27.015Z"
   },
   {
    "duration": 68,
    "start_time": "2021-07-29T21:33:27.035Z"
   },
   {
    "duration": 361,
    "start_time": "2021-07-29T21:33:27.105Z"
   },
   {
    "duration": 143,
    "start_time": "2021-07-29T21:33:27.469Z"
   },
   {
    "duration": 5,
    "start_time": "2021-07-29T21:33:27.615Z"
   },
   {
    "duration": 12,
    "start_time": "2021-07-29T21:33:27.622Z"
   },
   {
    "duration": 73,
    "start_time": "2021-07-29T21:33:27.636Z"
   },
   {
    "duration": 256,
    "start_time": "2021-07-29T21:33:27.712Z"
   },
   {
    "duration": 122,
    "start_time": "2021-07-29T21:33:27.970Z"
   },
   {
    "duration": 188,
    "start_time": "2021-07-29T21:33:28.095Z"
   },
   {
    "duration": 23,
    "start_time": "2021-07-29T21:33:28.286Z"
   },
   {
    "duration": 9,
    "start_time": "2021-07-29T21:33:28.312Z"
   },
   {
    "duration": 19,
    "start_time": "2021-07-29T21:33:28.324Z"
   },
   {
    "duration": 60,
    "start_time": "2021-07-29T21:33:28.346Z"
   },
   {
    "duration": 15,
    "start_time": "2021-07-29T21:33:28.409Z"
   },
   {
    "duration": 102,
    "start_time": "2021-07-29T21:33:28.427Z"
   },
   {
    "duration": 16,
    "start_time": "2021-07-29T21:33:28.532Z"
   },
   {
    "duration": 56,
    "start_time": "2021-07-29T21:33:28.551Z"
   },
   {
    "duration": 19,
    "start_time": "2021-07-29T21:33:28.610Z"
   },
   {
    "duration": 39,
    "start_time": "2021-07-29T21:33:28.632Z"
   },
   {
    "duration": 41,
    "start_time": "2021-07-29T21:33:28.674Z"
   },
   {
    "duration": 48,
    "start_time": "2021-07-29T21:33:28.717Z"
   },
   {
    "duration": 45,
    "start_time": "2021-07-29T21:33:28.767Z"
   },
   {
    "duration": 45,
    "start_time": "2021-07-29T21:33:28.815Z"
   },
   {
    "duration": 14,
    "start_time": "2021-07-29T21:33:28.863Z"
   },
   {
    "duration": 29,
    "start_time": "2021-07-29T21:33:28.901Z"
   },
   {
    "duration": 30,
    "start_time": "2021-07-29T21:33:28.933Z"
   },
   {
    "duration": 47,
    "start_time": "2021-07-29T21:33:28.965Z"
   },
   {
    "duration": 9,
    "start_time": "2021-07-29T21:33:29.015Z"
   },
   {
    "duration": 16,
    "start_time": "2021-07-29T21:33:29.027Z"
   },
   {
    "duration": 10,
    "start_time": "2021-07-29T21:33:29.045Z"
   },
   {
    "duration": 66,
    "start_time": "2021-07-29T21:33:29.058Z"
   },
   {
    "duration": 681,
    "start_time": "2021-07-29T21:33:29.127Z"
   },
   {
    "duration": 12,
    "start_time": "2021-07-29T21:33:29.819Z"
   },
   {
    "duration": 454,
    "start_time": "2021-07-29T21:33:29.833Z"
   },
   {
    "duration": 17,
    "start_time": "2021-07-29T21:33:30.289Z"
   },
   {
    "duration": 464,
    "start_time": "2021-07-29T21:33:30.309Z"
   },
   {
    "duration": 12,
    "start_time": "2021-07-29T21:33:30.775Z"
   },
   {
    "duration": 420,
    "start_time": "2021-07-29T21:33:30.801Z"
   },
   {
    "duration": 12,
    "start_time": "2021-07-29T21:33:31.224Z"
   },
   {
    "duration": 257,
    "start_time": "2021-07-29T21:33:31.238Z"
   },
   {
    "duration": 367,
    "start_time": "2021-07-29T21:33:31.497Z"
   },
   {
    "duration": 394,
    "start_time": "2021-07-29T21:33:31.868Z"
   },
   {
    "duration": 351,
    "start_time": "2021-07-29T21:33:32.265Z"
   },
   {
    "duration": 349,
    "start_time": "2021-07-29T21:33:32.618Z"
   },
   {
    "duration": 11,
    "start_time": "2021-07-29T21:33:32.970Z"
   },
   {
    "duration": 49,
    "start_time": "2021-07-29T21:33:32.999Z"
   },
   {
    "duration": 14,
    "start_time": "2021-07-29T21:33:33.051Z"
   },
   {
    "duration": 38,
    "start_time": "2021-07-29T21:33:33.067Z"
   },
   {
    "duration": 36,
    "start_time": "2021-07-29T21:33:33.108Z"
   },
   {
    "duration": 73,
    "start_time": "2021-07-29T21:33:33.147Z"
   },
   {
    "duration": 19,
    "start_time": "2021-07-29T21:33:33.222Z"
   },
   {
    "duration": 1804,
    "start_time": "2021-07-29T21:33:33.244Z"
   },
   {
    "duration": 55,
    "start_time": "2021-07-29T21:33:35.051Z"
   },
   {
    "duration": 9,
    "start_time": "2021-07-29T21:40:43.119Z"
   },
   {
    "duration": 8,
    "start_time": "2021-07-29T21:45:53.886Z"
   },
   {
    "duration": 9,
    "start_time": "2021-07-29T21:46:18.020Z"
   },
   {
    "duration": 11,
    "start_time": "2021-07-29T21:51:11.996Z"
   },
   {
    "duration": 6,
    "start_time": "2021-07-29T21:51:46.744Z"
   },
   {
    "duration": 277,
    "start_time": "2021-07-29T21:56:12.936Z"
   },
   {
    "duration": 383,
    "start_time": "2021-07-29T21:56:20.717Z"
   },
   {
    "duration": 310,
    "start_time": "2021-07-29T21:56:30.062Z"
   },
   {
    "duration": 11,
    "start_time": "2021-07-29T21:58:14.404Z"
   },
   {
    "duration": 7,
    "start_time": "2021-07-29T21:58:27.229Z"
   },
   {
    "duration": 468,
    "start_time": "2021-07-29T22:01:18.627Z"
   },
   {
    "duration": 374,
    "start_time": "2021-07-29T22:01:27.832Z"
   },
   {
    "duration": 393,
    "start_time": "2021-07-29T22:01:48.007Z"
   },
   {
    "duration": 10,
    "start_time": "2021-07-29T22:08:38.752Z"
   },
   {
    "duration": 11,
    "start_time": "2021-07-29T22:09:52.836Z"
   },
   {
    "duration": 6,
    "start_time": "2021-07-29T22:10:20.191Z"
   },
   {
    "duration": 12,
    "start_time": "2021-07-29T22:13:31.368Z"
   },
   {
    "duration": 6,
    "start_time": "2021-07-29T22:14:13.090Z"
   },
   {
    "duration": 11,
    "start_time": "2021-07-29T22:14:39.990Z"
   },
   {
    "duration": 354,
    "start_time": "2021-07-29T22:16:06.498Z"
   },
   {
    "duration": 6,
    "start_time": "2021-07-29T22:16:19.472Z"
   },
   {
    "duration": 5,
    "start_time": "2021-07-29T22:16:44.430Z"
   },
   {
    "duration": 123,
    "start_time": "2021-07-29T22:17:05.991Z"
   },
   {
    "duration": 4,
    "start_time": "2021-07-29T22:17:23.446Z"
   },
   {
    "duration": 6,
    "start_time": "2021-07-29T22:17:37.461Z"
   },
   {
    "duration": 5,
    "start_time": "2021-07-29T22:18:09.376Z"
   },
   {
    "duration": 392,
    "start_time": "2021-07-29T22:19:25.626Z"
   },
   {
    "duration": 9,
    "start_time": "2021-07-29T22:27:44.224Z"
   },
   {
    "duration": 11,
    "start_time": "2021-07-29T22:28:33.626Z"
   },
   {
    "duration": 6,
    "start_time": "2021-07-29T22:28:58.082Z"
   },
   {
    "duration": 11,
    "start_time": "2021-07-29T22:31:04.496Z"
   },
   {
    "duration": 5,
    "start_time": "2021-07-29T22:31:14.498Z"
   },
   {
    "duration": 397,
    "start_time": "2021-07-29T22:32:37.262Z"
   },
   {
    "duration": 404,
    "start_time": "2021-07-29T22:32:49.758Z"
   },
   {
    "duration": 378,
    "start_time": "2021-07-29T22:37:12.477Z"
   },
   {
    "duration": 477,
    "start_time": "2021-07-29T22:37:19.798Z"
   },
   {
    "duration": 378,
    "start_time": "2021-07-29T22:37:25.803Z"
   },
   {
    "duration": 403,
    "start_time": "2021-07-29T22:37:31.100Z"
   },
   {
    "duration": 394,
    "start_time": "2021-07-29T22:37:37.093Z"
   },
   {
    "duration": 387,
    "start_time": "2021-07-29T22:37:43.180Z"
   },
   {
    "duration": 380,
    "start_time": "2021-07-29T22:37:57.311Z"
   },
   {
    "duration": 410,
    "start_time": "2021-07-29T22:38:01.776Z"
   },
   {
    "duration": 386,
    "start_time": "2021-07-29T22:38:15.796Z"
   },
   {
    "duration": 409,
    "start_time": "2021-07-29T22:38:31.233Z"
   },
   {
    "duration": 411,
    "start_time": "2021-07-29T22:43:51.825Z"
   },
   {
    "duration": 418,
    "start_time": "2021-07-29T22:44:02.794Z"
   },
   {
    "duration": 503,
    "start_time": "2021-07-29T22:44:10.658Z"
   },
   {
    "duration": 414,
    "start_time": "2021-07-29T22:44:16.603Z"
   },
   {
    "duration": 408,
    "start_time": "2021-07-29T22:44:22.578Z"
   },
   {
    "duration": 223,
    "start_time": "2021-07-29T22:44:28.883Z"
   },
   {
    "duration": 346,
    "start_time": "2021-07-29T22:44:34.339Z"
   },
   {
    "duration": 339,
    "start_time": "2021-07-29T22:44:40.181Z"
   },
   {
    "duration": 352,
    "start_time": "2021-07-29T22:44:53.408Z"
   },
   {
    "duration": 315,
    "start_time": "2021-07-29T22:45:03.906Z"
   },
   {
    "duration": 1718,
    "start_time": "2021-07-29T22:45:12.855Z"
   },
   {
    "duration": 933,
    "start_time": "2021-07-29T22:58:55.494Z"
   },
   {
    "duration": 371,
    "start_time": "2021-07-29T22:58:56.430Z"
   },
   {
    "duration": 15,
    "start_time": "2021-07-29T22:58:56.803Z"
   },
   {
    "duration": 12,
    "start_time": "2021-07-29T22:58:56.821Z"
   },
   {
    "duration": 22,
    "start_time": "2021-07-29T22:58:56.836Z"
   },
   {
    "duration": 53,
    "start_time": "2021-07-29T22:58:56.861Z"
   },
   {
    "duration": 7,
    "start_time": "2021-07-29T22:58:56.916Z"
   },
   {
    "duration": 22,
    "start_time": "2021-07-29T22:58:56.928Z"
   },
   {
    "duration": 97,
    "start_time": "2021-07-29T22:58:56.953Z"
   },
   {
    "duration": 13,
    "start_time": "2021-07-29T22:58:57.052Z"
   },
   {
    "duration": 35,
    "start_time": "2021-07-29T22:58:57.068Z"
   },
   {
    "duration": 18,
    "start_time": "2021-07-29T22:58:57.106Z"
   },
   {
    "duration": 15,
    "start_time": "2021-07-29T22:58:57.126Z"
   },
   {
    "duration": 5,
    "start_time": "2021-07-29T22:58:57.144Z"
   },
   {
    "duration": 59,
    "start_time": "2021-07-29T22:58:57.151Z"
   },
   {
    "duration": 64,
    "start_time": "2021-07-29T22:58:57.215Z"
   },
   {
    "duration": 22,
    "start_time": "2021-07-29T22:58:57.282Z"
   },
   {
    "duration": 10,
    "start_time": "2021-07-29T22:58:57.307Z"
   },
   {
    "duration": 15,
    "start_time": "2021-07-29T22:58:57.320Z"
   },
   {
    "duration": 5,
    "start_time": "2021-07-29T22:58:57.338Z"
   },
   {
    "duration": 56,
    "start_time": "2021-07-29T22:58:57.346Z"
   },
   {
    "duration": 27,
    "start_time": "2021-07-29T22:58:57.404Z"
   },
   {
    "duration": 13,
    "start_time": "2021-07-29T22:58:57.436Z"
   },
   {
    "duration": 14,
    "start_time": "2021-07-29T22:58:57.453Z"
   },
   {
    "duration": 38,
    "start_time": "2021-07-29T22:58:57.469Z"
   },
   {
    "duration": 10,
    "start_time": "2021-07-29T22:58:57.510Z"
   },
   {
    "duration": 5,
    "start_time": "2021-07-29T22:58:57.522Z"
   },
   {
    "duration": 7,
    "start_time": "2021-07-29T22:58:57.530Z"
   },
   {
    "duration": 12,
    "start_time": "2021-07-29T22:58:57.540Z"
   },
   {
    "duration": 53,
    "start_time": "2021-07-29T22:58:57.554Z"
   },
   {
    "duration": 12,
    "start_time": "2021-07-29T22:58:57.610Z"
   },
   {
    "duration": 8,
    "start_time": "2021-07-29T22:58:57.624Z"
   },
   {
    "duration": 179,
    "start_time": "2021-07-29T22:58:57.635Z"
   },
   {
    "duration": 6,
    "start_time": "2021-07-29T22:58:57.816Z"
   },
   {
    "duration": 16,
    "start_time": "2021-07-29T22:58:57.824Z"
   },
   {
    "duration": 62,
    "start_time": "2021-07-29T22:58:57.842Z"
   },
   {
    "duration": 306,
    "start_time": "2021-07-29T22:58:57.907Z"
   },
   {
    "duration": 143,
    "start_time": "2021-07-29T22:58:58.215Z"
   },
   {
    "duration": 4,
    "start_time": "2021-07-29T22:58:58.361Z"
   },
   {
    "duration": 14,
    "start_time": "2021-07-29T22:58:58.367Z"
   },
   {
    "duration": 36,
    "start_time": "2021-07-29T22:58:58.400Z"
   },
   {
    "duration": 253,
    "start_time": "2021-07-29T22:58:58.438Z"
   },
   {
    "duration": 110,
    "start_time": "2021-07-29T22:58:58.701Z"
   },
   {
    "duration": 183,
    "start_time": "2021-07-29T22:58:58.814Z"
   },
   {
    "duration": 17,
    "start_time": "2021-07-29T22:58:58.999Z"
   },
   {
    "duration": 12,
    "start_time": "2021-07-29T22:58:59.019Z"
   },
   {
    "duration": 18,
    "start_time": "2021-07-29T22:58:59.033Z"
   },
   {
    "duration": 12,
    "start_time": "2021-07-29T22:58:59.054Z"
   },
   {
    "duration": 13,
    "start_time": "2021-07-29T22:58:59.101Z"
   },
   {
    "duration": 96,
    "start_time": "2021-07-29T22:58:59.117Z"
   },
   {
    "duration": 17,
    "start_time": "2021-07-29T22:58:59.216Z"
   },
   {
    "duration": 30,
    "start_time": "2021-07-29T22:58:59.235Z"
   },
   {
    "duration": 43,
    "start_time": "2021-07-29T22:58:59.267Z"
   },
   {
    "duration": 32,
    "start_time": "2021-07-29T22:58:59.312Z"
   },
   {
    "duration": 16,
    "start_time": "2021-07-29T22:58:59.347Z"
   },
   {
    "duration": 76,
    "start_time": "2021-07-29T22:58:59.365Z"
   },
   {
    "duration": 15,
    "start_time": "2021-07-29T22:58:59.443Z"
   },
   {
    "duration": 65,
    "start_time": "2021-07-29T22:58:59.460Z"
   },
   {
    "duration": 12,
    "start_time": "2021-07-29T22:58:59.528Z"
   },
   {
    "duration": 27,
    "start_time": "2021-07-29T22:58:59.543Z"
   },
   {
    "duration": 49,
    "start_time": "2021-07-29T22:58:59.573Z"
   },
   {
    "duration": 13,
    "start_time": "2021-07-29T22:58:59.624Z"
   },
   {
    "duration": 7,
    "start_time": "2021-07-29T22:58:59.639Z"
   },
   {
    "duration": 9,
    "start_time": "2021-07-29T22:58:59.648Z"
   },
   {
    "duration": 9,
    "start_time": "2021-07-29T22:58:59.659Z"
   },
   {
    "duration": 59,
    "start_time": "2021-07-29T22:58:59.670Z"
   },
   {
    "duration": 470,
    "start_time": "2021-07-29T22:58:59.733Z"
   },
   {
    "duration": 11,
    "start_time": "2021-07-29T22:59:00.213Z"
   },
   {
    "duration": 413,
    "start_time": "2021-07-29T22:59:00.229Z"
   },
   {
    "duration": 13,
    "start_time": "2021-07-29T22:59:00.645Z"
   },
   {
    "duration": 439,
    "start_time": "2021-07-29T22:59:00.661Z"
   },
   {
    "duration": 13,
    "start_time": "2021-07-29T22:59:01.103Z"
   },
   {
    "duration": 446,
    "start_time": "2021-07-29T22:59:01.118Z"
   },
   {
    "duration": 13,
    "start_time": "2021-07-29T22:59:01.567Z"
   },
   {
    "duration": 261,
    "start_time": "2021-07-29T22:59:01.602Z"
   },
   {
    "duration": 376,
    "start_time": "2021-07-29T22:59:01.866Z"
   },
   {
    "duration": 402,
    "start_time": "2021-07-29T22:59:02.245Z"
   },
   {
    "duration": 354,
    "start_time": "2021-07-29T22:59:02.651Z"
   },
   {
    "duration": 505,
    "start_time": "2021-07-29T22:59:03.008Z"
   },
   {
    "duration": 11,
    "start_time": "2021-07-29T22:59:03.515Z"
   },
   {
    "duration": 84,
    "start_time": "2021-07-29T22:59:03.529Z"
   },
   {
    "duration": 12,
    "start_time": "2021-07-29T22:59:03.615Z"
   },
   {
    "duration": 20,
    "start_time": "2021-07-29T22:59:03.629Z"
   },
   {
    "duration": 12,
    "start_time": "2021-07-29T22:59:03.651Z"
   },
   {
    "duration": 72,
    "start_time": "2021-07-29T22:59:03.665Z"
   },
   {
    "duration": 18,
    "start_time": "2021-07-29T22:59:03.740Z"
   },
   {
    "duration": 1739,
    "start_time": "2021-07-29T22:59:03.761Z"
   },
   {
    "duration": 36,
    "start_time": "2021-07-29T22:59:05.502Z"
   },
   {
    "duration": 8,
    "start_time": "2021-07-29T22:59:05.540Z"
   },
   {
    "duration": 7,
    "start_time": "2021-07-29T22:59:05.550Z"
   },
   {
    "duration": 46,
    "start_time": "2021-07-29T22:59:05.559Z"
   },
   {
    "duration": 10,
    "start_time": "2021-07-29T22:59:05.608Z"
   },
   {
    "duration": 14,
    "start_time": "2021-07-29T22:59:05.620Z"
   },
   {
    "duration": 14,
    "start_time": "2021-07-29T22:59:05.636Z"
   },
   {
    "duration": 13,
    "start_time": "2021-07-29T22:59:05.652Z"
   },
   {
    "duration": 401,
    "start_time": "2021-07-29T22:59:05.667Z"
   },
   {
    "duration": 10,
    "start_time": "2021-07-29T22:59:06.070Z"
   },
   {
    "duration": 11,
    "start_time": "2021-07-29T22:59:06.100Z"
   },
   {
    "duration": 7,
    "start_time": "2021-07-29T22:59:06.114Z"
   },
   {
    "duration": 18,
    "start_time": "2021-07-29T22:59:06.123Z"
   },
   {
    "duration": 8,
    "start_time": "2021-07-29T22:59:06.143Z"
   },
   {
    "duration": 417,
    "start_time": "2021-07-29T22:59:06.154Z"
   },
   {
    "duration": 9,
    "start_time": "2021-07-29T22:59:06.573Z"
   },
   {
    "duration": 25,
    "start_time": "2021-07-29T22:59:06.585Z"
   },
   {
    "duration": 6,
    "start_time": "2021-07-29T22:59:06.612Z"
   },
   {
    "duration": 10,
    "start_time": "2021-07-29T22:59:06.621Z"
   },
   {
    "duration": 13,
    "start_time": "2021-07-29T22:59:06.634Z"
   },
   {
    "duration": 421,
    "start_time": "2021-07-29T22:59:06.649Z"
   },
   {
    "duration": 957,
    "start_time": "2021-07-30T14:40:46.929Z"
   },
   {
    "duration": 409,
    "start_time": "2021-07-30T14:40:47.889Z"
   },
   {
    "duration": 15,
    "start_time": "2021-07-30T14:40:48.302Z"
   },
   {
    "duration": 17,
    "start_time": "2021-07-30T14:40:48.321Z"
   },
   {
    "duration": 43,
    "start_time": "2021-07-30T14:40:48.341Z"
   },
   {
    "duration": 19,
    "start_time": "2021-07-30T14:40:48.386Z"
   },
   {
    "duration": 6,
    "start_time": "2021-07-30T14:40:48.408Z"
   },
   {
    "duration": 61,
    "start_time": "2021-07-30T14:40:48.419Z"
   },
   {
    "duration": 95,
    "start_time": "2021-07-30T14:40:48.484Z"
   },
   {
    "duration": 14,
    "start_time": "2021-07-30T14:40:48.582Z"
   },
   {
    "duration": 20,
    "start_time": "2021-07-30T14:40:48.599Z"
   },
   {
    "duration": 53,
    "start_time": "2021-07-30T14:40:48.622Z"
   },
   {
    "duration": 19,
    "start_time": "2021-07-30T14:40:48.678Z"
   },
   {
    "duration": 6,
    "start_time": "2021-07-30T14:40:48.700Z"
   },
   {
    "duration": 49,
    "start_time": "2021-07-30T14:40:48.708Z"
   },
   {
    "duration": 67,
    "start_time": "2021-07-30T14:40:48.759Z"
   },
   {
    "duration": 31,
    "start_time": "2021-07-30T14:40:48.829Z"
   },
   {
    "duration": 11,
    "start_time": "2021-07-30T14:40:48.863Z"
   },
   {
    "duration": 16,
    "start_time": "2021-07-30T14:40:48.876Z"
   },
   {
    "duration": 5,
    "start_time": "2021-07-30T14:40:48.895Z"
   },
   {
    "duration": 56,
    "start_time": "2021-07-30T14:40:48.903Z"
   },
   {
    "duration": 29,
    "start_time": "2021-07-30T14:40:48.962Z"
   },
   {
    "duration": 15,
    "start_time": "2021-07-30T14:40:48.997Z"
   },
   {
    "duration": 44,
    "start_time": "2021-07-30T14:40:49.018Z"
   },
   {
    "duration": 13,
    "start_time": "2021-07-30T14:40:49.065Z"
   },
   {
    "duration": 14,
    "start_time": "2021-07-30T14:40:49.081Z"
   },
   {
    "duration": 6,
    "start_time": "2021-07-30T14:40:49.098Z"
   },
   {
    "duration": 50,
    "start_time": "2021-07-30T14:40:49.106Z"
   },
   {
    "duration": 9,
    "start_time": "2021-07-30T14:40:49.158Z"
   },
   {
    "duration": 13,
    "start_time": "2021-07-30T14:40:49.170Z"
   },
   {
    "duration": 14,
    "start_time": "2021-07-30T14:40:49.186Z"
   },
   {
    "duration": 6,
    "start_time": "2021-07-30T14:40:49.203Z"
   },
   {
    "duration": 226,
    "start_time": "2021-07-30T14:40:49.211Z"
   },
   {
    "duration": 15,
    "start_time": "2021-07-30T14:40:49.439Z"
   },
   {
    "duration": 17,
    "start_time": "2021-07-30T14:40:49.457Z"
   },
   {
    "duration": 43,
    "start_time": "2021-07-30T14:40:49.478Z"
   },
   {
    "duration": 340,
    "start_time": "2021-07-30T14:40:49.555Z"
   },
   {
    "duration": 162,
    "start_time": "2021-07-30T14:40:49.899Z"
   },
   {
    "duration": 5,
    "start_time": "2021-07-30T14:40:50.063Z"
   },
   {
    "duration": 16,
    "start_time": "2021-07-30T14:40:50.071Z"
   },
   {
    "duration": 38,
    "start_time": "2021-07-30T14:40:50.089Z"
   },
   {
    "duration": 286,
    "start_time": "2021-07-30T14:40:50.130Z"
   },
   {
    "duration": 122,
    "start_time": "2021-07-30T14:40:50.418Z"
   },
   {
    "duration": 201,
    "start_time": "2021-07-30T14:40:50.543Z"
   },
   {
    "duration": 23,
    "start_time": "2021-07-30T14:40:50.746Z"
   },
   {
    "duration": 15,
    "start_time": "2021-07-30T14:40:50.771Z"
   },
   {
    "duration": 24,
    "start_time": "2021-07-30T14:40:50.788Z"
   },
   {
    "duration": 14,
    "start_time": "2021-07-30T14:40:50.814Z"
   },
   {
    "duration": 14,
    "start_time": "2021-07-30T14:40:50.855Z"
   },
   {
    "duration": 98,
    "start_time": "2021-07-30T14:40:50.871Z"
   },
   {
    "duration": 17,
    "start_time": "2021-07-30T14:40:50.971Z"
   },
   {
    "duration": 36,
    "start_time": "2021-07-30T14:40:50.991Z"
   },
   {
    "duration": 38,
    "start_time": "2021-07-30T14:40:51.029Z"
   },
   {
    "duration": 46,
    "start_time": "2021-07-30T14:40:51.070Z"
   },
   {
    "duration": 35,
    "start_time": "2021-07-30T14:40:51.118Z"
   },
   {
    "duration": 49,
    "start_time": "2021-07-30T14:40:51.157Z"
   },
   {
    "duration": 51,
    "start_time": "2021-07-30T14:40:51.209Z"
   },
   {
    "duration": 48,
    "start_time": "2021-07-30T14:40:51.262Z"
   },
   {
    "duration": 15,
    "start_time": "2021-07-30T14:40:51.313Z"
   },
   {
    "duration": 31,
    "start_time": "2021-07-30T14:40:51.356Z"
   },
   {
    "duration": 30,
    "start_time": "2021-07-30T14:40:51.390Z"
   },
   {
    "duration": 13,
    "start_time": "2021-07-30T14:40:51.454Z"
   },
   {
    "duration": 8,
    "start_time": "2021-07-30T14:40:51.469Z"
   },
   {
    "duration": 12,
    "start_time": "2021-07-30T14:40:51.479Z"
   },
   {
    "duration": 10,
    "start_time": "2021-07-30T14:40:51.493Z"
   },
   {
    "duration": 64,
    "start_time": "2021-07-30T14:40:51.505Z"
   },
   {
    "duration": 522,
    "start_time": "2021-07-30T14:40:51.572Z"
   },
   {
    "duration": 12,
    "start_time": "2021-07-30T14:40:52.102Z"
   },
   {
    "duration": 459,
    "start_time": "2021-07-30T14:40:52.118Z"
   },
   {
    "duration": 11,
    "start_time": "2021-07-30T14:40:52.581Z"
   },
   {
    "duration": 491,
    "start_time": "2021-07-30T14:40:52.595Z"
   },
   {
    "duration": 14,
    "start_time": "2021-07-30T14:40:53.088Z"
   },
   {
    "duration": 443,
    "start_time": "2021-07-30T14:40:53.105Z"
   },
   {
    "duration": 11,
    "start_time": "2021-07-30T14:40:53.554Z"
   },
   {
    "duration": 264,
    "start_time": "2021-07-30T14:40:53.568Z"
   },
   {
    "duration": 502,
    "start_time": "2021-07-30T14:40:53.834Z"
   },
   {
    "duration": 504,
    "start_time": "2021-07-30T14:40:54.339Z"
   },
   {
    "duration": 494,
    "start_time": "2021-07-30T14:40:54.846Z"
   },
   {
    "duration": 339,
    "start_time": "2021-07-30T14:40:55.343Z"
   },
   {
    "duration": 12,
    "start_time": "2021-07-30T14:40:55.686Z"
   },
   {
    "duration": 75,
    "start_time": "2021-07-30T14:40:55.701Z"
   },
   {
    "duration": 15,
    "start_time": "2021-07-30T14:40:55.779Z"
   },
   {
    "duration": 9,
    "start_time": "2021-07-30T14:40:55.797Z"
   },
   {
    "duration": 9,
    "start_time": "2021-07-30T14:40:55.809Z"
   },
   {
    "duration": 65,
    "start_time": "2021-07-30T14:40:55.855Z"
   },
   {
    "duration": 42,
    "start_time": "2021-07-30T14:40:55.923Z"
   },
   {
    "duration": 1814,
    "start_time": "2021-07-30T14:40:55.968Z"
   },
   {
    "duration": 37,
    "start_time": "2021-07-30T14:40:57.784Z"
   },
   {
    "duration": 33,
    "start_time": "2021-07-30T14:40:57.824Z"
   },
   {
    "duration": 9,
    "start_time": "2021-07-30T14:40:57.860Z"
   },
   {
    "duration": 9,
    "start_time": "2021-07-30T14:40:57.871Z"
   },
   {
    "duration": 10,
    "start_time": "2021-07-30T14:40:57.882Z"
   },
   {
    "duration": 5,
    "start_time": "2021-07-30T14:40:57.895Z"
   },
   {
    "duration": 55,
    "start_time": "2021-07-30T14:40:57.903Z"
   },
   {
    "duration": 7,
    "start_time": "2021-07-30T14:40:57.960Z"
   },
   {
    "duration": 426,
    "start_time": "2021-07-30T14:40:57.969Z"
   },
   {
    "duration": 9,
    "start_time": "2021-07-30T14:40:58.397Z"
   },
   {
    "duration": 15,
    "start_time": "2021-07-30T14:40:58.408Z"
   },
   {
    "duration": 31,
    "start_time": "2021-07-30T14:40:58.425Z"
   },
   {
    "duration": 13,
    "start_time": "2021-07-30T14:40:58.459Z"
   },
   {
    "duration": 11,
    "start_time": "2021-07-30T14:40:58.475Z"
   },
   {
    "duration": 431,
    "start_time": "2021-07-30T14:40:58.488Z"
   },
   {
    "duration": 9,
    "start_time": "2021-07-30T14:40:58.922Z"
   },
   {
    "duration": 28,
    "start_time": "2021-07-30T14:40:58.933Z"
   },
   {
    "duration": 8,
    "start_time": "2021-07-30T14:40:58.964Z"
   },
   {
    "duration": 13,
    "start_time": "2021-07-30T14:40:58.975Z"
   },
   {
    "duration": 10,
    "start_time": "2021-07-30T14:40:58.990Z"
   },
   {
    "duration": 468,
    "start_time": "2021-07-30T14:40:59.003Z"
   },
   {
    "duration": 1117,
    "start_time": "2021-07-30T15:13:19.378Z"
   },
   {
    "duration": 527,
    "start_time": "2021-07-30T15:13:20.498Z"
   },
   {
    "duration": 20,
    "start_time": "2021-07-30T15:13:21.029Z"
   },
   {
    "duration": 33,
    "start_time": "2021-07-30T15:13:21.052Z"
   },
   {
    "duration": 55,
    "start_time": "2021-07-30T15:13:21.087Z"
   },
   {
    "duration": 41,
    "start_time": "2021-07-30T15:13:21.145Z"
   },
   {
    "duration": 6,
    "start_time": "2021-07-30T15:13:21.189Z"
   },
   {
    "duration": 39,
    "start_time": "2021-07-30T15:13:21.200Z"
   },
   {
    "duration": 83,
    "start_time": "2021-07-30T15:13:21.242Z"
   },
   {
    "duration": 11,
    "start_time": "2021-07-30T15:13:21.327Z"
   },
   {
    "duration": 33,
    "start_time": "2021-07-30T15:13:21.340Z"
   },
   {
    "duration": 43,
    "start_time": "2021-07-30T15:13:21.375Z"
   },
   {
    "duration": 26,
    "start_time": "2021-07-30T15:13:21.420Z"
   },
   {
    "duration": 9,
    "start_time": "2021-07-30T15:13:21.449Z"
   },
   {
    "duration": 36,
    "start_time": "2021-07-30T15:13:21.460Z"
   },
   {
    "duration": 90,
    "start_time": "2021-07-30T15:13:21.499Z"
   },
   {
    "duration": 13,
    "start_time": "2021-07-30T15:13:21.592Z"
   },
   {
    "duration": 26,
    "start_time": "2021-07-30T15:13:21.608Z"
   },
   {
    "duration": 40,
    "start_time": "2021-07-30T15:13:21.637Z"
   },
   {
    "duration": 13,
    "start_time": "2021-07-30T15:13:21.680Z"
   },
   {
    "duration": 38,
    "start_time": "2021-07-30T15:13:21.695Z"
   },
   {
    "duration": 54,
    "start_time": "2021-07-30T15:13:21.735Z"
   },
   {
    "duration": 15,
    "start_time": "2021-07-30T15:13:21.795Z"
   },
   {
    "duration": 31,
    "start_time": "2021-07-30T15:13:21.815Z"
   },
   {
    "duration": 30,
    "start_time": "2021-07-30T15:13:21.848Z"
   },
   {
    "duration": 35,
    "start_time": "2021-07-30T15:13:21.880Z"
   },
   {
    "duration": 20,
    "start_time": "2021-07-30T15:13:21.918Z"
   },
   {
    "duration": 26,
    "start_time": "2021-07-30T15:13:21.940Z"
   },
   {
    "duration": 29,
    "start_time": "2021-07-30T15:13:21.968Z"
   },
   {
    "duration": 22,
    "start_time": "2021-07-30T15:13:22.000Z"
   },
   {
    "duration": 32,
    "start_time": "2021-07-30T15:13:22.025Z"
   },
   {
    "duration": 28,
    "start_time": "2021-07-30T15:13:22.059Z"
   },
   {
    "duration": 187,
    "start_time": "2021-07-30T15:13:22.090Z"
   },
   {
    "duration": 6,
    "start_time": "2021-07-30T15:13:22.279Z"
   },
   {
    "duration": 27,
    "start_time": "2021-07-30T15:13:22.287Z"
   },
   {
    "duration": 50,
    "start_time": "2021-07-30T15:13:22.317Z"
   },
   {
    "duration": 318,
    "start_time": "2021-07-30T15:13:22.370Z"
   },
   {
    "duration": 154,
    "start_time": "2021-07-30T15:13:22.690Z"
   },
   {
    "duration": 10,
    "start_time": "2021-07-30T15:13:22.846Z"
   },
   {
    "duration": 15,
    "start_time": "2021-07-30T15:13:22.859Z"
   },
   {
    "duration": 49,
    "start_time": "2021-07-30T15:13:22.876Z"
   },
   {
    "duration": 255,
    "start_time": "2021-07-30T15:13:22.927Z"
   },
   {
    "duration": 117,
    "start_time": "2021-07-30T15:13:23.184Z"
   },
   {
    "duration": 193,
    "start_time": "2021-07-30T15:13:23.304Z"
   },
   {
    "duration": 16,
    "start_time": "2021-07-30T15:13:23.500Z"
   },
   {
    "duration": 21,
    "start_time": "2021-07-30T15:13:23.519Z"
   },
   {
    "duration": 38,
    "start_time": "2021-07-30T15:13:23.542Z"
   },
   {
    "duration": 14,
    "start_time": "2021-07-30T15:13:23.583Z"
   },
   {
    "duration": 31,
    "start_time": "2021-07-30T15:13:23.599Z"
   },
   {
    "duration": 93,
    "start_time": "2021-07-30T15:13:23.632Z"
   },
   {
    "duration": 30,
    "start_time": "2021-07-30T15:13:23.728Z"
   },
   {
    "duration": 48,
    "start_time": "2021-07-30T15:13:23.761Z"
   },
   {
    "duration": 20,
    "start_time": "2021-07-30T15:13:23.812Z"
   },
   {
    "duration": 47,
    "start_time": "2021-07-30T15:13:23.856Z"
   },
   {
    "duration": 21,
    "start_time": "2021-07-30T15:13:23.906Z"
   },
   {
    "duration": 81,
    "start_time": "2021-07-30T15:13:23.930Z"
   },
   {
    "duration": 42,
    "start_time": "2021-07-30T15:13:24.014Z"
   },
   {
    "duration": 53,
    "start_time": "2021-07-30T15:13:24.059Z"
   },
   {
    "duration": 13,
    "start_time": "2021-07-30T15:13:24.115Z"
   },
   {
    "duration": 47,
    "start_time": "2021-07-30T15:13:24.130Z"
   },
   {
    "duration": 39,
    "start_time": "2021-07-30T15:13:24.179Z"
   },
   {
    "duration": 35,
    "start_time": "2021-07-30T15:13:24.221Z"
   },
   {
    "duration": 9,
    "start_time": "2021-07-30T15:13:24.258Z"
   },
   {
    "duration": 13,
    "start_time": "2021-07-30T15:13:24.269Z"
   },
   {
    "duration": 15,
    "start_time": "2021-07-30T15:13:24.284Z"
   },
   {
    "duration": 59,
    "start_time": "2021-07-30T15:13:24.301Z"
   },
   {
    "duration": 484,
    "start_time": "2021-07-30T15:13:24.363Z"
   },
   {
    "duration": 10,
    "start_time": "2021-07-30T15:13:24.860Z"
   },
   {
    "duration": 445,
    "start_time": "2021-07-30T15:13:24.874Z"
   },
   {
    "duration": 12,
    "start_time": "2021-07-30T15:13:25.322Z"
   },
   {
    "duration": 460,
    "start_time": "2021-07-30T15:13:25.336Z"
   },
   {
    "duration": 11,
    "start_time": "2021-07-30T15:13:25.799Z"
   },
   {
    "duration": 614,
    "start_time": "2021-07-30T15:13:25.813Z"
   },
   {
    "duration": 27,
    "start_time": "2021-07-30T15:13:26.430Z"
   },
   {
    "duration": 337,
    "start_time": "2021-07-30T15:13:26.460Z"
   },
   {
    "duration": 500,
    "start_time": "2021-07-30T15:13:26.800Z"
   },
   {
    "duration": 506,
    "start_time": "2021-07-30T15:13:27.304Z"
   },
   {
    "duration": 496,
    "start_time": "2021-07-30T15:13:27.813Z"
   },
   {
    "duration": 457,
    "start_time": "2021-07-30T15:13:28.312Z"
   },
   {
    "duration": 13,
    "start_time": "2021-07-30T15:13:28.772Z"
   },
   {
    "duration": 76,
    "start_time": "2021-07-30T15:13:28.788Z"
   },
   {
    "duration": 12,
    "start_time": "2021-07-30T15:13:28.867Z"
   },
   {
    "duration": 22,
    "start_time": "2021-07-30T15:13:28.881Z"
   },
   {
    "duration": 17,
    "start_time": "2021-07-30T15:13:28.906Z"
   },
   {
    "duration": 79,
    "start_time": "2021-07-30T15:13:28.926Z"
   },
   {
    "duration": 18,
    "start_time": "2021-07-30T15:13:29.007Z"
   },
   {
    "duration": 1797,
    "start_time": "2021-07-30T15:13:29.027Z"
   },
   {
    "duration": 50,
    "start_time": "2021-07-30T15:13:30.827Z"
   },
   {
    "duration": 9,
    "start_time": "2021-07-30T15:13:30.879Z"
   },
   {
    "duration": 21,
    "start_time": "2021-07-30T15:13:30.890Z"
   },
   {
    "duration": 32,
    "start_time": "2021-07-30T15:13:30.914Z"
   },
   {
    "duration": 27,
    "start_time": "2021-07-30T15:13:30.949Z"
   },
   {
    "duration": 23,
    "start_time": "2021-07-30T15:13:30.979Z"
   },
   {
    "duration": 43,
    "start_time": "2021-07-30T15:13:31.004Z"
   },
   {
    "duration": 18,
    "start_time": "2021-07-30T15:13:31.049Z"
   },
   {
    "duration": 406,
    "start_time": "2021-07-30T15:13:31.069Z"
   },
   {
    "duration": 10,
    "start_time": "2021-07-30T15:13:31.477Z"
   },
   {
    "duration": 19,
    "start_time": "2021-07-30T15:13:31.489Z"
   },
   {
    "duration": 5,
    "start_time": "2021-07-30T15:13:31.511Z"
   },
   {
    "duration": 11,
    "start_time": "2021-07-30T15:13:31.554Z"
   },
   {
    "duration": 11,
    "start_time": "2021-07-30T15:13:31.567Z"
   },
   {
    "duration": 426,
    "start_time": "2021-07-30T15:13:31.580Z"
   },
   {
    "duration": 8,
    "start_time": "2021-07-30T15:13:32.009Z"
   },
   {
    "duration": 13,
    "start_time": "2021-07-30T15:13:32.020Z"
   },
   {
    "duration": 6,
    "start_time": "2021-07-30T15:13:32.056Z"
   },
   {
    "duration": 13,
    "start_time": "2021-07-30T15:13:32.064Z"
   },
   {
    "duration": 8,
    "start_time": "2021-07-30T15:13:32.079Z"
   },
   {
    "duration": 452,
    "start_time": "2021-07-30T15:13:32.090Z"
   },
   {
    "duration": 12,
    "start_time": "2021-07-30T15:13:32.545Z"
   },
   {
    "duration": 88,
    "start_time": "2021-07-30T15:14:12.920Z"
   },
   {
    "duration": 5,
    "start_time": "2021-07-30T15:14:21.373Z"
   },
   {
    "duration": 7,
    "start_time": "2021-07-30T15:14:26.901Z"
   },
   {
    "duration": 352,
    "start_time": "2021-07-30T15:14:56.217Z"
   },
   {
    "duration": 274,
    "start_time": "2021-07-30T15:15:10.339Z"
   },
   {
    "duration": 270,
    "start_time": "2021-07-30T15:15:24.686Z"
   },
   {
    "duration": 87,
    "start_time": "2021-07-30T15:15:34.682Z"
   },
   {
    "duration": 5,
    "start_time": "2021-07-30T15:15:48.270Z"
   },
   {
    "duration": 7,
    "start_time": "2021-07-30T15:16:03.051Z"
   },
   {
    "duration": 417,
    "start_time": "2021-07-30T15:24:48.645Z"
   },
   {
    "duration": 8,
    "start_time": "2021-07-30T15:26:46.137Z"
   },
   {
    "duration": 9,
    "start_time": "2021-07-30T15:28:01.445Z"
   },
   {
    "duration": 10,
    "start_time": "2021-07-30T15:28:58.207Z"
   },
   {
    "duration": 307,
    "start_time": "2021-07-30T15:38:05.666Z"
   },
   {
    "duration": 54,
    "start_time": "2021-07-30T15:38:25.038Z"
   },
   {
    "duration": 108,
    "start_time": "2021-07-30T15:39:19.488Z"
   },
   {
    "duration": 12,
    "start_time": "2021-07-30T15:39:26.230Z"
   },
   {
    "duration": 12,
    "start_time": "2021-07-30T15:39:38.814Z"
   },
   {
    "duration": 20,
    "start_time": "2021-07-30T15:40:56.232Z"
   },
   {
    "duration": 17,
    "start_time": "2021-07-30T15:41:27.500Z"
   },
   {
    "duration": 17,
    "start_time": "2021-07-30T15:41:32.950Z"
   },
   {
    "duration": 265,
    "start_time": "2021-07-30T15:41:48.542Z"
   },
   {
    "duration": 18,
    "start_time": "2021-07-30T15:41:54.685Z"
   },
   {
    "duration": 18,
    "start_time": "2021-07-30T15:42:01.875Z"
   },
   {
    "duration": 8,
    "start_time": "2021-07-30T15:54:28.318Z"
   },
   {
    "duration": 15,
    "start_time": "2021-07-30T15:54:32.049Z"
   },
   {
    "duration": 1432,
    "start_time": "2021-07-30T21:04:39.295Z"
   },
   {
    "duration": 363,
    "start_time": "2021-07-30T21:04:40.730Z"
   },
   {
    "duration": 15,
    "start_time": "2021-07-30T21:04:41.096Z"
   },
   {
    "duration": 13,
    "start_time": "2021-07-30T21:04:41.114Z"
   },
   {
    "duration": 21,
    "start_time": "2021-07-30T21:04:41.130Z"
   },
   {
    "duration": 44,
    "start_time": "2021-07-30T21:04:41.154Z"
   },
   {
    "duration": 4,
    "start_time": "2021-07-30T21:04:41.200Z"
   },
   {
    "duration": 22,
    "start_time": "2021-07-30T21:04:41.208Z"
   },
   {
    "duration": 96,
    "start_time": "2021-07-30T21:04:41.233Z"
   },
   {
    "duration": 12,
    "start_time": "2021-07-30T21:04:41.331Z"
   },
   {
    "duration": 12,
    "start_time": "2021-07-30T21:04:41.345Z"
   },
   {
    "duration": 18,
    "start_time": "2021-07-30T21:04:41.384Z"
   },
   {
    "duration": 15,
    "start_time": "2021-07-30T21:04:41.404Z"
   },
   {
    "duration": 4,
    "start_time": "2021-07-30T21:04:41.422Z"
   },
   {
    "duration": 55,
    "start_time": "2021-07-30T21:04:41.429Z"
   },
   {
    "duration": 67,
    "start_time": "2021-07-30T21:04:41.486Z"
   },
   {
    "duration": 26,
    "start_time": "2021-07-30T21:04:41.555Z"
   },
   {
    "duration": 10,
    "start_time": "2021-07-30T21:04:41.583Z"
   },
   {
    "duration": 16,
    "start_time": "2021-07-30T21:04:41.595Z"
   },
   {
    "duration": 6,
    "start_time": "2021-07-30T21:04:41.613Z"
   },
   {
    "duration": 15,
    "start_time": "2021-07-30T21:04:41.621Z"
   },
   {
    "duration": 70,
    "start_time": "2021-07-30T21:04:41.638Z"
   },
   {
    "duration": 14,
    "start_time": "2021-07-30T21:04:41.714Z"
   },
   {
    "duration": 14,
    "start_time": "2021-07-30T21:04:41.732Z"
   },
   {
    "duration": 40,
    "start_time": "2021-07-30T21:04:41.748Z"
   },
   {
    "duration": 9,
    "start_time": "2021-07-30T21:04:41.790Z"
   },
   {
    "duration": 5,
    "start_time": "2021-07-30T21:04:41.802Z"
   },
   {
    "duration": 8,
    "start_time": "2021-07-30T21:04:41.809Z"
   },
   {
    "duration": 11,
    "start_time": "2021-07-30T21:04:41.819Z"
   },
   {
    "duration": 61,
    "start_time": "2021-07-30T21:04:41.833Z"
   },
   {
    "duration": 13,
    "start_time": "2021-07-30T21:04:41.896Z"
   },
   {
    "duration": 5,
    "start_time": "2021-07-30T21:04:41.912Z"
   },
   {
    "duration": 205,
    "start_time": "2021-07-30T21:04:41.920Z"
   },
   {
    "duration": 7,
    "start_time": "2021-07-30T21:04:42.128Z"
   },
   {
    "duration": 17,
    "start_time": "2021-07-30T21:04:42.137Z"
   },
   {
    "duration": 64,
    "start_time": "2021-07-30T21:04:42.156Z"
   },
   {
    "duration": 323,
    "start_time": "2021-07-30T21:04:42.223Z"
   },
   {
    "duration": 146,
    "start_time": "2021-07-30T21:04:42.549Z"
   },
   {
    "duration": 5,
    "start_time": "2021-07-30T21:04:42.697Z"
   },
   {
    "duration": 11,
    "start_time": "2021-07-30T21:04:42.705Z"
   },
   {
    "duration": 65,
    "start_time": "2021-07-30T21:04:42.719Z"
   },
   {
    "duration": 240,
    "start_time": "2021-07-30T21:04:42.786Z"
   },
   {
    "duration": 107,
    "start_time": "2021-07-30T21:04:43.029Z"
   },
   {
    "duration": 173,
    "start_time": "2021-07-30T21:04:43.139Z"
   },
   {
    "duration": 16,
    "start_time": "2021-07-30T21:04:43.314Z"
   },
   {
    "duration": 8,
    "start_time": "2021-07-30T21:04:43.333Z"
   },
   {
    "duration": 47,
    "start_time": "2021-07-30T21:04:43.343Z"
   },
   {
    "duration": 12,
    "start_time": "2021-07-30T21:04:43.392Z"
   },
   {
    "duration": 15,
    "start_time": "2021-07-30T21:04:43.407Z"
   },
   {
    "duration": 92,
    "start_time": "2021-07-30T21:04:43.424Z"
   },
   {
    "duration": 15,
    "start_time": "2021-07-30T21:04:43.518Z"
   },
   {
    "duration": 49,
    "start_time": "2021-07-30T21:04:43.536Z"
   },
   {
    "duration": 15,
    "start_time": "2021-07-30T21:04:43.587Z"
   },
   {
    "duration": 32,
    "start_time": "2021-07-30T21:04:43.605Z"
   },
   {
    "duration": 44,
    "start_time": "2021-07-30T21:04:43.639Z"
   },
   {
    "duration": 44,
    "start_time": "2021-07-30T21:04:43.685Z"
   },
   {
    "duration": 15,
    "start_time": "2021-07-30T21:04:43.731Z"
   },
   {
    "duration": 67,
    "start_time": "2021-07-30T21:04:43.749Z"
   },
   {
    "duration": 13,
    "start_time": "2021-07-30T21:04:43.818Z"
   },
   {
    "duration": 51,
    "start_time": "2021-07-30T21:04:43.833Z"
   },
   {
    "duration": 29,
    "start_time": "2021-07-30T21:04:43.886Z"
   },
   {
    "duration": 12,
    "start_time": "2021-07-30T21:04:43.917Z"
   },
   {
    "duration": 7,
    "start_time": "2021-07-30T21:04:43.931Z"
   },
   {
    "duration": 12,
    "start_time": "2021-07-30T21:04:43.941Z"
   },
   {
    "duration": 31,
    "start_time": "2021-07-30T21:04:43.956Z"
   },
   {
    "duration": 41,
    "start_time": "2021-07-30T21:04:43.989Z"
   },
   {
    "duration": 427,
    "start_time": "2021-07-30T21:04:44.032Z"
   },
   {
    "duration": 19,
    "start_time": "2021-07-30T21:04:44.468Z"
   },
   {
    "duration": 395,
    "start_time": "2021-07-30T21:04:44.491Z"
   },
   {
    "duration": 10,
    "start_time": "2021-07-30T21:04:44.889Z"
   },
   {
    "duration": 439,
    "start_time": "2021-07-30T21:04:44.901Z"
   },
   {
    "duration": 12,
    "start_time": "2021-07-30T21:04:45.342Z"
   },
   {
    "duration": 416,
    "start_time": "2021-07-30T21:04:45.356Z"
   },
   {
    "duration": 15,
    "start_time": "2021-07-30T21:04:45.775Z"
   },
   {
    "duration": 243,
    "start_time": "2021-07-30T21:04:45.792Z"
   },
   {
    "duration": 349,
    "start_time": "2021-07-30T21:04:46.038Z"
   },
   {
    "duration": 475,
    "start_time": "2021-07-30T21:04:46.390Z"
   },
   {
    "duration": 337,
    "start_time": "2021-07-30T21:04:46.868Z"
   },
   {
    "duration": 307,
    "start_time": "2021-07-30T21:04:47.208Z"
   },
   {
    "duration": 10,
    "start_time": "2021-07-30T21:04:47.519Z"
   },
   {
    "duration": 65,
    "start_time": "2021-07-30T21:04:47.531Z"
   },
   {
    "duration": 12,
    "start_time": "2021-07-30T21:04:47.599Z"
   },
   {
    "duration": 7,
    "start_time": "2021-07-30T21:04:47.613Z"
   },
   {
    "duration": 5,
    "start_time": "2021-07-30T21:04:47.623Z"
   },
   {
    "duration": 96,
    "start_time": "2021-07-30T21:04:47.631Z"
   },
   {
    "duration": 19,
    "start_time": "2021-07-30T21:04:47.730Z"
   },
   {
    "duration": 1720,
    "start_time": "2021-07-30T21:04:47.751Z"
   },
   {
    "duration": 37,
    "start_time": "2021-07-30T21:04:49.474Z"
   },
   {
    "duration": 7,
    "start_time": "2021-07-30T21:04:49.513Z"
   },
   {
    "duration": 6,
    "start_time": "2021-07-30T21:04:49.523Z"
   },
   {
    "duration": 9,
    "start_time": "2021-07-30T21:04:49.531Z"
   },
   {
    "duration": 49,
    "start_time": "2021-07-30T21:04:49.543Z"
   },
   {
    "duration": 6,
    "start_time": "2021-07-30T21:04:49.595Z"
   },
   {
    "duration": 11,
    "start_time": "2021-07-30T21:04:49.603Z"
   },
   {
    "duration": 5,
    "start_time": "2021-07-30T21:04:49.617Z"
   },
   {
    "duration": 432,
    "start_time": "2021-07-30T21:04:49.625Z"
   },
   {
    "duration": 9,
    "start_time": "2021-07-30T21:04:50.059Z"
   },
   {
    "duration": 10,
    "start_time": "2021-07-30T21:04:50.083Z"
   },
   {
    "duration": 7,
    "start_time": "2021-07-30T21:04:50.095Z"
   },
   {
    "duration": 14,
    "start_time": "2021-07-30T21:04:50.104Z"
   },
   {
    "duration": 5,
    "start_time": "2021-07-30T21:04:50.121Z"
   },
   {
    "duration": 417,
    "start_time": "2021-07-30T21:04:50.128Z"
   },
   {
    "duration": 8,
    "start_time": "2021-07-30T21:04:50.547Z"
   },
   {
    "duration": 28,
    "start_time": "2021-07-30T21:04:50.557Z"
   },
   {
    "duration": 8,
    "start_time": "2021-07-30T21:04:50.587Z"
   },
   {
    "duration": 11,
    "start_time": "2021-07-30T21:04:50.598Z"
   },
   {
    "duration": 9,
    "start_time": "2021-07-30T21:04:50.611Z"
   },
   {
    "duration": 428,
    "start_time": "2021-07-30T21:04:50.622Z"
   },
   {
    "duration": 7,
    "start_time": "2021-07-30T21:04:51.053Z"
   },
   {
    "duration": 7,
    "start_time": "2021-07-30T21:04:51.083Z"
   },
   {
    "duration": 17,
    "start_time": "2021-07-30T21:04:51.093Z"
   },
   {
    "duration": 14,
    "start_time": "2021-07-30T21:04:51.113Z"
   }
  ],
  "kernelspec": {
   "display_name": "Python 3",
   "language": "python",
   "name": "python3"
  },
  "language_info": {
   "codemirror_mode": {
    "name": "ipython",
    "version": 3
   },
   "file_extension": ".py",
   "mimetype": "text/x-python",
   "name": "python",
   "nbconvert_exporter": "python",
   "pygments_lexer": "ipython3",
   "version": "3.8.3"
  },
  "toc": {
   "base_numbering": 1,
   "nav_menu": {},
   "number_sections": true,
   "sideBar": true,
   "skip_h1_title": true,
   "title_cell": "Table of Contents",
   "title_sidebar": "Contents",
   "toc_cell": true,
   "toc_position": {
    "height": "calc(100% - 180px)",
    "left": "10px",
    "top": "150px",
    "width": "291.391px"
   },
   "toc_section_display": true,
   "toc_window_display": true
  }
 },
 "nbformat": 4,
 "nbformat_minor": 4
}
